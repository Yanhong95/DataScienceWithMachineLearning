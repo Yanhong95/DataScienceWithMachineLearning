{
 "cells": [
  {
   "cell_type": "markdown",
   "metadata": {},
   "source": [
    "<div style=\"text-align: right\">INFO 6105 Data Science Eng Methods and Tools, Lecture 12 Day 1</div>\n",
    "<div style=\"text-align: right\">Dino Konstantopoulos, 30 March 2020, with material from J. Nunez-Iglesias, L.R. Varshney, and the LibIgl team</div>\n",
    "\n",
    "# What else can you do with Eigenvectors and Eigenvalues?\n",
    "\n",
    "I told you that graphs are just a low-dimensional way of representing surfaces, We will continue exploring this concept. We will also learn to draw **surfaces**. The math in differential geometry can put you to sleep faster than Nyquil can, so we need to make it fun by plotting neat models, so we'll do that in this notebook. \n",
    "\n",
    ">**NOTE**: Surfaces are nothing more than higher-dimensional versions of the same 1D curves wew started with in class. And you know what data science is all about: You get some data, you take its histogram, and you try to represent that graph with some predefined math functions (that have parameters). If you are successful, you went back in time and uncovered the process that generated the data. Good job! Its parameters are all you need to go to the future and get wicked-low dimensional representations of your data. You can now predict a bunch of things. In 3D and above, it's much tougher to find mathematical functions to represent these surfaces. That is why we turn to graphs to draw them. The graphs are *not* the surface, they are a *way* to *draw* the surface. That's what your brain does. And that's what Neural Networks do.\n",
    "\n",
    "When we're done learning to draw surfaces, we reproduce results from a scientific paper exploring the [connectome](https://en.wikipedia.org/wiki/Connectome) of a (small) brain, using the linear algebra tools we learned. \n",
    "\n",
    "<br />\n",
    "\n",
    "<br />\n",
    "The graph below is the graph of Wikipedia. Looks a bit like a brain!\n",
    "\n",
    "<img src=\"https://upload.wikimedia.org/wikipedia/commons/9/90/Visualization_of_wiki_structure_using_prefuse_visualization_package.png\" width=500>\n",
    "<!-- caption text=\"Visualization of wikipedia structure. Created by Chris Davis and released under CC-BY-SA-3.0 (https://commons.wikimedia.org/wiki/GNU_Free_Documentation_License).\" -->"
   ]
  },
  {
   "cell_type": "markdown",
   "metadata": {},
   "source": [
    "## Compressed formats for NumPy arrays\n",
    "\n",
    "We learned how to save big arrays as sparse arrays. But what if we have dense arrays? We need to learn how to save NumPy data in compressed formats. First we learn how to save in a **.CSV** File (ASCII), then in an **.NPY** File (binary), and then in an **.NPZ File** (compressed).\n",
    "\n",
    "In .csv format, the array has a single row of data with 10 columns. We would expect this data to be saved to a CSV file as a single row of data."
   ]
  },
  {
   "cell_type": "code",
   "execution_count": 15,
   "metadata": {},
   "outputs": [],
   "source": [
    "# save numpy array as csv file\n",
    "from numpy import asarray\n",
    "from numpy import savetxt\n",
    "# define data\n",
    "data = asarray([[0, 1, 2, 3, 4, 5, 6, 7, 8, 9]])\n",
    "# save to csv file\n",
    "savetxt('data/mysimpledata.csv', data, delimiter=',')"
   ]
  },
  {
   "cell_type": "markdown",
   "metadata": {},
   "source": [
    "And here is how we load it back in:"
   ]
  },
  {
   "cell_type": "code",
   "execution_count": 16,
   "metadata": {},
   "outputs": [
    {
     "name": "stdout",
     "output_type": "stream",
     "text": [
      "[0. 1. 2. 3. 4. 5. 6. 7. 8. 9.]\n"
     ]
    }
   ],
   "source": [
    "# load numpy array from csv file\n",
    "from numpy import loadtxt\n",
    "# load array\n",
    "data = loadtxt('data/mysimpledata.csv', delimiter=',')\n",
    "# print the array\n",
    "print(data)"
   ]
  },
  {
   "cell_type": "markdown",
   "metadata": {},
   "source": [
    "Sometimes we have a lot of data in NumPy arrays that we wish to save efficiently, but which we only need to use in another Python program. Therefore, we can save the NumPy arrays into a native binary format that is efficient to both save and load.\n",
    "\n",
    "This is common for input data that has been prepared, such as transformed data, that will need to be used as the basis for testing a range of machine learning models in the future or running many experiments. The .npy file format is appropriate for this use case and is referred You can load this file as a NumPy array later using the load() function.to as simply **NumPy format**.\n",
    "\n",
    "This can be achieved using the `save()` NumPy function and specifying the filename and the array that is to be saved."
   ]
  },
  {
   "cell_type": "code",
   "execution_count": 17,
   "metadata": {},
   "outputs": [],
   "source": [
    "# save numpy array as npy file\n",
    "from numpy import asarray\n",
    "from numpy import save\n",
    "# define data\n",
    "data = asarray([[0, 1, 2, 3, 4, 5, 6, 7, 8, 9]])\n",
    "# save to npy file\n",
    "save('data/mysimpledata.npy', data)"
   ]
  },
  {
   "cell_type": "markdown",
   "metadata": {},
   "source": [
    "You can load this file as a NumPy array later using the `load()` function."
   ]
  },
  {
   "cell_type": "code",
   "execution_count": 18,
   "metadata": {},
   "outputs": [
    {
     "name": "stdout",
     "output_type": "stream",
     "text": [
      "[[0 1 2 3 4 5 6 7 8 9]]\n"
     ]
    }
   ],
   "source": [
    "# load numpy array from npy file\n",
    "from numpy import load\n",
    "# load array\n",
    "data = load('data/mysimpledata.npy')\n",
    "# print the array\n",
    "print(data)"
   ]
  },
  {
   "cell_type": "markdown",
   "metadata": {},
   "source": [
    "Sometimes, we prepare data for modeling that needs to be reused across multiple experiments, but the data is large. This might be pre-processed NumPy arrays like a corpus of text (integers) or a collection of rescaled image data (pixels). In these cases, it is desirable to both save the data to file, but also in a compressed format. This allows gigabytes of data to be reduced to hundreds of megabytes and allows easy transmission to other servers of cloud computing for long algorithm runs.\n",
    "\n",
    "The .npz file format is appropriate for this case and supports a compressed version of the native NumPy file format. The `savez_compressed()` NumPy function allows multiple NumPy arrays to be saved to a single compressed .npz file."
   ]
  },
  {
   "cell_type": "code",
   "execution_count": 19,
   "metadata": {},
   "outputs": [],
   "source": [
    "# save numpy array as npz file\n",
    "from numpy import asarray\n",
    "from numpy import savez_compressed\n",
    "# define data\n",
    "data = asarray([[0, 1, 2, 3, 4, 5, 6, 7, 8, 9]])\n",
    "# save to npy file\n",
    "savez_compressed('data/mysimpledata.npz', data)"
   ]
  },
  {
   "cell_type": "markdown",
   "metadata": {},
   "source": [
    "We can load this file later using the same load() function from the previous section.\n",
    "\n",
    "In this case, the `savez_compressed()` function supports saving multiple arrays to a single file. Therefore, the `load()` function may load multiple arrays.\n",
    "\n",
    "The loaded arrays are returned from the `load()` function in a dict with the names ‘arr_0’ for the first array, ‘arr_1’ for the second, and so on."
   ]
  },
  {
   "cell_type": "code",
   "execution_count": null,
   "metadata": {},
   "outputs": [],
   "source": [
    "# load numpy array from npz file\n",
    "from numpy import load\n",
    "# load dict of arrays\n",
    "dict_data = load('data/data.npz')\n",
    "# extract the first array\n",
    "data = dict_data['arr_0']\n",
    "# print the array\n",
    "print(data)"
   ]
  },
  {
   "cell_type": "markdown",
   "metadata": {},
   "source": [
    "Ok, now that we know how to read and save data, let's plot it!"
   ]
  },
  {
   "cell_type": "markdown",
   "metadata": {},
   "source": [
    "## Libigl\n",
    "\n",
    "We need to learn how to plot graphs and manifolds!\n",
    "\n",
    "`Libigl` is an open source C++ library for geometry processing research and development. Let's install the python bindings:\n",
    "\n",
    "`Libigl` can be downloaded from [Conda forge](https://anaconda.org/conda-forge/igl):\n",
    "```\n",
    "conda install -c conda-forge igl \n",
    "```\n",
    "\n",
    "All of `libigl` functionality depends only on `numpy` and `scipy`. I like simple!\n",
    "\n",
    "For visualization, we will use [meshplot](https://anaconda.org/conda-forge/meshplot) which can also be easily installed from Conda:\n",
    "```\n",
    "conda install -c conda-forge meshplot \n",
    "```\n",
    "Libigl uses `numpy` to encode vectors and matrices and `scipy` for sparse matrices. And we already know everything about both!"
   ]
  },
  {
   "cell_type": "markdown",
   "metadata": {},
   "source": [
    "## Triangular Meshes with meshplot\n",
    "\n",
    "A triangular [mesh](https://en.wikipedia.org/wiki/Types_of_mesh) is encoded as a pair of numpy matrices:\n",
    "\n",
    "`v` is an $N$ by 3 matrix which stores the coordinates of the nodes (or vertices) of a graph. \n",
    "Each row stores the coordinate of a vertex, with its x, y and z coordinates in the first,\n",
    "second and third column, respectively. \n",
    "\n",
    "The matrix `f` stores the triangle connectivity: each line of `f` denotes a triangle whose 3 vertices are\n",
    "represented as indices pointing to rows of `f`.\n",
    "\n",
    "Clear?\n",
    "\n",
    "For example, here are two faces of a pyramid:"
   ]
  },
  {
   "cell_type": "code",
   "execution_count": 22,
   "metadata": {},
   "outputs": [],
   "source": [
    "# conda install -c conda-forge igl "
   ]
  },
  {
   "cell_type": "code",
   "execution_count": 23,
   "metadata": {},
   "outputs": [],
   "source": [
    "# conda install -c conda-forge meshplot "
   ]
  },
  {
   "cell_type": "code",
   "execution_count": 24,
   "metadata": {},
   "outputs": [],
   "source": [
    "import numpy as np\n",
    "import meshplot as mp"
   ]
  },
  {
   "cell_type": "code",
   "execution_count": 25,
   "metadata": {},
   "outputs": [],
   "source": [
    "V = np.array([\n",
    "    [0., 0, 1],\n",
    "    [1, 0, 0],\n",
    "    [0, 1, 0],\n",
    "    [2, 1, 1]\n",
    "])\n",
    "\n",
    "F = np.array([\n",
    "    [0, 1, 2],\n",
    "    [1, 3, 2]\n",
    "])"
   ]
  },
  {
   "cell_type": "code",
   "execution_count": 26,
   "metadata": {},
   "outputs": [
    {
     "data": {
      "application/vnd.jupyter.widget-view+json": {
       "model_id": "1d5912cc62f642d0b4ab143e02ce7ac4",
       "version_major": 2,
       "version_minor": 0
      },
      "text/plain": [
       "Renderer(camera=PerspectiveCamera(children=(DirectionalLight(color='white', intensity=0.6, position=(1.0, 0.5,…"
      ]
     },
     "metadata": {},
     "output_type": "display_data"
    }
   ],
   "source": [
    "mp.plot(V, F)"
   ]
  },
  {
   "cell_type": "markdown",
   "metadata": {},
   "source": [
    "You can zoom in and out by using your mouse's scroll bar, and rotate the manifold using your mouse! If you don't have a mouse, that will teach you to buy a mouse. You cannot do data science with a touch pad!\n",
    "\n",
    "And here is a bunny as a bunch of triangles!"
   ]
  },
  {
   "cell_type": "code",
   "execution_count": 27,
   "metadata": {},
   "outputs": [],
   "source": [
    "v: np.array\n",
    "f: np.array\n",
    "    \n",
    "data = np.load('data/data.npz')\n",
    "v, f, n, fs = data[\"v\"], data[\"f\"], data[\"n\"], data[\"fs\"]\n",
    "v1, f1, v2, f2 = data[\"v1\"], data[\"f1\"], data[\"v2\"], data[\"f2\"]"
   ]
  },
  {
   "cell_type": "code",
   "execution_count": 28,
   "metadata": {},
   "outputs": [
    {
     "data": {
      "application/vnd.jupyter.widget-view+json": {
       "model_id": "d1a984151b4f4c6e84f7b072e7ec48ea",
       "version_major": 2,
       "version_minor": 0
      },
      "text/plain": [
       "Renderer(camera=PerspectiveCamera(children=(DirectionalLight(color='white', intensity=0.6, position=(-0.016860…"
      ]
     },
     "metadata": {},
     "output_type": "display_data"
    }
   ],
   "source": [
    "mp.plot(v, f)"
   ]
  },
  {
   "cell_type": "markdown",
   "metadata": {},
   "source": [
    "### Scalar field visualization\n",
    "\n",
    "Colors and normals can be associated to faces or vertices using the same `plot` function with three parameters.\n",
    "\n",
    "The key parameter `c` represents the vertex or face colors and can be one of the following:\n",
    "\n",
    "1. A #v by 1 vector with one function value per vertex, which gets normalized and converted into vertex color values using the [viridis](https://matplotlib.org/examples/color/colormaps_reference.html) colormap.\n",
    "2. A #v by 3 vector with RGB color values per vertex. The color values should be in the range 0.0-1.0.\n",
    "3. A single color value for all vertices in the form of a numpy array [R, G, B] in the range 0.0-1.0.\n",
    "4. A #f by 1 vector with one function value per face, which gets normalized and converted into face color values using the [viridis](https://matplotlib.org/examples/color/colormaps_reference.html) colormap.\n",
    "5. A #f by 3 vector with RGB color values per face. The color values should be in the range 0.0-1.0.\n",
    "\n",
    "The following four examples show vertex function colors (in this case just the y-coordinate), vertex normals as colors per vertex, random colors per face and face function colors (in this case the size of the faces):"
   ]
  },
  {
   "cell_type": "code",
   "execution_count": 29,
   "metadata": {},
   "outputs": [
    {
     "data": {
      "application/vnd.jupyter.widget-view+json": {
       "model_id": "5bc21efa0a134f3bb14d35135c410be0",
       "version_major": 2,
       "version_minor": 0
      },
      "text/plain": [
       "HBox(children=(Output(), Output()))"
      ]
     },
     "metadata": {},
     "output_type": "display_data"
    },
    {
     "data": {
      "application/vnd.jupyter.widget-view+json": {
       "model_id": "84b3fc031cc64599b831e77c6a565a13",
       "version_major": 2,
       "version_minor": 0
      },
      "text/plain": [
       "HBox(children=(Output(), Output()))"
      ]
     },
     "metadata": {},
     "output_type": "display_data"
    }
   ],
   "source": [
    "d = mp.subplot(v, f, c=v[:, 1], s=[2, 2, 0])\n",
    "mp.subplot(v, f, c=n, s=[2, 2, 1], data=d)\n",
    "mp.subplot(v, f, c=np.random.rand(*f.shape), s=[2, 2, 2], data=d)\n",
    "mp.subplot(v, f, c=fs, s=[2, 2, 3], data=d)"
   ]
  },
  {
   "cell_type": "markdown",
   "metadata": {},
   "source": [
    "### Visualizing Point Clouds\n",
    "We can also visualize point clouds, their properties and additional debugging information through the `plot` function, by just leaving the faces array empty:"
   ]
  },
  {
   "cell_type": "code",
   "execution_count": 30,
   "metadata": {},
   "outputs": [
    {
     "data": {
      "application/vnd.jupyter.widget-view+json": {
       "model_id": "3c42804e56f14426adc2070eb642db9b",
       "version_major": 2,
       "version_minor": 0
      },
      "text/plain": [
       "Renderer(camera=PerspectiveCamera(children=(DirectionalLight(color='white', intensity=0.6, position=(-0.016860…"
      ]
     },
     "metadata": {},
     "output_type": "display_data"
    }
   ],
   "source": [
    "mp.plot(v)"
   ]
  },
  {
   "cell_type": "markdown",
   "metadata": {},
   "source": [
    "Similar to the surface plot, we can also set color values for all points in the point cloud. This can be done either by passing function values or directly by passing colors:"
   ]
  },
  {
   "cell_type": "code",
   "execution_count": 31,
   "metadata": {},
   "outputs": [
    {
     "data": {
      "application/vnd.jupyter.widget-view+json": {
       "model_id": "27945202ddc241f49d10412d4c4ab741",
       "version_major": 2,
       "version_minor": 0
      },
      "text/plain": [
       "HBox(children=(Output(), Output()))"
      ]
     },
     "metadata": {},
     "output_type": "display_data"
    }
   ],
   "source": [
    "d = mp.subplot(v, c=v[:, 1], s=[1, 2, 0], shading={\"point_size\": 0.03})\n",
    "mp.subplot(v, c=np.random.rand(*v.shape), s=[1, 2, 1], data=d, shading={\"point_size\": 0.03})"
   ]
  },
  {
   "cell_type": "markdown",
   "metadata": {},
   "source": [
    "### Overlays, Textures and Shading\n",
    "\n",
    "In addition to plotting the surface, the viewer supports the visualization of bounding boxes, points and lines. These overlays can be very helpful while developing geometric processing algorithms to plot debug information.\n",
    "\n",
    "The following example draws a point of a given color for each row of `v_box`. The point is placed at the coordinates specified in each row of `v_box`, which is a #v_box by 3 matrix.\n",
    "In addition, edges of a given color are drawn for the vertices `v_box` with the indices `f_box`:"
   ]
  },
  {
   "cell_type": "code",
   "execution_count": 32,
   "metadata": {},
   "outputs": [
    {
     "data": {
      "application/vnd.jupyter.widget-view+json": {
       "model_id": "61afda313c794047a77914ed9d9501d0",
       "version_major": 2,
       "version_minor": 0
      },
      "text/plain": [
       "Renderer(camera=PerspectiveCamera(children=(DirectionalLight(color='white', intensity=0.6, position=(-0.016860…"
      ]
     },
     "metadata": {},
     "output_type": "display_data"
    },
    {
     "data": {
      "text/plain": [
       "2"
      ]
     },
     "execution_count": 32,
     "metadata": {},
     "output_type": "execute_result"
    }
   ],
   "source": [
    "m = np.min(v, axis=0)\n",
    "ma = np.max(v, axis=0)\n",
    "\n",
    "# Corners of the bounding box\n",
    "v_box = np.array([[m[0], m[1], m[2]], [ma[0], m[1], m[2]], [ma[0], ma[1], m[2]], [m[0], ma[1], m[2]],\n",
    "                  [m[0], m[1], ma[2]], [ma[0], m[1], ma[2]], [ma[0], ma[1], ma[2]], [m[0], ma[1], ma[2]]])\n",
    "\n",
    "# Edges of the bounding box\n",
    "f_box = np.array([[0, 1], [1, 2], [2, 3], [3, 0], [4, 5], [5, 6], [6, 7], \n",
    "                  [7, 4], [0, 4], [1, 5], [2, 6], [7, 3]], dtype=np.int)\n",
    "\n",
    "p = mp.plot(v, f, return_plot=True)\n",
    "\n",
    "p.add_edges(v_box, f_box, shading={\"line_color\": \"red\"});\n",
    "p.add_points(v_box, shading={\"point_color\": \"green\"})"
   ]
  },
  {
   "cell_type": "markdown",
   "metadata": {},
   "source": [
    "### Events and Widgets\n",
    "\n",
    "The viewer supports to use interactive widgets from the [ipywidgets](https://ipywidgets.readthedocs.io/en/latest/user_guide.html) package to manipulate the plot. \n",
    "\n",
    "Remember the `v1`'s and `f1`'s we loaded with the bunny data? We actually loaded a bunch of other pictures in the same compressed file!"
   ]
  },
  {
   "cell_type": "code",
   "execution_count": 33,
   "metadata": {
    "scrolled": true
   },
   "outputs": [
    {
     "data": {
      "application/vnd.jupyter.widget-view+json": {
       "model_id": "ffcd6016f124412dbb9364dad7a2a91c",
       "version_major": 2,
       "version_minor": 0
      },
      "text/plain": [
       "Renderer(camera=PerspectiveCamera(children=(DirectionalLight(color='white', intensity=0.6, position=(0.0, 0.0,…"
      ]
     },
     "metadata": {},
     "output_type": "display_data"
    },
    {
     "data": {
      "application/vnd.jupyter.widget-view+json": {
       "model_id": "803a9d88c2894ead844fedbd5f70b66a",
       "version_major": 2,
       "version_minor": 0
      },
      "text/plain": [
       "interactive(children=(Dropdown(description='mesh', options=(('bump', 0), ('fertility', 1)), value=0), Output()…"
      ]
     },
     "metadata": {},
     "output_type": "display_data"
    }
   ],
   "source": [
    "v = [v1, v2]\n",
    "f = [f1, f2]\n",
    "p = mp.plot(v1, f1, return_plot=True)\n",
    "\n",
    "@mp.interact(mesh=[('bump', 0), ('fertility', 1)])\n",
    "def ff(mesh):\n",
    "    mp.plot(v[mesh], f[mesh], plot=p)"
   ]
  },
  {
   "cell_type": "markdown",
   "metadata": {},
   "source": [
    "### Offline Plotting\n",
    "\n",
    "Besides interactive plotting in Jupyter Notebooks, `meshplot` supports to plot objects in offline html pages. The offline mode is automatically selected, if `meshplot` is run outside of a Jupyter Notebook. Within Jupyter Notebooks, one can manually switch to offline mode as follows:"
   ]
  },
  {
   "cell_type": "code",
   "execution_count": 34,
   "metadata": {},
   "outputs": [
    {
     "name": "stdout",
     "output_type": "stream",
     "text": [
      "Plot saved to file aef566af-207e-4bcf-9ec1-d6dbe47cb73c.html.\n"
     ]
    }
   ],
   "source": [
    "mp.offline()\n",
    "mp.plot(v1, f1, c=v1[:, 1])"
   ]
  },
  {
   "cell_type": "markdown",
   "metadata": {},
   "source": [
    "Without parameters, the plot is stored with the name `<UUID>.html`. It is possible to save Jupyter plots after they are generated and to chose the filename as follows:"
   ]
  },
  {
   "cell_type": "code",
   "execution_count": 35,
   "metadata": {},
   "outputs": [
    {
     "data": {
      "application/vnd.jupyter.widget-view+json": {
       "model_id": "cafb19067bfb40d8a6a5d91b2180e119",
       "version_major": 2,
       "version_minor": 0
      },
      "text/plain": [
       "Renderer(camera=PerspectiveCamera(children=(DirectionalLight(color='white', intensity=0.6, position=(0.0, 0.0,…"
      ]
     },
     "metadata": {},
     "output_type": "display_data"
    },
    {
     "name": "stdout",
     "output_type": "stream",
     "text": [
      "Plot saved to file test.html.\n"
     ]
    }
   ],
   "source": [
    "mp.jupyter()\n",
    "p = mp.plot(v1, f1, c=np.random.rand(*f1.shape), return_plot=True)\n",
    "p.add_mesh(v1 + 5, f1, c=v1[:,1]);\n",
    "p.add_points(v1 - 5, c=v1[:,2], shading={\"point_size\": 1.0})\n",
    "p.save(\"test.html\")"
   ]
  },
  {
   "cell_type": "markdown",
   "metadata": {},
   "source": [
    "## More refined mesh data with igl\n",
    "\n",
    "`Libigl` provides input and output functions to read and write many common mesh formats.\n",
    "The IO functions are `igl.read_\\*` and `igl.write_\\*`.\n",
    "\n",
    "Reading a mesh from a file requires a single libigl function call. Here, we read in our bunny in `off` format:"
   ]
  },
  {
   "cell_type": "code",
   "execution_count": 36,
   "metadata": {},
   "outputs": [
    {
     "data": {
      "text/plain": [
       "'/Users/CYH/Desktop/DataScienceWithMachineLearning/LECTURE/Lecture12-Day1-Graphs as Learning Models'"
      ]
     },
     "execution_count": 36,
     "metadata": {},
     "output_type": "execute_result"
    }
   ],
   "source": [
    "pwd"
   ]
  },
  {
   "cell_type": "code",
   "execution_count": 39,
   "metadata": {},
   "outputs": [
    {
     "ename": "ValueError",
     "evalue": "File 'data/bunny.off' not found.",
     "output_type": "error",
     "traceback": [
      "\u001b[0;31m---------------------------------------------------------------------------\u001b[0m",
      "\u001b[0;31mValueError\u001b[0m                                Traceback (most recent call last)",
      "\u001b[0;32m<ipython-input-39-3568f95f79bb>\u001b[0m in \u001b[0;36m<module>\u001b[0;34m\u001b[0m\n\u001b[1;32m      2\u001b[0m \u001b[0;34m\u001b[0m\u001b[0m\n\u001b[1;32m      3\u001b[0m \u001b[0;31m## Load a mesh in OFF format\u001b[0m\u001b[0;34m\u001b[0m\u001b[0;34m\u001b[0m\u001b[0;34m\u001b[0m\u001b[0m\n\u001b[0;32m----> 4\u001b[0;31m \u001b[0mv\u001b[0m\u001b[0;34m,\u001b[0m \u001b[0mf\u001b[0m \u001b[0;34m=\u001b[0m \u001b[0mig\u001b[0m\u001b[0;34m.\u001b[0m\u001b[0mread_triangle_mesh\u001b[0m\u001b[0;34m(\u001b[0m\u001b[0;34m'data/bunny.off'\u001b[0m\u001b[0;34m)\u001b[0m\u001b[0;34m\u001b[0m\u001b[0;34m\u001b[0m\u001b[0m\n\u001b[0m\u001b[1;32m      5\u001b[0m \u001b[0;34m\u001b[0m\u001b[0m\n\u001b[1;32m      6\u001b[0m \u001b[0;31m## Print the vertices and faces matrices\u001b[0m\u001b[0;34m\u001b[0m\u001b[0;34m\u001b[0m\u001b[0;34m\u001b[0m\u001b[0m\n",
      "\u001b[0;31mValueError\u001b[0m: File 'data/bunny.off' not found."
     ]
    }
   ],
   "source": [
    "import igl as ig\n",
    "\n",
    "## Load a mesh in OFF format\n",
    "v, f = ig.read_triangle_mesh('data/bunny.off')\n",
    "\n",
    "## Print the vertices and faces matrices \n",
    "#print(\"Vertices: \", len(v))\n",
    "#print(\"Faces: \", len(f))\n",
    "\n",
    "mp.plot(v, f)"
   ]
  },
  {
   "cell_type": "markdown",
   "metadata": {},
   "source": [
    "And here's a cow if you don‘t like bunnies:"
   ]
  },
  {
   "cell_type": "code",
   "execution_count": 40,
   "metadata": {},
   "outputs": [
    {
     "ename": "ValueError",
     "evalue": "File 'data/cow.off' not found.",
     "output_type": "error",
     "traceback": [
      "\u001b[0;31m---------------------------------------------------------------------------\u001b[0m",
      "\u001b[0;31mValueError\u001b[0m                                Traceback (most recent call last)",
      "\u001b[0;32m<ipython-input-40-08e6f6e3176d>\u001b[0m in \u001b[0;36m<module>\u001b[0;34m\u001b[0m\n\u001b[1;32m      1\u001b[0m \u001b[0;31m## Load a mesh in OFF format\u001b[0m\u001b[0;34m\u001b[0m\u001b[0;34m\u001b[0m\u001b[0;34m\u001b[0m\u001b[0m\n\u001b[0;32m----> 2\u001b[0;31m \u001b[0mv\u001b[0m\u001b[0;34m,\u001b[0m \u001b[0mf\u001b[0m \u001b[0;34m=\u001b[0m \u001b[0mig\u001b[0m\u001b[0;34m.\u001b[0m\u001b[0mread_triangle_mesh\u001b[0m\u001b[0;34m(\u001b[0m\u001b[0;34m'data/cow.off'\u001b[0m\u001b[0;34m)\u001b[0m\u001b[0;34m\u001b[0m\u001b[0;34m\u001b[0m\u001b[0m\n\u001b[0m\u001b[1;32m      3\u001b[0m \u001b[0;34m\u001b[0m\u001b[0m\n\u001b[1;32m      4\u001b[0m \u001b[0;31m## Print the vertices and faces matrices\u001b[0m\u001b[0;34m\u001b[0m\u001b[0;34m\u001b[0m\u001b[0;34m\u001b[0m\u001b[0m\n\u001b[1;32m      5\u001b[0m \u001b[0;31m#print(\"Vertices: \", len(v))\u001b[0m\u001b[0;34m\u001b[0m\u001b[0;34m\u001b[0m\u001b[0;34m\u001b[0m\u001b[0m\n",
      "\u001b[0;31mValueError\u001b[0m: File 'data/cow.off' not found."
     ]
    }
   ],
   "source": [
    "## Load a mesh in OFF format\n",
    "v, f = ig.read_triangle_mesh('data/cow.off')\n",
    "\n",
    "## Print the vertices and faces matrices \n",
    "#print(\"Vertices: \", len(v))\n",
    "#print(\"Faces: \", len(f))\n",
    "\n",
    "mp.plot(v, f)"
   ]
  },
  {
   "cell_type": "markdown",
   "metadata": {},
   "source": [
    "Or a teapot:"
   ]
  },
  {
   "cell_type": "code",
   "execution_count": 115,
   "metadata": {},
   "outputs": [
    {
     "data": {
      "application/vnd.jupyter.widget-view+json": {
       "model_id": "182b89af1fc045299461ea7a682d5e1e",
       "version_major": 2,
       "version_minor": 0
      },
      "text/plain": [
       "Renderer(camera=PerspectiveCamera(children=(DirectionalLight(color='white', intensity=0.6, position=(0.2170000…"
      ]
     },
     "metadata": {},
     "output_type": "display_data"
    }
   ],
   "source": [
    "## Load a mesh in OFF format\n",
    "v, f = ig.read_triangle_mesh('data/teapot.off')\n",
    "\n",
    "## Print the vertices and faces matrices \n",
    "#print(\"Vertices: \", len(v))\n",
    "#print(\"Faces: \", len(f))\n",
    "\n",
    "mp.plot(v, f)"
   ]
  },
  {
   "cell_type": "markdown",
   "metadata": {},
   "source": [
    "Teapots are very famous in graphics processing. Computer graphic processing was invented using [teapots](https://en.wikipedia.org/wiki/Utah_teapot). It is the `Hello World` of graphics programming!\n",
    "\n",
    "This igl function reads the mesh bumpy.off and returns the `v` and `f` matrices.\n",
    "Similarly, a mesh can be written to an OBJ file using:"
   ]
  },
  {
   "cell_type": "code",
   "execution_count": 116,
   "metadata": {},
   "outputs": [],
   "source": [
    "import os "
   ]
  },
  {
   "cell_type": "code",
   "execution_count": 117,
   "metadata": {},
   "outputs": [
    {
     "ename": "NameError",
     "evalue": "name 'root_folder' is not defined",
     "output_type": "error",
     "traceback": [
      "\u001b[1;31m---------------------------------------------------------------------------\u001b[0m",
      "\u001b[1;31mNameError\u001b[0m                                 Traceback (most recent call last)",
      "\u001b[1;32m<ipython-input-117-6bf3aaef0720>\u001b[0m in \u001b[0;36m<module>\u001b[1;34m\u001b[0m\n\u001b[0;32m      1\u001b[0m \u001b[1;31m# Save the mesh in OBJ format\u001b[0m\u001b[1;33m\u001b[0m\u001b[1;33m\u001b[0m\u001b[1;33m\u001b[0m\u001b[0m\n\u001b[1;32m----> 2\u001b[1;33m \u001b[0mret\u001b[0m \u001b[1;33m=\u001b[0m \u001b[0mig\u001b[0m\u001b[1;33m.\u001b[0m\u001b[0mwrite_triangle_mesh\u001b[0m\u001b[1;33m(\u001b[0m\u001b[0mos\u001b[0m\u001b[1;33m.\u001b[0m\u001b[0mpath\u001b[0m\u001b[1;33m.\u001b[0m\u001b[0mjoin\u001b[0m\u001b[1;33m(\u001b[0m\u001b[0mroot_folder\u001b[0m\u001b[1;33m,\u001b[0m \u001b[1;34m\"data\"\u001b[0m\u001b[1;33m,\u001b[0m \u001b[1;34m\"bunny_out.obj\"\u001b[0m\u001b[1;33m)\u001b[0m\u001b[1;33m,\u001b[0m \u001b[0mv\u001b[0m\u001b[1;33m,\u001b[0m \u001b[0mf\u001b[0m\u001b[1;33m)\u001b[0m\u001b[1;33m\u001b[0m\u001b[1;33m\u001b[0m\u001b[0m\n\u001b[0m",
      "\u001b[1;31mNameError\u001b[0m: name 'root_folder' is not defined"
     ]
    }
   ],
   "source": [
    "# Save the mesh in OBJ format\n",
    "ret = ig.write_triangle_mesh(os.path.join(root_folder, \"data\", \"bunny_out.obj\"), v, f)"
   ]
  },
  {
   "cell_type": "markdown",
   "metadata": {},
   "source": [
    "# Discrete Differential Geometric Quantities and Operators\n",
    "\n",
    "### Gaussian curvature\n",
    "\n",
    "[Gaussian curvature](https://en.wikipedia.org/wiki/Gaussian_curvature) on a continuous surface is defined as the **product** of the [principal curvatures](https://en.wikipedia.org/wiki/Principal_curvature):\n",
    "\n",
    " $k_G = k_1 k_2.$\n",
    "\n",
    "As an _intrinsic_ measure, it depends on the metric and not the surface's embedding.\n",
    "\n",
    ">**DEFINITION**: In differential geometry, the two principal curvatures at a given point of a surface are the **eigenvalues** of the [shape operator](https://en.wikipedia.org/wiki/Differential_geometry_of_surfaces#Shape_operator) at the point and the principal directions are its **eigenvectors**. They measure how the surface bends by different amounts in different directions at that point.\n",
    "\n",
    "Intuitively, Gaussian curvature tells how locally spherical or _elliptic_ (`yellow`) the\n",
    "surface is ( $k_G>0$ ), how locally saddle-shaped or _hyperbolic_ the surface\n",
    "is ( $k_G<0$ ), or how locally cylindrical or _parabolic_ (`blue`) ( $k_G=0$ ) the\n",
    "surface is.\n",
    "\n",
    "Think yellow for [convex](https://en.wikipedia.org/wiki/Convex_set) shapes, and blue for [concave](https://en.wikipedia.org/wiki/Convex_set#Non-convex_set) shapes.\n",
    "\n",
    "In the discrete setting, one definition for a \"discrete Gaussian curvature\"\n",
    "on a triangle mesh is via a vertex's _angular deficit_:\n",
    "\n",
    " $k_G(v_i) = 2π - \\sum\\limits_{j\\in N(i)}θ_{ij},$\n",
    "\n",
    "where $N(i)$ are the triangles incident on vertex $i$ and $θ_{ij}$ is the angle\n",
    "at vertex $i$ in triangle $j$ <cite data-cite=\"meyer2003\">(Meyer, 2003)</cite>.\n",
    "\n",
    "Just like the continuous analog, our discrete Gaussian curvature reveals\n",
    "elliptic, hyperbolic and parabolic vertices on the domain.\n",
    "\n",
    "Let's compute Gaussian curvature and visualize it in pseudocolor. First, calculate the curvature with libigl and then plot it in pseudocolors."
   ]
  },
  {
   "cell_type": "code",
   "execution_count": 118,
   "metadata": {},
   "outputs": [
    {
     "ename": "ValueError",
     "evalue": "File 'data/bumpy.off' not found.",
     "output_type": "error",
     "traceback": [
      "\u001b[1;31m---------------------------------------------------------------------------\u001b[0m",
      "\u001b[1;31mValueError\u001b[0m                                Traceback (most recent call last)",
      "\u001b[1;32m<ipython-input-118-f7a2dffb6f7f>\u001b[0m in \u001b[0;36m<module>\u001b[1;34m\u001b[0m\n\u001b[1;32m----> 1\u001b[1;33m \u001b[0mv\u001b[0m\u001b[1;33m,\u001b[0m \u001b[0mf\u001b[0m \u001b[1;33m=\u001b[0m \u001b[0mig\u001b[0m\u001b[1;33m.\u001b[0m\u001b[0mread_triangle_mesh\u001b[0m\u001b[1;33m(\u001b[0m\u001b[1;34m'data/bumpy.off'\u001b[0m\u001b[1;33m)\u001b[0m\u001b[1;33m\u001b[0m\u001b[1;33m\u001b[0m\u001b[0m\n\u001b[0m\u001b[0;32m      2\u001b[0m \u001b[0mk\u001b[0m \u001b[1;33m=\u001b[0m \u001b[0mig\u001b[0m\u001b[1;33m.\u001b[0m\u001b[0mgaussian_curvature\u001b[0m\u001b[1;33m(\u001b[0m\u001b[0mv\u001b[0m\u001b[1;33m,\u001b[0m \u001b[0mf\u001b[0m\u001b[1;33m)\u001b[0m\u001b[1;33m\u001b[0m\u001b[1;33m\u001b[0m\u001b[0m\n\u001b[0;32m      3\u001b[0m \u001b[0mmp\u001b[0m\u001b[1;33m.\u001b[0m\u001b[0mplot\u001b[0m\u001b[1;33m(\u001b[0m\u001b[0mv\u001b[0m\u001b[1;33m,\u001b[0m \u001b[0mf\u001b[0m\u001b[1;33m,\u001b[0m \u001b[0mk\u001b[0m\u001b[1;33m)\u001b[0m\u001b[1;33m\u001b[0m\u001b[1;33m\u001b[0m\u001b[0m\n",
      "\u001b[1;31mValueError\u001b[0m: File 'data/bumpy.off' not found."
     ]
    }
   ],
   "source": [
    "v, f = ig.read_triangle_mesh('data/bumpy.off')\n",
    "k = ig.gaussian_curvature(v, f)\n",
    "mp.plot(v, f, k)"
   ]
  },
  {
   "cell_type": "markdown",
   "metadata": {},
   "source": [
    "### Mean curvature\n",
    "The two principal curvatures $(k_1,k_2)$ at a point on a surface measure how\n",
    "much the surface bends in different directions. The directions of maximum and\n",
    "minimum (signed) bending are called principal directions and are always\n",
    "orthogonal.\n",
    "\n",
    "[Mean curvature](https://en.wikipedia.org/wiki/Mean_curvature) is defined as the **average** of the [principal curvatures](https://en.wikipedia.org/wiki/Principal_curvature):\n",
    "\n",
    " $H = \\frac{1}{2}(k_1 + k_2).$\n",
    "\n",
    "One way to extract mean curvature is by examining the Laplace-Beltrami operator\n",
    "applied to the surface positions. The result is a so-called mean-curvature\n",
    "normal:\n",
    "\n",
    "  $-\\Delta \\mathbf{x} = H \\mathbf{n}.$\n",
    "\n",
    "It is easy to compute this on a discrete triangle mesh in libigl using the\n",
    "cotangent Laplace-Beltrami operator <cite data-cite=\"meyer2003\">(Meyer, 2003)</cite>. "
   ]
  },
  {
   "cell_type": "code",
   "execution_count": 119,
   "metadata": {},
   "outputs": [
    {
     "data": {
      "application/vnd.jupyter.widget-view+json": {
       "model_id": "865fb56992cd460aad2e8eb32afdfe64",
       "version_major": 2,
       "version_minor": 0
      },
      "text/plain": [
       "Renderer(camera=PerspectiveCamera(children=(DirectionalLight(color='white', intensity=0.6, position=(0.2170000…"
      ]
     },
     "metadata": {},
     "output_type": "display_data"
    }
   ],
   "source": [
    "import scipy as sp\n",
    "\n",
    "l = ig.cotmatrix(v, f)\n",
    "m = ig.massmatrix(v, f, ig.MASSMATRIX_TYPE_VORONOI)\n",
    "\n",
    "minv = sp.sparse.diags(1 / m.diagonal())\n",
    "\n",
    "hn = -minv.dot(l.dot(v))\n",
    "h = np.linalg.norm(hn, axis=1)\n",
    "mp. plot(v, f, h)"
   ]
  },
  {
   "cell_type": "markdown",
   "metadata": {},
   "source": [
    "mean curvature captures areas of extreme curvature more than gaussian curvature. Gaussian curavgure captures convexithyh and concavity better.\n",
    "\n",
    "## Professor, why are we studying curvature in a data science class?\n",
    "\n",
    "Because curvature is one way your brain can store knowledge, as geometry (using graphs to build the geometry). That geometry is probably scale-invariant. So think scalable vector graphics, not raster graphics. Your brain's surfaces  represents memory and models. "
   ]
  },
  {
   "cell_type": "markdown",
   "metadata": {},
   "source": [
    "## Principal directions\n",
    "\n",
    "A robust method for determining principal curvatures is via quadric fitting  <cite data-cite=\"panozzo2010\">(Panozzo, 2010)</cite>. In the neighborhood around every vertex, a best-fit quadric is found and principal curvature values and directions are analytically computed on this quadric.\n",
    "\n",
    "Of course, when you draw surfaces with triangular meshes, the principal directions are very straightforward: They are the edges of every vertex. If the vertex connects to more than one triangle, it will have many principal directions."
   ]
  },
  {
   "cell_type": "code",
   "execution_count": 120,
   "metadata": {},
   "outputs": [
    {
     "data": {
      "application/vnd.jupyter.widget-view+json": {
       "model_id": "4ef3648bebd34816a50c7140121370cc",
       "version_major": 2,
       "version_minor": 0
      },
      "text/plain": [
       "Renderer(camera=PerspectiveCamera(children=(DirectionalLight(color='white', intensity=0.6, position=(0.2170000…"
      ]
     },
     "metadata": {},
     "output_type": "display_data"
    }
   ],
   "source": [
    "v1, v2, k1, k2 = ig.principal_curvature(v, f)\n",
    "h2 = 0.5 * (k1 + k2)\n",
    "p = mp.plot(v, f, h2, shading={\"wireframe\": False}, return_plot=True)\n",
    "\n",
    "avg = ig.avg_edge_length(v, f) / 2.0\n",
    "p.add_lines(v + v1 * avg, v - v1 * avg, shading={\"line_color\": \"red\"})\n",
    "p.add_lines(v + v2 * avg, v - v2 * avg, shading={\"line_color\": \"green\"});"
   ]
  },
  {
   "cell_type": "markdown",
   "metadata": {},
   "source": [
    "According to the creator of the character, Eduard Uspensky (1965), [Cheburashka](https://en.wikipedia.org/wiki/Cheburashka) is an *animal unknown to science*, with large monkey-like ears and a body resembling that of a cub, who lives in a tropical forest. He accidentally gets into a crate of oranges, eats his fill, and falls asleep. \n",
    "\n",
    "Of course, Cheburashka is not very unknown to *us*. We know him well as a cross between `Pikachu` and `Gengar` from [Pokemon]((https://www.ranker.com/list/complete-list-of-all-pokemon-characters/video-game-info)). What do you think?"
   ]
  },
  {
   "cell_type": "code",
   "execution_count": 121,
   "metadata": {},
   "outputs": [
    {
     "ename": "ValueError",
     "evalue": "File 'data/cheburashka.off' not found.",
     "output_type": "error",
     "traceback": [
      "\u001b[1;31m---------------------------------------------------------------------------\u001b[0m",
      "\u001b[1;31mValueError\u001b[0m                                Traceback (most recent call last)",
      "\u001b[1;32m<ipython-input-121-8a45233fa416>\u001b[0m in \u001b[0;36m<module>\u001b[1;34m\u001b[0m\n\u001b[1;32m----> 1\u001b[1;33m \u001b[0mv\u001b[0m\u001b[1;33m,\u001b[0m \u001b[0mf\u001b[0m \u001b[1;33m=\u001b[0m \u001b[0mig\u001b[0m\u001b[1;33m.\u001b[0m\u001b[0mread_triangle_mesh\u001b[0m\u001b[1;33m(\u001b[0m\u001b[1;34m'data/cheburashka.off'\u001b[0m\u001b[1;33m)\u001b[0m\u001b[1;33m\u001b[0m\u001b[1;33m\u001b[0m\u001b[0m\n\u001b[0m\u001b[0;32m      2\u001b[0m \u001b[0mu\u001b[0m \u001b[1;33m=\u001b[0m \u001b[0mig\u001b[0m\u001b[1;33m.\u001b[0m\u001b[0mread_dmat\u001b[0m\u001b[1;33m(\u001b[0m\u001b[1;34m'data/cheburashka-scalar.dmat'\u001b[0m\u001b[1;33m)\u001b[0m\u001b[1;33m\u001b[0m\u001b[1;33m\u001b[0m\u001b[0m\n\u001b[0;32m      3\u001b[0m \u001b[1;33m\u001b[0m\u001b[0m\n\u001b[0;32m      4\u001b[0m \u001b[0mg\u001b[0m \u001b[1;33m=\u001b[0m \u001b[0mig\u001b[0m\u001b[1;33m.\u001b[0m\u001b[0mgrad\u001b[0m\u001b[1;33m(\u001b[0m\u001b[0mv\u001b[0m\u001b[1;33m,\u001b[0m \u001b[0mf\u001b[0m\u001b[1;33m)\u001b[0m\u001b[1;33m\u001b[0m\u001b[1;33m\u001b[0m\u001b[0m\n\u001b[0;32m      5\u001b[0m \u001b[0mgu\u001b[0m \u001b[1;33m=\u001b[0m \u001b[0mg\u001b[0m\u001b[1;33m.\u001b[0m\u001b[0mdot\u001b[0m\u001b[1;33m(\u001b[0m\u001b[0mu\u001b[0m\u001b[1;33m)\u001b[0m\u001b[1;33m.\u001b[0m\u001b[0mreshape\u001b[0m\u001b[1;33m(\u001b[0m\u001b[0mf\u001b[0m\u001b[1;33m.\u001b[0m\u001b[0mshape\u001b[0m\u001b[1;33m,\u001b[0m \u001b[0morder\u001b[0m\u001b[1;33m=\u001b[0m\u001b[1;34m\"F\"\u001b[0m\u001b[1;33m)\u001b[0m\u001b[1;33m\u001b[0m\u001b[1;33m\u001b[0m\u001b[0m\n",
      "\u001b[1;31mValueError\u001b[0m: File 'data/cheburashka.off' not found."
     ]
    }
   ],
   "source": [
    "v, f = ig.read_triangle_mesh('data/cheburashka.off')\n",
    "u = ig.read_dmat('data/cheburashka-scalar.dmat')\n",
    "\n",
    "g = ig.grad(v, f)\n",
    "gu = g.dot(u).reshape(f.shape, order=\"F\")\n",
    "\n",
    "gu_mag = np.linalg.norm(gu, axis=1)\n",
    "p = mp.plot(v, f, u, shading={\"wireframe\":False}, return_plot=True)\n",
    "\n",
    "max_size = ig.avg_edge_length(v, f) / np.mean(gu_mag)\n",
    "bc = ig.barycenter(v, f)\n",
    "bcn = bc + max_size * gu\n",
    "p.add_lines(bc, bcn, shading={\"line_color\": \"black\"});"
   ]
  },
  {
   "cell_type": "markdown",
   "metadata": {},
   "source": [
    "### Gradient\n",
    "\n",
    "How did we give Cheburashka hairs? Using gradients!\n",
    "\n",
    "Scalar functions on a surface can be discretized as a piecewise linear function\n",
    "with values defined at each mesh vertex:\n",
    "\n",
    "$f(\\mathbf{x}) \\approx \\sum\\limits_{i=1}^n \\phi_i(\\mathbf{x})\\, f_i,$\n",
    "\n",
    "where $\\phi_i$ is a piecewise linear hat function defined by the mesh so that\n",
    "for each triangle $\\phi_i$ is _the_ linear function which is one only at\n",
    "vertex $i$ and zero at the other corners.\n",
    "\n",
    "![Hat function $\\phi_i$ is one at vertex $i$, zero at all other vertices, and linear on incident triangles.](ipynb.images/hat-function.jpg)\n",
    "\n",
    "Thus gradients of such piecewise linear functions are simply sums of gradients\n",
    "of the hat functions:\n",
    "\n",
    " $\\nabla f(\\mathbf{x}) \\approx\n",
    " \\nabla \\sum\\limits_{i=1}^n \\phi_i(\\mathbf{x})\\, f_i =\n",
    " \\sum\\limits_{i=1}^n \\nabla \\phi_i(\\mathbf{x})\\, f_i.$\n",
    "\n",
    "This reveals that the gradient is a linear function of the vector of $f_i$\n",
    "values. Because the $\\phi_i$ are linear in each triangle, their gradients are\n",
    "_constant_ in each triangle. Thus our discrete gradient operator can be written\n",
    "as a matrix multiplication taking vertex values to triangle values:\n",
    "\n",
    " $\\nabla f \\approx \\mathbf{G}\\,\\mathbf{f},$\n",
    "\n",
    "where $\\mathbf{f}$ is $n\\times 1$ and $\\mathbf{G}$ is an $md\\times n$ sparse\n",
    "matrix. This matrix $\\mathbf{G}$ can be derived geometrically <cite data-cite=\"jacobson2013\">(Jacobson, 2013)</cite>.\n",
    "\n",
    "Libigl's `grad` function computes $\\mathbf{G}$ for\n",
    "triangle and tetrahedral meshes. \n",
    "Let's see how this works. First load a mesh and a corresponding surface function.\n",
    "Next, compute the gradient operator g (#F*3 x #V) on the triangle mesh, apply it to the surface function and extract the magnitude."
   ]
  },
  {
   "cell_type": "markdown",
   "metadata": {},
   "source": [
    "### Laplacian\n",
    "\n",
    "And now we're ready for the [Laplacian](https://en.wikipedia.org/wiki/Laplace_operator)!\n",
    "\n",
    "The discrete Laplacian is an essential geometry processing tool. Many\n",
    "interpretations and flavors of the Laplace and Laplace-Beltrami operator exist.\n",
    "\n",
    "In open Euclidean space, the _Laplace_ operator is the usual divergence of\n",
    "gradient (or equivalently the Laplacian of a function is the trace of its\n",
    "Hessian):\n",
    "\n",
    " $\\Delta f =\n",
    " \\frac{\\partial^2 f}{\\partial x^2} +\n",
    " \\frac{\\partial^2 f}{\\partial y^2} +\n",
    " \\frac{\\partial^2 f}{\\partial z^2}.$\n",
    "\n",
    "The _Laplace-Beltrami_ operator generalizes this to surfaces.\n",
    "\n",
    "When considering piecewise-linear functions on a triangle mesh, a discrete\n",
    "Laplacian may be derived in a variety of ways. The most popular in geometry\n",
    "processing is the so-called \"cotangent Laplacian\" $\\mathbf{L}$, arising\n",
    "simultaneously from [FEM](https://en.wikipedia.org/wiki/Finite_element_method), [DEC](https://en.wikipedia.org/wiki/Discrete_exterior_calculus) and applying divergence theorem to vertex\n",
    "one-rings. As a linear operator taking vertex values to vertex values, the\n",
    "Laplacian $\\mathbf{L}$ is a $n\\times n$ matrix with elements:\n",
    "\n",
    "$L_{ij} = \\begin{cases}j \\in N(i) &\\cot \\alpha_{ij} + \\cot \\beta_{ij},\\\\\n",
    "j \\notin N(i) & 0,\\\\\n",
    "i = j & -\\sum\\limits_{k\\neq i} L_{ik},\n",
    "\\end{cases}$\n",
    "\n",
    "where $N(i)$ are the vertices adjacent to (neighboring) vertex $i$, and\n",
    "$\\alpha_{ij},\\beta_{ij}$ are the angles opposite to edge ${ij}$.\n",
    "\n",
    "Libigl implements discrete \"cotangent Laplacians\" for triangles meshes and\n",
    "tetrahedral meshes, building both with fast geometric rules rather than \"by the\n",
    "book\" FEM construction which involves many (small) matrix inversions <cite data-cite=\"sharf_2007\">(Sharf, 2007)</cite>.\n",
    "\n",
    "Here, I load a triangle mesh and then calculate the Laplace-Beltrami operator and visualize the normals as pseudocolors. But I have some bugs and have not been able to finish this on time for today."
   ]
  },
  {
   "cell_type": "code",
   "execution_count": 122,
   "metadata": {},
   "outputs": [
    {
     "ename": "ValueError",
     "evalue": "File 'data/cow.off' not found.",
     "output_type": "error",
     "traceback": [
      "\u001b[1;31m---------------------------------------------------------------------------\u001b[0m",
      "\u001b[1;31mValueError\u001b[0m                                Traceback (most recent call last)",
      "\u001b[1;32m<ipython-input-122-826aeb732e6e>\u001b[0m in \u001b[0;36m<module>\u001b[1;34m\u001b[0m\n\u001b[0;32m      1\u001b[0m \u001b[1;32mfrom\u001b[0m \u001b[0mscipy\u001b[0m\u001b[1;33m.\u001b[0m\u001b[0msparse\u001b[0m\u001b[1;33m.\u001b[0m\u001b[0mlinalg\u001b[0m \u001b[1;32mimport\u001b[0m \u001b[0mspsolve\u001b[0m\u001b[1;33m\u001b[0m\u001b[1;33m\u001b[0m\u001b[0m\n\u001b[0;32m      2\u001b[0m \u001b[1;33m\u001b[0m\u001b[0m\n\u001b[1;32m----> 3\u001b[1;33m \u001b[0mv\u001b[0m\u001b[1;33m,\u001b[0m \u001b[0mf\u001b[0m \u001b[1;33m=\u001b[0m \u001b[0mig\u001b[0m\u001b[1;33m.\u001b[0m\u001b[0mread_triangle_mesh\u001b[0m\u001b[1;33m(\u001b[0m\u001b[1;34m'data/cow.off'\u001b[0m\u001b[1;33m)\u001b[0m\u001b[1;33m\u001b[0m\u001b[1;33m\u001b[0m\u001b[0m\n\u001b[0m\u001b[0;32m      4\u001b[0m \u001b[0ml\u001b[0m \u001b[1;33m=\u001b[0m \u001b[0mig\u001b[0m\u001b[1;33m.\u001b[0m\u001b[0mcotmatrix\u001b[0m\u001b[1;33m(\u001b[0m\u001b[0mv\u001b[0m\u001b[1;33m,\u001b[0m \u001b[0mf\u001b[0m\u001b[1;33m)\u001b[0m\u001b[1;33m\u001b[0m\u001b[1;33m\u001b[0m\u001b[0m\n\u001b[0;32m      5\u001b[0m \u001b[1;33m\u001b[0m\u001b[0m\n",
      "\u001b[1;31mValueError\u001b[0m: File 'data/cow.off' not found."
     ]
    }
   ],
   "source": [
    "from scipy.sparse.linalg import spsolve\n",
    "\n",
    "v, f = ig.read_triangle_mesh('data/cow.off')\n",
    "l = ig.cotmatrix(v, f)\n",
    "\n",
    "n = ig.per_vertex_normals(v, f)*0.5+0.5\n",
    "c = np.linalg.norm(n, axis=1)\n",
    "p = mp.plot(v, f, c, shading={\"wireframe\": False}, return_plot=True)\n",
    "\n",
    "vs = [v]\n",
    "cs = [c]\n",
    "for i in range(10):\n",
    "    m = ig.massmatrix(v, f, ig.MASSMATRIX_TYPE_BARYCENTRIC)\n",
    "    s = (m - 0.001 * l)\n",
    "    b = m.dot(v)\n",
    "    v = spsolve(s, m.dot(v))\n",
    "    n = ig.per_vertex_normals(v, f)*0.5+0.5\n",
    "    c = np.linalg.norm(n, axis=1)\n",
    "    vs.append(v)\n",
    "    cs.append(c)\n",
    "\n",
    "@mp.interact(level=(0, 9))\n",
    "def mcf(level=0):\n",
    "    p.update_object(vertices=vs[level], colors=cs[level])"
   ]
  },
  {
   "cell_type": "code",
   "execution_count": 68,
   "metadata": {},
   "outputs": [
    {
     "ename": "ValueError",
     "evalue": "File 'data/cow.off' not found.",
     "output_type": "error",
     "traceback": [
      "\u001b[1;31m---------------------------------------------------------------------------\u001b[0m",
      "\u001b[1;31mValueError\u001b[0m                                Traceback (most recent call last)",
      "\u001b[1;32m<ipython-input-68-3f5a1107f9c1>\u001b[0m in \u001b[0;36m<module>\u001b[1;34m\u001b[0m\n\u001b[0;32m      1\u001b[0m \u001b[1;32mfrom\u001b[0m \u001b[0mscipy\u001b[0m\u001b[1;33m.\u001b[0m\u001b[0msparse\u001b[0m\u001b[1;33m.\u001b[0m\u001b[0mlinalg\u001b[0m \u001b[1;32mimport\u001b[0m \u001b[0mspsolve\u001b[0m\u001b[1;33m\u001b[0m\u001b[1;33m\u001b[0m\u001b[0m\n\u001b[0;32m      2\u001b[0m \u001b[1;33m\u001b[0m\u001b[0m\n\u001b[1;32m----> 3\u001b[1;33m \u001b[0mv\u001b[0m\u001b[1;33m,\u001b[0m \u001b[0mf\u001b[0m \u001b[1;33m=\u001b[0m \u001b[0mig\u001b[0m\u001b[1;33m.\u001b[0m\u001b[0mread_triangle_mesh\u001b[0m\u001b[1;33m(\u001b[0m\u001b[1;34m'data/cow.off'\u001b[0m\u001b[1;33m)\u001b[0m\u001b[1;33m\u001b[0m\u001b[1;33m\u001b[0m\u001b[0m\n\u001b[0m\u001b[0;32m      4\u001b[0m \u001b[1;33m\u001b[0m\u001b[0m\n\u001b[0;32m      5\u001b[0m \u001b[1;31m## Find boundary vertices\u001b[0m\u001b[1;33m\u001b[0m\u001b[1;33m\u001b[0m\u001b[1;33m\u001b[0m\u001b[0m\n",
      "\u001b[1;31mValueError\u001b[0m: File 'data/cow.off' not found."
     ]
    }
   ],
   "source": [
    "from scipy.sparse.linalg import spsolve\n",
    "\n",
    "v, f = ig.read_triangle_mesh('data/cow.off')\n",
    "\n",
    "## Find boundary vertices\n",
    "e = ig.boundary_facets(f)\n",
    "v_b = np.unique(e)\n",
    "\n",
    "## List of all vertex indices\n",
    "v_all = np.arange(v.shape[0])\n",
    "\n",
    "## List of interior indices\n",
    "v_in = np.setdiff1d(v_all, v_b)\n",
    "\n",
    "## Construct and slice up Laplacian\n",
    "l = ig.cotmatrix(v, f)\n",
    "l_ii = l[v_in, :]\n",
    "l_ii = l_ii[:, v_in]\n",
    "\n",
    "l_ib = l[v_in, :]\n",
    "l_ib = l_ib[:, v_b]\n",
    "\n",
    "## Dirichlet boundary conditions from z-coordinate\n",
    "z = v[:, 2]\n",
    "bc = z[v_b]\n",
    "\n",
    "## Solve PDE\n",
    "z_in = spsolve(-l_ii, l_ib.dot(bc))\n",
    "\n",
    "mp.plot(v, f, z)"
   ]
  },
  {
   "cell_type": "code",
   "execution_count": 69,
   "metadata": {},
   "outputs": [
    {
     "ename": "ValueError",
     "evalue": "File 'data/cheburashka.off' not found.",
     "output_type": "error",
     "traceback": [
      "\u001b[1;31m---------------------------------------------------------------------------\u001b[0m",
      "\u001b[1;31mValueError\u001b[0m                                Traceback (most recent call last)",
      "\u001b[1;32m<ipython-input-69-2a36886611e7>\u001b[0m in \u001b[0;36m<module>\u001b[1;34m\u001b[0m\n\u001b[1;32m----> 1\u001b[1;33m \u001b[0mv\u001b[0m\u001b[1;33m,\u001b[0m \u001b[0mf\u001b[0m \u001b[1;33m=\u001b[0m \u001b[0mig\u001b[0m\u001b[1;33m.\u001b[0m\u001b[0mread_triangle_mesh\u001b[0m\u001b[1;33m(\u001b[0m\u001b[1;34m'data/cheburashka.off'\u001b[0m\u001b[1;33m)\u001b[0m\u001b[1;33m\u001b[0m\u001b[1;33m\u001b[0m\u001b[0m\n\u001b[0m\u001b[0;32m      2\u001b[0m \u001b[1;33m\u001b[0m\u001b[0m\n\u001b[0;32m      3\u001b[0m \u001b[1;31m## Two fixed points: Left hand, left foot should have values 1 and -1\u001b[0m\u001b[1;33m\u001b[0m\u001b[1;33m\u001b[0m\u001b[1;33m\u001b[0m\u001b[0m\n\u001b[0;32m      4\u001b[0m \u001b[0mb\u001b[0m \u001b[1;33m=\u001b[0m \u001b[0mnp\u001b[0m\u001b[1;33m.\u001b[0m\u001b[0marray\u001b[0m\u001b[1;33m(\u001b[0m\u001b[1;33m[\u001b[0m\u001b[1;36m4331\u001b[0m\u001b[1;33m,\u001b[0m \u001b[1;36m5957\u001b[0m\u001b[1;33m]\u001b[0m\u001b[1;33m)\u001b[0m\u001b[1;33m\u001b[0m\u001b[1;33m\u001b[0m\u001b[0m\n\u001b[0;32m      5\u001b[0m \u001b[0mbc\u001b[0m \u001b[1;33m=\u001b[0m \u001b[0mnp\u001b[0m\u001b[1;33m.\u001b[0m\u001b[0marray\u001b[0m\u001b[1;33m(\u001b[0m\u001b[1;33m[\u001b[0m\u001b[1;36m1.\u001b[0m\u001b[1;33m,\u001b[0m \u001b[1;33m-\u001b[0m\u001b[1;36m1.\u001b[0m\u001b[1;33m]\u001b[0m\u001b[1;33m)\u001b[0m\u001b[1;33m\u001b[0m\u001b[1;33m\u001b[0m\u001b[0m\n",
      "\u001b[1;31mValueError\u001b[0m: File 'data/cheburashka.off' not found."
     ]
    }
   ],
   "source": [
    "v, f = ig.read_triangle_mesh('data/cheburashka.off')\n",
    "\n",
    "## Two fixed points: Left hand, left foot should have values 1 and -1\n",
    "b = np.array([4331, 5957])\n",
    "bc = np.array([1., -1.])\n",
    "B = np.zeros((v.shape[0], 1))\n",
    "\n",
    "## Construct Laplacian and mass matrix\n",
    "L = ig.cotmatrix(v, f)\n",
    "M = ig.massmatrix(v, f, ig.MASSMATRIX_TYPE_VORONOI)\n",
    "Minv = sp.sparse.diags(1 / M.diagonal())\n",
    "\n",
    "## Bi-Laplacian\n",
    "Q = L @ (Minv @ L)\n",
    "\n",
    "## Solve with only equality constraints\n",
    "Aeq = sp.sparse.csc_matrix((0, 0))\n",
    "Beq = np.array([])\n",
    "_, z1 = ig.min_quad_with_fixed(Q, B, b, bc, Aeq, Beq, True)\n",
    "\n",
    "## Solve with equality and linear constraints\n",
    "Aeq = sp.sparse.csc_matrix((1, v.shape[0]))\n",
    "Aeq[0,6074] = 1\n",
    "Aeq[0, 6523] = -1\n",
    "Beq = np.array([0.])\n",
    "_, z2 = ig.min_quad_with_fixed(Q, B, b, bc, Aeq, Beq, True)\n",
    "\n",
    "## Normalize colors to same range\n",
    "min_z = min(np.min(z1), np.min(z2))\n",
    "max_z = max(np.max(z1), np.max(z2))\n",
    "z = [(z1 - min_z) / (max_z - min_z), (z2 - min_z) / (max_z - min_z)]\n",
    "\n",
    "## Plot the functions\n",
    "p = mp.plot(v, f, z1, shading={\"wireframe\":False}, return_plot=True)\n",
    "\n",
    "@mp.interact(function=[('z0', 0), ('z1', 1)])\n",
    "def sf(function):\n",
    "    p.update_object(colors=z[function])"
   ]
  },
  {
   "cell_type": "markdown",
   "metadata": {},
   "source": [
    "### Eigen Decomposition\n",
    "\n",
    "Libigl has rudimentary support for extracting eigen pairs of a generalized\n",
    "eigen value problem:\n",
    "\n",
    " $Ax = \\lambda B x$\n",
    "\n",
    "where $A$ is a sparse symmetric matrix and $B$ is a sparse positive definite\n",
    "matrix. Most commonly in geometry processing, we let $A=L$ the cotangent\n",
    "Laplacian and $B=M$ the per-vertex mass matrix <cite data-cite=\"vallet_2008\">(Vallet, 2008)</cite>.\n",
    "Typically applications will make use of the _low frequency_ eigen modes.\n",
    "Analogous to the Fourier decomposition, a function $f$ on a surface can be\n",
    "represented via its spectral decomposition of the eigen modes of the\n",
    "Laplace-Beltrami:\n",
    "\n",
    " $f = \\sum\\limits_{i=1}^\\infty a_i \\phi_i$\n",
    "\n",
    "where each $\\phi_i$ is an eigen function satisfying: $\\Delta \\phi_i = \\lambda_i\n",
    "\\phi_i$ and $a_i$ are scalar coefficients. For a discrete triangle mesh, a\n",
    "completely analogous decomposition exists, albeit with finite sum:\n",
    "\n",
    " $\\mathbf{f} = \\sum\\limits_{i=1}^n a_i \\phi_i$\n",
    "\n",
    "where now a column vector of values at vertices $\\mathbf{f} \\in \\mathcal{R}^n$\n",
    "specifies a piecewise linear function and $\\phi_i \\in \\mathcal{R}^n$ is an\n",
    "eigen vector satisfying:\n",
    "\n",
    "$\\mathbf{L} \\phi_i = \\lambda_i \\mathbf{M} \\phi_i$.\n",
    "\n",
    "Note that Vallet &amp; Levy <cite data-cite=\"vallet_2008\">(Vallet, 2008)</cite> propose solving a symmetrized\n",
    "_standard_ eigen problem $\\mathbf{M}^{-1/2}\\mathbf{L}\\mathbf{M}^{-1/2} \\phi_i\n",
    "= \\lambda_i \\phi_i$. Libigl implements a generalized eigen problem solver so\n",
    "this unnecessary symmetrization can be avoided.\n",
    "\n",
    "Often the sum above is _truncated_ to the first $k$ eigen vectors. If the low\n",
    "frequency modes are chosen, i.e. those corresponding to small $\\lambda_i$\n",
    "values, then this truncation effectively _regularizes_ $\\mathbf{f}$ to smooth,\n",
    "slowly changing functions over the mesh <cite data-cite=\"hildebrandt_2011\">(Hildebrandt, 2011)</cite>. Modal\n",
    "analysis and model subspaces have been used frequently in real-time deformation\n",
    "<cite data-cite=\"barbic_2012\">(Barbic, 2005)</cite>."
   ]
  },
  {
   "cell_type": "markdown",
   "metadata": {},
   "source": [
    "In the following example, the first k eigen vectors of the discrete Laplace-Beltrami operator are computed and displayed in\n",
    "pseudocolors atop our cow. \n",
    "\n",
    "Low frequency eigenvectors of the discrete Laplace-Beltrami operator vary smoothly and slowly over the model.\n",
    "At first, calculate the Laplace-Betrami operator and solve the generalized Eigenproblem with scipy/arpack. \n",
    "Then, rescale the Eigenvectors and visualize them. We do this on Cheburashka."
   ]
  },
  {
   "cell_type": "code",
   "execution_count": 70,
   "metadata": {},
   "outputs": [
    {
     "ename": "ValueError",
     "evalue": "File 'data/cheburashka.off' not found.",
     "output_type": "error",
     "traceback": [
      "\u001b[1;31m---------------------------------------------------------------------------\u001b[0m",
      "\u001b[1;31mValueError\u001b[0m                                Traceback (most recent call last)",
      "\u001b[1;32m<ipython-input-70-bf7be9df370a>\u001b[0m in \u001b[0;36m<module>\u001b[1;34m\u001b[0m\n\u001b[1;32m----> 1\u001b[1;33m \u001b[0mv\u001b[0m\u001b[1;33m,\u001b[0m \u001b[0mf\u001b[0m \u001b[1;33m=\u001b[0m \u001b[0mig\u001b[0m\u001b[1;33m.\u001b[0m\u001b[0mread_triangle_mesh\u001b[0m\u001b[1;33m(\u001b[0m\u001b[1;34m'data/cheburashka.off'\u001b[0m\u001b[1;33m)\u001b[0m\u001b[1;33m\u001b[0m\u001b[1;33m\u001b[0m\u001b[0m\n\u001b[0m\u001b[0;32m      2\u001b[0m \u001b[0ml\u001b[0m \u001b[1;33m=\u001b[0m \u001b[1;33m-\u001b[0m\u001b[0mig\u001b[0m\u001b[1;33m.\u001b[0m\u001b[0mcotmatrix\u001b[0m\u001b[1;33m(\u001b[0m\u001b[0mv\u001b[0m\u001b[1;33m,\u001b[0m \u001b[0mf\u001b[0m\u001b[1;33m)\u001b[0m\u001b[1;33m\u001b[0m\u001b[1;33m\u001b[0m\u001b[0m\n\u001b[0;32m      3\u001b[0m \u001b[0mm\u001b[0m \u001b[1;33m=\u001b[0m \u001b[0mig\u001b[0m\u001b[1;33m.\u001b[0m\u001b[0mmassmatrix\u001b[0m\u001b[1;33m(\u001b[0m\u001b[0mv\u001b[0m\u001b[1;33m,\u001b[0m \u001b[0mf\u001b[0m\u001b[1;33m,\u001b[0m \u001b[0mig\u001b[0m\u001b[1;33m.\u001b[0m\u001b[0mMASSMATRIX_TYPE_VORONOI\u001b[0m\u001b[1;33m)\u001b[0m\u001b[1;33m\u001b[0m\u001b[1;33m\u001b[0m\u001b[0m\n\u001b[0;32m      4\u001b[0m \u001b[1;33m\u001b[0m\u001b[0m\n\u001b[0;32m      5\u001b[0m \u001b[0mk\u001b[0m \u001b[1;33m=\u001b[0m \u001b[1;36m10\u001b[0m\u001b[1;33m\u001b[0m\u001b[1;33m\u001b[0m\u001b[0m\n",
      "\u001b[1;31mValueError\u001b[0m: File 'data/cheburashka.off' not found."
     ]
    }
   ],
   "source": [
    "v, f = ig.read_triangle_mesh('data/cheburashka.off')\n",
    "l = -ig.cotmatrix(v, f)\n",
    "m = ig.massmatrix(v, f, ig.MASSMATRIX_TYPE_VORONOI)\n",
    "\n",
    "k = 10\n",
    "d, u = sp.sparse.linalg.eigsh(l, k, m, sigma=0, which=\"LM\")\n",
    "\n",
    "u = (u - np.min(u)) / (np.max(u) - np.min(u))\n",
    "bbd = 0.5 * np.linalg.norm(np.max(v, axis=0) - np.min(v, axis=0))\n",
    "\n",
    "p = mp.plot(v, f, bbd * u[:, 0], shading={\"wireframe\":False, \"flat\": False}, return_plot=True)\n",
    "\n",
    "@mp.interact(ev=[(\"EV %i\"%i, i) for i in range(k)])\n",
    "def sf(ev):\n",
    "    p.update_object(colors=u[:, ev])"
   ]
  },
  {
   "cell_type": "markdown",
   "metadata": {},
   "source": [
    "These demos are meant to show you that eigenvectors can actually be *viewed*.\n",
    "\n",
    "# Advanced Linear Algebra: Laplacian matrix of a graph\n",
    "\n",
    "Remember what an **adjacency matrix** ise? If you number the nodes of the graph from $0$\n",
    "to $n-1$, and place a 1 in row $i$, column $j$ of the matrix whenever there is\n",
    "an edge from node $i$ to node $j$, that's your graph's adjacency matrix. In other words, if we call the adjacency\n",
    "matrix $A$, then $A_{i, j} = 1$ if and only if the edge $(i, j)$ is in $G$.\n",
    "\n",
    "The *degree* of a node is the number of edges touching it. For\n",
    "example, if a node is connected to five other nodes in a graph, its degree\n",
    "is 5. In adjacency matrix terms, the degree corresponds to the *sum*\n",
    "of the values in a row or column. If the graph is not directed, the adjacency matrix is symmetrix (its transpose is the matrix itself). If the graph is directed, then you have **in-degrees** and **out-degrees**.\n",
    "\n",
    "Now, for some advanced linear algebra. This is the kind of math you study to build the most advanced Deep Learning models.\n",
    "\n",
    "The [**Laplacian**](https://en.wikipedia.org/wiki/Laplacian_matrix) matrix of a graph (insteadof a differentiable manifold) is more siply defined as the **degree matrix**, $D$, which contains the degree of each node along the diagonal and zero everywhere else, minus the adjacency matrix $A$:\n",
    "\n",
    "$\n",
    "L = D - A\n",
    "$"
   ]
  },
  {
   "cell_type": "markdown",
   "metadata": {},
   "source": [
    "### Fiedler vector\n",
    "\n",
    "Let's start with the **blueprint** for a graph. How do you draw nodes and edges in such a way that you don't get a complete\n",
    "mess? If you try plotting it with `networkx`, guaranteed you get a complete mess every time you redraw.\n",
    "\n",
    "One way is to ***put nodes that share many edges close together***. And that is essentially what the paper that we are going to study does.\n",
    "\n",
    "It turns out\n",
    "that this can be done by using the *second-smallest eigenvalue* of the Laplacian\n",
    "matrix, and its corresponding eigenvector, which is so important it has its\n",
    "own name: the [Fiedler vector](https://en.wikipedia.org/wiki/Algebraic_connectivity#The_Fiedler_vector). You see, the dominant eigenvector is not the only important eigenvector of a matrix. \n",
    "\n",
    "The magnitude of the eigenvalue of the Fielder eigenvector ***reflects how well connected overall the graph is***.\n",
    "\n",
    "Specifically:\n",
    "* This eigenvalue is greater than 0 if and only if G is a [connected graph](https://en.wikipedia.org/wiki/Connectivity_(graph_theory). This is a corollary to the fact that ***the number of times 0 appears as an eigenvalue in the Laplacian is the number of connected components in the graph***\n",
    "* The magnitude of this value reflects how well connected the overall graph is. \n",
    "\n",
    "</br >\n",
    "<center>\n",
    "<img src=\"ipynb.images/lemur.png\" width=200 />\n",
    "    Really?\n",
    "</center>\n",
    "\n",
    "Let's use a minimal network to illustrate this. We start by creating an adjacency matrix:"
   ]
  },
  {
   "cell_type": "code",
   "execution_count": 71,
   "metadata": {},
   "outputs": [
    {
     "data": {
      "text/plain": [
       "array([[0., 1., 1., 0., 0., 0.],\n",
       "       [1., 0., 1., 0., 0., 0.],\n",
       "       [1., 1., 0., 1., 0., 0.],\n",
       "       [0., 0., 1., 0., 1., 1.],\n",
       "       [0., 0., 0., 1., 0., 1.],\n",
       "       [0., 0., 0., 1., 1., 0.]])"
      ]
     },
     "execution_count": 71,
     "metadata": {},
     "output_type": "execute_result"
    }
   ],
   "source": [
    "import numpy as np\n",
    "A = np.array([[0, 1, 1, 0, 0, 0],\n",
    "              [1, 0, 1, 0, 0, 0],\n",
    "              [1, 1, 0, 1, 0, 0],\n",
    "              [0, 0, 1, 0, 1, 1],\n",
    "              [0, 0, 0, 1, 0, 1],\n",
    "              [0, 0, 0, 1, 1, 0]], dtype=float)\n",
    "A"
   ]
  },
  {
   "cell_type": "markdown",
   "metadata": {},
   "source": [
    "Please output it here below in 0s and 1s with no space in between (hint: use code from last lecture):"
   ]
  },
  {
   "cell_type": "code",
   "execution_count": null,
   "metadata": {},
   "outputs": [],
   "source": []
  },
  {
   "cell_type": "markdown",
   "metadata": {},
   "source": [
    "<div style=\"display:none;\">\n",
    "for i in range(6):\n",
    "    row = []\n",
    "    for el in A[i]:\n",
    "        row.append(int(round(el)))\n",
    "    deg = np.sum(row)\n",
    "    print(''.join(str(i) for i in row).replace(' ', '').replace('\\n', '') + ' ' + str(deg))\n",
    "</div>  "
   ]
  },
  {
   "cell_type": "markdown",
   "metadata": {},
   "source": [
    "We can use `networkx` to draw this network. First, we initialize matplotlib as usual:"
   ]
  },
  {
   "cell_type": "code",
   "execution_count": 123,
   "metadata": {},
   "outputs": [
    {
     "data": {
      "text/plain": [
       "<Figure size 720x360 with 0 Axes>"
      ]
     },
     "execution_count": 123,
     "metadata": {},
     "output_type": "execute_result"
    },
    {
     "data": {
      "text/plain": [
       "<Figure size 720x360 with 0 Axes>"
      ]
     },
     "metadata": {},
     "output_type": "display_data"
    }
   ],
   "source": [
    "# Make plots appear inline, set custom plotting style\n",
    "%matplotlib inline\n",
    "import matplotlib.pyplot as plt\n",
    "#plt.style.use('style/elegant.mplstyle')\n",
    "plt.figure(figsize=(10,5))"
   ]
  },
  {
   "cell_type": "markdown",
   "metadata": {},
   "source": [
    "Now let's plot it with `nx.spring_layout`:"
   ]
  },
  {
   "cell_type": "code",
   "execution_count": 124,
   "metadata": {},
   "outputs": [
    {
     "name": "stderr",
     "output_type": "stream",
     "text": [
      "C:\\Users\\liaoz\\Anaconda3\\lib\\site-packages\\networkx\\drawing\\nx_pylab.py:579: MatplotlibDeprecationWarning: \n",
      "The iterable function was deprecated in Matplotlib 3.1 and will be removed in 3.3. Use np.iterable instead.\n",
      "  if not cb.iterable(width):\n"
     ]
    },
    {
     "data": {
      "image/png": "[encoded data removed]",
      "text/plain": [
       "<Figure size 432x288 with 1 Axes>"
      ]
     },
     "metadata": {},
     "output_type": "display_data"
    }
   ],
   "source": [
    "import networkx as nx\n",
    "g = nx.from_numpy_matrix(A)\n",
    "layout = nx.spring_layout(g, pos=nx.circular_layout(g))\n",
    "nx.draw(g, pos=layout,\n",
    "        with_labels=True, node_color='white')"
   ]
  },
  {
   "cell_type": "markdown",
   "metadata": {},
   "source": [
    "You can see that the nodes fall naturally into two groups: (0, 1, 2) and (3, 4, 5).\n",
    "Can the Fiedler vector tell us this? First, we must compute the **degree matrix**\n",
    "and the **Laplacian**. \n",
    "\n",
    "We first get the degrees by summing along either axis of $A$.\n",
    "(Either axis works because $A$ is symmetric.)"
   ]
  },
  {
   "cell_type": "code",
   "execution_count": 125,
   "metadata": {},
   "outputs": [
    {
     "name": "stdout",
     "output_type": "stream",
     "text": [
      "[  0.   1.   6.   7.  18.   0.  19.  13.   6.   7.  25.   4.   6.   3.\n",
      "  49.  29.  10.   3.  21.   5.  10.   5.  24.  14.   6.  20.   4.  61.\n",
      "  21.  10.  12.  14.  24.   5.  27.  15.  21.  14.  31.  12.  71.  17.\n",
      "  40.  14.   4.  70.  11. 350. 112.  26.  14.  47.  16.  47.  13. 325.\n",
      "  97.  18. 113.   7.  13.  46.  18.   5.  34.   9. 113.  71.  15.  18.\n",
      "   6.  25.   5.   5.  10.   3.  14.  10.  10.  80.  20.  15.   9.  14.\n",
      "  12.  51.  22.  17.  71.   3.  23.  18.  15.  91.  71.  13. 151.  11.\n",
      "  14.  40.  17.   6.  15.  52.  16. 177.  73.  13.  68.  62.  25.  24.\n",
      "  64.   3.  79.  16.  79.  21.  76.   5.  24.   4.   6.   5.  38.  28.\n",
      "  71.  22.  46.   8.   9.  28.  66.  49.   2.   5.  19.  45.  21.  40.\n",
      "  79.  46.  30.  13.   7.  17.  54.  33.  13.  12.  20.  13.  16.  16.\n",
      "  14.  47.  21.  16.  10.  14.  18.  31.  55. 111.  12.  16.  83.  34.\n",
      "  80.  26.   7.  11.  24.  23.  84.  17.  14.  25.   8.  11.  16. 114.\n",
      "  12.  76.  30.  16.   9.  18.  17.   8.  78.  21.   6.  10.  28. 123.\n",
      "   7.   2.  21.  14.  72.  18.  10.  11.  12.  30.   4.  26.   7.  24.\n",
      "  13.   9.  28.  27.  84.   7.  52.  34.  18.  18.  23.  27.  22.   3.\n",
      "  39.   2.   0.   6.  37.  11.  26.  56.  18.  12.   8.  13.   9.   7.\n",
      "   3.  29.  17.  14.  37.  25.  19.  35.  39.  26.  27.   5.  28.   3.\n",
      "  10. 111.  52.  34.  10.  10.  31.   0.  11. 106.  15.   4.  11.   8.\n",
      "   2. 108.   9.  21.   8.   3.   1.   3.   6.  20.   6.  16.   3.]\n"
     ]
    }
   ],
   "source": [
    "d = np.sum(A, axis=0)\n",
    "print(d)"
   ]
  },
  {
   "cell_type": "markdown",
   "metadata": {},
   "source": [
    "We then put those degrees into a diagonal matrix of the same shape\n",
    "as A, the *degree matrix*. We can use the `np.diag` function to do this.\n",
    "\n",
    "We did this exercise in our ecology graph, remember?"
   ]
  },
  {
   "cell_type": "code",
   "execution_count": 126,
   "metadata": {},
   "outputs": [
    {
     "name": "stdout",
     "output_type": "stream",
     "text": [
      "[[ 0.  0.  0. ...  0.  0.  0.]\n",
      " [ 0.  1.  0. ...  0.  0.  0.]\n",
      " [ 0.  0.  6. ...  0.  0.  0.]\n",
      " ...\n",
      " [ 0.  0.  0. ...  6.  0.  0.]\n",
      " [ 0.  0.  0. ...  0. 16.  0.]\n",
      " [ 0.  0.  0. ...  0.  0.  3.]]\n"
     ]
    }
   ],
   "source": [
    "D = np.diag(d)\n",
    "print(D)"
   ]
  },
  {
   "cell_type": "markdown",
   "metadata": {},
   "source": [
    "Finally, we get the Laplacian from the definition:"
   ]
  },
  {
   "cell_type": "code",
   "execution_count": 127,
   "metadata": {},
   "outputs": [
    {
     "name": "stdout",
     "output_type": "stream",
     "text": [
      "[[ 0.  0.  0. ...  0.  0.  0.]\n",
      " [ 0.  1. -1. ...  0.  0.  0.]\n",
      " [ 0.  0.  6. ...  0.  0.  0.]\n",
      " ...\n",
      " [ 0.  0.  0. ...  6.  0.  0.]\n",
      " [ 0.  0.  0. ...  0. 16.  0.]\n",
      " [ 0.  0.  0. ...  0.  0.  3.]]\n"
     ]
    }
   ],
   "source": [
    "L = D - A\n",
    "print(L)"
   ]
  },
  {
   "cell_type": "markdown",
   "metadata": {},
   "source": [
    "Because $L$ is symmetric, we can use the `np.linalg.eigh` function (returns the eigenvalues and eigenvectors of a Hermitian or symmetric matrix, see [here](https://docs.scipy.org/doc/numpy-1.14.0/reference/generated/numpy.linalg.eigh.html)) to compute\n",
    "the eigenvalues and eigenvectors:"
   ]
  },
  {
   "cell_type": "code",
   "execution_count": 128,
   "metadata": {},
   "outputs": [
    {
     "data": {
      "text/plain": [
       "(array([-1.0595699e+01, -5.5400753e+00, -3.1556644e+00, -2.7215073e+00,\n",
       "        -2.0189955e+00, -2.0017467e+00, -1.7850863e+00, -1.3029902e+00,\n",
       "        -1.0840538e+00, -8.8524526e-01, -6.4841580e-01, -4.3921179e-01,\n",
       "        -2.3453608e-01, -3.6246615e-15,  0.0000000e+00,  1.8975973e-01,\n",
       "         8.1357163e-01,  9.4530827e-01,  1.1562667e+00,  1.3107412e+00,\n",
       "         1.8202387e+00,  1.8645947e+00,  2.0290112e+00,  2.3292062e+00,\n",
       "         2.3893256e+00,  2.4022779e+00,  2.4528534e+00,  2.5319452e+00,\n",
       "         2.6059523e+00,  2.7577782e+00,  2.8389637e+00,  2.8658373e+00,\n",
       "         2.8857062e+00,  3.0864942e+00,  3.2713082e+00,  3.4226484e+00,\n",
       "         3.7374353e+00,  3.7868989e+00,  3.8553507e+00,  3.9773219e+00,\n",
       "         4.1838984e+00,  4.3398881e+00,  4.4405303e+00,  4.5132136e+00,\n",
       "         4.5999565e+00,  4.6420116e+00,  4.6777430e+00,  4.8060718e+00,\n",
       "         4.8326464e+00,  4.9993343e+00,  5.0990200e+00,  5.2341557e+00,\n",
       "         5.3293543e+00,  5.4417200e+00,  5.5889163e+00,  5.6334238e+00,\n",
       "         5.7215953e+00,  5.7355566e+00,  5.8400350e+00,  5.8795710e+00,\n",
       "         6.0292325e+00,  6.0734277e+00,  6.4252295e+00,  6.4829431e+00,\n",
       "         6.5826578e+00,  6.8294601e+00,  6.8930283e+00,  6.9849448e+00,\n",
       "         7.0085001e+00,  7.2009497e+00,  7.2565889e+00,  7.2972198e+00,\n",
       "         7.3554626e+00,  7.6351924e+00,  7.7851901e+00,  7.8324986e+00,\n",
       "         7.9696417e+00,  8.1294127e+00,  8.3048820e+00,  8.3253469e+00,\n",
       "         8.7733459e+00,  8.8836355e+00,  8.9700127e+00,  8.9921932e+00,\n",
       "         8.9967012e+00,  9.1382475e+00,  9.3723707e+00,  9.4915915e+00,\n",
       "         9.6294804e+00,  1.0004016e+01,  1.0109650e+01,  1.0148111e+01,\n",
       "         1.0357401e+01,  1.0500474e+01,  1.0613212e+01,  1.0719549e+01,\n",
       "         1.0823079e+01,  1.0836640e+01,  1.0912111e+01,  1.0935770e+01,\n",
       "         1.1126269e+01,  1.1195059e+01,  1.1293746e+01,  1.1413390e+01,\n",
       "         1.1572660e+01,  1.1674072e+01,  1.1759477e+01,  1.1995540e+01,\n",
       "         1.2157966e+01,  1.2407346e+01,  1.2523342e+01,  1.2816718e+01,\n",
       "         1.2920131e+01,  1.3058692e+01,  1.3130348e+01,  1.3165899e+01,\n",
       "         1.3351863e+01,  1.3459793e+01,  1.3512386e+01,  1.3619361e+01,\n",
       "         1.3710544e+01,  1.3744153e+01,  1.3885696e+01,  1.4227046e+01,\n",
       "         1.4401808e+01,  1.4517349e+01,  1.4856099e+01,  1.4977594e+01,\n",
       "         1.5159650e+01,  1.5262271e+01,  1.5497988e+01,  1.5514466e+01,\n",
       "         1.5558969e+01,  1.5649577e+01,  1.5781478e+01,  1.5843970e+01,\n",
       "         1.6191256e+01,  1.6243160e+01,  1.6352819e+01,  1.6630611e+01,\n",
       "         1.6742102e+01,  1.6857224e+01,  1.6906788e+01,  1.7087877e+01,\n",
       "         1.7343517e+01,  1.7415564e+01,  1.7775244e+01,  1.7916199e+01,\n",
       "         1.7952522e+01,  1.7972048e+01,  1.8306963e+01,  1.8716864e+01,\n",
       "         1.8837639e+01,  1.8998652e+01,  1.9197962e+01,  1.9777859e+01,\n",
       "         1.9846260e+01,  1.9882971e+01,  2.0024244e+01,  2.0100302e+01,\n",
       "         2.0216898e+01,  2.0358595e+01,  2.0628702e+01,  2.0841473e+01,\n",
       "         2.0948429e+01,  2.0969826e+01,  2.1040300e+01,  2.1308746e+01,\n",
       "         2.1529669e+01,  2.1600695e+01,  2.2110151e+01,  2.2429585e+01,\n",
       "         2.2540773e+01,  2.2922363e+01,  2.2976585e+01,  2.3136015e+01,\n",
       "         2.3282980e+01,  2.3611515e+01,  2.4071512e+01,  2.4142553e+01,\n",
       "         2.4292429e+01,  2.4497442e+01,  2.4574556e+01,  2.5077147e+01,\n",
       "         2.5117426e+01,  2.5254864e+01,  2.5980612e+01,  2.6108280e+01,\n",
       "         2.6243534e+01,  2.6514103e+01,  2.6600170e+01,  2.6846432e+01,\n",
       "         2.6885765e+01,  2.7219484e+01,  2.7471779e+01,  2.7647184e+01,\n",
       "         2.7878424e+01,  2.8005589e+01,  2.8137751e+01,  2.8278994e+01,\n",
       "         2.8483160e+01,  2.8776182e+01,  2.8805145e+01,  2.9161522e+01,\n",
       "         2.9532677e+01,  3.0233286e+01,  3.1457188e+01,  3.2077030e+01,\n",
       "         3.2134033e+01,  3.2464417e+01,  3.3043476e+01,  3.3517902e+01,\n",
       "         3.4732796e+01,  3.4983810e+01,  3.5548565e+01,  3.5680511e+01,\n",
       "         3.5905266e+01,  3.7755070e+01,  3.8255524e+01,  3.8805531e+01,\n",
       "         3.9014565e+01,  3.9790276e+01,  3.9938656e+01,  4.1590332e+01,\n",
       "         4.4150715e+01,  4.4768478e+01,  4.5702019e+01,  4.5993240e+01,\n",
       "         4.6401466e+01,  4.7504845e+01,  4.8396057e+01,  4.8862537e+01,\n",
       "         5.0933239e+01,  5.2152092e+01,  5.3830975e+01,  5.4259010e+01,\n",
       "         5.5229271e+01,  5.6177670e+01,  5.6734066e+01,  6.0195934e+01,\n",
       "         6.1541176e+01,  6.3519924e+01,  6.3916279e+01,  6.4292419e+01,\n",
       "         6.6448975e+01,  7.0392105e+01,  7.1846069e+01,  7.4825813e+01,\n",
       "         7.6189484e+01,  7.6428047e+01,  7.8348511e+01,  7.8624138e+01,\n",
       "         8.0514076e+01,  8.0651833e+01,  8.0968430e+01,  8.1449440e+01,\n",
       "         8.1796623e+01,  8.2182915e+01,  8.5478249e+01,  8.6328987e+01,\n",
       "         8.9374382e+01,  9.3122681e+01,  9.4563301e+01,  9.6698929e+01,\n",
       "         9.9370720e+01,  1.0232289e+02,  1.0632961e+02,  1.1083249e+02,\n",
       "         1.1443060e+02,  1.1611856e+02,  1.1796631e+02,  1.1934334e+02,\n",
       "         1.2326869e+02,  1.2535216e+02,  1.2886252e+02,  1.5566409e+02,\n",
       "         1.8326157e+02,  3.3306500e+02,  3.5714981e+02], dtype=float32),\n",
       " array([[ 0.0000000e+00,  0.0000000e+00,  0.0000000e+00, ...,\n",
       "          0.0000000e+00,  0.0000000e+00,  0.0000000e+00],\n",
       "        [ 1.2681381e-03, -5.2149978e-04,  8.9068599e-03, ...,\n",
       "         -2.7231223e-07,  1.3889675e-07, -1.3284107e-07],\n",
       "        [ 2.0780982e-02, -6.2667108e-03,  3.7605084e-02, ...,\n",
       "          7.1651542e-05, -5.0057733e-05,  3.6227091e-05],\n",
       "        ...,\n",
       "        [ 1.5408237e-01,  1.4029673e-01, -6.1686877e-02, ...,\n",
       "          1.6083440e-03,  1.6465384e-03, -1.0225103e-02],\n",
       "        [ 1.4691204e-01, -3.1754125e-02, -2.9204364e-03, ...,\n",
       "         -1.6785186e-02, -1.9076717e-03, -4.2072563e-03],\n",
       "        [ 2.4940826e-02, -9.5193507e-03,  6.0381000e-03, ...,\n",
       "          8.0346357e-04, -7.4985561e-05,  7.6014156e-05]], dtype=float32))"
      ]
     },
     "execution_count": 128,
     "metadata": {},
     "output_type": "execute_result"
    }
   ],
   "source": [
    "val, Vec = np.linalg.eigh(L)\n",
    "val, Vec"
   ]
  },
  {
   "cell_type": "markdown",
   "metadata": {},
   "source": [
    "You can verify that the values returned satisfy the definition of eigenvalues\n",
    "and eigenvectors. For example, one of the eigenvalues is 3.\n",
    "\n",
    "- Marvel at this ***neat*** pythonic expression for verifying that a list contains a value very close to something we're after:"
   ]
  },
  {
   "cell_type": "code",
   "execution_count": 129,
   "metadata": {},
   "outputs": [
    {
     "data": {
      "text/plain": [
       "False"
      ]
     },
     "execution_count": 129,
     "metadata": {},
     "output_type": "execute_result"
    }
   ],
   "source": [
    "# isn't this a neat pythonic expression for verifying that a list contains a value very close to something we know?\n",
    "np.any(np.isclose(val, 3))"
   ]
  },
  {
   "cell_type": "markdown",
   "metadata": {},
   "source": [
    "And we can check that multiplying the matrix $L$ by the corresponding eigenvector\n",
    "does indeed multiply the vector by 3:"
   ]
  },
  {
   "cell_type": "code",
   "execution_count": 130,
   "metadata": {},
   "outputs": [
    {
     "name": "stdout",
     "output_type": "stream",
     "text": [
      "33\n",
      "[ 0.00000000e+00  2.38114689e-02 -6.46680146e-02 -6.87177433e-03\n",
      " -1.83054097e-02 -9.02056208e-17 -2.36117672e-02 -7.57808983e-02\n",
      " -4.21474352e-02 -3.02609447e-02 -2.66525690e-02  8.02900121e-02\n",
      "  2.76071522e-02  2.44148508e-01 -2.05502491e-02  4.05943580e-03\n",
      " -1.78851117e-03  6.18259758e-02  1.15593467e-02  6.23219386e-02\n",
      "  4.16071825e-02 -1.55002907e-01 -4.96824868e-02 -8.42214748e-03\n",
      "  6.07714169e-02 -4.74825921e-03 -7.45523646e-02  4.40494128e-04\n",
      " -2.85294023e-04 -6.24273457e-02 -1.17474109e-01 -2.90081054e-02\n",
      " -8.48505832e-03  1.78747829e-02 -2.54410855e-03  1.21027427e-02\n",
      "  9.75230802e-03 -8.72516260e-03 -4.76512033e-03 -5.74149862e-02\n",
      "  5.48964716e-04 -4.12737718e-03  5.32627571e-03 -5.22598159e-04\n",
      "  4.51705558e-03  1.94188766e-03  1.57308187e-02 -3.62300966e-03\n",
      " -2.20641792e-02 -3.50903608e-02 -7.22416793e-04 -3.53946351e-03\n",
      "  1.45606464e-02  1.34404353e-03  1.02603093e-01 -2.46650237e-03\n",
      "  2.44074669e-02  1.58496220e-02 -1.75636227e-03 -1.27221765e-02\n",
      " -1.06425568e-01  2.26979423e-03  8.65587667e-02  5.31155430e-03\n",
      " -3.41151170e-02 -6.93041757e-02 -3.52649670e-03 -3.25206853e-03\n",
      " -8.35661404e-03  1.34547800e-01 -2.55639464e-01  7.29609327e-03\n",
      "  2.43355222e-02  2.30502158e-01  1.50927365e-01 -1.28098086e-01\n",
      " -2.54575405e-02 -7.08431751e-02 -6.49176836e-02 -4.46438044e-03\n",
      "  5.78351580e-02  2.17552111e-02  2.60186046e-01  2.21592095e-02\n",
      "  6.75802166e-03  1.18386513e-03 -3.12006287e-03 -1.91515617e-04\n",
      "  3.72094801e-04  1.80288911e-01  1.88851487e-02  2.03233566e-02\n",
      "  1.08189220e-02  4.46018623e-03 -1.19955186e-02  6.40086364e-03\n",
      "  2.27339827e-02 -1.07793873e-02 -2.98520010e-02  3.38492468e-02\n",
      " -2.82304473e-02 -6.09756336e-02  3.59352096e-03  1.43247982e-02\n",
      "  3.57182622e-02  1.53731527e-02 -1.22052701e-02  2.30136397e-03\n",
      " -1.46236111e-04 -4.11576182e-02  2.02091830e-03 -4.65499144e-03\n",
      "  1.27488393e-02  1.30810559e-01  6.25542784e-03 -1.71131585e-02\n",
      " -8.67526885e-03  7.59620918e-04 -4.90957312e-03 -1.27741411e-01\n",
      " -1.50079867e-02  7.96128586e-02 -7.22213313e-02 -3.53720412e-02\n",
      " -3.74983600e-03  7.74380565e-03  9.75759886e-03 -7.50119286e-03\n",
      "  1.45686110e-02 -4.31814976e-03 -2.53297877e-03  6.09468576e-03\n",
      " -4.21851175e-03  1.41765419e-02 -1.24582499e-01 -4.11310732e-01\n",
      " -2.81250421e-02  1.13223279e-02 -4.39288514e-03 -7.19644377e-05\n",
      " -2.77351495e-03  5.28895855e-02  7.52074365e-03 -2.26902049e-02\n",
      " -4.88768145e-03 -1.60732202e-03  5.42326793e-02  2.63550272e-03\n",
      "  6.67297989e-02 -5.54793403e-02  5.65975904e-04  1.98184028e-02\n",
      " -1.70800625e-03  3.74805294e-02  2.57048551e-02 -2.24085478e-03\n",
      " -9.22173541e-03  2.30544712e-02  1.13157444e-01 -1.00458339e-02\n",
      "  1.73695628e-02 -8.76095612e-03 -3.45496199e-04 -3.47166210e-02\n",
      " -4.81520668e-02 -6.40510162e-03 -1.90788992e-02 -1.03743626e-02\n",
      " -2.94771083e-02 -3.83099392e-02 -4.73182574e-02 -6.46883026e-02\n",
      " -1.16487278e-03 -2.48077437e-02 -2.86128968e-02  1.16732148e-02\n",
      "  8.07417631e-02 -3.79515812e-02  4.89764512e-02  1.94306311e-04\n",
      " -1.38764799e-01 -1.96993630e-02 -6.27975017e-02 -3.25879082e-02\n",
      " -3.87165658e-02 -5.95204830e-02 -5.20877147e-05 -1.31700277e-01\n",
      "  1.02390232e-03 -8.08350593e-02 -9.31967795e-03 -1.59192160e-02\n",
      "  1.78841695e-01  6.98438520e-03 -2.45163310e-02 -4.04476235e-03\n",
      "  5.87531030e-02 -1.65657341e-01 -3.26808915e-02 -1.13898115e-02\n",
      " -4.61980561e-03 -8.55330192e-03  1.39090372e-02  5.31244930e-03\n",
      " -9.86299384e-03 -9.60119441e-03  5.97867891e-02 -8.46162811e-03\n",
      "  1.30418971e-01  1.48491142e-02  1.27682775e-01 -2.94859149e-02\n",
      "  1.03090461e-02  1.76233891e-03 -5.71074488e-04 -1.54376891e-03\n",
      " -8.16566637e-04  4.83313622e-03  4.47025802e-03 -1.46790070e-03\n",
      " -8.08400009e-03  1.56230724e-03 -1.19684944e-02 -1.40827121e-02\n",
      " -5.92575874e-03  1.66881233e-02  8.82828701e-03 -9.54357162e-03\n",
      "  3.58448504e-03  6.55740825e-03  6.63161409e-05  3.23837448e-04\n",
      "  2.63201003e-03 -6.83178077e-04  1.16141932e-02  5.81565732e-03\n",
      " -1.02976337e-03 -1.85154169e-03 -1.87805146e-02 -4.36454546e-04\n",
      "  4.85532219e-03  1.90900476e-03  1.33431619e-02  5.50305267e-05\n",
      " -2.70596473e-03  1.18592300e-03  3.45485860e-05 -2.93863565e-03\n",
      " -1.35599263e-02  1.52679235e-02  4.80550760e-03  4.24306393e-02\n",
      "  2.99208262e-03 -1.74807815e-03  1.43846555e-03  3.18244249e-02\n",
      " -5.15515842e-02 -6.19885139e-02 -3.45534761e-03  2.56683654e-03\n",
      " -3.63711566e-02  5.18403947e-04 -1.28783390e-03 -3.23582292e-02\n",
      " -6.75221859e-03  9.90527496e-03 -1.64171588e-02  9.57723707e-03\n",
      " -1.21242013e-02  7.19547970e-03  2.07028184e-02 -6.19899966e-02\n",
      "  2.56734267e-02  9.58374664e-02 -7.81967342e-02  1.20895905e-02\n",
      " -2.65956782e-02  4.66608703e-02 -1.57620996e-01]\n",
      "[ 4.93704796e-01  1.09217596e+00  5.61873138e-01  6.10571504e-02\n",
      " -3.94570291e-01 -2.75706083e-01 -2.41776317e-01 -6.87573552e-02\n",
      " -1.70847788e-01 -1.94483146e-01 -6.57383859e-01  3.43949735e-01\n",
      "  2.51788050e-01  8.78645360e-01 -9.67139184e-01  3.49151194e-01\n",
      "  1.42721325e-01  1.10934272e-01  2.13544637e-01  2.27463230e-01\n",
      "  3.68087858e-01 -7.01004148e-01 -1.00878310e+00 -4.57638763e-02\n",
      "  6.79797977e-02 -1.14490643e-01 -2.74212658e-01  6.66931197e-02\n",
      " -8.80558044e-04 -5.56073606e-01 -3.90954018e-01 -1.82381928e-01\n",
      "  9.12591442e-02  6.05147406e-02 -6.39258102e-02  2.33792663e-02\n",
      "  5.04074931e-01 -2.24475846e-01 -1.10563509e-01  2.92255133e-02\n",
      "  7.05737323e-02 -8.26345533e-02  1.14127733e-01  3.07206959e-01\n",
      "  7.57141858e-02  2.36781597e-01 -1.23743057e-01  6.49341762e-01\n",
      " -2.34997606e+00  3.82583559e-01 -3.33334617e-02 -1.67774469e-01\n",
      "  1.19965658e-01  8.34185034e-02  1.24471080e+00  7.15047300e-01\n",
      "  2.42889500e+00 -1.88745558e-01  1.28316298e-01  2.18939915e-01\n",
      " -8.36202919e-01  2.29881443e-02  1.23098123e+00  1.63940806e-02\n",
      " -2.58623004e-01  3.02237332e-01  1.77910313e-01 -1.93000957e-01\n",
      " -1.12906732e-01  1.65432489e+00 -9.66273546e-01  1.14426196e-01\n",
      " -3.75549555e-01  8.69976521e-01  8.57719302e-01 -4.76568907e-01\n",
      "  2.08514988e-01 -2.74136335e-01 -6.56677008e-01 -7.74993062e-01\n",
      "  5.10904431e-01  2.52646804e-01  6.36298537e-01  2.29829341e-01\n",
      " -2.00483650e-02  8.65161791e-02 -6.97448701e-02  3.29190344e-02\n",
      "  5.99015653e-02  6.23589277e-01 -7.37026274e-01 -3.12514901e-01\n",
      "  3.17738205e-02  1.70172945e-01 -5.66993654e-01  6.14370406e-03\n",
      "  3.48558235e+00 -2.33377852e-02 -6.60578728e-01  1.16716564e+00\n",
      " -7.81850070e-02 -3.53858262e-01  4.26141880e-02  4.35184956e-01\n",
      " -3.06807667e-01  2.90679240e+00 -6.34772182e-01  4.55330946e-02\n",
      "  6.88139498e-02 -1.66421747e+00 -1.50291696e-01 -7.49971122e-02\n",
      "  7.82644808e-01  3.59023213e-01  4.44730639e-01 -2.68707007e-01\n",
      " -2.54468083e-01  5.79552650e-02 -2.64501393e-01 -3.94273043e-01\n",
      " -3.82482946e-01 -3.04324239e-01 -2.22910687e-01 -1.64654940e-01\n",
      " -1.80856511e-01  7.53828883e-02 -5.40964901e-01 -6.78515807e-02\n",
      "  3.04060847e-01 -2.25496795e-02 -1.05915396e-02  4.19292748e-02\n",
      "  4.05626714e-01 -8.39270353e-02 -8.58022571e-01 -1.70778370e+00\n",
      " -1.24957740e-01  2.00971216e-02  1.07595897e+00 -5.87982982e-02\n",
      " -4.43738163e-01  7.04930663e-01  2.78578281e-01 -9.74966586e-02\n",
      " -9.05406475e-03  9.88812558e-03  7.76465058e-01  1.82512403e-02\n",
      "  2.18864590e-01 -1.04402661e-01  4.11612652e-02  3.80814731e-01\n",
      "  1.36793661e+00  1.38737932e-01  7.73461759e-02  3.02013531e-02\n",
      "  4.40068543e-04  1.15766920e-01  6.61359131e-01 -4.03635144e-01\n",
      "  7.23744035e-01  3.15658040e-02  3.72248739e-02 -3.63485622e+00\n",
      "  7.92007923e-01  9.68923196e-02 -1.18080270e+00  1.76298395e-01\n",
      " -1.69886732e+00 -4.40883636e-02  5.23826838e-01 -1.90082878e-01\n",
      "  7.47087777e-01  6.70139492e-02 -2.22728682e+00  2.12311745e-04\n",
      "  9.98480320e-01  1.59076154e-01  1.56409770e-01  1.94122851e-01\n",
      " -2.75580645e-01 -2.03782797e+00 -1.55107588e-01 -2.41269279e+00\n",
      " -1.41471028e-02 -1.83709621e-01  1.15558647e-01 -1.96076035e-01\n",
      "  1.05006486e-01 -2.38107115e-01 -6.64534211e-01  3.44734639e-03\n",
      "  4.24243182e-01  1.26401111e-01 -7.56695420e-02 -4.57535952e-01\n",
      "  1.60113096e-01 -5.40032148e-01  1.99955523e-01 -2.03054678e-02\n",
      " -2.92104959e-01 -1.15506053e-02  7.28040189e-02  2.52628103e-02\n",
      " -4.98422720e-02 -2.87000507e-01  1.84531540e-01 -1.07492357e-02\n",
      "  6.54971004e-01  2.68437713e-01  2.29560405e-01 -8.41552168e-02\n",
      " -6.96822815e-03  5.43945283e-03 -9.70083475e-03 -5.58140036e-03\n",
      " -6.10482693e-03  4.43073176e-03  3.04925554e-02 -4.53066640e-03\n",
      " -5.96045107e-02  4.09907401e-02 -1.34793743e-01 -4.34662104e-02\n",
      " -1.77714080e-02  8.97564739e-03 -7.36034140e-02 -3.24442312e-02\n",
      "  6.15091249e-03  1.77796558e-02  2.04684213e-04  3.63153405e-03\n",
      "  8.12368374e-03 -2.10862420e-03  1.96056589e-02  5.15140966e-03\n",
      " -3.17835808e-03 -5.71477227e-03 -5.75294942e-02 -4.20004949e-02\n",
      " -1.53049491e-02  1.52757596e-02 -6.26320243e-02  8.08115080e-02\n",
      " -5.21086864e-02  4.15073037e-02 -2.26409212e-02 -6.03781007e-02\n",
      " -3.43157023e-01  2.79023256e-02  1.32028446e-01  1.21864416e-01\n",
      "  8.31163824e-02 -9.13845152e-02  3.62642333e-02  9.82258916e-02\n",
      " -1.73991203e-01 -1.71225101e-01 -1.06649101e-02  7.92252645e-03\n",
      " -2.51067549e-01 -2.35162929e-01 -3.27066071e-02 -9.98734832e-02\n",
      " -2.08406895e-02  7.93572664e-02 -5.06714657e-02  7.96259761e-01\n",
      " -1.32420957e-02  2.22088397e-02  1.96729168e-01 -1.91331759e-01\n",
      "  7.92408735e-02  3.73998463e-01 -2.41353750e-01  2.23957911e-01\n",
      " -8.20874125e-02  1.44018531e-01 -4.86496240e-01]\n",
      "[ 0.00000000e+00  7.14344084e-02 -1.94004044e-01 -2.06153225e-02\n",
      " -5.49162291e-02 -2.70616862e-16 -7.08352998e-02 -2.27342695e-01\n",
      " -1.26442313e-01 -9.07828361e-02 -7.99577087e-02  2.40870029e-01\n",
      "  8.28214586e-02  7.32445538e-01 -6.16507456e-02  1.21783074e-02\n",
      " -5.36553375e-03  1.85477927e-01  3.46780419e-02  1.86965823e-01\n",
      "  1.24821544e-01 -4.65008736e-01 -1.49047464e-01 -2.52664424e-02\n",
      "  1.82314247e-01 -1.42447781e-02 -2.23657101e-01  1.32148236e-03\n",
      " -8.55882070e-04 -1.87282041e-01 -3.52422327e-01 -8.70243162e-02\n",
      " -2.54551750e-02  5.36243469e-02 -7.63232540e-03  3.63082290e-02\n",
      "  2.92569250e-02 -2.61754878e-02 -1.42953610e-02 -1.72244966e-01\n",
      "  1.64689415e-03 -1.23821311e-02  1.59788281e-02 -1.56779448e-03\n",
      "  1.35511663e-02  5.82566299e-03  4.71924543e-02 -1.08690290e-02\n",
      " -6.61925375e-02 -1.05271086e-01 -2.16725050e-03 -1.06183905e-02\n",
      "  4.36819382e-02  4.03213035e-03  3.07809293e-01 -7.39950687e-03\n",
      "  7.32223988e-02  4.75488678e-02 -5.26908692e-03 -3.81665304e-02\n",
      " -3.19276690e-01  6.80938270e-03  2.59676307e-01  1.59346629e-02\n",
      " -1.02345347e-01 -2.07912534e-01 -1.05794901e-02 -9.75620560e-03\n",
      " -2.50698421e-02  4.03643399e-01 -7.66918421e-01  2.18882803e-02\n",
      "  7.30065703e-02  6.91506505e-01  4.52782094e-01 -3.84294271e-01\n",
      " -7.63726234e-02 -2.12529525e-01 -1.94753051e-01 -1.33931413e-02\n",
      "  1.73505470e-01  6.52656332e-02  7.80558109e-01  6.64776266e-02\n",
      "  2.02740654e-02  3.55159538e-03 -9.36018862e-03 -5.74546866e-04\n",
      "  1.11628440e-03  5.40866733e-01  5.66554442e-02  6.09700680e-02\n",
      "  3.24567668e-02  1.33805592e-02 -3.59865576e-02  1.92025900e-02\n",
      "  6.82019442e-02 -3.23381610e-02 -8.95560011e-02  1.01547740e-01\n",
      " -8.46913457e-02 -1.82926893e-01  1.07805626e-02  4.29743938e-02\n",
      "  1.07154787e-01  4.61194590e-02 -3.66158113e-02  6.90409169e-03\n",
      " -4.38708346e-04 -1.23472854e-01  6.06275490e-03 -1.39649743e-02\n",
      "  3.82465199e-02  3.92431676e-01  1.87662840e-02 -5.13394773e-02\n",
      " -2.60258056e-02  2.27886275e-03 -1.47287194e-02 -3.83224249e-01\n",
      " -4.50239591e-02  2.38838583e-01 -2.16663986e-01 -1.06116123e-01\n",
      " -1.12495078e-02  2.32314169e-02  2.92727966e-02 -2.25035790e-02\n",
      "  4.37058322e-02 -1.29544493e-02 -7.59893656e-03  1.82840563e-02\n",
      " -1.26555357e-02  4.25296277e-02 -3.73747498e-01 -1.23393226e+00\n",
      " -8.43751281e-02  3.39669846e-02 -1.31786559e-02 -2.15893320e-04\n",
      " -8.32054485e-03  1.58668756e-01  2.25622319e-02 -6.80706128e-02\n",
      " -1.46630444e-02 -4.82196594e-03  1.62698030e-01  7.90650770e-03\n",
      "  2.00189397e-01 -1.66438013e-01  1.69792771e-03  5.94552085e-02\n",
      " -5.12401853e-03  1.12441584e-01  7.71145672e-02 -6.72256434e-03\n",
      " -2.76652053e-02  6.91634119e-02  3.39472324e-01 -3.01375017e-02\n",
      "  5.21086901e-02 -2.62828693e-02 -1.03648857e-03 -1.04149863e-01\n",
      " -1.44456208e-01 -1.92153044e-02 -5.72366975e-02 -3.11230868e-02\n",
      " -8.84313285e-02 -1.14929818e-01 -1.41954780e-01 -1.94064915e-01\n",
      " -3.49461846e-03 -7.44232312e-02 -8.58386904e-02  3.50196436e-02\n",
      "  2.42225289e-01 -1.13854744e-01  1.46929353e-01  5.82918932e-04\n",
      " -4.16294396e-01 -5.90980873e-02 -1.88392505e-01 -9.77637246e-02\n",
      " -1.16149694e-01 -1.78561449e-01 -1.56263151e-04 -3.95100832e-01\n",
      "  3.07170697e-03 -2.42505178e-01 -2.79590338e-02 -4.77576479e-02\n",
      "  5.36525071e-01  2.09531561e-02 -7.35489950e-02 -1.21342875e-02\n",
      "  1.76259309e-01 -4.96972024e-01 -9.80426744e-02 -3.41694355e-02\n",
      " -1.38594173e-02 -2.56599057e-02  4.17271107e-02  1.59373470e-02\n",
      " -2.95889825e-02 -2.88035832e-02  1.79360360e-01 -2.53848843e-02\n",
      "  3.91256928e-01  4.45473418e-02  3.83048326e-01 -8.84577483e-02\n",
      "  3.09271384e-02  5.28701674e-03 -1.71322352e-03 -4.63130698e-03\n",
      " -2.44969991e-03  1.44994091e-02  1.34107741e-02 -4.40370198e-03\n",
      " -2.42520012e-02  4.68692183e-03 -3.59054841e-02 -4.22481373e-02\n",
      " -1.77772753e-02  5.00643700e-02  2.64848620e-02 -2.86307149e-02\n",
      "  1.07534546e-02  1.96722243e-02  1.98948430e-04  9.71512345e-04\n",
      "  7.89603032e-03 -2.04953412e-03  3.48425806e-02  1.74469724e-02\n",
      " -3.08929011e-03 -5.55462483e-03 -5.63415438e-02 -1.30936364e-03\n",
      "  1.45659670e-02  5.72701450e-03  4.00294848e-02  1.65091580e-04\n",
      " -8.11789371e-03  3.55776912e-03  1.03645754e-04 -8.81590694e-03\n",
      " -4.06797789e-02  4.58037704e-02  1.44165233e-02  1.27291918e-01\n",
      "  8.97624809e-03 -5.24423458e-03  4.31539677e-03  9.54732746e-02\n",
      " -1.54654756e-01 -1.85965538e-01 -1.03660431e-02  7.70050939e-03\n",
      " -1.09113470e-01  1.55521184e-03 -3.86350183e-03 -9.70746875e-02\n",
      " -2.02566553e-02  2.97158249e-02 -4.92514744e-02  2.87317112e-02\n",
      " -3.63726020e-02  2.15864386e-02  6.21084571e-02 -1.85969993e-01\n",
      "  7.70202801e-02  2.87512392e-01 -2.34590203e-01  3.62687707e-02\n",
      " -7.97870308e-02  1.39982611e-01 -4.72862989e-01]\n"
     ]
    }
   ],
   "source": [
    "idx_lambda3 = np.argmin(np.abs(val - 3))\n",
    "print(idx_lambda3)\n",
    "v3 = Vec[:, idx_lambda3]\n",
    "\n",
    "print(v3)\n",
    "print(L @ v3)\n",
    "print(3 * v3)"
   ]
  },
  {
   "cell_type": "code",
   "execution_count": 131,
   "metadata": {},
   "outputs": [
    {
     "name": "stdout",
     "output_type": "stream",
     "text": [
      "33\n",
      "[ 0.00000000e+00  2.38114689e-02 -6.46680146e-02 -6.87177433e-03\n",
      " -1.83054097e-02 -9.02056208e-17 -2.36117672e-02 -7.57808983e-02\n",
      " -4.21474352e-02 -3.02609447e-02 -2.66525690e-02  8.02900121e-02\n",
      "  2.76071522e-02  2.44148508e-01 -2.05502491e-02  4.05943580e-03\n",
      " -1.78851117e-03  6.18259758e-02  1.15593467e-02  6.23219386e-02\n",
      "  4.16071825e-02 -1.55002907e-01 -4.96824868e-02 -8.42214748e-03\n",
      "  6.07714169e-02 -4.74825921e-03 -7.45523646e-02  4.40494128e-04\n",
      " -2.85294023e-04 -6.24273457e-02 -1.17474109e-01 -2.90081054e-02\n",
      " -8.48505832e-03  1.78747829e-02 -2.54410855e-03  1.21027427e-02\n",
      "  9.75230802e-03 -8.72516260e-03 -4.76512033e-03 -5.74149862e-02\n",
      "  5.48964716e-04 -4.12737718e-03  5.32627571e-03 -5.22598159e-04\n",
      "  4.51705558e-03  1.94188766e-03  1.57308187e-02 -3.62300966e-03\n",
      " -2.20641792e-02 -3.50903608e-02 -7.22416793e-04 -3.53946351e-03\n",
      "  1.45606464e-02  1.34404353e-03  1.02603093e-01 -2.46650237e-03\n",
      "  2.44074669e-02  1.58496220e-02 -1.75636227e-03 -1.27221765e-02\n",
      " -1.06425568e-01  2.26979423e-03  8.65587667e-02  5.31155430e-03\n",
      " -3.41151170e-02 -6.93041757e-02 -3.52649670e-03 -3.25206853e-03\n",
      " -8.35661404e-03  1.34547800e-01 -2.55639464e-01  7.29609327e-03\n",
      "  2.43355222e-02  2.30502158e-01  1.50927365e-01 -1.28098086e-01\n",
      " -2.54575405e-02 -7.08431751e-02 -6.49176836e-02 -4.46438044e-03\n",
      "  5.78351580e-02  2.17552111e-02  2.60186046e-01  2.21592095e-02\n",
      "  6.75802166e-03  1.18386513e-03 -3.12006287e-03 -1.91515617e-04\n",
      "  3.72094801e-04  1.80288911e-01  1.88851487e-02  2.03233566e-02\n",
      "  1.08189220e-02  4.46018623e-03 -1.19955186e-02  6.40086364e-03\n",
      "  2.27339827e-02 -1.07793873e-02 -2.98520010e-02  3.38492468e-02\n",
      " -2.82304473e-02 -6.09756336e-02  3.59352096e-03  1.43247982e-02\n",
      "  3.57182622e-02  1.53731527e-02 -1.22052701e-02  2.30136397e-03\n",
      " -1.46236111e-04 -4.11576182e-02  2.02091830e-03 -4.65499144e-03\n",
      "  1.27488393e-02  1.30810559e-01  6.25542784e-03 -1.71131585e-02\n",
      " -8.67526885e-03  7.59620918e-04 -4.90957312e-03 -1.27741411e-01\n",
      " -1.50079867e-02  7.96128586e-02 -7.22213313e-02 -3.53720412e-02\n",
      " -3.74983600e-03  7.74380565e-03  9.75759886e-03 -7.50119286e-03\n",
      "  1.45686110e-02 -4.31814976e-03 -2.53297877e-03  6.09468576e-03\n",
      " -4.21851175e-03  1.41765419e-02 -1.24582499e-01 -4.11310732e-01\n",
      " -2.81250421e-02  1.13223279e-02 -4.39288514e-03 -7.19644377e-05\n",
      " -2.77351495e-03  5.28895855e-02  7.52074365e-03 -2.26902049e-02\n",
      " -4.88768145e-03 -1.60732202e-03  5.42326793e-02  2.63550272e-03\n",
      "  6.67297989e-02 -5.54793403e-02  5.65975904e-04  1.98184028e-02\n",
      " -1.70800625e-03  3.74805294e-02  2.57048551e-02 -2.24085478e-03\n",
      " -9.22173541e-03  2.30544712e-02  1.13157444e-01 -1.00458339e-02\n",
      "  1.73695628e-02 -8.76095612e-03 -3.45496199e-04 -3.47166210e-02\n",
      " -4.81520668e-02 -6.40510162e-03 -1.90788992e-02 -1.03743626e-02\n",
      " -2.94771083e-02 -3.83099392e-02 -4.73182574e-02 -6.46883026e-02\n",
      " -1.16487278e-03 -2.48077437e-02 -2.86128968e-02  1.16732148e-02\n",
      "  8.07417631e-02 -3.79515812e-02  4.89764512e-02  1.94306311e-04\n",
      " -1.38764799e-01 -1.96993630e-02 -6.27975017e-02 -3.25879082e-02\n",
      " -3.87165658e-02 -5.95204830e-02 -5.20877147e-05 -1.31700277e-01\n",
      "  1.02390232e-03 -8.08350593e-02 -9.31967795e-03 -1.59192160e-02\n",
      "  1.78841695e-01  6.98438520e-03 -2.45163310e-02 -4.04476235e-03\n",
      "  5.87531030e-02 -1.65657341e-01 -3.26808915e-02 -1.13898115e-02\n",
      " -4.61980561e-03 -8.55330192e-03  1.39090372e-02  5.31244930e-03\n",
      " -9.86299384e-03 -9.60119441e-03  5.97867891e-02 -8.46162811e-03\n",
      "  1.30418971e-01  1.48491142e-02  1.27682775e-01 -2.94859149e-02\n",
      "  1.03090461e-02  1.76233891e-03 -5.71074488e-04 -1.54376891e-03\n",
      " -8.16566637e-04  4.83313622e-03  4.47025802e-03 -1.46790070e-03\n",
      " -8.08400009e-03  1.56230724e-03 -1.19684944e-02 -1.40827121e-02\n",
      " -5.92575874e-03  1.66881233e-02  8.82828701e-03 -9.54357162e-03\n",
      "  3.58448504e-03  6.55740825e-03  6.63161409e-05  3.23837448e-04\n",
      "  2.63201003e-03 -6.83178077e-04  1.16141932e-02  5.81565732e-03\n",
      " -1.02976337e-03 -1.85154169e-03 -1.87805146e-02 -4.36454546e-04\n",
      "  4.85532219e-03  1.90900476e-03  1.33431619e-02  5.50305267e-05\n",
      " -2.70596473e-03  1.18592300e-03  3.45485860e-05 -2.93863565e-03\n",
      " -1.35599263e-02  1.52679235e-02  4.80550760e-03  4.24306393e-02\n",
      "  2.99208262e-03 -1.74807815e-03  1.43846555e-03  3.18244249e-02\n",
      " -5.15515842e-02 -6.19885139e-02 -3.45534761e-03  2.56683654e-03\n",
      " -3.63711566e-02  5.18403947e-04 -1.28783390e-03 -3.23582292e-02\n",
      " -6.75221859e-03  9.90527496e-03 -1.64171588e-02  9.57723707e-03\n",
      " -1.21242013e-02  7.19547970e-03  2.07028184e-02 -6.19899966e-02\n",
      "  2.56734267e-02  9.58374664e-02 -7.81967342e-02  1.20895905e-02\n",
      " -2.65956782e-02  4.66608703e-02 -1.57620996e-01]\n",
      "0.0\n"
     ]
    }
   ],
   "source": [
    "print(idx_lambda3)\n",
    "v3 = Vec[:, idx_lambda3]\n",
    "print(v3)\n",
    "print(Vec[0, idx_lambda3])"
   ]
  },
  {
   "cell_type": "markdown",
   "metadata": {},
   "source": [
    "Ok, great.\n",
    "\n",
    "As mentioned above, the **Fiedler vector** is the vector corresponding to the\n",
    "second-smallest eigenvalue of $L$. Sorting the eigenvalues tells us which one\n",
    "is the *second-smallest*:"
   ]
  },
  {
   "cell_type": "code",
   "execution_count": 132,
   "metadata": {},
   "outputs": [
    {
     "name": "stdout",
     "output_type": "stream",
     "text": [
      "[-1.0595699e+01 -5.5400753e+00 -3.1556644e+00 -2.7215073e+00\n",
      " -2.0189955e+00 -2.0017467e+00 -1.7850863e+00 -1.3029902e+00\n",
      " -1.0840538e+00 -8.8524526e-01 -6.4841580e-01 -4.3921179e-01\n",
      " -2.3453608e-01 -3.6246615e-15  0.0000000e+00  1.8975973e-01\n",
      "  8.1357163e-01  9.4530827e-01  1.1562667e+00  1.3107412e+00\n",
      "  1.8202387e+00  1.8645947e+00  2.0290112e+00  2.3292062e+00\n",
      "  2.3893256e+00  2.4022779e+00  2.4528534e+00  2.5319452e+00\n",
      "  2.6059523e+00  2.7577782e+00  2.8389637e+00  2.8658373e+00\n",
      "  2.8857062e+00  3.0864942e+00  3.2713082e+00  3.4226484e+00\n",
      "  3.7374353e+00  3.7868989e+00  3.8553507e+00  3.9773219e+00\n",
      "  4.1838984e+00  4.3398881e+00  4.4405303e+00  4.5132136e+00\n",
      "  4.5999565e+00  4.6420116e+00  4.6777430e+00  4.8060718e+00\n",
      "  4.8326464e+00  4.9993343e+00  5.0990200e+00  5.2341557e+00\n",
      "  5.3293543e+00  5.4417200e+00  5.5889163e+00  5.6334238e+00\n",
      "  5.7215953e+00  5.7355566e+00  5.8400350e+00  5.8795710e+00\n",
      "  6.0292325e+00  6.0734277e+00  6.4252295e+00  6.4829431e+00\n",
      "  6.5826578e+00  6.8294601e+00  6.8930283e+00  6.9849448e+00\n",
      "  7.0085001e+00  7.2009497e+00  7.2565889e+00  7.2972198e+00\n",
      "  7.3554626e+00  7.6351924e+00  7.7851901e+00  7.8324986e+00\n",
      "  7.9696417e+00  8.1294127e+00  8.3048820e+00  8.3253469e+00\n",
      "  8.7733459e+00  8.8836355e+00  8.9700127e+00  8.9921932e+00\n",
      "  8.9967012e+00  9.1382475e+00  9.3723707e+00  9.4915915e+00\n",
      "  9.6294804e+00  1.0004016e+01  1.0109650e+01  1.0148111e+01\n",
      "  1.0357401e+01  1.0500474e+01  1.0613212e+01  1.0719549e+01\n",
      "  1.0823079e+01  1.0836640e+01  1.0912111e+01  1.0935770e+01\n",
      "  1.1126269e+01  1.1195059e+01  1.1293746e+01  1.1413390e+01\n",
      "  1.1572660e+01  1.1674072e+01  1.1759477e+01  1.1995540e+01\n",
      "  1.2157966e+01  1.2407346e+01  1.2523342e+01  1.2816718e+01\n",
      "  1.2920131e+01  1.3058692e+01  1.3130348e+01  1.3165899e+01\n",
      "  1.3351863e+01  1.3459793e+01  1.3512386e+01  1.3619361e+01\n",
      "  1.3710544e+01  1.3744153e+01  1.3885696e+01  1.4227046e+01\n",
      "  1.4401808e+01  1.4517349e+01  1.4856099e+01  1.4977594e+01\n",
      "  1.5159650e+01  1.5262271e+01  1.5497988e+01  1.5514466e+01\n",
      "  1.5558969e+01  1.5649577e+01  1.5781478e+01  1.5843970e+01\n",
      "  1.6191256e+01  1.6243160e+01  1.6352819e+01  1.6630611e+01\n",
      "  1.6742102e+01  1.6857224e+01  1.6906788e+01  1.7087877e+01\n",
      "  1.7343517e+01  1.7415564e+01  1.7775244e+01  1.7916199e+01\n",
      "  1.7952522e+01  1.7972048e+01  1.8306963e+01  1.8716864e+01\n",
      "  1.8837639e+01  1.8998652e+01  1.9197962e+01  1.9777859e+01\n",
      "  1.9846260e+01  1.9882971e+01  2.0024244e+01  2.0100302e+01\n",
      "  2.0216898e+01  2.0358595e+01  2.0628702e+01  2.0841473e+01\n",
      "  2.0948429e+01  2.0969826e+01  2.1040300e+01  2.1308746e+01\n",
      "  2.1529669e+01  2.1600695e+01  2.2110151e+01  2.2429585e+01\n",
      "  2.2540773e+01  2.2922363e+01  2.2976585e+01  2.3136015e+01\n",
      "  2.3282980e+01  2.3611515e+01  2.4071512e+01  2.4142553e+01\n",
      "  2.4292429e+01  2.4497442e+01  2.4574556e+01  2.5077147e+01\n",
      "  2.5117426e+01  2.5254864e+01  2.5980612e+01  2.6108280e+01\n",
      "  2.6243534e+01  2.6514103e+01  2.6600170e+01  2.6846432e+01\n",
      "  2.6885765e+01  2.7219484e+01  2.7471779e+01  2.7647184e+01\n",
      "  2.7878424e+01  2.8005589e+01  2.8137751e+01  2.8278994e+01\n",
      "  2.8483160e+01  2.8776182e+01  2.8805145e+01  2.9161522e+01\n",
      "  2.9532677e+01  3.0233286e+01  3.1457188e+01  3.2077030e+01\n",
      "  3.2134033e+01  3.2464417e+01  3.3043476e+01  3.3517902e+01\n",
      "  3.4732796e+01  3.4983810e+01  3.5548565e+01  3.5680511e+01\n",
      "  3.5905266e+01  3.7755070e+01  3.8255524e+01  3.8805531e+01\n",
      "  3.9014565e+01  3.9790276e+01  3.9938656e+01  4.1590332e+01\n",
      "  4.4150715e+01  4.4768478e+01  4.5702019e+01  4.5993240e+01\n",
      "  4.6401466e+01  4.7504845e+01  4.8396057e+01  4.8862537e+01\n",
      "  5.0933239e+01  5.2152092e+01  5.3830975e+01  5.4259010e+01\n",
      "  5.5229271e+01  5.6177670e+01  5.6734066e+01  6.0195934e+01\n",
      "  6.1541176e+01  6.3519924e+01  6.3916279e+01  6.4292419e+01\n",
      "  6.6448975e+01  7.0392105e+01  7.1846069e+01  7.4825813e+01\n",
      "  7.6189484e+01  7.6428047e+01  7.8348511e+01  7.8624138e+01\n",
      "  8.0514076e+01  8.0651833e+01  8.0968430e+01  8.1449440e+01\n",
      "  8.1796623e+01  8.2182915e+01  8.5478249e+01  8.6328987e+01\n",
      "  8.9374382e+01  9.3122681e+01  9.4563301e+01  9.6698929e+01\n",
      "  9.9370720e+01  1.0232289e+02  1.0632961e+02  1.1083249e+02\n",
      "  1.1443060e+02  1.1611856e+02  1.1796631e+02  1.1934334e+02\n",
      "  1.2326869e+02  1.2535216e+02  1.2886252e+02  1.5566409e+02\n",
      "  1.8326157e+02  3.3306500e+02  3.5714981e+02]\n"
     ]
    },
    {
     "data": {
      "image/png": "[encoded data removed]",
      "text/plain": [
       "<Figure size 432x288 with 1 Axes>"
      ]
     },
     "metadata": {
      "needs_background": "light"
     },
     "output_type": "display_data"
    }
   ],
   "source": [
    "val2 = np.sort(val)\n",
    "print(val2)\n",
    "plt.plot(val2, linestyle='-', marker='o');"
   ]
  },
  {
   "cell_type": "markdown",
   "metadata": {},
   "source": [
    "<!-- caption text=\"Eigenvalues of $L$\" -->\n",
    "\n",
    "It's the first non-zero eigenvalue, close to 0.4. The Fiedler vector is the\n",
    "corresponding eigenvector. These are its components:"
   ]
  },
  {
   "cell_type": "code",
   "execution_count": 133,
   "metadata": {},
   "outputs": [
    {
     "name": "stdout",
     "output_type": "stream",
     "text": [
      "[ 0.00000000e+00 -5.21499780e-04 -6.26671081e-03  1.52184640e-03\n",
      "  6.40236191e-04  6.59194921e-17  2.82239052e-04 -3.12005053e-03\n",
      " -2.67307297e-03 -2.33086944e-03 -2.65331101e-03 -7.38665869e-04\n",
      " -1.67211238e-03 -2.10936787e-03 -1.41804718e-04 -1.20955927e-03\n",
      " -6.85226452e-03 -4.27749765e-04  1.10220700e-03 -5.43256290e-04\n",
      "  6.14713144e-06 -1.04999496e-03 -3.41064786e-03  4.50634444e-03\n",
      "  3.84278857e-04 -1.35198829e-03 -2.12606136e-03  4.67457256e-04\n",
      "  4.47433675e-04 -5.60981862e-04 -5.32080606e-03 -7.16886832e-04\n",
      " -1.11772143e-03 -1.16195304e-04 -3.87715903e-04  1.61343708e-03\n",
      " -5.05812978e-03 -2.63322634e-03  3.88875580e-03 -6.75886869e-03\n",
      " -1.86741259e-03  5.83240483e-03 -3.29748518e-03 -6.06548972e-04\n",
      " -3.57250473e-03 -2.59922259e-03 -2.12293887e-03 -2.35425420e-02\n",
      " -5.71937719e-03 -6.66459184e-03  2.59464653e-03 -3.55993607e-03\n",
      " -1.86967023e-03 -2.89433450e-03 -4.68490645e-03 -2.66405642e-02\n",
      " -4.24946379e-03 -5.91622526e-03 -7.65089132e-03 -1.86907053e-02\n",
      " -1.75753552e-02 -1.47618947e-03 -5.62815461e-03 -5.44154551e-04\n",
      " -6.93646306e-03 -1.86567847e-02 -7.60798436e-03 -5.79733925e-04\n",
      " -4.85941395e-03 -9.08000208e-03 -6.01301808e-03  1.00292144e-02\n",
      " -1.00053083e-02 -6.13570679e-03 -9.88412090e-03 -4.15787799e-03\n",
      " -1.28052738e-02 -3.23331566e-03 -3.94946290e-03 -2.77132471e-03\n",
      " -1.35960067e-02 -2.97192344e-03 -6.96643721e-03 -2.95216753e-03\n",
      " -5.98613825e-03 -1.24441530e-03  2.02250574e-02 -3.78516939e-04\n",
      " -1.55166272e-04 -3.99408583e-03 -1.17178671e-02 -1.33613301e-02\n",
      " -5.83271123e-03 -2.50089518e-03 -2.78326240e-03  1.28038656e-02\n",
      " -1.26027996e-02 -1.78388227e-03 -5.63988974e-03 -1.50978602e-02\n",
      " -7.56830256e-03 -8.51681907e-05 -6.85635488e-04 -1.30710118e-02\n",
      " -4.81444830e-03 -1.26706008e-02 -2.42007943e-03  2.51708217e-02\n",
      "  2.50114733e-03 -4.23324713e-03 -5.44801587e-05  9.64082684e-03\n",
      "  2.63748714e-03 -6.53386535e-03 -2.53478461e-03 -7.13975960e-03\n",
      " -3.93685326e-02  2.26885863e-02 -5.15611507e-02 -1.14630088e-02\n",
      "  3.82447289e-03 -9.02255997e-03 -9.53790359e-03 -2.62047397e-03\n",
      "  1.82261039e-02 -3.59101384e-03 -2.77632521e-03  1.25971083e-02\n",
      " -8.60142696e-04 -7.99760863e-04  1.44595737e-02 -4.49626520e-03\n",
      " -1.13504601e-03 -1.05594960e-03 -1.45321088e-02 -2.08420940e-02\n",
      " -1.20636122e-02 -1.79226499e-03  3.16720759e-03  2.29101852e-02\n",
      "  2.12663367e-01 -1.49119264e-02 -4.28636000e-03 -1.32445052e-01\n",
      " -1.39749467e-01 -3.53968446e-03 -1.67005081e-02  4.51150909e-03\n",
      " -2.20886543e-02 -2.51999144e-02  4.13541161e-02  8.35757423e-03\n",
      "  2.44358787e-03 -1.68539584e-02 -3.03202327e-02  2.22598314e-02\n",
      " -8.04556068e-03 -1.12783266e-02 -2.01526489e-02 -2.70965640e-02\n",
      " -4.10835753e-04 -2.53374060e-03  7.98616745e-03 -4.39590588e-03\n",
      " -6.09383918e-03 -6.85948087e-03 -2.17851973e-03 -6.30882289e-03\n",
      " -3.03659588e-03 -4.04771464e-03 -5.62866684e-03 -4.77033621e-03\n",
      " -1.74087007e-03 -6.17237343e-03 -3.51592829e-03 -3.96656431e-03\n",
      " -4.83507058e-03 -6.14060415e-03 -2.24872306e-02 -4.91737993e-03\n",
      " -7.98080023e-03 -3.63982492e-03 -9.09213722e-03 -4.10630181e-03\n",
      " -5.13377506e-03 -1.27756177e-02 -4.51873569e-03 -1.07338196e-02\n",
      " -4.44547320e-03 -3.71512678e-03 -3.68369184e-03 -9.70366597e-03\n",
      "  3.88291553e-02 -5.94819011e-03 -7.54178688e-03 -3.34369810e-03\n",
      " -6.14587823e-03  1.80041499e-03 -9.83685069e-03 -5.75325266e-03\n",
      " -2.48850673e-03 -1.28783993e-02 -4.06559184e-03 -6.17815414e-03\n",
      "  3.75871034e-03 -4.40694066e-03 -1.34571921e-02 -8.07541236e-03\n",
      " -1.51707614e-02 -1.06751807e-02 -2.68129241e-02 -1.47676552e-02\n",
      " -5.34001086e-03 -9.98783391e-03 -2.33570216e-04 -2.52765254e-04\n",
      " -4.50425840e-04 -8.88534449e-03 -5.37098851e-03 -7.39555247e-03\n",
      "  3.11363578e-01  1.37048438e-02  4.20047402e-01 -3.81870121e-02\n",
      " -7.59576913e-03 -5.11166044e-02 -7.80019909e-02  7.51094520e-01\n",
      "  7.43709039e-04  6.62483089e-03 -3.92952980e-03  2.54337821e-04\n",
      "  3.64356814e-03 -2.86105415e-03 -2.92371679e-03 -5.19842934e-03\n",
      " -3.45136505e-03 -3.75476875e-03 -5.46321832e-03 -6.38591358e-03\n",
      " -8.42515146e-04 -3.03708389e-03  5.22468658e-03  7.24785030e-02\n",
      " -8.05701409e-03  2.15885782e-04 -6.36567082e-03 -2.19676597e-03\n",
      " -6.88236498e-04 -1.11965893e-03 -2.26536510e-03 -6.37009216e-04\n",
      "  3.35909054e-03  1.20253665e-02  1.17945652e-02 -3.17620812e-03\n",
      " -2.39271242e-02 -1.82309970e-02 -5.20685082e-03  3.91748734e-02\n",
      " -3.48373130e-02 -1.46677811e-02 -3.71627286e-02  5.44975279e-03\n",
      " -4.65944968e-02 -2.64145546e-02  4.15732572e-03 -6.32240670e-03\n",
      " -8.45035538e-02  3.74368764e-02  2.95387371e-03 -1.66654575e-03\n",
      "  1.11761568e-02 -2.68651871e-03 -4.97795874e-03 -1.97171792e-02\n",
      "  1.40296727e-01 -3.17541249e-02 -9.51935071e-03]\n"
     ]
    },
    {
     "data": {
      "image/png": "[encoded data removed]",
      "text/plain": [
       "<Figure size 432x288 with 1 Axes>"
      ]
     },
     "metadata": {
      "needs_background": "light"
     },
     "output_type": "display_data"
    }
   ],
   "source": [
    "f = Vec[:, np.argsort(val)[1]]\n",
    "print(f)\n",
    "plt.plot(f, linestyle='-', marker='o');"
   ]
  },
  {
   "cell_type": "markdown",
   "metadata": {},
   "source": [
    "<!-- caption text=\"Fiedler vector of $L$\" -->\n",
    "\n",
    "Just by looking at the *sign* of the elements of the Fiedler\n",
    "vector, we can separate the nodes into the two groups we identified in the\n",
    "drawing. \n",
    "\n",
    "That's pretty remarkable!"
   ]
  },
  {
   "cell_type": "code",
   "execution_count": 134,
   "metadata": {},
   "outputs": [
    {
     "data": {
      "image/png": "[encoded data removed]",
      "text/plain": [
       "<Figure size 432x288 with 1 Axes>"
      ]
     },
     "metadata": {},
     "output_type": "display_data"
    }
   ],
   "source": [
    "colors = ['orange' if eigv > 0 else 'gray' for eigv in f]\n",
    "nx.draw(g, pos=layout, with_labels=True, node_color=colors)"
   ]
  },
  {
   "cell_type": "markdown",
   "metadata": {},
   "source": [
    "</br >\n",
    "<center>\n",
    "<img src=\"ipynb.images/lemur.png\" width=200 />\n",
    "    (speechless)\n",
    "</center>\n",
    "\n",
    "Right?!\n",
    "\n",
    "Now, ready for a *real* network?"
   ]
  },
  {
   "cell_type": "markdown",
   "metadata": {},
   "source": [
    "<!-- caption text=\"Nodes colored by their sign in the Fiedler vector of $L$\" -->\n",
    "\n",
    "# Laplacians with brain data\n",
    "\n",
    "Armed with this newly acquired knowledge, and since we're getting close to building artificial neural networks with `scikit-learn`, we need to learn a bit more about how neurons are ***configured***. \n",
    "\n",
    "Let's demonstrate this process in a real-world example by laying out a worm's brain cells (one of the simplest brains in our animal kingdom), as shown in Figure 2\n",
    "from the\n",
    "[Varshney *et al* paper](http://journals.plos.org/ploscompbiol/article?id=10.1371/journal.pcbi.1001066)\n",
    "(information on\n",
    "how to do this is in the\n",
    "[supplementary material](http://journals.plos.org/ploscompbiol/article/asset?unique&id=info:doi/10.1371/journal.pcbi.1001066.s001)\n",
    "for the paper).\n",
    "\n",
    "</br >\n",
    "<center>\n",
    "<img src=\"ipynb.images/worm.png\" width=300 />\n",
    "</center>\n",
    "\n",
    "\n",
    "To obtain Varshney's layout of the worm brain neurons, they used a related matrix, the\n",
    "**degree-normalized Laplacian**.\n",
    "\n",
    "Because the order of the neurons is important in this analysis, we will use a\n",
    "preprocessed dataset, rather than do complex data cleansing. The original data is on Varshney's\n",
    "[website](http://www.ifp.illinois.edu/~varshney/elegans),\n",
    "and the processed data is on blackboard.\n",
    "\n",
    "First, load the data. There are four components:\n",
    "- The network of chemical synapses, through which a *pre-synaptic neuron*\n",
    "  sends a **chemical** signal to a *post-synaptic* neuron (chem-network.npy),\n",
    "- The gap junction network, which contains direct **electrical** contacts between\n",
    "  neurons) (gap-network.npy),\n",
    "- The neuron IDs (names) (neurons.npy), and\n",
    "- The three neuron types (neuron-types.npy):\n",
    "  - *sensory neurons*, those that detect signals coming from the outside world,\n",
    "    encoded as 0;\n",
    "  - *motor neurons*, those that activate muscles, enabling the worm to move,\n",
    "    encoded as 2; and\n",
    "  - *interneurons*, the neurons in between, which enable complex signal processing\n",
    "    to occur between sensory neurons and motor neurons, encoded as 1.\n",
    "    \n",
    "These are the most important figures in the paper. Here is Figure 1, scatter pairs plots:\n",
    "\n",
    "<br />\n",
    "<center>\n",
    "<img src=\"ipynb.images/worm-fig1.png\" width=900 />\n",
    "    Figure 1. Adjacency matrices for the gap junction network (blue circles) and the chemical synapse network (red points) with neurons grouped by category (sensory neurons, interneurons, motor neurons)\n",
    "</center>\n",
    "\n",
    "<br />\n",
    "And here are the two views of Figure 2:\n",
    "\n",
    "<br />\n",
    "<center>\n",
    "<img src=\"ipynb.images/worm-fig2.png\" width=900 />\n",
    "    Figure 2. The C. elegans wiring diagram is a network of identifiable, labeled neurons connected by chemical and electrical synapses\n",
    "</center>\n",
    "\n",
    "<br />\n",
    "\n",
    "Here's a [neuron](https://en.wikipedia.org/wiki/Neuron). Chemical transmission happens in the synapses. Electrical transmission happens in the axon. For worms and humans alike!\n",
    "    \n",
    "<br />\n",
    "<center>\n",
    "<img src=\"ipynb.images/neuron.png\" width=500 />\n",
    "</center>\n",
    "\n",
    "<br />\n",
    "Let's load the data.\n",
    "\n",
    "A `.npy` file is the `NumPy` **array file** we already know about. We know that we can load the array in a `.npy` file by using \n",
    "```python\n",
    "np.load('filename.npy')\n",
    "```"
   ]
  },
  {
   "cell_type": "code",
   "execution_count": 135,
   "metadata": {},
   "outputs": [],
   "source": [
    "import numpy as np\n",
    "Chem = np.load('data/chem-network.npy')\n",
    "Gap = np.load('data/gap-network.npy')\n",
    "neuron_ids = np.load('data/neurons.npy')\n",
    "neuron_types = np.load('data/neuron-types.npy')"
   ]
  },
  {
   "cell_type": "markdown",
   "metadata": {},
   "source": [
    "Let's simplify the network, adding the two kinds of connections together,\n",
    "and removing the directionality of the network by taking the average of\n",
    "in-connections and out-connections of neurons (adding by the transpose of the adjacency matrix, and then dividing by 2 achieves this):\n",
    "```python\n",
    "(A + A.T) / 2\n",
    "```\n",
    "\n",
    "Why? Since we are only looking for the *layout* of the neurons on a graph, we\n",
    "only care about *whether* neurons are connected, not in which direction.\n",
    "\n",
    "We are going to call the resulting matrix the **connectivity matrix**, $C$, which\n",
    "is just a different kind of **adjacency matrix**. Note that the adjacency matrix A is **weighted**."
   ]
  },
  {
   "cell_type": "code",
   "execution_count": 136,
   "metadata": {},
   "outputs": [],
   "source": [
    "A = Chem + Gap\n",
    "C = (A + A.T) / 2"
   ]
  },
  {
   "cell_type": "code",
   "execution_count": 137,
   "metadata": {},
   "outputs": [
    {
     "data": {
      "text/html": [
       "<div>\n",
       "<style scoped>\n",
       "    .dataframe tbody tr th:only-of-type {\n",
       "        vertical-align: middle;\n",
       "    }\n",
       "\n",
       "    .dataframe tbody tr th {\n",
       "        vertical-align: top;\n",
       "    }\n",
       "\n",
       "    .dataframe thead th {\n",
       "        text-align: right;\n",
       "    }\n",
       "</style>\n",
       "<table border=\"1\" class=\"dataframe\">\n",
       "  <thead>\n",
       "    <tr style=\"text-align: right;\">\n",
       "      <th></th>\n",
       "      <th>0</th>\n",
       "      <th>1</th>\n",
       "      <th>2</th>\n",
       "      <th>3</th>\n",
       "      <th>4</th>\n",
       "      <th>5</th>\n",
       "      <th>6</th>\n",
       "      <th>7</th>\n",
       "      <th>8</th>\n",
       "      <th>9</th>\n",
       "      <th>...</th>\n",
       "      <th>269</th>\n",
       "      <th>270</th>\n",
       "      <th>271</th>\n",
       "      <th>272</th>\n",
       "      <th>273</th>\n",
       "      <th>274</th>\n",
       "      <th>275</th>\n",
       "      <th>276</th>\n",
       "      <th>277</th>\n",
       "      <th>278</th>\n",
       "    </tr>\n",
       "  </thead>\n",
       "  <tbody>\n",
       "    <tr>\n",
       "      <td>0</td>\n",
       "      <td>0.0</td>\n",
       "      <td>0.0</td>\n",
       "      <td>0.0</td>\n",
       "      <td>1.5</td>\n",
       "      <td>0.0</td>\n",
       "      <td>0.0</td>\n",
       "      <td>3.5</td>\n",
       "      <td>0.0</td>\n",
       "      <td>0.0</td>\n",
       "      <td>0.0</td>\n",
       "      <td>...</td>\n",
       "      <td>0.0</td>\n",
       "      <td>0.0</td>\n",
       "      <td>0.0</td>\n",
       "      <td>0.0</td>\n",
       "      <td>0.0</td>\n",
       "      <td>0.0</td>\n",
       "      <td>0.0</td>\n",
       "      <td>0.0</td>\n",
       "      <td>0.0</td>\n",
       "      <td>0.0</td>\n",
       "    </tr>\n",
       "    <tr>\n",
       "      <td>1</td>\n",
       "      <td>0.0</td>\n",
       "      <td>0.0</td>\n",
       "      <td>0.5</td>\n",
       "      <td>0.0</td>\n",
       "      <td>3.5</td>\n",
       "      <td>0.0</td>\n",
       "      <td>0.0</td>\n",
       "      <td>0.0</td>\n",
       "      <td>0.0</td>\n",
       "      <td>0.0</td>\n",
       "      <td>...</td>\n",
       "      <td>0.0</td>\n",
       "      <td>0.0</td>\n",
       "      <td>0.0</td>\n",
       "      <td>0.0</td>\n",
       "      <td>0.0</td>\n",
       "      <td>0.0</td>\n",
       "      <td>0.0</td>\n",
       "      <td>0.0</td>\n",
       "      <td>0.0</td>\n",
       "      <td>0.0</td>\n",
       "    </tr>\n",
       "    <tr>\n",
       "      <td>2</td>\n",
       "      <td>0.0</td>\n",
       "      <td>0.5</td>\n",
       "      <td>0.0</td>\n",
       "      <td>0.0</td>\n",
       "      <td>0.0</td>\n",
       "      <td>0.0</td>\n",
       "      <td>0.0</td>\n",
       "      <td>0.0</td>\n",
       "      <td>0.5</td>\n",
       "      <td>0.0</td>\n",
       "      <td>...</td>\n",
       "      <td>0.0</td>\n",
       "      <td>0.0</td>\n",
       "      <td>0.0</td>\n",
       "      <td>0.0</td>\n",
       "      <td>0.0</td>\n",
       "      <td>0.0</td>\n",
       "      <td>0.0</td>\n",
       "      <td>0.0</td>\n",
       "      <td>0.0</td>\n",
       "      <td>0.0</td>\n",
       "    </tr>\n",
       "    <tr>\n",
       "      <td>3</td>\n",
       "      <td>1.5</td>\n",
       "      <td>0.0</td>\n",
       "      <td>0.0</td>\n",
       "      <td>0.0</td>\n",
       "      <td>0.0</td>\n",
       "      <td>0.0</td>\n",
       "      <td>1.0</td>\n",
       "      <td>0.0</td>\n",
       "      <td>0.0</td>\n",
       "      <td>0.0</td>\n",
       "      <td>...</td>\n",
       "      <td>0.5</td>\n",
       "      <td>0.0</td>\n",
       "      <td>0.0</td>\n",
       "      <td>0.0</td>\n",
       "      <td>0.0</td>\n",
       "      <td>0.0</td>\n",
       "      <td>0.0</td>\n",
       "      <td>0.0</td>\n",
       "      <td>0.0</td>\n",
       "      <td>0.0</td>\n",
       "    </tr>\n",
       "    <tr>\n",
       "      <td>4</td>\n",
       "      <td>0.0</td>\n",
       "      <td>3.5</td>\n",
       "      <td>0.0</td>\n",
       "      <td>0.0</td>\n",
       "      <td>0.0</td>\n",
       "      <td>0.0</td>\n",
       "      <td>0.0</td>\n",
       "      <td>1.0</td>\n",
       "      <td>1.5</td>\n",
       "      <td>0.0</td>\n",
       "      <td>...</td>\n",
       "      <td>0.5</td>\n",
       "      <td>0.0</td>\n",
       "      <td>0.0</td>\n",
       "      <td>0.0</td>\n",
       "      <td>0.0</td>\n",
       "      <td>0.0</td>\n",
       "      <td>0.0</td>\n",
       "      <td>0.0</td>\n",
       "      <td>0.0</td>\n",
       "      <td>0.0</td>\n",
       "    </tr>\n",
       "    <tr>\n",
       "      <td>...</td>\n",
       "      <td>...</td>\n",
       "      <td>...</td>\n",
       "      <td>...</td>\n",
       "      <td>...</td>\n",
       "      <td>...</td>\n",
       "      <td>...</td>\n",
       "      <td>...</td>\n",
       "      <td>...</td>\n",
       "      <td>...</td>\n",
       "      <td>...</td>\n",
       "      <td>...</td>\n",
       "      <td>...</td>\n",
       "      <td>...</td>\n",
       "      <td>...</td>\n",
       "      <td>...</td>\n",
       "      <td>...</td>\n",
       "      <td>...</td>\n",
       "      <td>...</td>\n",
       "      <td>...</td>\n",
       "      <td>...</td>\n",
       "      <td>...</td>\n",
       "    </tr>\n",
       "    <tr>\n",
       "      <td>274</td>\n",
       "      <td>0.0</td>\n",
       "      <td>0.0</td>\n",
       "      <td>0.0</td>\n",
       "      <td>0.0</td>\n",
       "      <td>0.0</td>\n",
       "      <td>0.0</td>\n",
       "      <td>0.0</td>\n",
       "      <td>0.0</td>\n",
       "      <td>0.0</td>\n",
       "      <td>0.0</td>\n",
       "      <td>...</td>\n",
       "      <td>0.0</td>\n",
       "      <td>0.0</td>\n",
       "      <td>0.0</td>\n",
       "      <td>0.0</td>\n",
       "      <td>1.5</td>\n",
       "      <td>0.0</td>\n",
       "      <td>0.0</td>\n",
       "      <td>0.0</td>\n",
       "      <td>0.0</td>\n",
       "      <td>1.0</td>\n",
       "    </tr>\n",
       "    <tr>\n",
       "      <td>275</td>\n",
       "      <td>0.0</td>\n",
       "      <td>0.0</td>\n",
       "      <td>0.0</td>\n",
       "      <td>0.0</td>\n",
       "      <td>0.0</td>\n",
       "      <td>0.0</td>\n",
       "      <td>0.0</td>\n",
       "      <td>0.0</td>\n",
       "      <td>0.0</td>\n",
       "      <td>0.0</td>\n",
       "      <td>...</td>\n",
       "      <td>0.0</td>\n",
       "      <td>1.0</td>\n",
       "      <td>0.0</td>\n",
       "      <td>0.0</td>\n",
       "      <td>0.0</td>\n",
       "      <td>0.0</td>\n",
       "      <td>0.0</td>\n",
       "      <td>0.0</td>\n",
       "      <td>3.0</td>\n",
       "      <td>0.0</td>\n",
       "    </tr>\n",
       "    <tr>\n",
       "      <td>276</td>\n",
       "      <td>0.0</td>\n",
       "      <td>0.0</td>\n",
       "      <td>0.0</td>\n",
       "      <td>0.0</td>\n",
       "      <td>0.0</td>\n",
       "      <td>0.0</td>\n",
       "      <td>0.0</td>\n",
       "      <td>0.0</td>\n",
       "      <td>0.0</td>\n",
       "      <td>0.0</td>\n",
       "      <td>...</td>\n",
       "      <td>2.0</td>\n",
       "      <td>0.0</td>\n",
       "      <td>0.0</td>\n",
       "      <td>0.0</td>\n",
       "      <td>0.0</td>\n",
       "      <td>0.0</td>\n",
       "      <td>0.0</td>\n",
       "      <td>0.0</td>\n",
       "      <td>0.0</td>\n",
       "      <td>0.0</td>\n",
       "    </tr>\n",
       "    <tr>\n",
       "      <td>277</td>\n",
       "      <td>0.0</td>\n",
       "      <td>0.0</td>\n",
       "      <td>0.0</td>\n",
       "      <td>0.0</td>\n",
       "      <td>0.0</td>\n",
       "      <td>0.0</td>\n",
       "      <td>0.0</td>\n",
       "      <td>0.0</td>\n",
       "      <td>0.0</td>\n",
       "      <td>0.0</td>\n",
       "      <td>...</td>\n",
       "      <td>0.0</td>\n",
       "      <td>0.5</td>\n",
       "      <td>0.0</td>\n",
       "      <td>0.0</td>\n",
       "      <td>0.0</td>\n",
       "      <td>0.0</td>\n",
       "      <td>3.0</td>\n",
       "      <td>0.0</td>\n",
       "      <td>0.0</td>\n",
       "      <td>0.0</td>\n",
       "    </tr>\n",
       "    <tr>\n",
       "      <td>278</td>\n",
       "      <td>0.0</td>\n",
       "      <td>0.0</td>\n",
       "      <td>0.0</td>\n",
       "      <td>0.0</td>\n",
       "      <td>0.0</td>\n",
       "      <td>0.0</td>\n",
       "      <td>0.0</td>\n",
       "      <td>0.0</td>\n",
       "      <td>0.0</td>\n",
       "      <td>0.0</td>\n",
       "      <td>...</td>\n",
       "      <td>0.0</td>\n",
       "      <td>0.0</td>\n",
       "      <td>0.0</td>\n",
       "      <td>0.0</td>\n",
       "      <td>0.0</td>\n",
       "      <td>1.0</td>\n",
       "      <td>0.0</td>\n",
       "      <td>0.0</td>\n",
       "      <td>0.0</td>\n",
       "      <td>0.0</td>\n",
       "    </tr>\n",
       "  </tbody>\n",
       "</table>\n",
       "<p>279 rows × 279 columns</p>\n",
       "</div>"
      ],
      "text/plain": [
       "     0    1    2    3    4    5    6    7    8    9    ...  269  270  271  \\\n",
       "0    0.0  0.0  0.0  1.5  0.0  0.0  3.5  0.0  0.0  0.0  ...  0.0  0.0  0.0   \n",
       "1    0.0  0.0  0.5  0.0  3.5  0.0  0.0  0.0  0.0  0.0  ...  0.0  0.0  0.0   \n",
       "2    0.0  0.5  0.0  0.0  0.0  0.0  0.0  0.0  0.5  0.0  ...  0.0  0.0  0.0   \n",
       "3    1.5  0.0  0.0  0.0  0.0  0.0  1.0  0.0  0.0  0.0  ...  0.5  0.0  0.0   \n",
       "4    0.0  3.5  0.0  0.0  0.0  0.0  0.0  1.0  1.5  0.0  ...  0.5  0.0  0.0   \n",
       "..   ...  ...  ...  ...  ...  ...  ...  ...  ...  ...  ...  ...  ...  ...   \n",
       "274  0.0  0.0  0.0  0.0  0.0  0.0  0.0  0.0  0.0  0.0  ...  0.0  0.0  0.0   \n",
       "275  0.0  0.0  0.0  0.0  0.0  0.0  0.0  0.0  0.0  0.0  ...  0.0  1.0  0.0   \n",
       "276  0.0  0.0  0.0  0.0  0.0  0.0  0.0  0.0  0.0  0.0  ...  2.0  0.0  0.0   \n",
       "277  0.0  0.0  0.0  0.0  0.0  0.0  0.0  0.0  0.0  0.0  ...  0.0  0.5  0.0   \n",
       "278  0.0  0.0  0.0  0.0  0.0  0.0  0.0  0.0  0.0  0.0  ...  0.0  0.0  0.0   \n",
       "\n",
       "     272  273  274  275  276  277  278  \n",
       "0    0.0  0.0  0.0  0.0  0.0  0.0  0.0  \n",
       "1    0.0  0.0  0.0  0.0  0.0  0.0  0.0  \n",
       "2    0.0  0.0  0.0  0.0  0.0  0.0  0.0  \n",
       "3    0.0  0.0  0.0  0.0  0.0  0.0  0.0  \n",
       "4    0.0  0.0  0.0  0.0  0.0  0.0  0.0  \n",
       "..   ...  ...  ...  ...  ...  ...  ...  \n",
       "274  0.0  1.5  0.0  0.0  0.0  0.0  1.0  \n",
       "275  0.0  0.0  0.0  0.0  0.0  3.0  0.0  \n",
       "276  0.0  0.0  0.0  0.0  0.0  0.0  0.0  \n",
       "277  0.0  0.0  0.0  3.0  0.0  0.0  0.0  \n",
       "278  0.0  0.0  1.0  0.0  0.0  0.0  0.0  \n",
       "\n",
       "[279 rows x 279 columns]"
      ]
     },
     "execution_count": 137,
     "metadata": {},
     "output_type": "execute_result"
    }
   ],
   "source": [
    "import pandas as pd\n",
    "pd.DataFrame(C)"
   ]
  },
  {
   "cell_type": "markdown",
   "metadata": {},
   "source": [
    "To get the Laplacian matrix $L$, we need the degree matrix $D$, which contains\n",
    "the degree of node i at position [i, i], and zeros everywhere else."
   ]
  },
  {
   "cell_type": "code",
   "execution_count": 138,
   "metadata": {},
   "outputs": [],
   "source": [
    "degrees = np.sum(C, axis=0)\n",
    "D = np.diag(degrees)"
   ]
  },
  {
   "cell_type": "markdown",
   "metadata": {},
   "source": [
    "Now, we can get the Laplacian just like before:"
   ]
  },
  {
   "cell_type": "code",
   "execution_count": 139,
   "metadata": {},
   "outputs": [
    {
     "data": {
      "text/plain": [
       "(279, 279)"
      ]
     },
     "execution_count": 139,
     "metadata": {},
     "output_type": "execute_result"
    }
   ],
   "source": [
    "L = D - C\n",
    "np.shape(L)"
   ]
  },
  {
   "cell_type": "markdown",
   "metadata": {},
   "source": [
    "Let's do some **exploratory data analysis** (EDA):"
   ]
  },
  {
   "cell_type": "code",
   "execution_count": 140,
   "metadata": {},
   "outputs": [],
   "source": [
    "import matplotlib.pyplot as plt\n",
    "from scipy.sparse import coo_matrix\n",
    "\n",
    "def plot_coo_matrix(m):\n",
    "    if not isinstance(m, coo_matrix):\n",
    "        m = coo_matrix(m)\n",
    "    fig, ax = plt.subplots(figsize=(10, 5))\n",
    "    #fig = plt.figure()\n",
    "    #fig = plt.figure(figsize=(2,1))\n",
    "    # you may have to replace 'axisbg' below with 'facecolor', depending on the version of your matplotlib\n",
    "    ax = fig.add_subplot(111, facecolor='black') #axisbg='b')\n",
    "    ax.plot(m.col, m.row, 's', color='white', ms=1)\n",
    "    ax.set_xlim(0, m.shape[1])\n",
    "    ax.set_ylim(0, m.shape[0])\n",
    "    ax.set_aspect('equal')\n",
    "    for spine in ax.spines.values():\n",
    "        spine.set_visible(False)\n",
    "    ax.invert_yaxis()\n",
    "    ax.set_aspect('equal')\n",
    "    ax.set_xticks([])\n",
    "    ax.set_yticks([])\n",
    "    return ax"
   ]
  },
  {
   "cell_type": "code",
   "execution_count": 141,
   "metadata": {},
   "outputs": [
    {
     "name": "stderr",
     "output_type": "stream",
     "text": [
      "C:\\Users\\liaoz\\Anaconda3\\lib\\site-packages\\ipykernel_launcher.py:2: UserWarning: Matplotlib is currently using module://ipykernel.pylab.backend_inline, which is a non-GUI backend, so cannot show the figure.\n",
      "  \n"
     ]
    },
    {
     "data": {
      "image/png": "[encoded data removed]",
      "text/plain": [
       "<Figure size 720x360 with 2 Axes>"
      ]
     },
     "metadata": {
      "needs_background": "light"
     },
     "output_type": "display_data"
    }
   ],
   "source": [
    "ax = plot_coo_matrix(C)\n",
    "ax.figure.show()"
   ]
  },
  {
   "cell_type": "markdown",
   "metadata": {},
   "source": [
    "So, what are some of the conclusions you can make by looking at this brain? How about this:\n",
    "\n",
    "* Neurons appear to like to connect to nearby neurons (dense diagonal)\n",
    "* But when a neuron connects to far-away neurons, it connects *a ton* to all other neurons (horizontal and vertical lines)"
   ]
  },
  {
   "cell_type": "markdown",
   "metadata": {},
   "source": [
    "Let's do some virtual surgery and take some brain slices.\n",
    "\n",
    "</br >\n",
    "<center>\n",
    "<img src=\"ipynb.images/virtual-brain-surgery.jpg\" width=500 />\n",
    "</center>"
   ]
  },
  {
   "cell_type": "code",
   "execution_count": 142,
   "metadata": {},
   "outputs": [
    {
     "name": "stderr",
     "output_type": "stream",
     "text": [
      "C:\\Users\\liaoz\\Anaconda3\\lib\\site-packages\\ipykernel_launcher.py:6: UserWarning: Matplotlib is currently using module://ipykernel.pylab.backend_inline, which is a non-GUI backend, so cannot show the figure.\n",
      "  \n"
     ]
    },
    {
     "data": {
      "image/png": "[encoded data removed]",
      "text/plain": [
       "<Figure size 720x360 with 2 Axes>"
      ]
     },
     "metadata": {
      "needs_background": "light"
     },
     "output_type": "display_data"
    }
   ],
   "source": [
    "from skimage.util.shape import view_as_blocks\n",
    "B = view_as_blocks(C, block_shape=(31, 31))  #why 31? Ask the authors..\n",
    "\n",
    "B00 = B[0, 0] #the top-left 31x31 block\n",
    "ax = plot_coo_matrix(B00)\n",
    "ax.figure.show()"
   ]
  },
  {
   "cell_type": "code",
   "execution_count": 143,
   "metadata": {},
   "outputs": [
    {
     "name": "stdout",
     "output_type": "stream",
     "text": [
      "0002004000100050000000000000200 14\n",
      "0000400000000060000002100000100 14\n",
      "0000000000200000000000400000000 6\n",
      "2000001000000020000000000000000 5\n",
      "0400000120000120000000110000001 13\n",
      "0000000000000000004200000006100 13\n",
      "4001000120000010001000000000000 10\n",
      "0000101000000002000000000000104 9\n",
      "0000202000000000000000000000000 4\n",
      "0000000000000000000000000000000 0\n",
      "1020000000000000100000000000000 4\n",
      "0000000000000000000000000000000 0\n",
      "0000000000000002000000001100100 5\n",
      "0000100000000000000000000000000 1\n",
      "5602201000000000000002010000000 19\n",
      "0000000200002000002000000000000 6\n",
      "0000000000100000000000100000000 2\n",
      "0000000000000000000000000008200 10\n",
      "0000041000000002000020000002000 11\n",
      "0000020000000000000000000002000 4\n",
      "0000000000000000002000002000100 5\n",
      "0200000000000020000000000000001 5\n",
      "0140100000000000100000000000004 11\n",
      "0000100000000010000000000001000 3\n",
      "0000000000001000000020000100000 4\n",
      "0000000000001000000000001000000 2\n",
      "0000000000000000000000000000000 0\n",
      "0000060000000000082200010000000 19\n",
      "2100010100001000020010000000000 9\n",
      "0000000000000000000000000000000 0\n",
      "0000100400000000000001400000000 10\n"
     ]
    }
   ],
   "source": [
    "# from last lecture\n",
    "for i in range(31):\n",
    "    row = []\n",
    "    for el in B00[i]:\n",
    "        row.append(int(round(el)))\n",
    "    deg = np.sum(row)\n",
    "    print(''.join(str(i) for i in row).replace(' ', '').replace('\\n', '') + ' ' + str(deg))"
   ]
  },
  {
   "cell_type": "markdown",
   "metadata": {},
   "source": [
    "Let's rearrange nodes such that, on average, neurons are as close as possible to \"just above\" their downstream (connected)\n",
    "neighbors. Varshney _et al_ call this measure **processing depth**, and it's\n",
    "obtained by solving a linear equation involving the Laplacian. We use\n",
    "`scipy.linalg.pinv`, the\n",
    "[pseudoinverse](https://en.wikipedia.org/wiki/Moore%E2%80%93Penrose_pseudoinverse),\n",
    "to solve it. \n",
    "\n",
    "That is because when the dimensions get high (we have 279 here), there is a ***high probability of matrix degeneracy***. Calculating a pseudo-inverse is safer and faster!\n",
    "\n",
    "If we denote by $A^+$ the pseudo-inverse (versus $A^{-1}$ for the real inverse), $AA^+$ need not be the general identity matrix, but it maps all column vectors of A to themselves: \n",
    "\n",
    "$$AA^+ = A$$"
   ]
  },
  {
   "cell_type": "markdown",
   "metadata": {},
   "source": [
    "Now, let's use the pseudo-inverse `linalg.pinv` to compute a\n",
    "vector $z$ that satisfies $L z = b$,\n",
    "where $b = C \\odot \\textrm{sign}\\left(A - A^T\\right) \\mathbf{1}$. \n",
    "\n",
    "- Why, is in the supplementary material for Varshney *et al*.\n",
    "\n",
    "So, $z = L^+b$."
   ]
  },
  {
   "cell_type": "code",
   "execution_count": 144,
   "metadata": {},
   "outputs": [],
   "source": [
    "from scipy import linalg\n",
    "b = np.sum(C * np.sign(A - A.T), axis=1) \n",
    "z = linalg.pinv(L) @ b"
   ]
  },
  {
   "cell_type": "markdown",
   "metadata": {},
   "source": [
    "In order to obtain the degree-normalized Laplacian, $Q$, we need the inverse\n",
    "square root of the matrix $D$ formed by putting the degree for each node on its diagonal:"
   ]
  },
  {
   "cell_type": "code",
   "execution_count": 145,
   "metadata": {},
   "outputs": [],
   "source": [
    "Dinv2 = np.diag(1 / np.sqrt(degrees))"
   ]
  },
  {
   "cell_type": "markdown",
   "metadata": {},
   "source": [
    "Finally, we are able to extract the $x$ coordinates (so-called **affinity coordinates**) of the neurons to ensure that\n",
    "highly-connected neurons remain close: the eigenvector of $Q$ corresponding to\n",
    "its second-smallest eigenvalue (**Fiedler vector**), normalized by the degrees:"
   ]
  },
  {
   "cell_type": "code",
   "execution_count": 146,
   "metadata": {},
   "outputs": [],
   "source": [
    "Q = Dinv2 @ L @ Dinv2"
   ]
  },
  {
   "cell_type": "code",
   "execution_count": 147,
   "metadata": {},
   "outputs": [],
   "source": [
    "val, Vec = linalg.eig(Q)"
   ]
  },
  {
   "cell_type": "markdown",
   "metadata": {},
   "source": [
    "Note from the documentation of `numpy.linalg.eig`:\n",
    "\n",
    "> \"The eigenvalues are not necessarily ordered.\"\n",
    "\n",
    "We must therefore sort the eigenvalues and the corresponding eigenvector columns ourselves:"
   ]
  },
  {
   "cell_type": "code",
   "execution_count": 148,
   "metadata": {},
   "outputs": [],
   "source": [
    "smallest_first = np.argsort(val)\n",
    "val = val[smallest_first]\n",
    "Vec = Vec[:, smallest_first]"
   ]
  },
  {
   "cell_type": "code",
   "execution_count": 149,
   "metadata": {},
   "outputs": [
    {
     "data": {
      "text/plain": [
       "array([-5.2154064e-08+0.j,  1.1612537e-01+0.j,  1.9348751e-01+0.j,\n",
       "        2.2782911e-01+0.j,  2.6494110e-01+0.j,  2.8061098e-01+0.j,\n",
       "        3.1124058e-01+0.j,  3.3830497e-01+0.j,  3.5364634e-01+0.j,\n",
       "        3.6151758e-01+0.j,  3.6549637e-01+0.j,  3.7994432e-01+0.j,\n",
       "        3.9513358e-01+0.j,  4.0380445e-01+0.j,  4.1093394e-01+0.j,\n",
       "        4.3729949e-01+0.j,  4.4752398e-01+0.j,  4.5978439e-01+0.j,\n",
       "        4.6602601e-01+0.j,  4.7838467e-01+0.j,  4.9290869e-01+0.j,\n",
       "        5.2604228e-01+0.j,  5.2976620e-01+0.j,  5.3720772e-01+0.j,\n",
       "        5.4116946e-01+0.j,  5.5283642e-01+0.j,  5.5324918e-01+0.j,\n",
       "        5.6047624e-01+0.j,  5.6888765e-01+0.j,  5.8428729e-01+0.j,\n",
       "        5.9341609e-01+0.j,  6.0225701e-01+0.j,  6.1064982e-01+0.j,\n",
       "        6.1778468e-01+0.j,  6.2792951e-01+0.j,  6.3102639e-01+0.j,\n",
       "        6.3329029e-01+0.j,  6.4234710e-01+0.j,  6.5244681e-01+0.j,\n",
       "        6.5958166e-01+0.j,  6.6352570e-01+0.j,  6.7938489e-01+0.j,\n",
       "        6.9307679e-01+0.j,  6.9808632e-01+0.j,  7.0232075e-01+0.j,\n",
       "        7.1014583e-01+0.j,  7.1899205e-01+0.j,  7.2165155e-01+0.j,\n",
       "        7.2621572e-01+0.j,  7.2778374e-01+0.j,  7.2929674e-01+0.j,\n",
       "        7.3450059e-01+0.j,  7.3865712e-01+0.j,  7.4369413e-01+0.j,\n",
       "        7.5195503e-01+0.j,  7.5493497e-01+0.j,  7.5891995e-01+0.j,\n",
       "        7.6416111e-01+0.j,  7.6707113e-01+0.j,  7.7068639e-01+0.j,\n",
       "        7.7588087e-01+0.j,  7.8139073e-01+0.j,  7.8898090e-01+0.j,\n",
       "        7.9321331e-01+0.j,  7.9409570e-01+0.j,  8.0125976e-01+0.j,\n",
       "        8.0996054e-01+0.j,  8.1239402e-01+0.j,  8.1677473e-01+0.j,\n",
       "        8.2631588e-01+0.j,  8.2748115e-01+0.j,  8.3473289e-01+0.j,\n",
       "        8.3878118e-01+0.j,  8.4271699e-01+0.j,  8.4326303e-01+0.j,\n",
       "        8.5127288e-01+0.j,  8.5454863e-01+0.j,  8.5552555e-01+0.j,\n",
       "        8.6197644e-01+0.j,  8.6286050e-01+0.j,  8.6661959e-01+0.j,\n",
       "        8.7316650e-01+0.j,  8.7572932e-01+0.j,  8.7620747e-01+0.j,\n",
       "        8.7929189e-01+0.j,  8.8079232e-01+0.j,  8.8528365e-01+0.j,\n",
       "        8.8891000e-01+0.j,  8.9500034e-01+0.j,  8.9709574e-01+0.j,\n",
       "        8.9970595e-01+0.j,  9.0616447e-01+0.j,  9.0773201e-01+0.j,\n",
       "        9.0926188e-01+0.j,  9.1213846e-01+0.j,  9.1814089e-01+0.j,\n",
       "        9.1941738e-01+0.j,  9.2318541e-01+0.j,  9.2584074e-01+0.j,\n",
       "        9.2865956e-01+0.j,  9.3120086e-01+0.j,  9.3333113e-01+0.j,\n",
       "        9.3803918e-01+0.j,  9.4149220e-01+0.j,  9.4632941e-01+0.j,\n",
       "        9.5018440e-01+0.j,  9.5326430e-01+0.j,  9.5755452e-01+0.j,\n",
       "        9.5965677e-01+0.j,  9.6064955e-01+0.j,  9.6428967e-01+0.j,\n",
       "        9.6503007e-01+0.j,  9.7076285e-01+0.j,  9.7336859e-01+0.j,\n",
       "        9.7427380e-01+0.j,  9.7637588e-01+0.j,  9.7724539e-01+0.j,\n",
       "        9.8333853e-01+0.j,  9.8372400e-01+0.j,  9.8621047e-01+0.j,\n",
       "        9.8851842e-01+0.j,  9.8959452e-01+0.j,  9.9408156e-01+0.j,\n",
       "        9.9522400e-01+0.j,  9.9647623e-01+0.j,  9.9773711e-01+0.j,\n",
       "        9.9909103e-01+0.j,  9.9943072e-01+0.j,  9.9991119e-01+0.j,\n",
       "        1.0010978e+00+0.j,  1.0022142e+00+0.j,  1.0029526e+00+0.j,\n",
       "        1.0058600e+00+0.j,  1.0060713e+00+0.j,  1.0075264e+00+0.j,\n",
       "        1.0119480e+00+0.j,  1.0136204e+00+0.j,  1.0159484e+00+0.j,\n",
       "        1.0175591e+00+0.j,  1.0197783e+00+0.j,  1.0211904e+00+0.j,\n",
       "        1.0239013e+00+0.j,  1.0287637e+00+0.j,  1.0311867e+00+0.j,\n",
       "        1.0319846e+00+0.j,  1.0338039e+00+0.j,  1.0355332e+00+0.j,\n",
       "        1.0428525e+00+0.j,  1.0446980e+00+0.j,  1.0467775e+00+0.j,\n",
       "        1.0482955e+00+0.j,  1.0503192e+00+0.j,  1.0534844e+00+0.j,\n",
       "        1.0546783e+00+0.j,  1.0584329e+00+0.j,  1.0591685e+00+0.j,\n",
       "        1.0636235e+00+0.j,  1.0684686e+00+0.j,  1.0695680e+00+0.j,\n",
       "        1.0721155e+00+0.j,  1.0740830e+00+0.j,  1.0822400e+00+0.j,\n",
       "        1.0830863e+00+0.j,  1.0845484e+00+0.j,  1.0870776e+00+0.j,\n",
       "        1.0894804e+00+0.j,  1.0923495e+00+0.j,  1.0964527e+00+0.j,\n",
       "        1.0994387e+00+0.j,  1.1014808e+00+0.j,  1.1030993e+00+0.j,\n",
       "        1.1060569e+00+0.j,  1.1077833e+00+0.j,  1.1088921e+00+0.j,\n",
       "        1.1089833e+00+0.j,  1.1124747e+00+0.j,  1.1152275e+00+0.j,\n",
       "        1.1159192e+00+0.j,  1.1187669e+00+0.j,  1.1222894e+00+0.j,\n",
       "        1.1247458e+00+0.j,  1.1271369e+00+0.j,  1.1289408e+00+0.j,\n",
       "        1.1320044e+00+0.j,  1.1349224e+00+0.j,  1.1375618e+00+0.j,\n",
       "        1.1388843e+00+0.j,  1.1400493e+00+0.j,  1.1472877e+00+0.j,\n",
       "        1.1508515e+00+0.j,  1.1525701e+00+0.j,  1.1581361e+00+0.j,\n",
       "        1.1621108e+00+0.j,  1.1645095e+00+0.j,  1.1647782e+00+0.j,\n",
       "        1.1683365e+00+0.j,  1.1712502e+00+0.j,  1.1750159e+00+0.j,\n",
       "        1.1798344e+00+0.j,  1.1812915e+00+0.j,  1.1834658e+00+0.j,\n",
       "        1.1853263e+00+0.j,  1.1864506e+00+0.j,  1.1907883e+00+0.j,\n",
       "        1.1959851e+00+0.j,  1.1968693e+00+0.j,  1.2032399e+00+0.j,\n",
       "        1.2049775e+00+0.j,  1.2093068e+00+0.j,  1.2105764e+00+0.j,\n",
       "        1.2163169e+00+0.j,  1.2222418e+00+0.j,  1.2238195e+00+0.j,\n",
       "        1.2307435e+00+0.j,  1.2338636e+00+0.j,  1.2377622e+00+0.j,\n",
       "        1.2416151e+00+0.j,  1.2427688e+00+0.j,  1.2449090e+00+0.j,\n",
       "        1.2479800e+00+0.j,  1.2497228e+00+0.j,  1.2576188e+00+0.j,\n",
       "        1.2609769e+00+0.j,  1.2656325e+00+0.j,  1.2670597e+00+0.j,\n",
       "        1.2738073e+00+0.j,  1.2773919e+00+0.j,  1.2804902e+00+0.j,\n",
       "        1.2834052e+00+0.j,  1.2870166e+00+0.j,  1.2910310e+00+0.j,\n",
       "        1.2923625e+00+0.j,  1.2966120e+00+0.j,  1.3032799e+00+0.j,\n",
       "        1.3039728e+00+0.j,  1.3112011e+00+0.j,  1.3136312e+00+0.j,\n",
       "        1.3183475e+00+0.j,  1.3252823e+00+0.j,  1.3262751e+00+0.j,\n",
       "        1.3322068e+00+0.j,  1.3349955e+00+0.j,  1.3366916e+00+0.j,\n",
       "        1.3440188e+00+0.j,  1.3496495e+00+0.j,  1.3505733e+00+0.j,\n",
       "        1.3562415e+00+0.j,  1.3596128e+00+0.j,  1.3617988e+00+0.j,\n",
       "        1.3670164e+00+0.j,  1.3736901e+00+0.j,  1.3808407e+00+0.j,\n",
       "        1.3858905e+00+0.j,  1.3953990e+00+0.j,  1.4039001e+00+0.j,\n",
       "        1.4095672e+00+0.j,  1.4118370e+00+0.j,  1.4158136e+00+0.j,\n",
       "        1.4218898e+00+0.j,  1.4292908e+00+0.j,  1.4312803e+00+0.j,\n",
       "        1.4353275e+00+0.j,  1.4406457e+00+0.j,  1.4619762e+00+0.j,\n",
       "        1.4705780e+00+0.j,  1.4747202e+00+0.j,  1.4773710e+00+0.j,\n",
       "        1.4803331e+00+0.j,  1.4921249e+00+0.j,  1.4977643e+00+0.j,\n",
       "        1.5029263e+00+0.j,  1.5081980e+00+0.j,  1.5221471e+00+0.j,\n",
       "        1.5401509e+00+0.j,  1.5537312e+00+0.j,  1.5606352e+00+0.j,\n",
       "        1.5746188e+00+0.j,  1.6193627e+00+0.j,  1.6550757e+00+0.j],\n",
       "      dtype=complex64)"
      ]
     },
     "execution_count": 149,
     "metadata": {},
     "output_type": "execute_result"
    }
   ],
   "source": [
    "val"
   ]
  },
  {
   "cell_type": "markdown",
   "metadata": {},
   "source": [
    "Now that we found the Fielder eigenvector, we compute the **affinity coordinates**:"
   ]
  },
  {
   "cell_type": "code",
   "execution_count": 150,
   "metadata": {},
   "outputs": [
    {
     "data": {
      "text/plain": [
       "array([-0.02154603, -0.02182955, -0.0166935 , -0.01842129, -0.0195659 ,\n",
       "       -0.0225139 , -0.01895578, -0.01242107, -0.01771765, -0.01358305,\n",
       "       -0.01611597, -0.0118765 , -0.01791035, -0.01131234, -0.0198679 ,\n",
       "       -0.01378847, -0.01146096, -0.02265312, -0.01996965, -0.01998017,\n",
       "       -0.01823626, -0.02168174, -0.01599226, -0.01692315, -0.01478643,\n",
       "       -0.01579603, -0.01159788, -0.02135016, -0.02100617, -0.0096885 ,\n",
       "       -0.01378199, -0.00951281, -0.01855687, -0.02290469, -0.02199838,\n",
       "       -0.02105565,  0.01096086, -0.01494428, -0.01715326, -0.01373883,\n",
       "       -0.01728185, -0.00366178, -0.01463244, -0.01047713, -0.00130267,\n",
       "       -0.01632306, -0.01386729,  0.00786199, -0.01507828, -0.00768728,\n",
       "       -0.0036556 , -0.01483359, -0.01384239, -0.01462624, -0.01451204,\n",
       "        0.0076324 , -0.01545885, -0.00581739, -0.00235185, -0.00377118,\n",
       "       -0.0126224 , -0.01381079, -0.01445311, -0.01304167, -0.01716464,\n",
       "       -0.01098511, -0.00345637, -0.01691684, -0.0131336 , -0.01162029,\n",
       "       -0.0103701 , -0.00306495, -0.00363495, -0.0135315 , -0.00935026,\n",
       "       -0.01226844, -0.00526951, -0.01430726, -0.01065075, -0.00738051,\n",
       "       -0.00430305, -0.01271926, -0.01190334, -0.0053451 , -0.01230826,\n",
       "       -0.01272714, -0.00603522, -0.01170393, -0.01760133, -0.0111849 ,\n",
       "        0.00026903,  0.00081456, -0.01302545, -0.00673935, -0.01101178,\n",
       "       -0.00556893,  0.00537827, -0.01134491, -0.01348912,  0.00299064,\n",
       "       -0.01046792, -0.01326874, -0.01290092,  0.00378251, -0.01188201,\n",
       "        0.00560629, -0.01172216, -0.00329013, -0.01100087, -0.0090674 ,\n",
       "       -0.00936653, -0.00815773, -0.0048355 , -0.00534975, -0.00459386,\n",
       "       -0.01258511,  0.0056817 , -0.00737796,  0.00658111, -0.0135037 ,\n",
       "       -0.00909502, -0.00296358, -0.01230513, -0.01394468,  0.00585741,\n",
       "       -0.00722561, -0.00826653, -0.00855865, -0.01085978, -0.01413265,\n",
       "       -0.01385435, -0.00855263, -0.01107871, -0.01412912, -0.00464866,\n",
       "       -0.00427101, -0.00732889, -0.01405748,  0.0120425 , -0.00430105,\n",
       "       -0.00109043,  0.00189097,  0.00441265,  0.00479707,  0.00527649,\n",
       "        0.00477212,  0.00162219,  0.00120187,  0.00157805, -0.00757119,\n",
       "        0.00314981, -0.00305975,  0.01578393, -0.0034556 , -0.00197379,\n",
       "       -0.00812144, -0.0098651 , -0.00925119,  0.00176595,  0.00498843,\n",
       "        0.00844296,  0.00724212, -0.00633084,  0.01324347,  0.0120086 ,\n",
       "        0.0084157 ,  0.01027495,  0.00774729,  0.01323691,  0.01176146,\n",
       "        0.01907031,  0.01254461,  0.01664305,  0.0107307 ,  0.01534871,\n",
       "        0.00297072, -0.0006177 ,  0.01253844, -0.00217512,  0.01750295,\n",
       "        0.01644408,  0.01838126,  0.01355433,  0.01667778,  0.01386862,\n",
       "        0.01548329,  0.01916285,  0.01614075,  0.01464825,  0.01553067,\n",
       "        0.01680598,  0.01437672,  0.00455305,  0.01703459,  0.0139264 ,\n",
       "        0.01863676, -0.00189623, -0.00058913,  0.01514668,  0.01350587,\n",
       "        0.01673006,  0.0152308 ,  0.01056591,  0.00768587,  0.01348342,\n",
       "        0.01723818,  0.00991171,  0.0131297 ,  0.00352793,  0.00291204,\n",
       "       -0.00197429,  0.01606853,  0.01326197,  0.00824308,  0.01735112,\n",
       "        0.01578409,  0.0130239 ,  0.01145062,  0.00764458,  0.00877024,\n",
       "        0.00263482,  0.01361384,  0.00264955, -0.00043704,  0.01055793,\n",
       "        0.00944758,  0.00864416,  0.00216667,  0.01302588,  0.0082836 ,\n",
       "        0.00942244,  0.01448749,  0.01144217,  0.00858288,  0.00879502,\n",
       "        0.00815851,  0.00798062,  0.00880833,  0.00739379,  0.00938847,\n",
       "        0.0104938 ,  0.00966736,  0.00374551, -0.00171172,  0.01006769,\n",
       "        0.01005968,  0.00347296,  0.00914031,  0.00987997,  0.01198891,\n",
       "        0.01036114,  0.01106144,  0.00946946,  0.00211246,  0.00374411,\n",
       "       -0.00137832,  0.00547197,  0.00534315, -0.00530911, -0.00773963,\n",
       "        0.00771708,  0.00792365,  0.00800159, -0.00819842,  0.00856435,\n",
       "        0.00717475, -0.00934446,  0.00808531,  0.00712114, -0.00041321,\n",
       "        0.00668324,  0.00762986, -0.00744731,  0.00733082,  0.00857394,\n",
       "        0.00630617,  0.00535223,  0.00484778,  0.00750834], dtype=float32)"
      ]
     },
     "execution_count": 150,
     "metadata": {},
     "output_type": "execute_result"
    }
   ],
   "source": [
    "x = Dinv2 @ Vec[:, 1]\n",
    "x"
   ]
  },
  {
   "cell_type": "markdown",
   "metadata": {},
   "source": [
    "The reasons for using this vector are complex, but appear in\n",
    "the paper's supplementary material. The important result is that\n",
    "***choosing this vector minimizes the total length of the links between neurons, and yields pretty graphs that are easier to analyze***.\n",
    "\n",
    "There is one small kink that the authors address before proceeding: eigenvectors\n",
    "are only defined up to a multiplicative constant. This follows simply from the\n",
    "definition of an eigenvector: suppose $v$ is an eigenvector of the matrix $M$,\n",
    "with corresponding eigenvalue $\\lambda$. Then $\\alpha v$ is also an eigenvector\n",
    "of $M$ for any scalar number $\\alpha$,\n",
    "because $Mv = \\lambda v$ implies $M(\\alpha v) = \\lambda (\\alpha v)$.\n",
    "\n",
    "So, it is\n",
    "arbitrary whether a software package returns $v$ or $-v$ when asked for the\n",
    "eigenvectors of $M$. In order to make sure we reproduce the layout from the\n",
    "Varshney *et al.* paper, we must make sure that the vector is pointing in the\n",
    "same direction as theirs, rather than the opposite direction. \n",
    "\n",
    "So we choose an arbitrary neuron from their Figure 2, and check the sign of `x`\n",
    "at that position. Reverse the vector it if it doesn't match its sign in Figure 2\n",
    "of the paper."
   ]
  },
  {
   "cell_type": "code",
   "execution_count": 151,
   "metadata": {},
   "outputs": [],
   "source": [
    "vc2_index = np.argwhere(neuron_ids == 'VC02')\n",
    "if x[vc2_index] < 0:\n",
    "    x = -x"
   ]
  },
  {
   "cell_type": "markdown",
   "metadata": {},
   "source": [
    "Now it's just a matter of drawing the nodes and the edges. We color them\n",
    "according to the type stored in `neuron_types`, using the appealing and\n",
    "functional \"colorblind\"\n",
    "[colorbrewer palette](http://chrisalbon.com/python/seaborn_color_palettes.html):"
   ]
  },
  {
   "cell_type": "code",
   "execution_count": 152,
   "metadata": {},
   "outputs": [],
   "source": [
    "from matplotlib.colors import ListedColormap\n",
    "from matplotlib.collections import LineCollection\n",
    "\n",
    "\n",
    "def plot_connectome(x_coords, y_coords, conn_matrix, *,\n",
    "                    labels=(), types=None, type_names=('',),\n",
    "                    xlabel='', ylabel=''):\n",
    "    \"\"\"Plot neurons as points connected by lines.\n",
    "\n",
    "    Neurons can have different types (up to 6 distinct colors).\n",
    "\n",
    "    Parameters\n",
    "    ----------\n",
    "    x_coords, y_coords : array of float, shape (N,)\n",
    "        The x-coordinates and y-coordinates of the neurons.\n",
    "    conn_matrix : array or sparse matrix of float, shape (N, N)\n",
    "        The connectivity matrix, with non-zero entry (i, j) if and only\n",
    "        if node i and node j are connected.\n",
    "    labels : array-like of string, shape (N,), optional\n",
    "        The names of the nodes.\n",
    "    types : array of int, shape (N,), optional\n",
    "        The type (e.g. sensory neuron, interneuron) of each node.\n",
    "    type_names : array-like of string, optional\n",
    "        The name of each value of `types`. For example, if a 0 in\n",
    "        `types` means \"sensory neuron\", then `type_names[0]` should\n",
    "        be \"sensory neuron\".\n",
    "    xlabel, ylabel : str, optional\n",
    "        Labels for the axes.\n",
    "    \"\"\"\n",
    "    if types is None:\n",
    "        types = np.zeros(x_coords.shape, dtype=int)\n",
    "    ntypes = len(np.unique(types))\n",
    "    colors = plt.rcParams['axes.prop_cycle'][:ntypes].by_key()['color']\n",
    "    cmap = ListedColormap(colors)\n",
    "\n",
    "    fig, ax = plt.subplots()\n",
    "\n",
    "    # plot neuron locations:\n",
    "    for neuron_type in range(ntypes):\n",
    "        plotting = (types == neuron_type)\n",
    "        pts = ax.scatter(x_coords[plotting], y_coords[plotting],\n",
    "                         c=cmap(neuron_type), s=4, zorder=1)\n",
    "        pts.set_label(type_names[neuron_type])\n",
    "\n",
    "    # add text labels:\n",
    "    for x, y, label in zip(x_coords, y_coords, labels):\n",
    "        ax.text(x, y, '   ' + label,\n",
    "                verticalalignment='center', fontsize=3, zorder=2)\n",
    "\n",
    "    # plot edges\n",
    "    pre, post = np.nonzero(conn_matrix)\n",
    "    links = np.array([[x_coords[pre], x_coords[post]],\n",
    "                      [y_coords[pre], y_coords[post]]]).T\n",
    "    ax.add_collection(LineCollection(links, color='lightgray',\n",
    "                                     lw=0.3, alpha=0.5, zorder=0))\n",
    "\n",
    "    ax.legend(scatterpoints=3, fontsize=6)\n",
    "\n",
    "    ax.set_xlabel(xlabel, fontsize=8)\n",
    "    ax.set_ylabel(ylabel, fontsize=8)\n",
    "\n",
    "    plt.figure(figsize=(20,10))\n",
    "    plt.show()"
   ]
  },
  {
   "cell_type": "markdown",
   "metadata": {},
   "source": [
    "Now, let's use that function to plot the neurons:"
   ]
  },
  {
   "cell_type": "code",
   "execution_count": 153,
   "metadata": {},
   "outputs": [
    {
     "name": "stderr",
     "output_type": "stream",
     "text": [
      "'c' argument looks like a single numeric RGB or RGBA sequence, which should be avoided as value-mapping will have precedence in case its length matches with 'x' & 'y'.  Please use a 2-D array with a single row if you really want to specify the same RGB or RGBA value for all points.\n",
      "'c' argument looks like a single numeric RGB or RGBA sequence, which should be avoided as value-mapping will have precedence in case its length matches with 'x' & 'y'.  Please use a 2-D array with a single row if you really want to specify the same RGB or RGBA value for all points.\n",
      "'c' argument looks like a single numeric RGB or RGBA sequence, which should be avoided as value-mapping will have precedence in case its length matches with 'x' & 'y'.  Please use a 2-D array with a single row if you really want to specify the same RGB or RGBA value for all points.\n"
     ]
    },
    {
     "data": {
      "image/png": "[encoded data removed]",
      "text/plain": [
       "<Figure size 432x288 with 1 Axes>"
      ]
     },
     "metadata": {
      "needs_background": "light"
     },
     "output_type": "display_data"
    },
    {
     "data": {
      "text/plain": [
       "<Figure size 1440x720 with 0 Axes>"
      ]
     },
     "metadata": {},
     "output_type": "display_data"
    }
   ],
   "source": [
    "# Spectral layout of the neurons of a nematode worm\n",
    "plot_connectome(x, z, C, labels=neuron_ids, types=neuron_types,\n",
    "                type_names=['sensory neurons', 'interneurons',\n",
    "                            'motor neurons'],\n",
    "                xlabel='Affinity eigenvector 1', ylabel='Processing depth')"
   ]
  },
  {
   "cell_type": "markdown",
   "metadata": {},
   "source": [
    "That's a worm brain!\n",
    "\n",
    "As discussed in Varshney's original paper, you can see the top-down processing from\n",
    "sensory neurons to motor neurons through a network of interneurons. You can\n",
    "also see two distinct groups of motor neurons: these correspond to the neck\n",
    "(left) and body (right) body segments of the worm.\n",
    "\n",
    "How to modify the above code to show the affinity view in Figure 2B from the paper?\n",
    "\n",
    "In the affinity view, instead of using the processing depth on the y-axis,\n",
    "we use the normalized third eigenvector of Q, just like we did with x (\n",
    "invert if necessary, just like with x)."
   ]
  },
  {
   "cell_type": "code",
   "execution_count": 154,
   "metadata": {},
   "outputs": [
    {
     "name": "stderr",
     "output_type": "stream",
     "text": [
      "'c' argument looks like a single numeric RGB or RGBA sequence, which should be avoided as value-mapping will have precedence in case its length matches with 'x' & 'y'.  Please use a 2-D array with a single row if you really want to specify the same RGB or RGBA value for all points.\n",
      "'c' argument looks like a single numeric RGB or RGBA sequence, which should be avoided as value-mapping will have precedence in case its length matches with 'x' & 'y'.  Please use a 2-D array with a single row if you really want to specify the same RGB or RGBA value for all points.\n",
      "'c' argument looks like a single numeric RGB or RGBA sequence, which should be avoided as value-mapping will have precedence in case its length matches with 'x' & 'y'.  Please use a 2-D array with a single row if you really want to specify the same RGB or RGBA value for all points.\n"
     ]
    },
    {
     "data": {
      "image/png": "[encoded data removed]",
      "text/plain": [
       "<Figure size 432x288 with 1 Axes>"
      ]
     },
     "metadata": {
      "needs_background": "light"
     },
     "output_type": "display_data"
    },
    {
     "data": {
      "text/plain": [
       "<Figure size 1440x720 with 0 Axes>"
      ]
     },
     "metadata": {},
     "output_type": "display_data"
    }
   ],
   "source": [
    "y = Dinv2 @ Vec[:, 2]\n",
    "asjl_index = np.argwhere(neuron_ids == 'ASJL')\n",
    "if y[asjl_index] < 0:\n",
    "    y = -y\n",
    "\n",
    "# Spectral layout of the neurons of a nematode worm, using two spectral dimensions\n",
    "plot_connectome(x, y, C, labels=neuron_ids, types=neuron_types,\n",
    "                type_names=['sensory neurons', 'interneurons',\n",
    "                            'motor neurons'],\n",
    "                xlabel='Affinity eigenvector 1',\n",
    "                ylabel='Affinity eigenvector 2')"
   ]
  },
  {
   "cell_type": "markdown",
   "metadata": {},
   "source": [
    "# Using sparse matrix calculus\n",
    "\n",
    "Let's repeat these operations with sparse matrix calculus.\n",
    "\n",
    "First, we start with the adjacency matrix, A, in a sparse matrix format, in\n",
    "this case, **CSR** (compressed sparse row), which is the most common format for linear algebra. \n",
    "\n",
    "We'll append `s` to the names of all the matrices to indicate that they are **sparse**."
   ]
  },
  {
   "cell_type": "code",
   "execution_count": 155,
   "metadata": {},
   "outputs": [],
   "source": [
    "from scipy import sparse\n",
    "import scipy.sparse.linalg\n",
    "\n",
    "As = sparse.csr_matrix(A)"
   ]
  },
  {
   "cell_type": "markdown",
   "metadata": {},
   "source": [
    "Create our connectivity matrix in the same way:"
   ]
  },
  {
   "cell_type": "code",
   "execution_count": 156,
   "metadata": {},
   "outputs": [],
   "source": [
    "Cs = (As + As.T) / 2"
   ]
  },
  {
   "cell_type": "markdown",
   "metadata": {},
   "source": [
    "In order to get the degrees matrix, we use the \"diags\" sparse format, which\n",
    "stores diagonal and off-diagonal matrices."
   ]
  },
  {
   "cell_type": "code",
   "execution_count": 157,
   "metadata": {},
   "outputs": [],
   "source": [
    "degrees = np.ravel(Cs.sum(axis=0))\n",
    "Ds = sparse.diags(degrees)"
   ]
  },
  {
   "cell_type": "markdown",
   "metadata": {},
   "source": [
    "Getting the Laplacian is straightforward:"
   ]
  },
  {
   "cell_type": "code",
   "execution_count": 158,
   "metadata": {},
   "outputs": [],
   "source": [
    "Ls = Ds - Cs"
   ]
  },
  {
   "cell_type": "markdown",
   "metadata": {},
   "source": [
    "Now we want to get the processing depth. Remember that getting the\n",
    "pseudo-inverse of the Laplacian matrix for large connectomes is out of the question, because it will\n",
    "be a dense matrix (the inverse of a sparse matrix is not generally sparse\n",
    "itself). \n",
    "\n",
    "For the nematode worm, we used the pseudo-inverse to compute a\n",
    "vector $z$ that satisfies $L z = b$,\n",
    "where $b = C \\odot \\textrm{sign}\\left(A - A^T\\right) \\mathbf{1}$.\n",
    "\n",
    "With\n",
    "dense matrices, we can simply use $z = L^+b$. With sparse ones, we can\n",
    "use one of the *solvers* (see sidebox, \"Solvers\") in `sparse.linalg.isolve` to get the `z` vector after\n",
    "providing `L` and `b`, with no inversion required."
   ]
  },
  {
   "cell_type": "code",
   "execution_count": 159,
   "metadata": {},
   "outputs": [],
   "source": [
    "b = Cs.multiply((As - As.T).sign()).sum(axis=1)\n",
    "z, error = sparse.linalg.isolve.cg(Ls, b, maxiter=10000)"
   ]
  },
  {
   "cell_type": "markdown",
   "metadata": {},
   "source": [
    "Finally, we must find the eigenvectors of $Q$, the degree-normalized Laplacian,\n",
    "corresponding to its second and third smallest eigenvalues.\n",
    "\n",
    "Numerical data in sparse matrices is\n",
    "in the `.data` attribute. We use that to invert the degrees matrix:"
   ]
  },
  {
   "cell_type": "code",
   "execution_count": 160,
   "metadata": {},
   "outputs": [],
   "source": [
    "Dsinv2 = Ds.copy()\n",
    "Dsinv2.data = 1 / np.sqrt(Ds.data)"
   ]
  },
  {
   "cell_type": "markdown",
   "metadata": {},
   "source": [
    "Finally, we use `scipy`'s sparse linear algebra functions to find the desired\n",
    "eigenvectors. \n",
    "\n",
    "The $Q$ matrix is symmetric, so we can use the `eigsh` function,\n",
    "specialized for symmetric matrices, to compute them. \n",
    "\n",
    "We use the `which` keyword\n",
    "argument to specify that we want the eigenvectors corresponding to the smallest\n",
    "eigenvalues, and `k` to specify that we need the 3 smallest:"
   ]
  },
  {
   "cell_type": "code",
   "execution_count": 161,
   "metadata": {},
   "outputs": [],
   "source": [
    "Qs = Dsinv2 @ Ls @ Dsinv2\n",
    "vals, Vecs = sparse.linalg.eigsh(Qs, k=3, which='SM')\n",
    "sorted_indices = np.argsort(vals)\n",
    "Vecs = Vecs[:, sorted_indices]"
   ]
  },
  {
   "cell_type": "markdown",
   "metadata": {},
   "source": [
    "Finally, we normalize the eigenvectors to get the x and y coordinates\n",
    "(and flip these if necessary):"
   ]
  },
  {
   "cell_type": "code",
   "execution_count": 162,
   "metadata": {},
   "outputs": [],
   "source": [
    "_dsinv, x, y = (Dsinv2 @ Vecs).T\n",
    "if x[vc2_index] < 0:\n",
    "    x = -x\n",
    "if y[asjl_index] < 0:\n",
    "    y = -y"
   ]
  },
  {
   "cell_type": "markdown",
   "metadata": {},
   "source": [
    "Note that the eigenvector corresponding to the smallest eigenvalue is always a\n",
    "vector of all ones. Why? Study [this](http://blog.shriphani.com/2015/04/06/the-smallest-eigenvalues-of-a-graph-laplacian/) paper!\n",
    "\n",
    "We can now reproduce the above plots!"
   ]
  },
  {
   "cell_type": "code",
   "execution_count": 163,
   "metadata": {},
   "outputs": [
    {
     "name": "stderr",
     "output_type": "stream",
     "text": [
      "'c' argument looks like a single numeric RGB or RGBA sequence, which should be avoided as value-mapping will have precedence in case its length matches with 'x' & 'y'.  Please use a 2-D array with a single row if you really want to specify the same RGB or RGBA value for all points.\n",
      "'c' argument looks like a single numeric RGB or RGBA sequence, which should be avoided as value-mapping will have precedence in case its length matches with 'x' & 'y'.  Please use a 2-D array with a single row if you really want to specify the same RGB or RGBA value for all points.\n",
      "'c' argument looks like a single numeric RGB or RGBA sequence, which should be avoided as value-mapping will have precedence in case its length matches with 'x' & 'y'.  Please use a 2-D array with a single row if you really want to specify the same RGB or RGBA value for all points.\n"
     ]
    },
    {
     "data": {
      "image/png": "[encoded data removed]",
      "text/plain": [
       "<Figure size 432x288 with 1 Axes>"
      ]
     },
     "metadata": {
      "needs_background": "light"
     },
     "output_type": "display_data"
    },
    {
     "data": {
      "text/plain": [
       "<Figure size 1440x720 with 0 Axes>"
      ]
     },
     "metadata": {},
     "output_type": "display_data"
    },
    {
     "name": "stderr",
     "output_type": "stream",
     "text": [
      "'c' argument looks like a single numeric RGB or RGBA sequence, which should be avoided as value-mapping will have precedence in case its length matches with 'x' & 'y'.  Please use a 2-D array with a single row if you really want to specify the same RGB or RGBA value for all points.\n",
      "'c' argument looks like a single numeric RGB or RGBA sequence, which should be avoided as value-mapping will have precedence in case its length matches with 'x' & 'y'.  Please use a 2-D array with a single row if you really want to specify the same RGB or RGBA value for all points.\n",
      "'c' argument looks like a single numeric RGB or RGBA sequence, which should be avoided as value-mapping will have precedence in case its length matches with 'x' & 'y'.  Please use a 2-D array with a single row if you really want to specify the same RGB or RGBA value for all points.\n"
     ]
    },
    {
     "data": {
      "image/png": "[encoded data removed]",
      "text/plain": [
       "<Figure size 432x288 with 1 Axes>"
      ]
     },
     "metadata": {
      "needs_background": "light"
     },
     "output_type": "display_data"
    },
    {
     "data": {
      "text/plain": [
       "<Figure size 1440x720 with 0 Axes>"
      ]
     },
     "metadata": {},
     "output_type": "display_data"
    }
   ],
   "source": [
    "# Spectral layout of a nematode brain, computed using sparse matrices\n",
    "plot_connectome(x, z, C, labels=neuron_ids, types=neuron_types,\n",
    "                type_names=['sensory neurons', 'interneurons',\n",
    "                            'motor neurons'],\n",
    "                xlabel='Affinity eigenvector 1', ylabel='Processing depth')\n",
    "\n",
    "plot_connectome(x, y, C, labels=neuron_ids, types=neuron_types,\n",
    "                type_names=['sensory neurons', 'interneurons',\n",
    "                            'motor neurons'],\n",
    "                xlabel='Affinity eigenvector 1',\n",
    "                ylabel='Affinity eigenvector 2')"
   ]
  },
  {
   "cell_type": "markdown",
   "metadata": {},
   "source": [
    "SciPy has several sparse iterative solvers available, and it is not always\n",
    "obvious which to use.  Unfortunately, that question also has no easy answer:\n",
    "different algorithms have different strengths in terms of speed of\n",
    "convergence, stability, accuracy, and memory use (amongst others).  It is also\n",
    "not possible to predict, by looking at the input data, which algorithm will\n",
    "perform best.\n",
    "\n",
    "Here is a rough guideline for choosing an iterative solver:\n",
    "\n",
    "> - If A, the input matrix, is symmetric and positive definite, use the\n",
    ">   Conjugate Gradient solver `cg`.  If A is symmetric, but\n",
    ">   near-singular or indefinite, try the Minimum Residual iteration\n",
    ">   method `minres`.\n",
    "> \n",
    "> - For non-symmetric systems, try the Biconjugate Gradient Stabilized\n",
    ">   method, `bicgstab`.  The Conjugate Gradient Squared method, `cgs`,\n",
    ">   is a bit faster, but has more erratic convergence.\n",
    "> \n",
    "> - If you need to solve many similar systems, use the LGMRES algorithm `lgmres`.\n",
    "> \n",
    "> - If A is not square, use the least squares algorithm `lsmr`.\n",
    "> \n",
    "\n",
    "For further reading, see:\n",
    " \n",
    "**How Fast are Nonsymmetric Matrix Iterations?**,\n",
    "Noël M. Nachtigal, Satish C. Reddy, and Lloyd N. Trefethen\n",
    "SIAM Journal on Matrix Analysis and Applications 1992 13:3, 778-795. https://pdfs.semanticscholar.org/899b/d31c4b9a29b593c31ccbcd4497684eeea864.pdf\n",
    " \n",
    "**Survey of recent Krylov methods**, Jack Dongarra,\n",
    "http://www.netlib.org/linalg/html_templates/node50.html\n",
    "\n"
   ]
  },
  {
   "cell_type": "markdown",
   "metadata": {},
   "source": [
    "### A word about [Krylov](https://en.wikipedia.org/wiki/Krylov_subspace) methods\n",
    "\n",
    "An intuitive method for finding an eigenvalue (specifically the largest eigenvalue) of a given m × m matrix $A$ is the power iteration that we used last lecture. \n",
    "\n",
    "Starting with a **random initial vector** $b$, this method calculates $Ab, \\; A^2b, \\; A^3b$,… iteratively storing and normalizing the result into $b$ on every turn. This sequence **converges** to the eigenvector corresponding to the largest eigenvalue,$ \\lambda _{{1}}$: the **dominant eigenvector**. However, much potentially useful computation is wasted by using only the final result, $A^{n-1}b, \\;  A^{{n-1}}b, \\; \\cdots$. \n",
    "\n",
    "If instead, we form the so-called Krylov matrix:\n",
    "\n",
    "$$K_{n}= \\begin{bmatrix}b&Ab&A^{2}b&\\cdots &A^{n-1}b\\end{bmatrix}$$\n",
    "\n",
    "The columns of this matrix are not orthogonal, but in principle, we can extract an orthogonal basis, via a method such as [Gram–Schmidt orthogonalization](https://en.wikipedia.org/wiki/Gram%E2%80%93Schmidt_process). \n",
    "\n",
    "The resulting set of vectors is an orthogonal basis of the Krylov subspace, $K_{n}$. We may expect the vectors of this basis to give good approximations of the eigenvectors corresponding to the $n$ largest eigenvalues, for the same reason that $A^{{n-1}}b$ approximates the dominant eigenvector.\n",
    "\n",
    "The process described above is intuitive. Unfortunately, it is also unstable. This is where iterations such as the [Arnoldi iteration](https://en.wikipedia.org/wiki/Arnoldi_iteration) is relevant."
   ]
  },
  {
   "cell_type": "markdown",
   "metadata": {},
   "source": [
    "# Conclusion\n",
    "\n",
    "</br >\n",
    "<center>\n",
    "<img src=\"ipynb.images/fun.png\" width=400 />\n",
    "</center>\n",
    "\n",
    "I had an idea to underscore the utility of eigenvectors, introduce graph and surface visualizations, and showcase the [graph Laplacian](https://samidavies.wordpress.com/2016/09/20/whats-up-with-the-graph-laplacian/) because it is very much in vogue in deep learning today, and a good application of linear algebra.\n",
    "\n",
    "Please read [this](https://csustan.csustan.edu/~tom/Clustering/GraphLaplacian-tutorial.pdf) concise introduction for an idea, and [this](http://blog.shriphani.com/2015/04/06/the-smallest-eigenvalues-of-a-graph-laplacian/) blog for the restricted results we studied in this notebook. \n",
    "\n",
    "How valuable are these methods? Look [here](https://www.ibm.com/us-en/marketplace/analysts-notebook).\n",
    "\n",
    "I also wanted to show you how sparse matrix calculus is done, and visualization tools for `scikit-learn` and artifical neural networks.\n",
    "\n",
    "Also, to underscore that solutions to data science problems are not software packages. Instead, it is the math that solves the problem. And then you look for software packages implementing the related math. Hint: most of them are in `scipy`. And the probabilistic ones in `scikit-learn` or `pymc3`.\n",
    "\n",
    "Now you know."
   ]
  },
  {
   "cell_type": "code",
   "execution_count": null,
   "metadata": {},
   "outputs": [],
   "source": []
  },
  {
   "cell_type": "code",
   "execution_count": null,
   "metadata": {},
   "outputs": [],
   "source": []
  },
  {
   "cell_type": "code",
   "execution_count": null,
   "metadata": {},
   "outputs": [],
   "source": []
  },
  {
   "cell_type": "code",
   "execution_count": null,
   "metadata": {},
   "outputs": [],
   "source": []
  }
 ],
 "metadata": {
  "kernelspec": {
   "display_name": "Python 3",
   "language": "python",
   "name": "python3"
  },
  "language_info": {
   "codemirror_mode": {
    "name": "ipython",
    "version": 3
   },
   "file_extension": ".py",
   "mimetype": "text/x-python",
   "name": "python",
   "nbconvert_exporter": "python",
   "pygments_lexer": "ipython3",
   "version": "3.7.6"
  }
 },
 "nbformat": 4,
 "nbformat_minor": 2
}
