{
 "cells": [
  {
   "cell_type": "markdown",
   "metadata": {
    "button": false,
    "new_sheet": false,
    "run_control": {
     "read_only": false
    }
   },
   "source": [
    "<div style=\"text-align: right\">INFO 6105 Data Sci Engineering Methods and Tools, Week 4 Lecture 2</div>\n",
    "<div style=\"text-align: right\">Dino Konstantopoulos, 29 January 2020, with material from Cam Davidson-Pilon</div>\n",
    "\n",
    "At the end of this lecture, you should a good understanding of probability distributions, how to estimate probabilities for different outcomes and sample spaces, and how to use Bayes' theorem to answer typical interview questions involving probabilities, and become curious about Formula 1 racing.\n",
    "\n"
   ]
  },
  {
   "cell_type": "markdown",
   "metadata": {
    "button": false,
    "new_sheet": false,
    "run_control": {
     "read_only": false
    }
   },
   "source": [
    "* * * \n",
    "# Introduction to Probability Distributions\n",
    "\n",
    "<br />\n",
    "<center>\n",
    "<img src=\"http://statistics.wdfiles.com/local--files/ch6/binomial.png\" width=\"400\" />\n",
    "Binomial\n",
    "</center>\n",
    "\n",
    "So far, we have made the assumption that every outcome in a sample space (urn) is ***equally likely***: Same probability to select White ball \\#1 as Red ball \\#5. \n",
    "\n",
    ">**Recall**: A probability is a **fraction** where the numerator is sum of all *favorable* outcomes, and the denominator the sum of all *possible* outcomes.\n",
    "\n",
    "In real life, we often get outcomes that are not **equiprobable**. Foe example, White ball versus Red ball. For another example, the probability of a child being a girl is not exactly 1/2, and the probability is slightly different for a second child. \n",
    "\n",
    "An [article](http://people.kzoo.edu/barth/math105/moreboys.pdf) (good Data Science article, you should read it) gives the following *counts* for two-child families in Denmark, where `GB` means a family where the first child is a girl and the second a boy:\n",
    "\n",
    "    GG: 121801    GB: 126840\n",
    "    BG: 127123    BB: 135138\n",
    "    \n",
    "Because of this fact (not all urns yield Blue/Red/White *numbered* balls with equiprobable chances), we need to introduce three more definitions:\n",
    "\n",
    "* [Frequency](https://en.wikipedia.org/wiki/Frequency_%28statistics%29): a number describing how often an outcome occurs. Can be a count like 121801, or a ratio like 0.515.\n",
    "\n",
    "* [Distribution](http://mathworld.wolfram.com/StatisticalDistribution.html): A mapping from outcome to frequency for each possible outcome in a sample space. \n",
    "\n",
    "* [Probability Distribution](https://en.wikipedia.org/wiki/Probability_distribution): The distribution above, which has been *normalized* so that the sum of the frequencies is 1.\n",
    "\n",
    "Here is an example of a ***super-popular*** probability distribution:\n",
    "* The binomial distribution is frequently used to model the number of successes in a sample of size n drawn with replacement from a population of size N. It is parametrized by p and is the discrete probability distribution of the number of `yes`es in a sequence of n independent experiments *with replacement*, each asking a `yes/no` question, and each with its own boolean-valued outcome: a random variable containing a single bit of information: `yes` (with probability p) or `no` (with probability q = 1 − p)\n",
    "\n",
    "* A single `yes/no` experiment is also called a *Bernoulli trial* or *Bernoulli experiment* and a sequence of outcomes is called a *Bernoulli process*\n",
    "\n",
    "* For a single trial, i.e., n = 1, the binomial distribution is a Bernoulli distribution. \n",
    "\n",
    "So now we need to modify our awesome probability counting `p()` function (which takes each event as **equiprobable**) to take this miserable fact into account. Essentially, it's as if each *numbered ball* comes with its *own* probability of being picked. So we will need to use probability **dictionaries**.\n",
    "\n",
    "<center>\n",
    "    <img src=\"ipynb.images/miserable.png\" width=300 />\n",
    "</center>"
   ]
  },
  {
   "cell_type": "code",
   "execution_count": 5,
   "metadata": {},
   "outputs": [
    {
     "name": "stdout",
     "output_type": "stream",
     "text": [
      "((20, 0.2), (25, 0.6), (40, 0.6))\n"
     ]
    },
    {
     "data": {
      "image/png": "[encoded data removed]",
      "text/plain": [
       "<Figure size 360x270 with 1 Axes>"
      ]
     },
     "metadata": {
      "needs_background": "light"
     },
     "output_type": "display_data"
    }
   ],
   "source": [
    "# first, let's plot a few binomial distributions\n",
    "# n and p are exactly as defined above\n",
    "import numpy as np\n",
    "from scipy.stats import binom\n",
    "from matplotlib import pyplot as plt\n",
    "%matplotlib inline\n",
    "\n",
    "n_values = [20, 25, 40]\n",
    "p_values = [0.2, 0.6, 0.6]\n",
    "x = np.arange(0, 50)\n",
    "\n",
    "np = zip(n_values, p_values)\n",
    "print(tuple(np))\n",
    "\n",
    "fig, ax = plt.subplots(figsize=(5, 3.75))\n",
    "\n",
    "for (n, p) in zip(n_values, p_values):\n",
    "    # create a binomial distribution\n",
    "    dist = binom(n, p)\n",
    "\n",
    "    plt.plot(x, dist.pmf(x))"
   ]
  },
  {
   "cell_type": "markdown",
   "metadata": {},
   "source": [
    "And for that, we need to digress a bit..\n",
    "\n",
    "In Python, `*args` and `**kwargs` is a common idiom to allow ***arbitrary number of arguments*** to functions. `*args` will give you all function parameters as a tuple, `**kwargs` will give you all keyword arguments (except those corresponding to a formal parameter) as a dictionary:\n",
    "```python\n",
    "def foo(*args):\n",
    "    for a in args:\n",
    "    print a\n",
    "        \n",
    "def bar(**kwargs):\n",
    "    for a in kwargs:\n",
    "        print a, kwargs[a]\n",
    "```"
   ]
  },
  {
   "cell_type": "markdown",
   "metadata": {},
   "source": [
    "Let’s say we want to create a higher-order function that takes as input some function $f$ and returns a new function that for any input returns *twice* the value of $f$:"
   ]
  },
  {
   "cell_type": "code",
   "execution_count": 33,
   "metadata": {},
   "outputs": [],
   "source": [
    "def doubler(f):\n",
    "  def _(x):\n",
    "    return 2 * f(x)\n",
    "  return _"
   ]
  },
  {
   "cell_type": "markdown",
   "metadata": {},
   "source": [
    "It works in most cases:"
   ]
  },
  {
   "cell_type": "code",
   "execution_count": 34,
   "metadata": {},
   "outputs": [
    {
     "name": "stdout",
     "output_type": "stream",
     "text": [
      "<function doubler.<locals>._ at 0x1282993b0>\n",
      "8\n"
     ]
    }
   ],
   "source": [
    "def f_plus_1(x):\n",
    "  return x + 1;\n",
    "\n",
    "h = doubler(f_plus_1)\n",
    "print(h)\n",
    "print(h(3))  # 8 = (3 + 1) * 2"
   ]
  },
  {
   "cell_type": "markdown",
   "metadata": {},
   "source": [
    "Now try this:"
   ]
  },
  {
   "cell_type": "code",
   "execution_count": 35,
   "metadata": {},
   "outputs": [
    {
     "ename": "TypeError",
     "evalue": "_() takes 1 positional argument but 2 were given",
     "output_type": "error",
     "traceback": [
      "\u001b[0;31m---------------------------------------------------------------------------\u001b[0m",
      "\u001b[0;31mTypeError\u001b[0m                                 Traceback (most recent call last)",
      "\u001b[0;32m<ipython-input-35-f0a03d36c1b5>\u001b[0m in \u001b[0;36m<module>\u001b[0;34m\u001b[0m\n\u001b[1;32m      3\u001b[0m \u001b[0;34m\u001b[0m\u001b[0m\n\u001b[1;32m      4\u001b[0m \u001b[0mh\u001b[0m \u001b[0;34m=\u001b[0m \u001b[0mdoubler\u001b[0m\u001b[0;34m(\u001b[0m\u001b[0msum2\u001b[0m\u001b[0;34m)\u001b[0m\u001b[0;34m\u001b[0m\u001b[0;34m\u001b[0m\u001b[0m\n\u001b[0;32m----> 5\u001b[0;31m \u001b[0mprint\u001b[0m\u001b[0;34m(\u001b[0m\u001b[0mh\u001b[0m\u001b[0;34m(\u001b[0m\u001b[0;36m1\u001b[0m\u001b[0;34m,\u001b[0m\u001b[0;36m2\u001b[0m\u001b[0;34m)\u001b[0m\u001b[0;34m)\u001b[0m \u001b[0;31m#TypeError!\u001b[0m\u001b[0;34m\u001b[0m\u001b[0;34m\u001b[0m\u001b[0m\n\u001b[0m",
      "\u001b[0;31mTypeError\u001b[0m: _() takes 1 positional argument but 2 were given"
     ]
    }
   ],
   "source": [
    "def sum2(x, y):\n",
    "  return x + y;\n",
    "\n",
    "h = doubler(sum2)\n",
    "print(h(1,2)) #TypeError!"
   ]
  },
  {
   "cell_type": "markdown",
   "metadata": {},
   "source": [
    "Oopsie!\n",
    "\n",
    "What we need is a way to specify a function that takes *arbitrary arguments*. This is where Python's `*args` and `**kwargs` come into play:"
   ]
  },
  {
   "cell_type": "code",
   "execution_count": 11,
   "metadata": {},
   "outputs": [
    {
     "name": "stdout",
     "output_type": "stream",
     "text": [
      "unnamed args:  (1, 2, 3, 4, 5, 6, 7)\n",
      "keyword args:  {'key1': 'NU', 'key2': 'rocks!', 'key3': 'heart'}\n"
     ]
    }
   ],
   "source": [
    "def magic(*args, **kwargs):\n",
    "  print (\"unnamed args: \", args)\n",
    "  print (\"keyword args: \", kwargs)\n",
    "magic(1, 2, 3, 4,5,6,7, key1 = 'NU', key2 = 'rocks!', key3 = 'heart')"
   ]
  },
  {
   "cell_type": "code",
   "execution_count": 12,
   "metadata": {},
   "outputs": [
    {
     "name": "stdout",
     "output_type": "stream",
     "text": [
      "key1 NU\n",
      "key2 rocks!\n",
      "key3 heart\n"
     ]
    }
   ],
   "source": [
    "def bar(**kwargs):\n",
    "    for a in kwargs:\n",
    "        print (a, kwargs[a])\n",
    "bar( key1 = 'NU', key2 = 'rocks!', key3 = 'heart')"
   ]
  },
  {
   "cell_type": "markdown",
   "metadata": {},
   "source": [
    "<br />\n",
    "<center>\n",
    "    <img src=\"ipynb.images/magic.png\" width=300 />**Ohhhhhhhhhhhh**</a><br>Ni zheng bing!\n",
    "</center>"
   ]
  },
  {
   "cell_type": "markdown",
   "metadata": {},
   "source": [
    "args is a `tuple` of its unnamed arguments and kwargs is a `dictionary` of its named arguments. So now we can:"
   ]
  },
  {
   "cell_type": "code",
   "execution_count": 37,
   "metadata": {},
   "outputs": [],
   "source": [
    "def doublerr(f):\n",
    "  \"\"\"works no matter the inputs\"\"\"\n",
    "  def g(*args, **kwargs):\n",
    "    \"\"\"pass all arguments to f\"\"\"\n",
    "    return 2 * f(*args, **kwargs)\n",
    "  return g"
   ]
  },
  {
   "cell_type": "markdown",
   "metadata": {},
   "source": [
    "and now:"
   ]
  },
  {
   "cell_type": "code",
   "execution_count": 38,
   "metadata": {},
   "outputs": [
    {
     "name": "stdout",
     "output_type": "stream",
     "text": [
      "6\n"
     ]
    }
   ],
   "source": [
    "g = doublerr(sum2)\n",
    "print(g(1, 2))  # 6:"
   ]
  },
  {
   "cell_type": "markdown",
   "metadata": {},
   "source": [
    "Now are ready to define **Probabiluty distributions** in python!\n",
    "\n",
    "We define `ProbDist` to take the same kinds of arguments that dict does: either a **mapping** (from item to its probability) or a **set** of (key, val) pairs, and/or optional keyword arguments (because each ball in the urn is *special* now: it has its *own* probability of being picked). \n",
    "\n",
    ">**A dose of reality**: It's like all boys/girls are not equal! You will not just pick any boy/girl to be your girl/boyfriend! There are some that have a *much higher chance* of being picked by you (related to *your* taste)!\n",
    "\n",
    "This is the first time (in class), that we will define a Python `class`, instead of a Python **function/lambda**. That is why we will define its **constructor** `__init__()`. We assume `self` (`this` in Python) is composed of a set:"
   ]
  },
  {
   "cell_type": "code",
   "execution_count": 36,
   "metadata": {
    "button": false,
    "new_sheet": false,
    "run_control": {
     "read_only": false
    }
   },
   "outputs": [],
   "source": [
    "class ProbDist(dict):\n",
    "    \"\"\"A Probability Distribution; an {outcome: probability} mapping.\"\"\"\n",
    "    def __init__(self, mapping=(), **kwargs):\n",
    "        self.update(mapping, **kwargs)\n",
    "        # print ('ProbDist', self);\n",
    "        # Make probabilities sum to 1.0; assert no negative probabilities\n",
    "        total = sum(self.values())\n",
    "        for outcome in self:\n",
    "            if self[outcome] == 0:\n",
    "                self[outcome] = 0\n",
    "            else:\n",
    "                self[outcome] = self[outcome] / total\n",
    "                assert self[outcome] >= 0"
   ]
  },
  {
   "cell_type": "markdown",
   "metadata": {
    "button": false,
    "new_sheet": false,
    "run_control": {
     "read_only": false
    }
   },
   "source": [
    "We also need to modify the functions `p` and `such_that` to accept either a sample space as we had previously, or a probability distribution as the second argument `space`. \n",
    "\n",
    ">**Oh-oh**: Now we need to branch out on the ***2nd argument** of function `p`!\n",
    "\n",
    "If we have a probability distribution, instead of *counting* each possible outcome equiprobably and thus just summing up `1`s (numerator: sum of all *favorable* outcomes, denominator: sum of all *possible* outcomes), we need to sum up the different discrete probabilities of each possible outcome: `sum(space[o] for o in space if o in event)`. \n",
    "\n",
    "We also need to modify `such_that()`, which is the set of all outcomes of our sample space for which the predicate (first) argument is `True`, so that its second argument can also be a `ProbDist`."
   ]
  },
  {
   "cell_type": "code",
   "execution_count": 37,
   "metadata": {
    "button": false,
    "new_sheet": false,
    "run_control": {
     "read_only": false
    }
   },
   "outputs": [],
   "source": [
    "def p(event, space): \n",
    "    \"\"\"The probability of an event, given a sample space of equiprobable outcomes. \n",
    "    event: a collection of outcomes, or a predicate that is true of outcomes in the event. \n",
    "    space: a set of outcomes or a probability distribution of {outcome: frequency} pairs.\"\"\"\n",
    "    if is_predicate(event):\n",
    "        ## print('here1')\n",
    "        event = such_that(event, space)\n",
    "    if isinstance(space, ProbDist):\n",
    "        ## print('here2')\n",
    "        ## print('here2-1', 'event', event, 'space', space)\n",
    "        return sum(space[o] for o in space if o in event)\n",
    "    else:\n",
    "        print('here3')\n",
    "        return Fraction(len(event & space), len(space))\n",
    "\n",
    "is_predicate = callable\n",
    "\n",
    "def such_that(predicate, space): \n",
    "    \"\"\"The outcomes in the sample pace for which the predicate is true.\n",
    "    If space is a set, return a subset {outcome,...} with outcomes where predicate(element) is true;\n",
    "    if space is a ProbDist, return a ProbDist {outcome: frequency,...} with outcomes where predicate(element) is true.\"\"\"\n",
    "    if isinstance(space, ProbDist):\n",
    "        ## print('here1-1')\n",
    "        return ProbDist({o:space[o] for o in space if predicate(o)})\n",
    "    else:\n",
    "        ## print('here1-2')\n",
    "        return {o for o in space if predicate(o)}"
   ]
  },
  {
   "cell_type": "markdown",
   "metadata": {
    "button": false,
    "new_sheet": false,
    "run_control": {
     "read_only": false
    }
   },
   "source": [
    "And now we can finally take on the Danes!\n",
    "<br />\n",
    "<center>\n",
    "    <img src=\"ipynb.images/Danes.png\" width=300 />\n",
    "</center>\n",
    "\n",
    "Here is the probability distribution for Danish two-child families as a dictionary describing the probability of each possible outcome:"
   ]
  },
  {
   "cell_type": "code",
   "execution_count": 38,
   "metadata": {
    "button": false,
    "new_sheet": false,
    "run_control": {
     "read_only": false
    }
   },
   "outputs": [
    {
     "data": {
      "text/plain": [
       "{'GG': 0.23840384261560926,\n",
       " 'GB': 0.24826679089140383,\n",
       " 'BG': 0.24882071317004043,\n",
       " 'BB': 0.2645086533229465}"
      ]
     },
     "execution_count": 38,
     "metadata": {},
     "output_type": "execute_result"
    }
   ],
   "source": [
    "DK = ProbDist(GG=121801, GB=126840,\n",
    "              BG=127123, BB=135138)\n",
    "DK"
   ]
  },
  {
   "cell_type": "markdown",
   "metadata": {
    "button": false,
    "new_sheet": false,
    "run_control": {
     "read_only": false
    }
   },
   "source": [
    "Let's write some useful predicates (lambdas):\n",
    "```python\n",
    "def first_girl(outcome):  return outcome[0] == 'G'\n",
    "def first_boy(outcome):   return outcome[0] == 'B'\n",
    "def second_girl(outcome): return outcome[1] == 'G'\n",
    "def second_boy(outcome):  return outcome[1] == 'B'\n",
    "def two_girls(outcome):   return outcome    == 'GG'\n",
    "```\n",
    "Using these predicates, answer the following questions:\n",
    "\n",
    "* What's the probability for a girl, and is it higher or lower for a second girl?\n",
    "* Is the sex of the second child more likely or less likely to be the same as the first child?\n",
    "\n",
    "*Hint:* You will leverage `p(first_girl, DK)`, `p(second_girl, DK)`, `p(second_girl, such_that(first_girl, DK))`, and `p(second_girl, such_that(first_boy, DK))`"
   ]
  },
  {
   "cell_type": "code",
   "execution_count": 49,
   "metadata": {
    "button": false,
    "new_sheet": false,
    "run_control": {
     "read_only": false
    }
   },
   "outputs": [],
   "source": [
    "def first_girl(outcome):  return outcome[0] == 'G'\n",
    "def first_boy(outcome):   return outcome[0] == 'B'\n",
    "def second_girl(outcome): return outcome[1] == 'G'\n",
    "def second_boy(outcome):  return outcome[1] == 'B'\n",
    "def two_girls(outcome):   return outcome    == 'GG'"
   ]
  },
  {
   "cell_type": "code",
   "execution_count": 50,
   "metadata": {},
   "outputs": [
    {
     "name": "stdout",
     "output_type": "stream",
     "text": [
      "here1\n",
      "here1-1\n",
      "ProbDist {'GG': 0.23840384261560926, 'GB': 0.24826679089140383}\n",
      "here2\n",
      "here2-1 event {'GG': 0.4898669165584115, 'GB': 0.5101330834415885} space {'GG': 0.23840384261560926, 'GB': 0.24826679089140383, 'BG': 0.24882071317004043, 'BB': 0.2645086533229465}\n"
     ]
    },
    {
     "data": {
      "text/plain": [
       "0.4866706335070131"
      ]
     },
     "execution_count": 50,
     "metadata": {},
     "output_type": "execute_result"
    }
   ],
   "source": [
    "p(first_girl, DK)"
   ]
  },
  {
   "cell_type": "code",
   "execution_count": 51,
   "metadata": {},
   "outputs": [
    {
     "name": "stdout",
     "output_type": "stream",
     "text": [
      "here1\n",
      "here1-1\n",
      "ProbDist {'GG': 0.23840384261560926, 'BG': 0.24882071317004043}\n",
      "here2\n",
      "here2-1 event {'GG': 0.48930999019781135, 'BG': 0.5106900098021886} space {'GG': 0.23840384261560926, 'GB': 0.24826679089140383, 'BG': 0.24882071317004043, 'BB': 0.2645086533229465}\n"
     ]
    },
    {
     "data": {
      "text/plain": [
       "0.4872245557856497"
      ]
     },
     "execution_count": 51,
     "metadata": {},
     "output_type": "execute_result"
    }
   ],
   "source": [
    "p(second_girl, DK)"
   ]
  },
  {
   "cell_type": "code",
   "execution_count": 52,
   "metadata": {},
   "outputs": [
    {
     "name": "stdout",
     "output_type": "stream",
     "text": [
      "here1\n",
      "here1-1\n",
      "ProbDist {'BG': 0.24882071317004043, 'BB': 0.2645086533229465}\n",
      "here2\n",
      "here2-1 event {'BG': 0.48471942072973107, 'BB': 0.5152805792702689} space {'GG': 0.23840384261560926, 'GB': 0.24826679089140383, 'BG': 0.24882071317004043, 'BB': 0.2645086533229465}\n"
     ]
    },
    {
     "data": {
      "text/plain": [
       "0.5133293664929869"
      ]
     },
     "execution_count": 52,
     "metadata": {},
     "output_type": "execute_result"
    }
   ],
   "source": [
    "p(first_boy, DK)"
   ]
  },
  {
   "cell_type": "code",
   "execution_count": 53,
   "metadata": {},
   "outputs": [
    {
     "name": "stdout",
     "output_type": "stream",
     "text": [
      "here1\n",
      "here1-1\n",
      "ProbDist {'GB': 0.24826679089140383, 'BB': 0.2645086533229465}\n",
      "here2\n",
      "here2-1 event {'GB': 0.48416279229553627, 'BB': 0.5158372077044637} space {'GG': 0.23840384261560926, 'GB': 0.24826679089140383, 'BG': 0.24882071317004043, 'BB': 0.2645086533229465}\n"
     ]
    },
    {
     "data": {
      "text/plain": [
       "0.5127754442143503"
      ]
     },
     "execution_count": 53,
     "metadata": {},
     "output_type": "execute_result"
    }
   ],
   "source": [
    "p(second_boy, DK)"
   ]
  },
  {
   "cell_type": "code",
   "execution_count": 54,
   "metadata": {},
   "outputs": [
    {
     "name": "stdout",
     "output_type": "stream",
     "text": [
      "here1-1\n",
      "ProbDist {'GG': 0.23840384261560926, 'GB': 0.24826679089140383}\n",
      "here1\n",
      "here1-1\n",
      "ProbDist {'GG': 0.4898669165584115}\n",
      "here2\n",
      "here2-1 event {'GG': 1.0} space {'GG': 0.4898669165584115, 'GB': 0.5101330834415885}\n"
     ]
    },
    {
     "data": {
      "text/plain": [
       "0.4898669165584115"
      ]
     },
     "execution_count": 54,
     "metadata": {},
     "output_type": "execute_result"
    }
   ],
   "source": [
    "p(second_girl, such_that(first_girl, DK))"
   ]
  },
  {
   "cell_type": "markdown",
   "metadata": {},
   "source": [
    " P = ( p(GG) / ( P(GG) + P(GB) ) "
   ]
  },
  {
   "cell_type": "code",
   "execution_count": 55,
   "metadata": {},
   "outputs": [
    {
     "name": "stdout",
     "output_type": "stream",
     "text": [
      "here1\n",
      "here1-1\n",
      "ProbDist {'GG': 0.23840384261560926}\n",
      "here2\n",
      "here2-1 event {'GG': 1.0} space {'GG': 0.23840384261560926, 'GB': 0.24826679089140383, 'BG': 0.24882071317004043, 'BB': 0.2645086533229465}\n"
     ]
    },
    {
     "data": {
      "text/plain": [
       "0.23840384261560926"
      ]
     },
     "execution_count": 55,
     "metadata": {},
     "output_type": "execute_result"
    }
   ],
   "source": [
    "def second_girl_first_girl(outcome):\n",
    "    if outcome[0] == 'G':\n",
    "        return outcome[1] == 'G'\n",
    "\n",
    "p(second_girl_first_girl, DK)"
   ]
  },
  {
   "cell_type": "markdown",
   "metadata": {},
   "source": [
    "The above says that the probability of a girl is somewhere between 48% and 49%, but that it is slightly different between the first or second child.\n",
    "\n",
    "Now answer the question as to whether the sex of the second child is *more likely* or *less likely* to be the same as the first child, by evaluating first:\n",
    "\n",
    "- The probability of a second girl given that the first child was a girl (a joint probability)\n",
    "- The probability of a second girl given that the first child was a boy (a joint probability)\n",
    "- The probability of a second boy given that the first child was a boy (a joint probability)\n",
    "- The probability of a second boy given that the first child was a girl (a joint probability)\n",
    "\n",
    "The average of the first two probabilities above represents the probability of a second girl, a [**marginal probability**](https://en.wikipedia.org/wiki/Marginal_distribution) in our problem.\n",
    "\n",
    "The avergage of the last two probabilities above represents the probability of a second boy, a **marginal probability** in our problem."
   ]
  },
  {
   "cell_type": "code",
   "execution_count": 67,
   "metadata": {},
   "outputs": [
    {
     "data": {
      "text/plain": [
       "(0.4898669165584115, 0.48471942072973107)"
      ]
     },
     "execution_count": 67,
     "metadata": {},
     "output_type": "execute_result"
    }
   ],
   "source": [
    "p(second_girl, such_that(first_girl, DK)),p(second_girl, such_that(first_boy, DK))"
   ]
  },
  {
   "cell_type": "code",
   "execution_count": 68,
   "metadata": {},
   "outputs": [
    {
     "data": {
      "text/plain": [
       "(0.5101330834415885, 0.5152805792702689)"
      ]
     },
     "execution_count": 68,
     "metadata": {},
     "output_type": "execute_result"
    }
   ],
   "source": [
    "p(second_boy, such_that(first_girl, DK)),p(second_boy, such_that(first_boy, DK))"
   ]
  },
  {
   "cell_type": "markdown",
   "metadata": {},
   "source": [
    "The above says that the sex of the second child is more likely to be the same as the first child, by about 1/2 a percentage point."
   ]
  },
  {
   "cell_type": "markdown",
   "metadata": {
    "button": false,
    "new_sheet": false,
    "run_control": {
     "read_only": false
    }
   },
   "source": [
    "You should find that the probability of a girl is somewhere between 48% and 49%, but slightly different between the first or second child, and that the sex of the second child is more likely to be the same as the first child, by about 1/2 a percentage point."
   ]
  },
  {
   "cell_type": "markdown",
   "metadata": {
    "button": false,
    "new_sheet": false,
    "run_control": {
     "read_only": false
    }
   },
   "source": [
    "# 6. M&Ms and Bayes\n",
    "<br />\n",
    "<center>\n",
    "<img src=\"https://upload.wikimedia.org/wikipedia/en/9/97/M%26M_spokescandies.jpeg\" />\n",
    "</center>\n",
    "\n",
    "Here's another classic urn problem (or \"bag\" problem) [from](http://allendowney.blogspot.com/2011/10/my-favorite-bayess-theorem-problems.html) prolific Python/Probability author [Allen Downey ](http://allendowney.blogspot.com/), which also happens to be a classic interview question:\n",
    "\n",
    "> The blue M&M was introduced in 1995.  Before then, the color mix in a bag of plain M&Ms was (30% Brown, 20% Yellow, 20% Red, 10% Green, 10% Orange, 10% Tan).  Afterward it was (24% Blue , 20% Green, 16% Orange, 14% Yellow, 13% Red, 13% Brown). \n",
    "A friend of mine has two bags of M&Ms, and he tells me that one is from 1994 and one from 1996.  He won't tell me which is which, but he gives me one M&M from each bag.  One is yellow and one is green.  What is the probability that the yellow M&M came from the 1994 bag? Well, the old M&M bags' yellow count was higher, so it must be higher, right? But how to count?\n",
    "\n",
    "To solve this problem, we'll first represent probability distributions for each bag: `bag94` and `bag96`, by using `ProbDist` and passing in dictionaries for each year:\n",
    "```python\n",
    "bag94 = ProbDist(brown=30, yellow=20, red=20, green=10, orange=10, tan=10)\n",
    "bag96 = ProbDist(...)  #fill this in, please\n",
    "```"
   ]
  },
  {
   "cell_type": "code",
   "execution_count": 8,
   "metadata": {
    "button": false,
    "new_sheet": false,
    "run_control": {
     "read_only": false
    }
   },
   "outputs": [
    {
     "name": "stdout",
     "output_type": "stream",
     "text": [
      "{'brown': 0.3, 'yellow': 0.2, 'red': 0.2, 'green': 0.1, 'orange': 0.1, 'tan': 0.1}\n",
      "{'blue': 0.24, 'green': 0.2, 'orange': 0.16, 'yellow': 0.14, 'red': 0.13, 'brown': 0.13}\n"
     ]
    }
   ],
   "source": [
    "bag94 = ProbDist(brown=30, yellow=20, red=20, green=10, orange=10, tan=10)\n",
    "print (bag94)\n",
    "bag96 = ProbDist(blue=24, green=20, orange=16, yellow=14, red=13, brown=13)\n",
    "print (bag96)"
   ]
  },
  {
   "cell_type": "markdown",
   "metadata": {
    "button": false,
    "new_sheet": false,
    "run_control": {
     "read_only": false
    }
   },
   "source": [
    "Next, define `MM` as the *joint* distribution 94-96&mdash;the sample space for picking *one* M&M from *each* bag. The outcome `'yellow green'` means that a yellow M&M was selected from the 1994 bag and a green one from the 1996 bag. We will use a *set comprehension*.\n",
    "\n",
    "Uhhhh... What do we use for sets again? Is it `[`, or `(`, or `{`?\n",
    "\n",
    "To note:\n",
    "* We are using a python *set* because we care about dictionaries, and dictionary keys are unique\n",
    "* You can also think in terms of JSON objects\n",
    "\n",
    "```python\n",
    "def joint(A, B, sep=''):\n",
    "    \"\"\"The joint distribution of two independent probability distributions. \n",
    "    Result is all entries of the form {a+sep+b: P(a)*P(b)}\"\"\"\n",
    "    return ProbDist({a + sep + b: A[a] * B[b]\n",
    "                    for ...\n",
    "                    for ...})\n",
    "\n",
    "MM = joint(bag94, bag96, ' ')\n",
    "MM\n",
    "```"
   ]
  },
  {
   "cell_type": "code",
   "execution_count": 9,
   "metadata": {
    "button": false,
    "new_sheet": false,
    "run_control": {
     "read_only": false
    }
   },
   "outputs": [
    {
     "name": "stdout",
     "output_type": "stream",
     "text": [
      "bag94 {'brown': 0.3, 'yellow': 0.2, 'red': 0.2, 'green': 0.1, 'orange': 0.1, 'tan': 0.1}\n",
      "bag96 {'blue': 0.24, 'green': 0.2, 'orange': 0.16, 'yellow': 0.14, 'red': 0.13, 'brown': 0.13}\n"
     ]
    },
    {
     "data": {
      "text/plain": [
       "{'brown blue': 0.07199999999999997,\n",
       " 'brown green': 0.05999999999999997,\n",
       " 'brown orange': 0.04799999999999998,\n",
       " 'brown yellow': 0.04199999999999998,\n",
       " 'brown red': 0.038999999999999986,\n",
       " 'brown brown': 0.038999999999999986,\n",
       " 'yellow blue': 0.04799999999999998,\n",
       " 'yellow green': 0.03999999999999999,\n",
       " 'yellow orange': 0.03199999999999999,\n",
       " 'yellow yellow': 0.02799999999999999,\n",
       " 'yellow red': 0.025999999999999992,\n",
       " 'yellow brown': 0.025999999999999992,\n",
       " 'red blue': 0.04799999999999998,\n",
       " 'red green': 0.03999999999999999,\n",
       " 'red orange': 0.03199999999999999,\n",
       " 'red yellow': 0.02799999999999999,\n",
       " 'red red': 0.025999999999999992,\n",
       " 'red brown': 0.025999999999999992,\n",
       " 'green blue': 0.02399999999999999,\n",
       " 'green green': 0.019999999999999993,\n",
       " 'green orange': 0.015999999999999993,\n",
       " 'green yellow': 0.013999999999999995,\n",
       " 'green red': 0.012999999999999996,\n",
       " 'green brown': 0.012999999999999996,\n",
       " 'orange blue': 0.02399999999999999,\n",
       " 'orange green': 0.019999999999999993,\n",
       " 'orange orange': 0.015999999999999993,\n",
       " 'orange yellow': 0.013999999999999995,\n",
       " 'orange red': 0.012999999999999996,\n",
       " 'orange brown': 0.012999999999999996,\n",
       " 'tan blue': 0.02399999999999999,\n",
       " 'tan green': 0.019999999999999993,\n",
       " 'tan orange': 0.015999999999999993,\n",
       " 'tan yellow': 0.013999999999999995,\n",
       " 'tan red': 0.012999999999999996,\n",
       " 'tan brown': 0.012999999999999996}"
      ]
     },
     "execution_count": 9,
     "metadata": {},
     "output_type": "execute_result"
    }
   ],
   "source": [
    "def joint(A, B, sep=''):\n",
    "    \"\"\"The joint distribution of two independent probability distributions. \n",
    "    Result is all entries of the form {a+sep+b: P(a)*P(b)}\"\"\"\n",
    "    return ProbDist({a + sep + b: A[a] * B[b] for a in A for b in B})\n",
    "print('bag94', bag94)\n",
    "print('bag96', bag96)\n",
    "MM = joint(bag94, bag96, ' ')\n",
    "MM"
   ]
  },
  {
   "cell_type": "markdown",
   "metadata": {
    "button": false,
    "new_sheet": false,
    "run_control": {
     "read_only": false
    }
   },
   "source": [
    "Let's look at the \"One is yellow and one is green\" part:\n",
    "\n",
    "```python\n",
    "def yellow_and_green(outcome): return 'yellow' in outcome and 'green' in outcome\n",
    "\n",
    "such_that(...) # fill this in\n",
    "```"
   ]
  },
  {
   "cell_type": "code",
   "execution_count": 170,
   "metadata": {
    "button": false,
    "new_sheet": false,
    "run_control": {
     "read_only": false
    }
   },
   "outputs": [
    {
     "name": "stdout",
     "output_type": "stream",
     "text": [
      "here1-1\n",
      "ProbDist {'yellow green': 0.03999999999999999, 'green yellow': 0.013999999999999995}\n"
     ]
    },
    {
     "data": {
      "text/plain": [
       "{'yellow green': 0.7407407407407408, 'green yellow': 0.25925925925925924}"
      ]
     },
     "execution_count": 170,
     "metadata": {},
     "output_type": "execute_result"
    }
   ],
   "source": [
    "def yellow_and_green(outcome): return 'yellow' in outcome and 'green' in outcome\n",
    "such_that(yellow_and_green, MM)"
   ]
  },
  {
   "cell_type": "markdown",
   "metadata": {
    "button": false,
    "new_sheet": false,
    "run_control": {
     "read_only": false
    }
   },
   "source": [
    "Now we can answer the question: given that we got a yellow and a green (but don't know which comes from which bag), what is the probability that the yellow came from the 1994 bag?\n",
    "\n",
    "```python\n",
    "def yellow94(outcome): return ...\n",
    "\n",
    "p(yellow94, such_that(...)) # fill this in\n",
    "```"
   ]
  },
  {
   "cell_type": "code",
   "execution_count": 171,
   "metadata": {
    "button": false,
    "new_sheet": false,
    "run_control": {
     "read_only": false
    }
   },
   "outputs": [
    {
     "name": "stdout",
     "output_type": "stream",
     "text": [
      "here1-1\n",
      "ProbDist {'yellow green': 0.03999999999999999, 'green yellow': 0.013999999999999995}\n",
      "here1\n",
      "here1-1\n",
      "ProbDist {'yellow green': 0.7407407407407408}\n",
      "here2\n",
      "here2-1 event {'yellow green': 1.0} space {'yellow green': 0.7407407407407408, 'green yellow': 0.25925925925925924}\n"
     ]
    },
    {
     "data": {
      "text/plain": [
       "0.7407407407407408"
      ]
     },
     "execution_count": 171,
     "metadata": {},
     "output_type": "execute_result"
    }
   ],
   "source": [
    "def yellow94(outcome): return outcome.startswith('yellow')\n",
    "\n",
    "p(yellow94, such_that(yellow_and_green, MM))"
   ]
  },
  {
   "cell_type": "code",
   "execution_count": 172,
   "metadata": {},
   "outputs": [
    {
     "name": "stdout",
     "output_type": "stream",
     "text": [
      "here1-1\n",
      "ProbDist {'yellow green': 0.03999999999999999, 'green yellow': 0.013999999999999995}\n",
      "here1\n",
      "here1-1\n",
      "ProbDist {'green yellow': 0.25925925925925924}\n",
      "here2\n",
      "here2-1 event {'green yellow': 1.0} space {'yellow green': 0.7407407407407408, 'green yellow': 0.25925925925925924}\n"
     ]
    },
    {
     "data": {
      "text/plain": [
       "0.25925925925925924"
      ]
     },
     "execution_count": 172,
     "metadata": {},
     "output_type": "execute_result"
    }
   ],
   "source": [
    "def yellow96(outcome): return outcome.endswith('yellow')\n",
    "\n",
    "p(yellow96, such_that(yellow_and_green, MM))"
   ]
  },
  {
   "cell_type": "markdown",
   "metadata": {
    "button": false,
    "new_sheet": false,
    "run_control": {
     "read_only": false
    }
   },
   "source": [
    "So there is a 74% chance that the yellow comes from the 1994 bag. We were *right* about our hunch :-)\n",
    "\n",
    "Answering this question was straightforward: just like all the other probability problems, we simply create a sample space, and use `p` to pick out the probability of the event in question, given what we know about the outcome. This is the 'mechanistic' way of obtaining our answer.\n",
    "\n",
    "We can *also* solve it using *Bayes' Theorem*, and this is as good as any's introduction to naive Bayes theory: We are asked about the probability of an event (M&M94 --> M&M96) given the evidence (M&M94 is yellow, M&M96 green), which is not immediately available. However the probability of the evidence, given the event is readily available!  \n",
    "\n",
    "Before we see the colors of the M&Ms, there are two hypotheses, `A` and `B`, both with equal probability:\n",
    "\n",
    "    A: first M&M from 94 bag, second from 96 bag\n",
    "    B: first M&M from 96 bag, second from 94 bag\n",
    "    P(A) = P(B) = 0.5\n",
    "    \n",
    "Then we get some evidence:\n",
    "    \n",
    "    E: first M&M yellow, second green\n",
    "    \n",
    "We want to know the probability of hypothesis `A`, given the evidence:\n",
    "    \n",
    "    P(A | E)\n",
    "    \n",
    "That's not easy to calculate (except by enumerating the sample space, which is what we did above). But Bayes Theorem says:\n",
    "    \n",
    "    P(A | E) = P(E | A) * P(A) / P(E)\n",
    "    \n",
    "The quantities on the *right-hand-side* are easier to calculate:\n",
    "    \n",
    "    P(E | A) = 20/100 * 20/100 = 0.04\n",
    "    P(E | B) = 10/100 * 14/100 = 0.014\n",
    "    P(A)     = 0.5\n",
    "    P(B)     = 0.5\n",
    "    P(E)     = P(E | A) * P(A) + P(E | B) * P(B) \n",
    "             = 0.04     * 0.5  + 0.014    * 0.5   =   0.027\n",
    "             \n",
    "Where did the probability of the evidence P(E) formula come from?\n",
    "\n",
    "There are two possibilities of getting the evidence: A and B, a *union* and so we sum their probabilities. The joint probability of the evidence *and* case A is a succession or *intersection*, so it must be a product of their probabilities: P(E|A).P(A). Likewise for the case B: P(E|B).P(B) \n",
    "    \n",
    "And so we can get a final answer:\n",
    "    \n",
    "    P(A | E) = P(E | A) * P(A) / P(E) \n",
    "             = 0.04     * 0.5  / 0.027 \n",
    "             = 0.7407407407\n",
    "             \n",
    "Bayes Theorem allows you to do less calculation at the cost of more algebra; that is a great trade-off if you are working with pencil and paper (like in interview situations). Enumerating the state space allows you to do less algebra at the cost of more calculation; often a good trade-off if you have a computer. But regardless of the approach you use, it is important to understand Bayes theorem and how it works.\n",
    "\n",
    "Bayes' theorem will be our introduction to more advanced statistics, which we'll cover *next* week!"
   ]
  },
  {
   "cell_type": "markdown",
   "metadata": {},
   "source": [
    "# Big Data? Big Deal..\n",
    "\n",
    "So far, we have talked of an *outcome* as being a single state of the world. But it can be useful to break that state of the world down into many components. We call these components **random variables**. For example, when we consider an experiment in which we roll *two* dice and observe their sum, we could model the situation with *two* random variables, one for each die (our representation of outcomes has been doing that implicitly all along, when we concatenate two parts of a string, but the concept of a random variable makes it official.)\n",
    "\n",
    "Remember [this](https://www.mathsisfun.com/data/quincunx.html) experiment?\n",
    "\n",
    "The **Central Limit Theorem** states that if you have a collection of random variables and sum them up, then the *larger* the collection, the *closer* the sum will be to a *normal distribution* (also called a *Gaussian distribution* or a *bell-shaped curve*). This illustrates why Data Science with **Big Data** is not really a challenge at all (other than how to store and compute with data that is larger than the RAM on your laptop)! If you have tons of data, then frequentist and Bayesian statistics coincide, there is little doubt about outcomes, and it is clear which outcome to place your bets on.\n",
    "\n",
    "The challenge is with **Small Data**, where there is doubt and you have no idea of the pdf, and you have to painstakingly  build a model with parameters, and refine your parameters so the model fits the data.\n",
    "\n",
    "Why do accidents happen in autonomous vehicles when it snows, at dusk, when the moon is behind a traffic light, and a pedestrian is crossing the street on a red light? Precisely because we don't have Big Data about that use case, and the autonomous car has **no idea what to do**! Uber needs *you* to program it for the Small DAta cases. Big Data is piece of cake!\n",
    "\n",
    "This is a good time to introduce the concept of a **histogram**, which is essentially a probability density function that we get from data collection or from analytic curves. If we have the 2D function `f(x,y)`, we can estimate the discretized probability density function (pdf) of `f` by computing how many values of `f` fall into specific bins with prespecified values of y.\n",
    "\n",
    "Plot the pdf of the following graph:\n",
    "<br />\n",
    "<center>\n",
    "    <img src=\"ipynb.images/graph.png\" width=200 />\n",
    "</center>"
   ]
  },
  {
   "cell_type": "markdown",
   "metadata": {},
   "source": [
    "### Celtics\n",
    "\n",
    "As another example, let's take 5 random variables reprsenting the per-game scores of the 5 Celtics starters for the 2018 season (Jayson Tatum or JT, Jaylen Brown or JB, Terry Rozier or TR, Al Horford or AL, and Aron Baynes or AB), and then sum them together to form the team score. The scores here are imaginary to introduce statistical function `gauss`, `triangular`, `vonmisesvariate`, and `uniform`. For the real season scores of this exciting and ultimately deflating season, visit [here](http://www.nba.com/celtics/stats?sort=PTS). Each random variable/player is represented as a probability distribution function; calling the function returns a single sample from the distribution:"
   ]
  },
  {
   "cell_type": "code",
   "execution_count": 173,
   "metadata": {},
   "outputs": [],
   "source": [
    "from random import gauss, triangular, choice, vonmisesvariate, uniform\n",
    "\n",
    "def JT(): return posint(gauss(15.1, 3) + 3 * triangular(1, 4, 13)) # 30.1\n",
    "def JB(): return posint(gauss(10.2, 3) + 3 * triangular(1, 3.5, 9)) # 22.1\n",
    "def TR(): return posint(vonmisesvariate(30, 2) * 3.08) # 14.0\n",
    "def AH(): return posint(gauss(6.7, 1.5) if choice((True, False)) else gauss(16.7, 2.5)) # 11.7\n",
    "def AB(): return posint(triangular(5, 17, 25) + uniform(0, 30) + gauss(6, 3)) # 37.0\n",
    "\n",
    "def posint(x): \"Positive integer\"; return max(0, int(round(x)))"
   ]
  },
  {
   "cell_type": "markdown",
   "metadata": {},
   "source": [
    "And here is a function to sample a random variable *k* times, show a histogram of the results, and return the mean:"
   ]
  },
  {
   "cell_type": "code",
   "execution_count": 174,
   "metadata": {},
   "outputs": [],
   "source": [
    "from statistics import mean\n",
    "from matplotlib import pyplot as plt\n",
    "\n",
    "def repeated_hist(rv, bins=10, k=100000):\n",
    "    \"Repeat rv() k times and make a histogram of the results.\"\n",
    "    samples = [rv() for _ in range(k)]\n",
    "    plt.hist(samples, bins=bins)\n",
    "    return mean(samples)"
   ]
  },
  {
   "cell_type": "markdown",
   "metadata": {},
   "source": [
    "The two top-scoring players, Jayson Tatum (JT) and Jaylen Brown (JB), have scoring distributions that are slightly skewed from normal:"
   ]
  },
  {
   "cell_type": "code",
   "execution_count": 175,
   "metadata": {},
   "outputs": [
    {
     "data": {
      "text/plain": [
       "30.09901"
      ]
     },
     "execution_count": 175,
     "metadata": {},
     "output_type": "execute_result"
    },
    {
     "data": {
      "image/png": "[encoded data removed]",
      "text/plain": [
       "<Figure size 432x288 with 1 Axes>"
      ]
     },
     "metadata": {
      "needs_background": "light"
     },
     "output_type": "display_data"
    }
   ],
   "source": [
    "repeated_hist(JT, bins=range(60))"
   ]
  },
  {
   "cell_type": "code",
   "execution_count": 74,
   "metadata": {},
   "outputs": [
    {
     "data": {
      "text/plain": [
       "22.14894"
      ]
     },
     "execution_count": 74,
     "metadata": {},
     "output_type": "execute_result"
    },
    {
     "data": {
      "image/png": "[encoded data removed]",
      "text/plain": [
       "<Figure size 432x288 with 1 Axes>"
      ]
     },
     "metadata": {
      "needs_background": "light"
     },
     "output_type": "display_data"
    }
   ],
   "source": [
    "repeated_hist(JB, bins=range(60))"
   ]
  },
  {
   "cell_type": "markdown",
   "metadata": {},
   "source": [
    "The next two players have bi-modal distributions; some games they score a lot, some games not:"
   ]
  },
  {
   "cell_type": "code",
   "execution_count": 75,
   "metadata": {},
   "outputs": [
    {
     "data": {
      "text/plain": [
       "14.02875"
      ]
     },
     "execution_count": 75,
     "metadata": {},
     "output_type": "execute_result"
    },
    {
     "data": {
      "image/png": "[encoded data removed]",
      "text/plain": [
       "<Figure size 432x288 with 1 Axes>"
      ]
     },
     "metadata": {
      "needs_background": "light"
     },
     "output_type": "display_data"
    }
   ],
   "source": [
    "repeated_hist(TR, bins=range(60))"
   ]
  },
  {
   "cell_type": "code",
   "execution_count": 76,
   "metadata": {},
   "outputs": [
    {
     "data": {
      "text/plain": [
       "11.69169"
      ]
     },
     "execution_count": 76,
     "metadata": {},
     "output_type": "execute_result"
    },
    {
     "data": {
      "image/png": "[encoded data removed]",
      "text/plain": [
       "<Figure size 432x288 with 1 Axes>"
      ]
     },
     "metadata": {
      "needs_background": "light"
     },
     "output_type": "display_data"
    }
   ],
   "source": [
    "repeated_hist(AH, bins=range(60))"
   ]
  },
  {
   "cell_type": "markdown",
   "metadata": {},
   "source": [
    "The fifth \"player\" (actually the sum of all the other players on the team, not really Aron Baymes, or they would have easily defeated the Cavaliers!) looks like this:"
   ]
  },
  {
   "cell_type": "code",
   "execution_count": 77,
   "metadata": {},
   "outputs": [
    {
     "data": {
      "text/plain": [
       "36.33028"
      ]
     },
     "execution_count": 77,
     "metadata": {},
     "output_type": "execute_result"
    },
    {
     "data": {
      "image/png": "[encoded data removed]",
      "text/plain": [
       "<Figure size 432x288 with 1 Axes>"
      ]
     },
     "metadata": {
      "needs_background": "light"
     },
     "output_type": "display_data"
    }
   ],
   "source": [
    "repeated_hist(AB, bins=range(60))"
   ]
  },
  {
   "cell_type": "markdown",
   "metadata": {},
   "source": [
    "Go ahead, add more players to the Celtics, each with their own scoring distribution. Modify and use the below template:\n",
    "```python\n",
    "def XX(): return posint(gauss(15.1, 3) + 3 * triangular(1, 4, 13)) # 30.1\n",
    "```\n",
    "\n",
    "Add then in the cell below:"
   ]
  },
  {
   "cell_type": "code",
   "execution_count": 85,
   "metadata": {},
   "outputs": [
    {
     "data": {
      "text/plain": [
       "30.09251"
      ]
     },
     "execution_count": 85,
     "metadata": {},
     "output_type": "execute_result"
    },
    {
     "data": {
      "image/png": "[encoded data removed]",
      "text/plain": [
       "<Figure size 432x288 with 1 Axes>"
      ]
     },
     "metadata": {
      "needs_background": "light"
     },
     "output_type": "display_data"
    }
   ],
   "source": [
    "def XX(): return posint(gauss(15.1, 3) + 3 * triangular(1, 4, 13)) # 30.1\n",
    "repeated_hist(XX, bins=range(60))"
   ]
  },
  {
   "cell_type": "markdown",
   "metadata": {},
   "source": [
    "Now we define the team score to be the sum of the five players, and look at the distribution. Don't forge to add your own players!"
   ]
  },
  {
   "cell_type": "code",
   "execution_count": 86,
   "metadata": {},
   "outputs": [
    {
     "data": {
      "text/plain": [
       "114.25589"
      ]
     },
     "execution_count": 86,
     "metadata": {},
     "output_type": "execute_result"
    },
    {
     "data": {
      "image/png": "[encoded data removed]",
      "text/plain": [
       "<Figure size 432x288 with 1 Axes>"
      ]
     },
     "metadata": {
      "needs_background": "light"
     },
     "output_type": "display_data"
    }
   ],
   "source": [
    "def GSW(): return JT() + JB() + TR() + AH() + AB()  # + ... add your own players!\n",
    "\n",
    "repeated_hist(GSW, bins=range(70, 160, 2))"
   ]
  },
  {
   "cell_type": "markdown",
   "metadata": {},
   "source": [
    "Sure enough, this looks very much like a **normal distribution**! \n",
    "\n",
    "The Central Limit Theorem holds, and that is why the statistics of NBA teams are so *predictable*. \n",
    "\n",
    "When you have a lot of data, you have little doubt, and the Data Science is *easy*. Deep Learning ANNs are very good at building hypersurfaces that match all the state variables of past outcomes. When you are asked to predict new outcomes based on a partial subset of state variables (independent variables), machines just project the lower dimensional hypersurface onto the higher dimensional hypersurface (stored in very compact form) and fill in the missing dimensions in order to predict the dependent variables. \n",
    "\n",
    "<br />\n",
    "<center>\n",
    "    <img src=\"ipynb.images/manifold.jpg\" width=300 />\n",
    "</center>\n",
    "\n",
    "\n",
    "We saw just a few days ago how machines can even predict non-linear functions if we give them tons of data, but when the data is not enough, they *cannot* predict!\n",
    "\n",
    "So what do we do when we *don't have enough data*? Do we just give up? We'll see next week how **Bayesian statistics** come to the rescue, *when we have to deal with doubt*."
   ]
  },
  {
   "cell_type": "markdown",
   "metadata": {},
   "source": [
    "# Conclusion¶\n",
    "We've built a framework for estimating probabilities that will come in handy when you are asked to build data models. We *started playing* with **Bayes' theorem**, a *pillar* of data science, and we started learning how to answer typical Data Science interview questions, which you should *always* answer in python because you *will* run out of space on the whiteboard if you use squiggly brackets and other languages! \n",
    "\n",
    "Next week we move on to statistical modeling and inference. \n",
    "\n",
    "**Modeling** (one `l` or 2 `l`s? See [here](https://www.grammarly.com/blog/modeling-or-modelling/)) happens when data is scarce and precious and hard to obtain, for example in social sciences and settings where it is difficult to conduct large-scale controlled experiments. With small data it is important to quantify uncertainty and that’s precisely what Bayesian approaches are good at. **Inference** refers to how you learn parameters of your model (Markov Chain Monte Carlo, or MCMC, albeit computationally expensive, is one of the most important methods for statistical inference), which is especially important with Bayesian Machine Learning, where we can actually inquire with Machines why this or that action was undertaken.\n",
    "\n",
    "*Alexa, why did you lower the temperature in the bedroom?* **Because your wife told me that whenever you start snoring, John, colder tempreatures make you bundle up under the cover and you snore less**. \n",
    "\n",
    "<br />\n",
    "<center>\n",
    "    <img src=\"ipynb.images/echo.jpg\" width=200 />\n",
    "</center>\n",
    "\n",
    "Best advice for interviews: Be explicit about what the problem says, have the interviewer verify the working hypotheses, be methodical about defining the sample space, be careful in counting the number of outcomes in the numerator and denominator, and finally use Bayes' theorem (or 1 minus the negation) whenever possible because you will be doing calculations by hand on a whiteboard!\n",
    "\n",
    "<br />\n",
    "<center>\n",
    "    <img src=\"ipynb.images/jobinterview.jpg\" width=400 />\n",
    "</center>"
   ]
  },
  {
   "cell_type": "markdown",
   "metadata": {},
   "source": [
    "# Homework for next week: Introduction to Data Science for Sports\n",
    "\n",
    "You will exercise your knowledge of probabilities and writing down logic with python.\n",
    "\n",
    "<br />\n",
    "<center>\n",
    "    <img src=\"ipynb.images/f1races.png\" width=800 />\n",
    "</center>\n",
    "\n",
    "Question 1.1 (20 points) There are a number of F1 races coming up: \n",
    "- Singapore GP: Date: Sun, Sep 22, 8:10 AM\n",
    "- Russian GP: Date: Sun, Sep 29, 7:10 AM\n",
    "- Japanese GP: Date: Sun, Oct 13, 1:10 AM\n",
    "- Mexican GP Date: Sun, Oct 13, 1:10 AM\n",
    "\n",
    "We are just before the Singaporean Grand Prix (this coming weekend) and the Russian Grand Prix the weekend after, as you can see [schedule](https://www.formula1.com/en/racing/2019.html). \n",
    "\n",
    "The 2019 driver standings are given [here](https://www.formula1.com/en/results.html/2019/drivers.html). Assume these standings for this weekend, even though they are final season standings. Given these standings (please do not use team standings given on the same Web site, use ***driver standings***), what is the Probability Distribution for each F1 driver to win the Singaporean Grand Prix? What is the Probability Distribution for each F1 driver to win *both* the Singaporean and Russian Grand Prix? What is the probability for Mercedes to win both races? What is the probability for Mercedes to win at least one race? Note that Mercedes, and each other racing team, has two drivers per race. Assume that Singaporean grand prix standings are not going to change driver standings by much, so you can use same standings for both races.\n",
    "\n",
    "Question 1.2 (30 points) If Mercedes wins the first race, what is the probability that Mercedes wins the next one? If Mercedes wins at least one of these two races, what is the probability Mercedes wins both races? How about Ferrari, Alfa Romeo, and McLaren?\n",
    "\n",
    "Question 1.3 (50 points) Mercedes wins at least one of these two races on a **rainy** day. What is the probability Mercedes wins both races, assuming races can be held on either rainy, sunny, cloudy, snowy or foggy days? Assume that rain, sun, clouds, snow, and fog are the *only possible weather conditions* on race tracks.\n",
    "\n",
    "You need to provide *proof* for your answers. `I think it's one in a million because Mercedes sucks and I like Ferrari a lot more` is not a good answer. Leverage the counting framework in this workbook!"
   ]
  },
  {
   "cell_type": "markdown",
   "metadata": {},
   "source": [
    "Hint: Use SingaporeanGrandPrix, or `SGP` to denote the Probability Distribution given by F1 driver wins. Write driver initials as keys and driver wins as values in a dictionary that you pass to our function `ProbDist`.."
   ]
  },
  {
   "cell_type": "markdown",
   "metadata": {},
   "source": [
    "<b>Question 1</b>"
   ]
  },
  {
   "cell_type": "code",
   "execution_count": 11,
   "metadata": {},
   "outputs": [],
   "source": [
    "Mercedes = ['LH', 'VB'];\n",
    "Ferrari = ['CL', 'SV'];\n",
    "AlfaRomeo = ['KR', 'AG'];\n",
    "McLaren = ['CS', 'LN'];"
   ]
  },
  {
   "cell_type": "markdown",
   "metadata": {},
   "source": [
    "1.1: What is the Probability Distribution for each F1 driver to win the Singaporean Grand Prix?"
   ]
  },
  {
   "cell_type": "code",
   "execution_count": 51,
   "metadata": {},
   "outputs": [
    {
     "data": {
      "text/plain": [
       "{'LH': 0.1929906542056075,\n",
       " 'VB': 0.15233644859813084,\n",
       " 'MV': 0.12990654205607477,\n",
       " 'CL': 0.1233644859813084,\n",
       " 'SV': 0.11214953271028037,\n",
       " 'CS': 0.044859813084112146,\n",
       " 'PG': 0.04439252336448598,\n",
       " 'AA': 0.04299065420560748,\n",
       " 'DR': 0.025233644859813085,\n",
       " 'SP': 0.024299065420560748,\n",
       " 'LN': 0.022897196261682243,\n",
       " 'KR': 0.020093457943925235,\n",
       " 'DK': 0.017289719626168223,\n",
       " 'NH': 0.017289719626168223,\n",
       " 'LS': 0.009813084112149532,\n",
       " 'KM': 0.009345794392523364,\n",
       " 'AG': 0.0065420560747663555,\n",
       " 'RG': 0.003738317757009346,\n",
       " 'RK': 0.00046728971962616824,\n",
       " 'GR': 0}"
      ]
     },
     "execution_count": 51,
     "metadata": {},
     "output_type": "execute_result"
    }
   ],
   "source": [
    "SGP = ProbDist(\n",
    "    LH = 413, VB = 326, MV = 278, CL = 264, SV = 240, CS = 96, PG = 95, AA = 92, DR = 54, SP = 52, \n",
    "    LN = 49, KR = 43, DK = 37, NH = 37, LS = 21, KM = 20, AG = 14, RG = 8, RK = 1, GR = 0)\n",
    "SGP"
   ]
  },
  {
   "cell_type": "markdown",
   "metadata": {},
   "source": [
    "1.2: What is the Probability Distribution for each F1 driver to win both the Singaporean and Russian Grand Prix?"
   ]
  },
  {
   "cell_type": "code",
   "execution_count": 13,
   "metadata": {},
   "outputs": [],
   "source": [
    "def joint(A, B):\n",
    "    \"\"\"The joint distribution of two independent probability distributions. \n",
    "    Result is all entries of the form {a: P(a)*P(a)}\"\"\"\n",
    "    return ProbDist({a + ' wins SGP and ' + b + ' wins RGP': A[a] * A[b] for a in A for b in B })\n",
    "twoGames = joint(SGP, SGP)"
   ]
  },
  {
   "cell_type": "code",
   "execution_count": 14,
   "metadata": {},
   "outputs": [
    {
     "name": "stdout",
     "output_type": "stream",
     "text": [
      "{'LH wins SGP and LH wins RGP': 0.037245392610708354}\n",
      "{'VB wins SGP and VB wins RGP': 0.023206393571490954}\n",
      "{'MV wins SGP and MV wins RGP': 0.016875709668966718}\n",
      "{'CL wins SGP and CL wins RGP': 0.015218796401432434}\n",
      "{'SV wins SGP and SV wins RGP': 0.012577517687134243}\n",
      "{'CS wins SGP and CS wins RGP': 0.0020124028299414788}\n",
      "{'PG wins SGP and PG wins RGP': 0.001970696130666433}\n",
      "{'AA wins SGP and AA wins RGP': 0.0018481963490261156}\n",
      "{'DR wins SGP and DR wins RGP': 0.0006367368329111712}\n",
      "{'SP wins SGP and SP wins RGP': 0.000590444580312691}\n",
      "{'LN wins SGP and LN wins RGP': 0.0005242815966459952}\n",
      "{'KR wins SGP and KR wins RGP': 0.000403747052144292}\n",
      "{'DK wins SGP and DK wins RGP': 0.0002989344047515066}\n",
      "{'NH wins SGP and NH wins RGP': 0.0002989344047515066}\n",
      "{'LS wins SGP and LS wins RGP': 9.629661979212154e-05}\n",
      "{'KM wins SGP and KM wins RGP': 8.734387282732114e-05}\n",
      "{'AG wins SGP and AG wins RGP': 4.279849768538737e-05}\n",
      "{'RG wins SGP and RG wins RGP': 1.3975019652371384e-05}\n",
      "{'RK wins SGP and RK wins RGP': 2.1835968206830287e-07}\n",
      "{'GR wins SGP and GR wins RGP': 0}\n"
     ]
    }
   ],
   "source": [
    "for a in list(SGP.keys()):\n",
    "    winTwice = {k:v for (k,v) in twoGames.items() if a == k[0:2] and a == k[16:18]}\n",
    "    print(winTwice)"
   ]
  },
  {
   "cell_type": "markdown",
   "metadata": {},
   "source": [
    "#### Cause the driver wins one race is an independent event, the probability of one driver wins twice is the square of each single win probability:"
   ]
  },
  {
   "cell_type": "markdown",
   "metadata": {},
   "source": [
    "1.3: What is the probability for Mercedes to win both races?"
   ]
  },
  {
   "cell_type": "code",
   "execution_count": 15,
   "metadata": {
    "scrolled": true
   },
   "outputs": [
    {
     "name": "stdout",
     "output_type": "stream",
     "text": [
      "['LH LH', 'LH VB', 'VB LH', 'VB VB']\n"
     ]
    },
    {
     "data": {
      "text/plain": [
       "0.11925080793082363"
      ]
     },
     "execution_count": 15,
     "metadata": {},
     "output_type": "execute_result"
    }
   ],
   "source": [
    "theSituationOfMercedesWinsBothRaces = [i + ' ' + j for i in Mercedes for j in Mercedes] \n",
    "print (theSituationOfMercedesWinsBothRaces)\n",
    "mercedesWinTwice = { }\n",
    "for situation in theSituationOfMercedesWinsBothRaces:\n",
    "    mercedesWinTwice.update({k:v for (k,v) in twoGames.items() if situation[0:2] == k[0:2] and situation[3:5] == k[16:18]})\n",
    "theProbability = sum(mercedesWinTwice.values())\n",
    "theProbability\n",
    "### print('Probability of Ferrari drivers winning both races is: ' + str(theProbability))\n",
    "### situation.values() for situation in mercedesWinTwice"
   ]
  },
  {
   "cell_type": "markdown",
   "metadata": {},
   "source": [
    "#### 'LH LH', 'LH VB', 'VB LH', 'VB VB' are the total situations that Ferrari drivers winning both races, the Probability of Mercedes drivers winning both races is: 0.11925080793082363"
   ]
  },
  {
   "cell_type": "markdown",
   "metadata": {},
   "source": [
    "1.4: What is the probability for Mercedes to win at least one race ?"
   ]
  },
  {
   "cell_type": "code",
   "execution_count": 16,
   "metadata": {
    "scrolled": true
   },
   "outputs": [
    {
     "data": {
      "text/plain": [
       "0.5714033976766529"
      ]
     },
     "execution_count": 16,
     "metadata": {},
     "output_type": "execute_result"
    }
   ],
   "source": [
    "SGPWithoutMercedes = ['MV','CL','SV','CS','PG','AA','DR','SP','LN','KR','DK','NH','LS','KM','AG','RG','RK','GR']\n",
    "twoGamesWithoutMercedes = [a + ' wins SGP and ' + b + ' wins RGP' for a in SGPWithoutMercedes for b in SGPWithoutMercedes ]\n",
    "twoGamesWithoutMercedes\n",
    "\n",
    "theSituationOfMercedeswoundntWinAnyOneOfRaces = { a:twoGames[a] for a in twoGamesWithoutMercedes}\n",
    "theProbabilityOfMercedeswoundntWinAnyOneOfRaces = sum(theSituationOfMercedeswoundntWinAnyOneOfRaces.values())\n",
    "theProbabilityOfMercedesWinAtLeastOneRaces = 1 - theProbabilityOfMercedeswoundntWinAnyOneOfRaces\n",
    "theProbabilityOfMercedesWinAtLeastOneRaces"
   ]
  },
  {
   "cell_type": "markdown",
   "metadata": {},
   "source": [
    "#### The probability of Mercedes to win at least one race is same as using 1 to deduct the probability of Mercedes wouldn't win each race. so the probability of Mercedes to win at least one race is 0.5714033976766529."
   ]
  },
  {
   "cell_type": "markdown",
   "metadata": {},
   "source": [
    "<b>Question 2</b>"
   ]
  },
  {
   "cell_type": "markdown",
   "metadata": {},
   "source": [
    "2.1: If Mercedes wins the first race, what is the probability that Mercedes wins the next one?"
   ]
  },
  {
   "cell_type": "code",
   "execution_count": 17,
   "metadata": {},
   "outputs": [
    {
     "data": {
      "text/plain": [
       "0.34532710280373835"
      ]
     },
     "execution_count": 17,
     "metadata": {},
     "output_type": "execute_result"
    }
   ],
   "source": [
    "SGP['LH'] + SGP['VB']"
   ]
  },
  {
   "cell_type": "markdown",
   "metadata": {},
   "source": [
    "#### Because we assume that Singaporean grand prix standings are not going to change driver standings by much, so each race can be think as a independent event, which means the probability of Mercedes wins the next one is the sum of the probability of two drivers win one game. Which is 0.34532710280373835."
   ]
  },
  {
   "cell_type": "markdown",
   "metadata": {},
   "source": [
    "2.2: If Mercedes wins at least one of these two races, what is the probability Mercedes wins both races?"
   ]
  },
  {
   "cell_type": "code",
   "execution_count": 18,
   "metadata": {},
   "outputs": [],
   "source": [
    "### function of Mercedes will win at least one of these two races:\n",
    "def MercedesWinAtLeastOnce(outcome): return outcome.count('LH') + outcome.count('VB') >= 1\n",
    "### function of Mercedes will win at BOTH races:\n",
    "def MercedesWinBoth(outcome): return outcome.count('LH') + outcome.count('VB') == 2"
   ]
  },
  {
   "cell_type": "code",
   "execution_count": 19,
   "metadata": {},
   "outputs": [],
   "source": [
    "def jointForWinBoth(A, B, pred):\n",
    "    return ProbDist({a  + ' wins SGP and ' + b + ' wins RGP': A[a] * B[b] for a in A for b in B if pred\n",
    "                     ( a + ' wins SGP and ' + b + ' wins RGP')})"
   ]
  },
  {
   "cell_type": "code",
   "execution_count": 20,
   "metadata": {},
   "outputs": [
    {
     "data": {
      "text/plain": [
       "0.20869810787913015"
      ]
     },
     "execution_count": 20,
     "metadata": {},
     "output_type": "execute_result"
    }
   ],
   "source": [
    "p(MercedesWinBoth, jointForWinBoth(SGP, SGP, MercedesWinAtLeastOnce ))"
   ]
  },
  {
   "cell_type": "markdown",
   "metadata": {},
   "source": [
    "#### For this question, the probability of Mercedes win twice is the square of the probability Mercedes win once. but the sample space is 1 reduce Mercedes lose both two race. so the probability Mercedes wins both races given that it won at least one of them is 0.20869810787913015"
   ]
  },
  {
   "cell_type": "markdown",
   "metadata": {},
   "source": [
    "2.3: If Ferrari wins the first race, what is the probability that Ferrari wins the next one?"
   ]
  },
  {
   "cell_type": "code",
   "execution_count": 21,
   "metadata": {},
   "outputs": [
    {
     "data": {
      "text/plain": [
       "0.23551401869158878"
      ]
     },
     "execution_count": 21,
     "metadata": {},
     "output_type": "execute_result"
    }
   ],
   "source": [
    "SGP['CL'] + SGP['SV']"
   ]
  },
  {
   "cell_type": "markdown",
   "metadata": {},
   "source": [
    "#### Because we assume that Singaporean grand prix standings are not going to change driver standings by much, so each race can be think as a independent event, which means the probability of Ferrari wins the next one is the sum of the probability of two drivers win one game. Which is 0.23551401869158878."
   ]
  },
  {
   "cell_type": "markdown",
   "metadata": {},
   "source": [
    "2.4: If Ferrari wins at least one of these two races, what is the probability Ferrari wins both races?"
   ]
  },
  {
   "cell_type": "code",
   "execution_count": 22,
   "metadata": {},
   "outputs": [],
   "source": [
    "### function of Mercedes will win at least one of these two races:\n",
    "def FerrariWinAtLeastOnce(outcome): return outcome.count('CL') + outcome.count('SV') >= 1\n",
    "### function of Mercedes will win at BOTH races:\n",
    "def FerrariWinBoth(outcome): return outcome.count('CL') + outcome.count('SV') == 2"
   ]
  },
  {
   "cell_type": "code",
   "execution_count": 23,
   "metadata": {},
   "outputs": [],
   "source": [
    "def jointForWinBoth(A, B, pred):\n",
    "    return ProbDist({a  + ' wins SGP and ' + b + ' wins RGP': A[a] * B[b] for a in A for b in B if pred\n",
    "                     ( a + ' wins SGP and ' + b + ' wins RGP')})"
   ]
  },
  {
   "cell_type": "code",
   "execution_count": 24,
   "metadata": {
    "scrolled": true
   },
   "outputs": [
    {
     "data": {
      "text/plain": [
       "0.13347457627118642"
      ]
     },
     "execution_count": 24,
     "metadata": {},
     "output_type": "execute_result"
    }
   ],
   "source": [
    "p(FerrariWinBoth, jointForWinBoth(SGP, SGP, FerrariWinAtLeastOnce ))"
   ]
  },
  {
   "cell_type": "markdown",
   "metadata": {},
   "source": [
    "#### For this question, the probability of Ferrari win twice is the square of the probability Ferrari win once. but the sample space is 1 reduce Ferrari lose both two races. so the probability Ferrari wins both races given that it won at least one of them is 0.13347457627118642"
   ]
  },
  {
   "cell_type": "markdown",
   "metadata": {},
   "source": [
    "2.5: If Alfa Romeo wins the first race, what is the probability that Alfa Romeo wins the next one?"
   ]
  },
  {
   "cell_type": "code",
   "execution_count": 25,
   "metadata": {},
   "outputs": [
    {
     "data": {
      "text/plain": [
       "0.02663551401869159"
      ]
     },
     "execution_count": 25,
     "metadata": {},
     "output_type": "execute_result"
    }
   ],
   "source": [
    "SGP['KR'] + SGP['AG']"
   ]
  },
  {
   "cell_type": "markdown",
   "metadata": {},
   "source": [
    "#### Because we assume that Singaporean grand prix standings are not going to change driver standings by much, so each race can be think as a independent event, which means the probability of Alfa Romeo wins the next one is the sum of the probability of two drivers win one game. Which is 0.02663551401869159."
   ]
  },
  {
   "cell_type": "markdown",
   "metadata": {},
   "source": [
    "2.6: If Alfa Romeo wins at least one of these two races, what is the probability Alfa Romeo wins both races?"
   ]
  },
  {
   "cell_type": "code",
   "execution_count": 26,
   "metadata": {},
   "outputs": [],
   "source": [
    "## function of AlfaRomeo will win at least one of these two races:\n",
    "def AlfaRomeoWinAtLeastOnce(outcome): return outcome.count('KR') + outcome.count('AG') >= 1\n",
    "## function of AlfaRomeo will win at BOTH races:\n",
    "def AlfaRomeoWinBoth(outcome): return outcome.count('KR') + outcome.count('AG') == 2"
   ]
  },
  {
   "cell_type": "code",
   "execution_count": 27,
   "metadata": {},
   "outputs": [],
   "source": [
    "def jointForWinBoth(A, B, pred):\n",
    "    return ProbDist({a  + ' wins SGP and ' + b + ' wins RGP': A[a] * B[b] for a in A for b in B if pred\n",
    "                     ( a + ' wins SGP and ' + b + ' wins RGP')})"
   ]
  },
  {
   "cell_type": "code",
   "execution_count": 28,
   "metadata": {},
   "outputs": [
    {
     "data": {
      "text/plain": [
       "0.013497513615912863"
      ]
     },
     "execution_count": 28,
     "metadata": {},
     "output_type": "execute_result"
    }
   ],
   "source": [
    "p(AlfaRomeoWinBoth, jointForWinBoth(SGP, SGP, AlfaRomeoWinAtLeastOnce ))"
   ]
  },
  {
   "cell_type": "markdown",
   "metadata": {},
   "source": [
    "#### For this question, the probability of Alfa Romeo win twice is the square of the probability Alfa Romeo win once. but the sample space is 1 reduce Alfa Romeo lose both two races. so the probability Alfa Romeo wins both races given that it won at least one of them is 0.013497513615912863"
   ]
  },
  {
   "cell_type": "markdown",
   "metadata": {},
   "source": [
    "2.7: If McLaren wins the first race, what is the probability that McLaren wins the next one?"
   ]
  },
  {
   "cell_type": "code",
   "execution_count": 29,
   "metadata": {},
   "outputs": [
    {
     "data": {
      "text/plain": [
       "0.06775700934579439"
      ]
     },
     "execution_count": 29,
     "metadata": {},
     "output_type": "execute_result"
    }
   ],
   "source": [
    "SGP['CS'] + SGP['LN']"
   ]
  },
  {
   "cell_type": "markdown",
   "metadata": {},
   "source": [
    "#### Because we assume that Singaporean grand prix standings are not going to change driver standings by much, so each race can be think as a independent event, which means the probability of McLaren wins the next one is the sum of the probability of two drivers win one game. Which is 0.06775700934579439."
   ]
  },
  {
   "cell_type": "markdown",
   "metadata": {},
   "source": [
    "2.8: If McLaren wins at least one of these two races, what is the probability McLaren wins both races?"
   ]
  },
  {
   "cell_type": "code",
   "execution_count": 30,
   "metadata": {},
   "outputs": [],
   "source": [
    "### function of McLaren will win at least one of these two races:\n",
    "def McLarenWinAtLeastOnce(outcome): return outcome.count('CS') + outcome.count('LN') >= 1\n",
    "### function of McLaren will win at BOTH races:\n",
    "def McLarenWinBoth(outcome): return outcome.count('CS') + outcome.count('LN') == 2"
   ]
  },
  {
   "cell_type": "code",
   "execution_count": 31,
   "metadata": {},
   "outputs": [],
   "source": [
    "def jointForWinBoth(A, B, pred):\n",
    "    return ProbDist({a  + ' wins SGP and ' + b + ' wins RGP': A[a] * B[b] for a in A for b in B if pred\n",
    "                     ( a + ' wins SGP and ' + b + ' wins RGP')})"
   ]
  },
  {
   "cell_type": "code",
   "execution_count": 32,
   "metadata": {
    "scrolled": true
   },
   "outputs": [
    {
     "data": {
      "text/plain": [
       "0.03506650544135429"
      ]
     },
     "execution_count": 32,
     "metadata": {},
     "output_type": "execute_result"
    }
   ],
   "source": [
    "p(McLarenWinBoth, jointForWinBoth(SGP, SGP, McLarenWinAtLeastOnce ))"
   ]
  },
  {
   "cell_type": "markdown",
   "metadata": {},
   "source": [
    "#### For this question, the probability of McLaren win twice is the square of the probability McLaren win once. but the sample space is 1 reduce Mercedes lose both two races. so the probability McLaren wins both races given that it won at least one of them is 0.03506650544135429"
   ]
  },
  {
   "cell_type": "markdown",
   "metadata": {},
   "source": [
    "<b>Question 3</b>"
   ]
  },
  {
   "cell_type": "markdown",
   "metadata": {},
   "source": [
    "Mercedes wins at least one of these two races on a **rainy** day. What is the probability Mercedes wins both races, assuming races can be held on either rainy, sunny, cloudy, snowy or foggy days? Assume that rain, sun, clouds, snow, and fog are the *only possible weather conditions* on race tracks."
   ]
  },
  {
   "cell_type": "markdown",
   "metadata": {},
   "source": [
    "The list of weather is [Rainy, Sunny, Cloudy, Snowy, Foggy ]"
   ]
  },
  {
   "cell_type": "markdown",
   "metadata": {},
   "source": [
    "We assume the weather conditions are with equal probability:"
   ]
  },
  {
   "cell_type": "code",
   "execution_count": 56,
   "metadata": {},
   "outputs": [],
   "source": [
    "weather = {'Rainy': 0.2, 'Sunny': 0.2, 'Cloudy': 0.2, 'Snowy': 0.2, 'Foggy': 0.2}"
   ]
  },
  {
   "cell_type": "markdown",
   "metadata": {},
   "source": [
    "The probability of each driver win the race in different weather conditions is equal, which is 1/5 of origin probability"
   ]
  },
  {
   "cell_type": "code",
   "execution_count": 53,
   "metadata": {},
   "outputs": [],
   "source": [
    "def joint(A, B, sep=''):\n",
    "    return ProbDist({a + sep + b: A[a] * B[b] for a in A for b in B})"
   ]
  },
  {
   "cell_type": "code",
   "execution_count": 62,
   "metadata": {},
   "outputs": [
    {
     "data": {
      "text/plain": [
       "{'LH Rainy': 0.03859813084112147,\n",
       " 'LH Sunny': 0.03859813084112147,\n",
       " 'LH Cloudy': 0.03859813084112147,\n",
       " 'LH Snowy': 0.03859813084112147,\n",
       " 'LH Foggy': 0.03859813084112147,\n",
       " 'VB Rainy': 0.03046728971962615,\n",
       " 'VB Sunny': 0.03046728971962615,\n",
       " 'VB Cloudy': 0.03046728971962615,\n",
       " 'VB Snowy': 0.03046728971962615,\n",
       " 'VB Foggy': 0.03046728971962615,\n",
       " 'MV Rainy': 0.02598130841121494,\n",
       " 'MV Sunny': 0.02598130841121494,\n",
       " 'MV Cloudy': 0.02598130841121494,\n",
       " 'MV Snowy': 0.02598130841121494,\n",
       " 'MV Foggy': 0.02598130841121494,\n",
       " 'CL Rainy': 0.024672897196261666,\n",
       " 'CL Sunny': 0.024672897196261666,\n",
       " 'CL Cloudy': 0.024672897196261666,\n",
       " 'CL Snowy': 0.024672897196261666,\n",
       " 'CL Foggy': 0.024672897196261666,\n",
       " 'SV Rainy': 0.022429906542056063,\n",
       " 'SV Sunny': 0.022429906542056063,\n",
       " 'SV Cloudy': 0.022429906542056063,\n",
       " 'SV Snowy': 0.022429906542056063,\n",
       " 'SV Foggy': 0.022429906542056063,\n",
       " 'CS Rainy': 0.008971962616822425,\n",
       " 'CS Sunny': 0.008971962616822425,\n",
       " 'CS Cloudy': 0.008971962616822425,\n",
       " 'CS Snowy': 0.008971962616822425,\n",
       " 'CS Foggy': 0.008971962616822425,\n",
       " 'PG Rainy': 0.008878504672897192,\n",
       " 'PG Sunny': 0.008878504672897192,\n",
       " 'PG Cloudy': 0.008878504672897192,\n",
       " 'PG Snowy': 0.008878504672897192,\n",
       " 'PG Foggy': 0.008878504672897192,\n",
       " 'AA Rainy': 0.008598130841121491,\n",
       " 'AA Sunny': 0.008598130841121491,\n",
       " 'AA Cloudy': 0.008598130841121491,\n",
       " 'AA Snowy': 0.008598130841121491,\n",
       " 'AA Foggy': 0.008598130841121491,\n",
       " 'DR Rainy': 0.005046728971962614,\n",
       " 'DR Sunny': 0.005046728971962614,\n",
       " 'DR Cloudy': 0.005046728971962614,\n",
       " 'DR Snowy': 0.005046728971962614,\n",
       " 'DR Foggy': 0.005046728971962614,\n",
       " 'SP Rainy': 0.004859813084112146,\n",
       " 'SP Sunny': 0.004859813084112146,\n",
       " 'SP Cloudy': 0.004859813084112146,\n",
       " 'SP Snowy': 0.004859813084112146,\n",
       " 'SP Foggy': 0.004859813084112146,\n",
       " 'LN Rainy': 0.004579439252336445,\n",
       " 'LN Sunny': 0.004579439252336445,\n",
       " 'LN Cloudy': 0.004579439252336445,\n",
       " 'LN Snowy': 0.004579439252336445,\n",
       " 'LN Foggy': 0.004579439252336445,\n",
       " 'KR Rainy': 0.004018691588785045,\n",
       " 'KR Sunny': 0.004018691588785045,\n",
       " 'KR Cloudy': 0.004018691588785045,\n",
       " 'KR Snowy': 0.004018691588785045,\n",
       " 'KR Foggy': 0.004018691588785045,\n",
       " 'DK Rainy': 0.0034579439252336425,\n",
       " 'DK Sunny': 0.0034579439252336425,\n",
       " 'DK Cloudy': 0.0034579439252336425,\n",
       " 'DK Snowy': 0.0034579439252336425,\n",
       " 'DK Foggy': 0.0034579439252336425,\n",
       " 'NH Rainy': 0.0034579439252336425,\n",
       " 'NH Sunny': 0.0034579439252336425,\n",
       " 'NH Cloudy': 0.0034579439252336425,\n",
       " 'NH Snowy': 0.0034579439252336425,\n",
       " 'NH Foggy': 0.0034579439252336425,\n",
       " 'LS Rainy': 0.0019626168224299054,\n",
       " 'LS Sunny': 0.0019626168224299054,\n",
       " 'LS Cloudy': 0.0019626168224299054,\n",
       " 'LS Snowy': 0.0019626168224299054,\n",
       " 'LS Foggy': 0.0019626168224299054,\n",
       " 'KM Rainy': 0.0018691588785046715,\n",
       " 'KM Sunny': 0.0018691588785046715,\n",
       " 'KM Cloudy': 0.0018691588785046715,\n",
       " 'KM Snowy': 0.0018691588785046715,\n",
       " 'KM Foggy': 0.0018691588785046715,\n",
       " 'AG Rainy': 0.0013084112149532702,\n",
       " 'AG Sunny': 0.0013084112149532702,\n",
       " 'AG Cloudy': 0.0013084112149532702,\n",
       " 'AG Snowy': 0.0013084112149532702,\n",
       " 'AG Foggy': 0.0013084112149532702,\n",
       " 'RG Rainy': 0.0007476635514018687,\n",
       " 'RG Sunny': 0.0007476635514018687,\n",
       " 'RG Cloudy': 0.0007476635514018687,\n",
       " 'RG Snowy': 0.0007476635514018687,\n",
       " 'RG Foggy': 0.0007476635514018687,\n",
       " 'RK Rainy': 9.345794392523359e-05,\n",
       " 'RK Sunny': 9.345794392523359e-05,\n",
       " 'RK Cloudy': 9.345794392523359e-05,\n",
       " 'RK Snowy': 9.345794392523359e-05,\n",
       " 'RK Foggy': 9.345794392523359e-05,\n",
       " 'GR Rainy': 0,\n",
       " 'GR Sunny': 0,\n",
       " 'GR Cloudy': 0,\n",
       " 'GR Snowy': 0,\n",
       " 'GR Foggy': 0}"
      ]
     },
     "execution_count": 62,
     "metadata": {},
     "output_type": "execute_result"
    }
   ],
   "source": [
    "winOneRaceConditions  = joint(SGP, weather, ' ')\n",
    "winOneRaceConditions"
   ]
  },
  {
   "cell_type": "code",
   "execution_count": 61,
   "metadata": {},
   "outputs": [
    {
     "data": {
      "text/plain": [
       "10000"
      ]
     },
     "execution_count": 61,
     "metadata": {},
     "output_type": "execute_result"
    }
   ],
   "source": [
    "winTwoRacesConditions = joint(winOneRaceConditions, winOneRaceConditions, ' ')\n",
    "len(winTwoRacesConditions)"
   ]
  },
  {
   "cell_type": "code",
   "execution_count": 85,
   "metadata": {},
   "outputs": [],
   "source": [
    "def MercedesWinsAtLeastOneOfTheseTwoRacesOnARainyDayFilter(outcome): return 'LH Rainy' in outcome or 'VB Rainy' in outcome"
   ]
  },
  {
   "cell_type": "code",
   "execution_count": 86,
   "metadata": {},
   "outputs": [],
   "source": [
    "def MercedesWinsBothRacesFilter(outcome): return 'LH' in outcome or 'VB' in outcome"
   ]
  },
  {
   "cell_type": "code",
   "execution_count": 87,
   "metadata": {},
   "outputs": [],
   "source": [
    "def jointForWinBoth(A, B, pred, sep =' '):\n",
    "    return ProbDist({a  + sep + b : A[a] * B[b] for a in A for b in B if pred ( a + sep + b )})"
   ]
  },
  {
   "cell_type": "code",
   "execution_count": 95,
   "metadata": {},
   "outputs": [],
   "source": [
    "AlLSituationsOfMercedesWinsAtLeastOneOfTheseTwoRacesOnARainyDay = jointForWinBoth(winOneRaceConditions, winOneRaceConditions, MercedesWinsAtLeastOneOfTheseTwoRacesOnARainyDayFilter, ' ')"
   ]
  },
  {
   "cell_type": "code",
   "execution_count": 96,
   "metadata": {},
   "outputs": [
    {
     "data": {
      "text/plain": [
       "396"
      ]
     },
     "execution_count": 96,
     "metadata": {},
     "output_type": "execute_result"
    }
   ],
   "source": [
    "len(AlLSituationsOfMercedesWinsAtLeastOneOfTheseTwoRacesOnARainyDay)"
   ]
  },
  {
   "cell_type": "markdown",
   "metadata": {},
   "source": [
    "According above, the total number of situation of all drivers match in one of five weathers is 1000, the number of the situation of Mercedes Wins atleast one of the races is 396  "
   ]
  },
  {
   "cell_type": "code",
   "execution_count": 97,
   "metadata": {},
   "outputs": [],
   "source": [
    "def MercedesWinBoth(outcome): return outcome.count('LH') + outcome.count('VB') == 2"
   ]
  },
  {
   "cell_type": "markdown",
   "metadata": {},
   "source": [
    "So the sample space is AlLSituationsOfMercedesWinsAtLeastOneOfTheseTwoRacesOnARainyDay reqired situation is MercedesWinBoth"
   ]
  },
  {
   "cell_type": "code",
   "execution_count": 98,
   "metadata": {},
   "outputs": [
    {
     "data": {
      "text/plain": [
       "0.3219108465224334"
      ]
     },
     "execution_count": 98,
     "metadata": {},
     "output_type": "execute_result"
    }
   ],
   "source": [
    "p(MercedesWinBoth, AlLSituationsOfMercedesWinsAtLeastOneOfTheseTwoRacesOnARainyDay)"
   ]
  },
  {
   "cell_type": "markdown",
   "metadata": {},
   "source": [
    "#### So finally the probability of two Mercedes wins when we know that Ferrari wins at least one race on a rainy day is 0.3219108465224334"
   ]
  }
 ],
 "metadata": {
  "kernelspec": {
   "display_name": "Python 3",
   "language": "python",
   "name": "python3"
  },
  "language_info": {
   "codemirror_mode": {
    "name": "ipython",
    "version": 3
   },
   "file_extension": ".py",
   "mimetype": "text/x-python",
   "name": "python",
   "nbconvert_exporter": "python",
   "pygments_lexer": "ipython3",
   "version": "3.7.6"
  }
 },
 "nbformat": 4,
 "nbformat_minor": 1
}
