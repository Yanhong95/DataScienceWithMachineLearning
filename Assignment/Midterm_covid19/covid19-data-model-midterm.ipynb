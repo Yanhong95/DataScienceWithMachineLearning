{
 "cells": [
  {
   "cell_type": "markdown",
   "metadata": {},
   "source": [
    "<div style=\"text-align: right\">INFO 6105 Data Science Eng Methods and Tools, Spring 20 midterm, Section 6</div>\n",
    "<div style=\"text-align: right\">Dino Konstantopoulos, 15 March 2020</div>\n",
    "\n",
    "\n",
    "This notebook is dedicated to Li Wenliang, \"*a healthy society should have more than one voice*\".\n",
    "\n",
    "# INFO 6105 Spring 20 Midterm\n",
    "\n",
    "You have up to two hours, and then a time window of 2 hours to submit. Earlier submissions have an advantage over later ones, unless later ones have better results. Since we don't have class on Tuesday, you may also continue to work on this midterm as a homework for bonus points, due before class next Thursday.\n",
    "\n",
    "You are going to model the Coronavirus!\n",
    "\n",
    "<br />\n",
    "<center>\n",
    "<img src=\"https://www.paho.org/hq/images/stories/2020/coronavirus-6-1400x592.jpg\" width=600 />\n",
    "</center>"
   ]
  },
  {
   "cell_type": "markdown",
   "metadata": {},
   "source": [
    "# Data from China\n",
    "\n",
    "This [website](https://github.com/BlankerL/DXY-COVID-19-Data) is a result of good citizenship: People posting real data that can help other people learn from mistakes and fare better.\n",
    "\n",
    "Download this data, import `DXYArea.csv` as a pandas dataframe, and plot some interesting plots."
   ]
  },
  {
   "cell_type": "code",
   "execution_count": 3,
   "metadata": {},
   "outputs": [
    {
     "data": {
      "text/html": [
       "<div>\n",
       "<style scoped>\n",
       "    .dataframe tbody tr th:only-of-type {\n",
       "        vertical-align: middle;\n",
       "    }\n",
       "\n",
       "    .dataframe tbody tr th {\n",
       "        vertical-align: top;\n",
       "    }\n",
       "\n",
       "    .dataframe thead th {\n",
       "        text-align: right;\n",
       "    }\n",
       "</style>\n",
       "<table border=\"1\" class=\"dataframe\">\n",
       "  <thead>\n",
       "    <tr style=\"text-align: right;\">\n",
       "      <th></th>\n",
       "      <th>provinceName</th>\n",
       "      <th>provinceEnglishName</th>\n",
       "      <th>province_zipCode</th>\n",
       "      <th>cityName</th>\n",
       "      <th>cityEnglishName</th>\n",
       "      <th>city_zipCode</th>\n",
       "      <th>province_confirmedCount</th>\n",
       "      <th>province_suspectedCount</th>\n",
       "      <th>province_curedCount</th>\n",
       "      <th>province_deadCount</th>\n",
       "      <th>city_confirmedCount</th>\n",
       "      <th>city_suspectedCount</th>\n",
       "      <th>city_curedCount</th>\n",
       "      <th>city_deadCount</th>\n",
       "      <th>updateTime</th>\n",
       "    </tr>\n",
       "  </thead>\n",
       "  <tbody>\n",
       "    <tr>\n",
       "      <td>0</td>\n",
       "      <td>甘肃省</td>\n",
       "      <td>Gansu</td>\n",
       "      <td>620000</td>\n",
       "      <td>境外输入人员</td>\n",
       "      <td>NaN</td>\n",
       "      <td>0.0</td>\n",
       "      <td>133</td>\n",
       "      <td>0</td>\n",
       "      <td>91</td>\n",
       "      <td>2</td>\n",
       "      <td>42</td>\n",
       "      <td>0</td>\n",
       "      <td>2</td>\n",
       "      <td>0</td>\n",
       "      <td>2020-03-15 21:41:38.179</td>\n",
       "    </tr>\n",
       "    <tr>\n",
       "      <td>1</td>\n",
       "      <td>甘肃省</td>\n",
       "      <td>Gansu</td>\n",
       "      <td>620000</td>\n",
       "      <td>兰州</td>\n",
       "      <td>Lanzhou</td>\n",
       "      <td>620100.0</td>\n",
       "      <td>133</td>\n",
       "      <td>0</td>\n",
       "      <td>91</td>\n",
       "      <td>2</td>\n",
       "      <td>36</td>\n",
       "      <td>0</td>\n",
       "      <td>34</td>\n",
       "      <td>2</td>\n",
       "      <td>2020-03-15 21:41:38.179</td>\n",
       "    </tr>\n",
       "    <tr>\n",
       "      <td>2</td>\n",
       "      <td>甘肃省</td>\n",
       "      <td>Gansu</td>\n",
       "      <td>620000</td>\n",
       "      <td>天水</td>\n",
       "      <td>Tianshui</td>\n",
       "      <td>620500.0</td>\n",
       "      <td>133</td>\n",
       "      <td>0</td>\n",
       "      <td>91</td>\n",
       "      <td>2</td>\n",
       "      <td>12</td>\n",
       "      <td>0</td>\n",
       "      <td>12</td>\n",
       "      <td>0</td>\n",
       "      <td>2020-03-15 21:41:38.179</td>\n",
       "    </tr>\n",
       "    <tr>\n",
       "      <td>3</td>\n",
       "      <td>甘肃省</td>\n",
       "      <td>Gansu</td>\n",
       "      <td>620000</td>\n",
       "      <td>平凉</td>\n",
       "      <td>Pingliang</td>\n",
       "      <td>620800.0</td>\n",
       "      <td>133</td>\n",
       "      <td>0</td>\n",
       "      <td>91</td>\n",
       "      <td>2</td>\n",
       "      <td>9</td>\n",
       "      <td>0</td>\n",
       "      <td>9</td>\n",
       "      <td>0</td>\n",
       "      <td>2020-03-15 21:41:38.179</td>\n",
       "    </tr>\n",
       "    <tr>\n",
       "      <td>4</td>\n",
       "      <td>甘肃省</td>\n",
       "      <td>Gansu</td>\n",
       "      <td>620000</td>\n",
       "      <td>定西</td>\n",
       "      <td>Dingxi</td>\n",
       "      <td>621100.0</td>\n",
       "      <td>133</td>\n",
       "      <td>0</td>\n",
       "      <td>91</td>\n",
       "      <td>2</td>\n",
       "      <td>9</td>\n",
       "      <td>0</td>\n",
       "      <td>9</td>\n",
       "      <td>0</td>\n",
       "      <td>2020-03-15 21:41:38.179</td>\n",
       "    </tr>\n",
       "    <tr>\n",
       "      <td>...</td>\n",
       "      <td>...</td>\n",
       "      <td>...</td>\n",
       "      <td>...</td>\n",
       "      <td>...</td>\n",
       "      <td>...</td>\n",
       "      <td>...</td>\n",
       "      <td>...</td>\n",
       "      <td>...</td>\n",
       "      <td>...</td>\n",
       "      <td>...</td>\n",
       "      <td>...</td>\n",
       "      <td>...</td>\n",
       "      <td>...</td>\n",
       "      <td>...</td>\n",
       "      <td>...</td>\n",
       "    </tr>\n",
       "    <tr>\n",
       "      <td>70349</td>\n",
       "      <td>云南省</td>\n",
       "      <td>Yunnan</td>\n",
       "      <td>530000</td>\n",
       "      <td>昆明</td>\n",
       "      <td>Kunming</td>\n",
       "      <td>530100.0</td>\n",
       "      <td>2</td>\n",
       "      <td>0</td>\n",
       "      <td>0</td>\n",
       "      <td>0</td>\n",
       "      <td>2</td>\n",
       "      <td>0</td>\n",
       "      <td>0</td>\n",
       "      <td>0</td>\n",
       "      <td>2020-01-24 03:50:31.353</td>\n",
       "    </tr>\n",
       "    <tr>\n",
       "      <td>70350</td>\n",
       "      <td>山西省</td>\n",
       "      <td>Shanxi</td>\n",
       "      <td>140000</td>\n",
       "      <td>太原</td>\n",
       "      <td>Taiyuan</td>\n",
       "      <td>140100.0</td>\n",
       "      <td>1</td>\n",
       "      <td>0</td>\n",
       "      <td>0</td>\n",
       "      <td>0</td>\n",
       "      <td>1</td>\n",
       "      <td>0</td>\n",
       "      <td>0</td>\n",
       "      <td>0</td>\n",
       "      <td>2020-01-24 03:50:31.353</td>\n",
       "    </tr>\n",
       "    <tr>\n",
       "      <td>70351</td>\n",
       "      <td>吉林省</td>\n",
       "      <td>Jilin</td>\n",
       "      <td>220000</td>\n",
       "      <td>长春</td>\n",
       "      <td>Changchun</td>\n",
       "      <td>220100.0</td>\n",
       "      <td>1</td>\n",
       "      <td>0</td>\n",
       "      <td>0</td>\n",
       "      <td>0</td>\n",
       "      <td>1</td>\n",
       "      <td>0</td>\n",
       "      <td>0</td>\n",
       "      <td>0</td>\n",
       "      <td>2020-01-24 03:50:31.353</td>\n",
       "    </tr>\n",
       "    <tr>\n",
       "      <td>70352</td>\n",
       "      <td>河北省</td>\n",
       "      <td>Hebei</td>\n",
       "      <td>130000</td>\n",
       "      <td>石家庄</td>\n",
       "      <td>Shijiazhuang</td>\n",
       "      <td>130100.0</td>\n",
       "      <td>1</td>\n",
       "      <td>0</td>\n",
       "      <td>0</td>\n",
       "      <td>1</td>\n",
       "      <td>1</td>\n",
       "      <td>0</td>\n",
       "      <td>0</td>\n",
       "      <td>0</td>\n",
       "      <td>2020-01-24 03:50:31.353</td>\n",
       "    </tr>\n",
       "    <tr>\n",
       "      <td>70353</td>\n",
       "      <td>宁夏回族自治区</td>\n",
       "      <td>Ningxia</td>\n",
       "      <td>640000</td>\n",
       "      <td>银川</td>\n",
       "      <td>Yinchuan</td>\n",
       "      <td>640100.0</td>\n",
       "      <td>1</td>\n",
       "      <td>0</td>\n",
       "      <td>0</td>\n",
       "      <td>0</td>\n",
       "      <td>1</td>\n",
       "      <td>0</td>\n",
       "      <td>0</td>\n",
       "      <td>0</td>\n",
       "      <td>2020-01-24 03:50:31.353</td>\n",
       "    </tr>\n",
       "  </tbody>\n",
       "</table>\n",
       "<p>70354 rows × 15 columns</p>\n",
       "</div>"
      ],
      "text/plain": [
       "      provinceName provinceEnglishName  province_zipCode cityName  \\\n",
       "0              甘肃省               Gansu            620000   境外输入人员   \n",
       "1              甘肃省               Gansu            620000       兰州   \n",
       "2              甘肃省               Gansu            620000       天水   \n",
       "3              甘肃省               Gansu            620000       平凉   \n",
       "4              甘肃省               Gansu            620000       定西   \n",
       "...            ...                 ...               ...      ...   \n",
       "70349          云南省              Yunnan            530000       昆明   \n",
       "70350          山西省              Shanxi            140000       太原   \n",
       "70351          吉林省               Jilin            220000       长春   \n",
       "70352          河北省               Hebei            130000      石家庄   \n",
       "70353      宁夏回族自治区             Ningxia            640000       银川   \n",
       "\n",
       "      cityEnglishName  city_zipCode  province_confirmedCount  \\\n",
       "0                 NaN           0.0                      133   \n",
       "1             Lanzhou      620100.0                      133   \n",
       "2            Tianshui      620500.0                      133   \n",
       "3           Pingliang      620800.0                      133   \n",
       "4              Dingxi      621100.0                      133   \n",
       "...               ...           ...                      ...   \n",
       "70349         Kunming      530100.0                        2   \n",
       "70350         Taiyuan      140100.0                        1   \n",
       "70351       Changchun      220100.0                        1   \n",
       "70352    Shijiazhuang      130100.0                        1   \n",
       "70353        Yinchuan      640100.0                        1   \n",
       "\n",
       "       province_suspectedCount  province_curedCount  province_deadCount  \\\n",
       "0                            0                   91                   2   \n",
       "1                            0                   91                   2   \n",
       "2                            0                   91                   2   \n",
       "3                            0                   91                   2   \n",
       "4                            0                   91                   2   \n",
       "...                        ...                  ...                 ...   \n",
       "70349                        0                    0                   0   \n",
       "70350                        0                    0                   0   \n",
       "70351                        0                    0                   0   \n",
       "70352                        0                    0                   1   \n",
       "70353                        0                    0                   0   \n",
       "\n",
       "       city_confirmedCount  city_suspectedCount  city_curedCount  \\\n",
       "0                       42                    0                2   \n",
       "1                       36                    0               34   \n",
       "2                       12                    0               12   \n",
       "3                        9                    0                9   \n",
       "4                        9                    0                9   \n",
       "...                    ...                  ...              ...   \n",
       "70349                    2                    0                0   \n",
       "70350                    1                    0                0   \n",
       "70351                    1                    0                0   \n",
       "70352                    1                    0                0   \n",
       "70353                    1                    0                0   \n",
       "\n",
       "       city_deadCount               updateTime  \n",
       "0                   0  2020-03-15 21:41:38.179  \n",
       "1                   2  2020-03-15 21:41:38.179  \n",
       "2                   0  2020-03-15 21:41:38.179  \n",
       "3                   0  2020-03-15 21:41:38.179  \n",
       "4                   0  2020-03-15 21:41:38.179  \n",
       "...               ...                      ...  \n",
       "70349               0  2020-01-24 03:50:31.353  \n",
       "70350               0  2020-01-24 03:50:31.353  \n",
       "70351               0  2020-01-24 03:50:31.353  \n",
       "70352               0  2020-01-24 03:50:31.353  \n",
       "70353               0  2020-01-24 03:50:31.353  \n",
       "\n",
       "[70354 rows x 15 columns]"
      ]
     },
     "execution_count": 3,
     "metadata": {},
     "output_type": "execute_result"
    }
   ],
   "source": [
    "import pandas as pd\n",
    "import csv\n",
    "import numpy as np\n",
    "import matplotlib.pyplot as plt\n",
    "covid19_china = pd.read_csv('DXYArea.csv')\n",
    "covid19_china"
   ]
  },
  {
   "cell_type": "code",
   "execution_count": 4,
   "metadata": {
    "scrolled": true
   },
   "outputs": [
    {
     "data": {
      "image/png": "[encoded data removed]",
      "text/plain": [
       "<Figure size 432x288 with 1 Axes>"
      ]
     },
     "metadata": {
      "needs_background": "light"
     },
     "output_type": "display_data"
    }
   ],
   "source": [
    "reversCovid19 = covid19_china.reindex(index=covid19_china.index[::-1])\n",
    "province_confirmedCount = covid19_china.province_confirmedCount\n",
    "province_confirmedCount.plot()\n",
    "plt.show() "
   ]
  },
  {
   "cell_type": "markdown",
   "metadata": {},
   "source": [
    "Now drop the columns 'province_suspectedCount', 'city_suspectedCount', 'province_zipCode', 'city_zipCode', and display the dataframe."
   ]
  },
  {
   "cell_type": "code",
   "execution_count": 5,
   "metadata": {},
   "outputs": [
    {
     "data": {
      "text/html": [
       "<div>\n",
       "<style scoped>\n",
       "    .dataframe tbody tr th:only-of-type {\n",
       "        vertical-align: middle;\n",
       "    }\n",
       "\n",
       "    .dataframe tbody tr th {\n",
       "        vertical-align: top;\n",
       "    }\n",
       "\n",
       "    .dataframe thead th {\n",
       "        text-align: right;\n",
       "    }\n",
       "</style>\n",
       "<table border=\"1\" class=\"dataframe\">\n",
       "  <thead>\n",
       "    <tr style=\"text-align: right;\">\n",
       "      <th></th>\n",
       "      <th>provinceName</th>\n",
       "      <th>provinceEnglishName</th>\n",
       "      <th>cityName</th>\n",
       "      <th>cityEnglishName</th>\n",
       "      <th>province_confirmedCount</th>\n",
       "      <th>province_curedCount</th>\n",
       "      <th>province_deadCount</th>\n",
       "      <th>city_confirmedCount</th>\n",
       "      <th>city_curedCount</th>\n",
       "      <th>city_deadCount</th>\n",
       "      <th>updateTime</th>\n",
       "    </tr>\n",
       "  </thead>\n",
       "  <tbody>\n",
       "    <tr>\n",
       "      <td>0</td>\n",
       "      <td>甘肃省</td>\n",
       "      <td>Gansu</td>\n",
       "      <td>境外输入人员</td>\n",
       "      <td>NaN</td>\n",
       "      <td>133</td>\n",
       "      <td>91</td>\n",
       "      <td>2</td>\n",
       "      <td>42</td>\n",
       "      <td>2</td>\n",
       "      <td>0</td>\n",
       "      <td>2020-03-15 21:41:38.179</td>\n",
       "    </tr>\n",
       "    <tr>\n",
       "      <td>1</td>\n",
       "      <td>甘肃省</td>\n",
       "      <td>Gansu</td>\n",
       "      <td>兰州</td>\n",
       "      <td>Lanzhou</td>\n",
       "      <td>133</td>\n",
       "      <td>91</td>\n",
       "      <td>2</td>\n",
       "      <td>36</td>\n",
       "      <td>34</td>\n",
       "      <td>2</td>\n",
       "      <td>2020-03-15 21:41:38.179</td>\n",
       "    </tr>\n",
       "    <tr>\n",
       "      <td>2</td>\n",
       "      <td>甘肃省</td>\n",
       "      <td>Gansu</td>\n",
       "      <td>天水</td>\n",
       "      <td>Tianshui</td>\n",
       "      <td>133</td>\n",
       "      <td>91</td>\n",
       "      <td>2</td>\n",
       "      <td>12</td>\n",
       "      <td>12</td>\n",
       "      <td>0</td>\n",
       "      <td>2020-03-15 21:41:38.179</td>\n",
       "    </tr>\n",
       "    <tr>\n",
       "      <td>3</td>\n",
       "      <td>甘肃省</td>\n",
       "      <td>Gansu</td>\n",
       "      <td>平凉</td>\n",
       "      <td>Pingliang</td>\n",
       "      <td>133</td>\n",
       "      <td>91</td>\n",
       "      <td>2</td>\n",
       "      <td>9</td>\n",
       "      <td>9</td>\n",
       "      <td>0</td>\n",
       "      <td>2020-03-15 21:41:38.179</td>\n",
       "    </tr>\n",
       "    <tr>\n",
       "      <td>4</td>\n",
       "      <td>甘肃省</td>\n",
       "      <td>Gansu</td>\n",
       "      <td>定西</td>\n",
       "      <td>Dingxi</td>\n",
       "      <td>133</td>\n",
       "      <td>91</td>\n",
       "      <td>2</td>\n",
       "      <td>9</td>\n",
       "      <td>9</td>\n",
       "      <td>0</td>\n",
       "      <td>2020-03-15 21:41:38.179</td>\n",
       "    </tr>\n",
       "    <tr>\n",
       "      <td>...</td>\n",
       "      <td>...</td>\n",
       "      <td>...</td>\n",
       "      <td>...</td>\n",
       "      <td>...</td>\n",
       "      <td>...</td>\n",
       "      <td>...</td>\n",
       "      <td>...</td>\n",
       "      <td>...</td>\n",
       "      <td>...</td>\n",
       "      <td>...</td>\n",
       "      <td>...</td>\n",
       "    </tr>\n",
       "    <tr>\n",
       "      <td>70349</td>\n",
       "      <td>云南省</td>\n",
       "      <td>Yunnan</td>\n",
       "      <td>昆明</td>\n",
       "      <td>Kunming</td>\n",
       "      <td>2</td>\n",
       "      <td>0</td>\n",
       "      <td>0</td>\n",
       "      <td>2</td>\n",
       "      <td>0</td>\n",
       "      <td>0</td>\n",
       "      <td>2020-01-24 03:50:31.353</td>\n",
       "    </tr>\n",
       "    <tr>\n",
       "      <td>70350</td>\n",
       "      <td>山西省</td>\n",
       "      <td>Shanxi</td>\n",
       "      <td>太原</td>\n",
       "      <td>Taiyuan</td>\n",
       "      <td>1</td>\n",
       "      <td>0</td>\n",
       "      <td>0</td>\n",
       "      <td>1</td>\n",
       "      <td>0</td>\n",
       "      <td>0</td>\n",
       "      <td>2020-01-24 03:50:31.353</td>\n",
       "    </tr>\n",
       "    <tr>\n",
       "      <td>70351</td>\n",
       "      <td>吉林省</td>\n",
       "      <td>Jilin</td>\n",
       "      <td>长春</td>\n",
       "      <td>Changchun</td>\n",
       "      <td>1</td>\n",
       "      <td>0</td>\n",
       "      <td>0</td>\n",
       "      <td>1</td>\n",
       "      <td>0</td>\n",
       "      <td>0</td>\n",
       "      <td>2020-01-24 03:50:31.353</td>\n",
       "    </tr>\n",
       "    <tr>\n",
       "      <td>70352</td>\n",
       "      <td>河北省</td>\n",
       "      <td>Hebei</td>\n",
       "      <td>石家庄</td>\n",
       "      <td>Shijiazhuang</td>\n",
       "      <td>1</td>\n",
       "      <td>0</td>\n",
       "      <td>1</td>\n",
       "      <td>1</td>\n",
       "      <td>0</td>\n",
       "      <td>0</td>\n",
       "      <td>2020-01-24 03:50:31.353</td>\n",
       "    </tr>\n",
       "    <tr>\n",
       "      <td>70353</td>\n",
       "      <td>宁夏回族自治区</td>\n",
       "      <td>Ningxia</td>\n",
       "      <td>银川</td>\n",
       "      <td>Yinchuan</td>\n",
       "      <td>1</td>\n",
       "      <td>0</td>\n",
       "      <td>0</td>\n",
       "      <td>1</td>\n",
       "      <td>0</td>\n",
       "      <td>0</td>\n",
       "      <td>2020-01-24 03:50:31.353</td>\n",
       "    </tr>\n",
       "  </tbody>\n",
       "</table>\n",
       "<p>70354 rows × 11 columns</p>\n",
       "</div>"
      ],
      "text/plain": [
       "      provinceName provinceEnglishName cityName cityEnglishName  \\\n",
       "0              甘肃省               Gansu   境外输入人员             NaN   \n",
       "1              甘肃省               Gansu       兰州         Lanzhou   \n",
       "2              甘肃省               Gansu       天水        Tianshui   \n",
       "3              甘肃省               Gansu       平凉       Pingliang   \n",
       "4              甘肃省               Gansu       定西          Dingxi   \n",
       "...            ...                 ...      ...             ...   \n",
       "70349          云南省              Yunnan       昆明         Kunming   \n",
       "70350          山西省              Shanxi       太原         Taiyuan   \n",
       "70351          吉林省               Jilin       长春       Changchun   \n",
       "70352          河北省               Hebei      石家庄    Shijiazhuang   \n",
       "70353      宁夏回族自治区             Ningxia       银川        Yinchuan   \n",
       "\n",
       "       province_confirmedCount  province_curedCount  province_deadCount  \\\n",
       "0                          133                   91                   2   \n",
       "1                          133                   91                   2   \n",
       "2                          133                   91                   2   \n",
       "3                          133                   91                   2   \n",
       "4                          133                   91                   2   \n",
       "...                        ...                  ...                 ...   \n",
       "70349                        2                    0                   0   \n",
       "70350                        1                    0                   0   \n",
       "70351                        1                    0                   0   \n",
       "70352                        1                    0                   1   \n",
       "70353                        1                    0                   0   \n",
       "\n",
       "       city_confirmedCount  city_curedCount  city_deadCount  \\\n",
       "0                       42                2               0   \n",
       "1                       36               34               2   \n",
       "2                       12               12               0   \n",
       "3                        9                9               0   \n",
       "4                        9                9               0   \n",
       "...                    ...              ...             ...   \n",
       "70349                    2                0               0   \n",
       "70350                    1                0               0   \n",
       "70351                    1                0               0   \n",
       "70352                    1                0               0   \n",
       "70353                    1                0               0   \n",
       "\n",
       "                    updateTime  \n",
       "0      2020-03-15 21:41:38.179  \n",
       "1      2020-03-15 21:41:38.179  \n",
       "2      2020-03-15 21:41:38.179  \n",
       "3      2020-03-15 21:41:38.179  \n",
       "4      2020-03-15 21:41:38.179  \n",
       "...                        ...  \n",
       "70349  2020-01-24 03:50:31.353  \n",
       "70350  2020-01-24 03:50:31.353  \n",
       "70351  2020-01-24 03:50:31.353  \n",
       "70352  2020-01-24 03:50:31.353  \n",
       "70353  2020-01-24 03:50:31.353  \n",
       "\n",
       "[70354 rows x 11 columns]"
      ]
     },
     "execution_count": 5,
     "metadata": {},
     "output_type": "execute_result"
    }
   ],
   "source": [
    "covid19_china.drop([ 'province_suspectedCount', 'city_suspectedCount', 'province_zipCode', 'city_zipCode'],axis=1)"
   ]
  },
  {
   "cell_type": "markdown",
   "metadata": {},
   "source": [
    "How many rows in the dataframe? 68703"
   ]
  },
  {
   "cell_type": "code",
   "execution_count": 6,
   "metadata": {},
   "outputs": [
    {
     "data": {
      "text/plain": [
       "70354"
      ]
     },
     "execution_count": 6,
     "metadata": {},
     "output_type": "execute_result"
    }
   ],
   "source": [
    "len(covid19_china)"
   ]
  },
  {
   "cell_type": "markdown",
   "metadata": {},
   "source": [
    "Do some data healing to remove all NaN entries."
   ]
  },
  {
   "cell_type": "code",
   "execution_count": 7,
   "metadata": {},
   "outputs": [],
   "source": [
    "covid19_china = covid19_china.dropna()"
   ]
  },
  {
   "cell_type": "markdown",
   "metadata": {},
   "source": [
    "What's the new number of rows?"
   ]
  },
  {
   "cell_type": "code",
   "execution_count": 8,
   "metadata": {},
   "outputs": [
    {
     "data": {
      "text/plain": [
       "68465"
      ]
     },
     "execution_count": 8,
     "metadata": {},
     "output_type": "execute_result"
    }
   ],
   "source": [
    "len(covid19_china)"
   ]
  },
  {
   "cell_type": "markdown",
   "metadata": {},
   "source": [
    "What are the city names?"
   ]
  },
  {
   "cell_type": "code",
   "execution_count": 9,
   "metadata": {},
   "outputs": [
    {
     "data": {
      "text/plain": [
       "array(['Lanzhou', 'Tianshui', 'Pingliang', ..., 'Changchun',\n",
       "       'Shijiazhuang', 'Yinchuan'], dtype=object)"
      ]
     },
     "execution_count": 9,
     "metadata": {},
     "output_type": "execute_result"
    }
   ],
   "source": [
    "covid19_china.cityEnglishName.values"
   ]
  },
  {
   "cell_type": "markdown",
   "metadata": {},
   "source": [
    "How many rows refer to the city of Wuhan?"
   ]
  },
  {
   "cell_type": "code",
   "execution_count": 10,
   "metadata": {},
   "outputs": [
    {
     "data": {
      "text/plain": [
       "366"
      ]
     },
     "execution_count": 10,
     "metadata": {},
     "output_type": "execute_result"
    }
   ],
   "source": [
    "wuhanData = covid19_china[covid19_china.cityEnglishName.str.contains('Wuhan')]\n",
    "wuhanLength = len(wuhanData)\n",
    "wuhanLength"
   ]
  },
  {
   "cell_type": "markdown",
   "metadata": {},
   "source": [
    "Print the dataframe with rows that only refer to Wuhan."
   ]
  },
  {
   "cell_type": "code",
   "execution_count": 11,
   "metadata": {},
   "outputs": [
    {
     "data": {
      "text/html": [
       "<div>\n",
       "<style scoped>\n",
       "    .dataframe tbody tr th:only-of-type {\n",
       "        vertical-align: middle;\n",
       "    }\n",
       "\n",
       "    .dataframe tbody tr th {\n",
       "        vertical-align: top;\n",
       "    }\n",
       "\n",
       "    .dataframe thead th {\n",
       "        text-align: right;\n",
       "    }\n",
       "</style>\n",
       "<table border=\"1\" class=\"dataframe\">\n",
       "  <thead>\n",
       "    <tr style=\"text-align: right;\">\n",
       "      <th></th>\n",
       "      <th>provinceName</th>\n",
       "      <th>provinceEnglishName</th>\n",
       "      <th>province_zipCode</th>\n",
       "      <th>cityName</th>\n",
       "      <th>cityEnglishName</th>\n",
       "      <th>city_zipCode</th>\n",
       "      <th>province_confirmedCount</th>\n",
       "      <th>province_suspectedCount</th>\n",
       "      <th>province_curedCount</th>\n",
       "      <th>province_deadCount</th>\n",
       "      <th>city_confirmedCount</th>\n",
       "      <th>city_suspectedCount</th>\n",
       "      <th>city_curedCount</th>\n",
       "      <th>city_deadCount</th>\n",
       "      <th>updateTime</th>\n",
       "    </tr>\n",
       "  </thead>\n",
       "  <tbody>\n",
       "    <tr>\n",
       "      <td>32</td>\n",
       "      <td>湖北省</td>\n",
       "      <td>Hubei</td>\n",
       "      <td>420000</td>\n",
       "      <td>武汉</td>\n",
       "      <td>Wuhan</td>\n",
       "      <td>420100.0</td>\n",
       "      <td>67794</td>\n",
       "      <td>0</td>\n",
       "      <td>54288</td>\n",
       "      <td>3085</td>\n",
       "      <td>49999</td>\n",
       "      <td>0</td>\n",
       "      <td>37642</td>\n",
       "      <td>2456</td>\n",
       "      <td>2020-03-15 18:07:03.272</td>\n",
       "    </tr>\n",
       "    <tr>\n",
       "      <td>274</td>\n",
       "      <td>湖北省</td>\n",
       "      <td>Hubei</td>\n",
       "      <td>420000</td>\n",
       "      <td>武汉</td>\n",
       "      <td>Wuhan</td>\n",
       "      <td>420100.0</td>\n",
       "      <td>67794</td>\n",
       "      <td>0</td>\n",
       "      <td>54278</td>\n",
       "      <td>3085</td>\n",
       "      <td>49995</td>\n",
       "      <td>0</td>\n",
       "      <td>36465</td>\n",
       "      <td>2446</td>\n",
       "      <td>2020-03-15 08:49:13.790</td>\n",
       "    </tr>\n",
       "    <tr>\n",
       "      <td>388</td>\n",
       "      <td>湖北省</td>\n",
       "      <td>Hubei</td>\n",
       "      <td>420000</td>\n",
       "      <td>武汉</td>\n",
       "      <td>Wuhan</td>\n",
       "      <td>420100.0</td>\n",
       "      <td>67790</td>\n",
       "      <td>0</td>\n",
       "      <td>52960</td>\n",
       "      <td>3075</td>\n",
       "      <td>49995</td>\n",
       "      <td>0</td>\n",
       "      <td>36465</td>\n",
       "      <td>2446</td>\n",
       "      <td>2020-03-14 17:58:00.660</td>\n",
       "    </tr>\n",
       "    <tr>\n",
       "      <td>405</td>\n",
       "      <td>湖北省</td>\n",
       "      <td>Hubei</td>\n",
       "      <td>420000</td>\n",
       "      <td>武汉</td>\n",
       "      <td>Wuhan</td>\n",
       "      <td>420100.0</td>\n",
       "      <td>67790</td>\n",
       "      <td>0</td>\n",
       "      <td>52962</td>\n",
       "      <td>3075</td>\n",
       "      <td>49995</td>\n",
       "      <td>0</td>\n",
       "      <td>36467</td>\n",
       "      <td>2446</td>\n",
       "      <td>2020-03-14 17:49:06.329</td>\n",
       "    </tr>\n",
       "    <tr>\n",
       "      <td>447</td>\n",
       "      <td>湖北省</td>\n",
       "      <td>Hubei</td>\n",
       "      <td>420000</td>\n",
       "      <td>武汉</td>\n",
       "      <td>Wuhan</td>\n",
       "      <td>420100.0</td>\n",
       "      <td>67790</td>\n",
       "      <td>0</td>\n",
       "      <td>52959</td>\n",
       "      <td>3075</td>\n",
       "      <td>49995</td>\n",
       "      <td>0</td>\n",
       "      <td>36467</td>\n",
       "      <td>2446</td>\n",
       "      <td>2020-03-14 16:54:11.267</td>\n",
       "    </tr>\n",
       "    <tr>\n",
       "      <td>...</td>\n",
       "      <td>...</td>\n",
       "      <td>...</td>\n",
       "      <td>...</td>\n",
       "      <td>...</td>\n",
       "      <td>...</td>\n",
       "      <td>...</td>\n",
       "      <td>...</td>\n",
       "      <td>...</td>\n",
       "      <td>...</td>\n",
       "      <td>...</td>\n",
       "      <td>...</td>\n",
       "      <td>...</td>\n",
       "      <td>...</td>\n",
       "      <td>...</td>\n",
       "      <td>...</td>\n",
       "    </tr>\n",
       "    <tr>\n",
       "      <td>69794</td>\n",
       "      <td>湖北省</td>\n",
       "      <td>Hubei</td>\n",
       "      <td>420000</td>\n",
       "      <td>武汉</td>\n",
       "      <td>Wuhan</td>\n",
       "      <td>420100.0</td>\n",
       "      <td>549</td>\n",
       "      <td>0</td>\n",
       "      <td>0</td>\n",
       "      <td>0</td>\n",
       "      <td>495</td>\n",
       "      <td>0</td>\n",
       "      <td>0</td>\n",
       "      <td>0</td>\n",
       "      <td>2020-01-24 11:49:48.584</td>\n",
       "    </tr>\n",
       "    <tr>\n",
       "      <td>70050</td>\n",
       "      <td>湖北省</td>\n",
       "      <td>Hubei</td>\n",
       "      <td>420000</td>\n",
       "      <td>武汉</td>\n",
       "      <td>Wuhan</td>\n",
       "      <td>420100.0</td>\n",
       "      <td>549</td>\n",
       "      <td>0</td>\n",
       "      <td>0</td>\n",
       "      <td>0</td>\n",
       "      <td>495</td>\n",
       "      <td>0</td>\n",
       "      <td>0</td>\n",
       "      <td>0</td>\n",
       "      <td>2020-01-24 09:50:40.357</td>\n",
       "    </tr>\n",
       "    <tr>\n",
       "      <td>70058</td>\n",
       "      <td>湖北省</td>\n",
       "      <td>Hubei</td>\n",
       "      <td>420000</td>\n",
       "      <td>武汉</td>\n",
       "      <td>Wuhan</td>\n",
       "      <td>420100.0</td>\n",
       "      <td>549</td>\n",
       "      <td>0</td>\n",
       "      <td>0</td>\n",
       "      <td>0</td>\n",
       "      <td>495</td>\n",
       "      <td>0</td>\n",
       "      <td>0</td>\n",
       "      <td>0</td>\n",
       "      <td>2020-01-24 09:49:39.772</td>\n",
       "    </tr>\n",
       "    <tr>\n",
       "      <td>70064</td>\n",
       "      <td>湖北省</td>\n",
       "      <td>Hubei</td>\n",
       "      <td>420000</td>\n",
       "      <td>武汉</td>\n",
       "      <td>Wuhan</td>\n",
       "      <td>420100.0</td>\n",
       "      <td>549</td>\n",
       "      <td>0</td>\n",
       "      <td>0</td>\n",
       "      <td>0</td>\n",
       "      <td>495</td>\n",
       "      <td>0</td>\n",
       "      <td>0</td>\n",
       "      <td>0</td>\n",
       "      <td>2020-01-24 09:48:39.253</td>\n",
       "    </tr>\n",
       "    <tr>\n",
       "      <td>70068</td>\n",
       "      <td>湖北省</td>\n",
       "      <td>Hubei</td>\n",
       "      <td>420000</td>\n",
       "      <td>武汉</td>\n",
       "      <td>Wuhan</td>\n",
       "      <td>420100.0</td>\n",
       "      <td>549</td>\n",
       "      <td>0</td>\n",
       "      <td>0</td>\n",
       "      <td>0</td>\n",
       "      <td>495</td>\n",
       "      <td>0</td>\n",
       "      <td>0</td>\n",
       "      <td>0</td>\n",
       "      <td>2020-01-24 09:47:38.698</td>\n",
       "    </tr>\n",
       "  </tbody>\n",
       "</table>\n",
       "<p>366 rows × 15 columns</p>\n",
       "</div>"
      ],
      "text/plain": [
       "      provinceName provinceEnglishName  province_zipCode cityName  \\\n",
       "32             湖北省               Hubei            420000       武汉   \n",
       "274            湖北省               Hubei            420000       武汉   \n",
       "388            湖北省               Hubei            420000       武汉   \n",
       "405            湖北省               Hubei            420000       武汉   \n",
       "447            湖北省               Hubei            420000       武汉   \n",
       "...            ...                 ...               ...      ...   \n",
       "69794          湖北省               Hubei            420000       武汉   \n",
       "70050          湖北省               Hubei            420000       武汉   \n",
       "70058          湖北省               Hubei            420000       武汉   \n",
       "70064          湖北省               Hubei            420000       武汉   \n",
       "70068          湖北省               Hubei            420000       武汉   \n",
       "\n",
       "      cityEnglishName  city_zipCode  province_confirmedCount  \\\n",
       "32              Wuhan      420100.0                    67794   \n",
       "274             Wuhan      420100.0                    67794   \n",
       "388             Wuhan      420100.0                    67790   \n",
       "405             Wuhan      420100.0                    67790   \n",
       "447             Wuhan      420100.0                    67790   \n",
       "...               ...           ...                      ...   \n",
       "69794           Wuhan      420100.0                      549   \n",
       "70050           Wuhan      420100.0                      549   \n",
       "70058           Wuhan      420100.0                      549   \n",
       "70064           Wuhan      420100.0                      549   \n",
       "70068           Wuhan      420100.0                      549   \n",
       "\n",
       "       province_suspectedCount  province_curedCount  province_deadCount  \\\n",
       "32                           0                54288                3085   \n",
       "274                          0                54278                3085   \n",
       "388                          0                52960                3075   \n",
       "405                          0                52962                3075   \n",
       "447                          0                52959                3075   \n",
       "...                        ...                  ...                 ...   \n",
       "69794                        0                    0                   0   \n",
       "70050                        0                    0                   0   \n",
       "70058                        0                    0                   0   \n",
       "70064                        0                    0                   0   \n",
       "70068                        0                    0                   0   \n",
       "\n",
       "       city_confirmedCount  city_suspectedCount  city_curedCount  \\\n",
       "32                   49999                    0            37642   \n",
       "274                  49995                    0            36465   \n",
       "388                  49995                    0            36465   \n",
       "405                  49995                    0            36467   \n",
       "447                  49995                    0            36467   \n",
       "...                    ...                  ...              ...   \n",
       "69794                  495                    0                0   \n",
       "70050                  495                    0                0   \n",
       "70058                  495                    0                0   \n",
       "70064                  495                    0                0   \n",
       "70068                  495                    0                0   \n",
       "\n",
       "       city_deadCount               updateTime  \n",
       "32               2456  2020-03-15 18:07:03.272  \n",
       "274              2446  2020-03-15 08:49:13.790  \n",
       "388              2446  2020-03-14 17:58:00.660  \n",
       "405              2446  2020-03-14 17:49:06.329  \n",
       "447              2446  2020-03-14 16:54:11.267  \n",
       "...               ...                      ...  \n",
       "69794               0  2020-01-24 11:49:48.584  \n",
       "70050               0  2020-01-24 09:50:40.357  \n",
       "70058               0  2020-01-24 09:49:39.772  \n",
       "70064               0  2020-01-24 09:48:39.253  \n",
       "70068               0  2020-01-24 09:47:38.698  \n",
       "\n",
       "[366 rows x 15 columns]"
      ]
     },
     "execution_count": 11,
     "metadata": {},
     "output_type": "execute_result"
    }
   ],
   "source": [
    "wuhanData"
   ]
  },
  {
   "cell_type": "markdown",
   "metadata": {},
   "source": [
    "Sort by 'updateTime'."
   ]
  },
  {
   "cell_type": "code",
   "execution_count": 12,
   "metadata": {},
   "outputs": [
    {
     "data": {
      "text/html": [
       "<div>\n",
       "<style scoped>\n",
       "    .dataframe tbody tr th:only-of-type {\n",
       "        vertical-align: middle;\n",
       "    }\n",
       "\n",
       "    .dataframe tbody tr th {\n",
       "        vertical-align: top;\n",
       "    }\n",
       "\n",
       "    .dataframe thead th {\n",
       "        text-align: right;\n",
       "    }\n",
       "</style>\n",
       "<table border=\"1\" class=\"dataframe\">\n",
       "  <thead>\n",
       "    <tr style=\"text-align: right;\">\n",
       "      <th></th>\n",
       "      <th>provinceName</th>\n",
       "      <th>provinceEnglishName</th>\n",
       "      <th>province_zipCode</th>\n",
       "      <th>cityName</th>\n",
       "      <th>cityEnglishName</th>\n",
       "      <th>city_zipCode</th>\n",
       "      <th>province_confirmedCount</th>\n",
       "      <th>province_suspectedCount</th>\n",
       "      <th>province_curedCount</th>\n",
       "      <th>province_deadCount</th>\n",
       "      <th>city_confirmedCount</th>\n",
       "      <th>city_suspectedCount</th>\n",
       "      <th>city_curedCount</th>\n",
       "      <th>city_deadCount</th>\n",
       "      <th>updateTime</th>\n",
       "    </tr>\n",
       "  </thead>\n",
       "  <tbody>\n",
       "    <tr>\n",
       "      <td>70068</td>\n",
       "      <td>湖北省</td>\n",
       "      <td>Hubei</td>\n",
       "      <td>420000</td>\n",
       "      <td>武汉</td>\n",
       "      <td>Wuhan</td>\n",
       "      <td>420100.0</td>\n",
       "      <td>549</td>\n",
       "      <td>0</td>\n",
       "      <td>0</td>\n",
       "      <td>0</td>\n",
       "      <td>495</td>\n",
       "      <td>0</td>\n",
       "      <td>0</td>\n",
       "      <td>0</td>\n",
       "      <td>2020-01-24 09:47:38.698</td>\n",
       "    </tr>\n",
       "    <tr>\n",
       "      <td>70064</td>\n",
       "      <td>湖北省</td>\n",
       "      <td>Hubei</td>\n",
       "      <td>420000</td>\n",
       "      <td>武汉</td>\n",
       "      <td>Wuhan</td>\n",
       "      <td>420100.0</td>\n",
       "      <td>549</td>\n",
       "      <td>0</td>\n",
       "      <td>0</td>\n",
       "      <td>0</td>\n",
       "      <td>495</td>\n",
       "      <td>0</td>\n",
       "      <td>0</td>\n",
       "      <td>0</td>\n",
       "      <td>2020-01-24 09:48:39.253</td>\n",
       "    </tr>\n",
       "    <tr>\n",
       "      <td>70058</td>\n",
       "      <td>湖北省</td>\n",
       "      <td>Hubei</td>\n",
       "      <td>420000</td>\n",
       "      <td>武汉</td>\n",
       "      <td>Wuhan</td>\n",
       "      <td>420100.0</td>\n",
       "      <td>549</td>\n",
       "      <td>0</td>\n",
       "      <td>0</td>\n",
       "      <td>0</td>\n",
       "      <td>495</td>\n",
       "      <td>0</td>\n",
       "      <td>0</td>\n",
       "      <td>0</td>\n",
       "      <td>2020-01-24 09:49:39.772</td>\n",
       "    </tr>\n",
       "    <tr>\n",
       "      <td>70050</td>\n",
       "      <td>湖北省</td>\n",
       "      <td>Hubei</td>\n",
       "      <td>420000</td>\n",
       "      <td>武汉</td>\n",
       "      <td>Wuhan</td>\n",
       "      <td>420100.0</td>\n",
       "      <td>549</td>\n",
       "      <td>0</td>\n",
       "      <td>0</td>\n",
       "      <td>0</td>\n",
       "      <td>495</td>\n",
       "      <td>0</td>\n",
       "      <td>0</td>\n",
       "      <td>0</td>\n",
       "      <td>2020-01-24 09:50:40.357</td>\n",
       "    </tr>\n",
       "    <tr>\n",
       "      <td>69794</td>\n",
       "      <td>湖北省</td>\n",
       "      <td>Hubei</td>\n",
       "      <td>420000</td>\n",
       "      <td>武汉</td>\n",
       "      <td>Wuhan</td>\n",
       "      <td>420100.0</td>\n",
       "      <td>549</td>\n",
       "      <td>0</td>\n",
       "      <td>0</td>\n",
       "      <td>0</td>\n",
       "      <td>495</td>\n",
       "      <td>0</td>\n",
       "      <td>0</td>\n",
       "      <td>0</td>\n",
       "      <td>2020-01-24 11:49:48.584</td>\n",
       "    </tr>\n",
       "    <tr>\n",
       "      <td>...</td>\n",
       "      <td>...</td>\n",
       "      <td>...</td>\n",
       "      <td>...</td>\n",
       "      <td>...</td>\n",
       "      <td>...</td>\n",
       "      <td>...</td>\n",
       "      <td>...</td>\n",
       "      <td>...</td>\n",
       "      <td>...</td>\n",
       "      <td>...</td>\n",
       "      <td>...</td>\n",
       "      <td>...</td>\n",
       "      <td>...</td>\n",
       "      <td>...</td>\n",
       "      <td>...</td>\n",
       "    </tr>\n",
       "    <tr>\n",
       "      <td>447</td>\n",
       "      <td>湖北省</td>\n",
       "      <td>Hubei</td>\n",
       "      <td>420000</td>\n",
       "      <td>武汉</td>\n",
       "      <td>Wuhan</td>\n",
       "      <td>420100.0</td>\n",
       "      <td>67790</td>\n",
       "      <td>0</td>\n",
       "      <td>52959</td>\n",
       "      <td>3075</td>\n",
       "      <td>49995</td>\n",
       "      <td>0</td>\n",
       "      <td>36467</td>\n",
       "      <td>2446</td>\n",
       "      <td>2020-03-14 16:54:11.267</td>\n",
       "    </tr>\n",
       "    <tr>\n",
       "      <td>405</td>\n",
       "      <td>湖北省</td>\n",
       "      <td>Hubei</td>\n",
       "      <td>420000</td>\n",
       "      <td>武汉</td>\n",
       "      <td>Wuhan</td>\n",
       "      <td>420100.0</td>\n",
       "      <td>67790</td>\n",
       "      <td>0</td>\n",
       "      <td>52962</td>\n",
       "      <td>3075</td>\n",
       "      <td>49995</td>\n",
       "      <td>0</td>\n",
       "      <td>36467</td>\n",
       "      <td>2446</td>\n",
       "      <td>2020-03-14 17:49:06.329</td>\n",
       "    </tr>\n",
       "    <tr>\n",
       "      <td>388</td>\n",
       "      <td>湖北省</td>\n",
       "      <td>Hubei</td>\n",
       "      <td>420000</td>\n",
       "      <td>武汉</td>\n",
       "      <td>Wuhan</td>\n",
       "      <td>420100.0</td>\n",
       "      <td>67790</td>\n",
       "      <td>0</td>\n",
       "      <td>52960</td>\n",
       "      <td>3075</td>\n",
       "      <td>49995</td>\n",
       "      <td>0</td>\n",
       "      <td>36465</td>\n",
       "      <td>2446</td>\n",
       "      <td>2020-03-14 17:58:00.660</td>\n",
       "    </tr>\n",
       "    <tr>\n",
       "      <td>274</td>\n",
       "      <td>湖北省</td>\n",
       "      <td>Hubei</td>\n",
       "      <td>420000</td>\n",
       "      <td>武汉</td>\n",
       "      <td>Wuhan</td>\n",
       "      <td>420100.0</td>\n",
       "      <td>67794</td>\n",
       "      <td>0</td>\n",
       "      <td>54278</td>\n",
       "      <td>3085</td>\n",
       "      <td>49995</td>\n",
       "      <td>0</td>\n",
       "      <td>36465</td>\n",
       "      <td>2446</td>\n",
       "      <td>2020-03-15 08:49:13.790</td>\n",
       "    </tr>\n",
       "    <tr>\n",
       "      <td>32</td>\n",
       "      <td>湖北省</td>\n",
       "      <td>Hubei</td>\n",
       "      <td>420000</td>\n",
       "      <td>武汉</td>\n",
       "      <td>Wuhan</td>\n",
       "      <td>420100.0</td>\n",
       "      <td>67794</td>\n",
       "      <td>0</td>\n",
       "      <td>54288</td>\n",
       "      <td>3085</td>\n",
       "      <td>49999</td>\n",
       "      <td>0</td>\n",
       "      <td>37642</td>\n",
       "      <td>2456</td>\n",
       "      <td>2020-03-15 18:07:03.272</td>\n",
       "    </tr>\n",
       "  </tbody>\n",
       "</table>\n",
       "<p>366 rows × 15 columns</p>\n",
       "</div>"
      ],
      "text/plain": [
       "      provinceName provinceEnglishName  province_zipCode cityName  \\\n",
       "70068          湖北省               Hubei            420000       武汉   \n",
       "70064          湖北省               Hubei            420000       武汉   \n",
       "70058          湖北省               Hubei            420000       武汉   \n",
       "70050          湖北省               Hubei            420000       武汉   \n",
       "69794          湖北省               Hubei            420000       武汉   \n",
       "...            ...                 ...               ...      ...   \n",
       "447            湖北省               Hubei            420000       武汉   \n",
       "405            湖北省               Hubei            420000       武汉   \n",
       "388            湖北省               Hubei            420000       武汉   \n",
       "274            湖北省               Hubei            420000       武汉   \n",
       "32             湖北省               Hubei            420000       武汉   \n",
       "\n",
       "      cityEnglishName  city_zipCode  province_confirmedCount  \\\n",
       "70068           Wuhan      420100.0                      549   \n",
       "70064           Wuhan      420100.0                      549   \n",
       "70058           Wuhan      420100.0                      549   \n",
       "70050           Wuhan      420100.0                      549   \n",
       "69794           Wuhan      420100.0                      549   \n",
       "...               ...           ...                      ...   \n",
       "447             Wuhan      420100.0                    67790   \n",
       "405             Wuhan      420100.0                    67790   \n",
       "388             Wuhan      420100.0                    67790   \n",
       "274             Wuhan      420100.0                    67794   \n",
       "32              Wuhan      420100.0                    67794   \n",
       "\n",
       "       province_suspectedCount  province_curedCount  province_deadCount  \\\n",
       "70068                        0                    0                   0   \n",
       "70064                        0                    0                   0   \n",
       "70058                        0                    0                   0   \n",
       "70050                        0                    0                   0   \n",
       "69794                        0                    0                   0   \n",
       "...                        ...                  ...                 ...   \n",
       "447                          0                52959                3075   \n",
       "405                          0                52962                3075   \n",
       "388                          0                52960                3075   \n",
       "274                          0                54278                3085   \n",
       "32                           0                54288                3085   \n",
       "\n",
       "       city_confirmedCount  city_suspectedCount  city_curedCount  \\\n",
       "70068                  495                    0                0   \n",
       "70064                  495                    0                0   \n",
       "70058                  495                    0                0   \n",
       "70050                  495                    0                0   \n",
       "69794                  495                    0                0   \n",
       "...                    ...                  ...              ...   \n",
       "447                  49995                    0            36467   \n",
       "405                  49995                    0            36467   \n",
       "388                  49995                    0            36465   \n",
       "274                  49995                    0            36465   \n",
       "32                   49999                    0            37642   \n",
       "\n",
       "       city_deadCount               updateTime  \n",
       "70068               0  2020-01-24 09:47:38.698  \n",
       "70064               0  2020-01-24 09:48:39.253  \n",
       "70058               0  2020-01-24 09:49:39.772  \n",
       "70050               0  2020-01-24 09:50:40.357  \n",
       "69794               0  2020-01-24 11:49:48.584  \n",
       "...               ...                      ...  \n",
       "447              2446  2020-03-14 16:54:11.267  \n",
       "405              2446  2020-03-14 17:49:06.329  \n",
       "388              2446  2020-03-14 17:58:00.660  \n",
       "274              2446  2020-03-15 08:49:13.790  \n",
       "32               2456  2020-03-15 18:07:03.272  \n",
       "\n",
       "[366 rows x 15 columns]"
      ]
     },
     "execution_count": 12,
     "metadata": {},
     "output_type": "execute_result"
    }
   ],
   "source": [
    "wuhanData = wuhanData.sort_values(by=['updateTime'])\n",
    "wuhanData"
   ]
  },
  {
   "cell_type": "markdown",
   "metadata": {},
   "source": [
    "Reset the dataframe's index to be 'updateTime'"
   ]
  },
  {
   "cell_type": "code",
   "execution_count": 13,
   "metadata": {},
   "outputs": [
    {
     "data": {
      "text/html": [
       "<div>\n",
       "<style scoped>\n",
       "    .dataframe tbody tr th:only-of-type {\n",
       "        vertical-align: middle;\n",
       "    }\n",
       "\n",
       "    .dataframe tbody tr th {\n",
       "        vertical-align: top;\n",
       "    }\n",
       "\n",
       "    .dataframe thead th {\n",
       "        text-align: right;\n",
       "    }\n",
       "</style>\n",
       "<table border=\"1\" class=\"dataframe\">\n",
       "  <thead>\n",
       "    <tr style=\"text-align: right;\">\n",
       "      <th></th>\n",
       "      <th>provinceName</th>\n",
       "      <th>provinceEnglishName</th>\n",
       "      <th>province_zipCode</th>\n",
       "      <th>cityName</th>\n",
       "      <th>cityEnglishName</th>\n",
       "      <th>city_zipCode</th>\n",
       "      <th>province_confirmedCount</th>\n",
       "      <th>province_suspectedCount</th>\n",
       "      <th>province_curedCount</th>\n",
       "      <th>province_deadCount</th>\n",
       "      <th>city_confirmedCount</th>\n",
       "      <th>city_suspectedCount</th>\n",
       "      <th>city_curedCount</th>\n",
       "      <th>city_deadCount</th>\n",
       "    </tr>\n",
       "    <tr>\n",
       "      <th>updateTime</th>\n",
       "      <th></th>\n",
       "      <th></th>\n",
       "      <th></th>\n",
       "      <th></th>\n",
       "      <th></th>\n",
       "      <th></th>\n",
       "      <th></th>\n",
       "      <th></th>\n",
       "      <th></th>\n",
       "      <th></th>\n",
       "      <th></th>\n",
       "      <th></th>\n",
       "      <th></th>\n",
       "      <th></th>\n",
       "    </tr>\n",
       "  </thead>\n",
       "  <tbody>\n",
       "    <tr>\n",
       "      <td>2020-01-24 09:47:38.698</td>\n",
       "      <td>湖北省</td>\n",
       "      <td>Hubei</td>\n",
       "      <td>420000</td>\n",
       "      <td>武汉</td>\n",
       "      <td>Wuhan</td>\n",
       "      <td>420100.0</td>\n",
       "      <td>549</td>\n",
       "      <td>0</td>\n",
       "      <td>0</td>\n",
       "      <td>0</td>\n",
       "      <td>495</td>\n",
       "      <td>0</td>\n",
       "      <td>0</td>\n",
       "      <td>0</td>\n",
       "    </tr>\n",
       "    <tr>\n",
       "      <td>2020-01-24 09:48:39.253</td>\n",
       "      <td>湖北省</td>\n",
       "      <td>Hubei</td>\n",
       "      <td>420000</td>\n",
       "      <td>武汉</td>\n",
       "      <td>Wuhan</td>\n",
       "      <td>420100.0</td>\n",
       "      <td>549</td>\n",
       "      <td>0</td>\n",
       "      <td>0</td>\n",
       "      <td>0</td>\n",
       "      <td>495</td>\n",
       "      <td>0</td>\n",
       "      <td>0</td>\n",
       "      <td>0</td>\n",
       "    </tr>\n",
       "    <tr>\n",
       "      <td>2020-01-24 09:49:39.772</td>\n",
       "      <td>湖北省</td>\n",
       "      <td>Hubei</td>\n",
       "      <td>420000</td>\n",
       "      <td>武汉</td>\n",
       "      <td>Wuhan</td>\n",
       "      <td>420100.0</td>\n",
       "      <td>549</td>\n",
       "      <td>0</td>\n",
       "      <td>0</td>\n",
       "      <td>0</td>\n",
       "      <td>495</td>\n",
       "      <td>0</td>\n",
       "      <td>0</td>\n",
       "      <td>0</td>\n",
       "    </tr>\n",
       "    <tr>\n",
       "      <td>2020-01-24 09:50:40.357</td>\n",
       "      <td>湖北省</td>\n",
       "      <td>Hubei</td>\n",
       "      <td>420000</td>\n",
       "      <td>武汉</td>\n",
       "      <td>Wuhan</td>\n",
       "      <td>420100.0</td>\n",
       "      <td>549</td>\n",
       "      <td>0</td>\n",
       "      <td>0</td>\n",
       "      <td>0</td>\n",
       "      <td>495</td>\n",
       "      <td>0</td>\n",
       "      <td>0</td>\n",
       "      <td>0</td>\n",
       "    </tr>\n",
       "    <tr>\n",
       "      <td>2020-01-24 11:49:48.584</td>\n",
       "      <td>湖北省</td>\n",
       "      <td>Hubei</td>\n",
       "      <td>420000</td>\n",
       "      <td>武汉</td>\n",
       "      <td>Wuhan</td>\n",
       "      <td>420100.0</td>\n",
       "      <td>549</td>\n",
       "      <td>0</td>\n",
       "      <td>0</td>\n",
       "      <td>0</td>\n",
       "      <td>495</td>\n",
       "      <td>0</td>\n",
       "      <td>0</td>\n",
       "      <td>0</td>\n",
       "    </tr>\n",
       "    <tr>\n",
       "      <td>...</td>\n",
       "      <td>...</td>\n",
       "      <td>...</td>\n",
       "      <td>...</td>\n",
       "      <td>...</td>\n",
       "      <td>...</td>\n",
       "      <td>...</td>\n",
       "      <td>...</td>\n",
       "      <td>...</td>\n",
       "      <td>...</td>\n",
       "      <td>...</td>\n",
       "      <td>...</td>\n",
       "      <td>...</td>\n",
       "      <td>...</td>\n",
       "      <td>...</td>\n",
       "    </tr>\n",
       "    <tr>\n",
       "      <td>2020-03-14 16:54:11.267</td>\n",
       "      <td>湖北省</td>\n",
       "      <td>Hubei</td>\n",
       "      <td>420000</td>\n",
       "      <td>武汉</td>\n",
       "      <td>Wuhan</td>\n",
       "      <td>420100.0</td>\n",
       "      <td>67790</td>\n",
       "      <td>0</td>\n",
       "      <td>52959</td>\n",
       "      <td>3075</td>\n",
       "      <td>49995</td>\n",
       "      <td>0</td>\n",
       "      <td>36467</td>\n",
       "      <td>2446</td>\n",
       "    </tr>\n",
       "    <tr>\n",
       "      <td>2020-03-14 17:49:06.329</td>\n",
       "      <td>湖北省</td>\n",
       "      <td>Hubei</td>\n",
       "      <td>420000</td>\n",
       "      <td>武汉</td>\n",
       "      <td>Wuhan</td>\n",
       "      <td>420100.0</td>\n",
       "      <td>67790</td>\n",
       "      <td>0</td>\n",
       "      <td>52962</td>\n",
       "      <td>3075</td>\n",
       "      <td>49995</td>\n",
       "      <td>0</td>\n",
       "      <td>36467</td>\n",
       "      <td>2446</td>\n",
       "    </tr>\n",
       "    <tr>\n",
       "      <td>2020-03-14 17:58:00.660</td>\n",
       "      <td>湖北省</td>\n",
       "      <td>Hubei</td>\n",
       "      <td>420000</td>\n",
       "      <td>武汉</td>\n",
       "      <td>Wuhan</td>\n",
       "      <td>420100.0</td>\n",
       "      <td>67790</td>\n",
       "      <td>0</td>\n",
       "      <td>52960</td>\n",
       "      <td>3075</td>\n",
       "      <td>49995</td>\n",
       "      <td>0</td>\n",
       "      <td>36465</td>\n",
       "      <td>2446</td>\n",
       "    </tr>\n",
       "    <tr>\n",
       "      <td>2020-03-15 08:49:13.790</td>\n",
       "      <td>湖北省</td>\n",
       "      <td>Hubei</td>\n",
       "      <td>420000</td>\n",
       "      <td>武汉</td>\n",
       "      <td>Wuhan</td>\n",
       "      <td>420100.0</td>\n",
       "      <td>67794</td>\n",
       "      <td>0</td>\n",
       "      <td>54278</td>\n",
       "      <td>3085</td>\n",
       "      <td>49995</td>\n",
       "      <td>0</td>\n",
       "      <td>36465</td>\n",
       "      <td>2446</td>\n",
       "    </tr>\n",
       "    <tr>\n",
       "      <td>2020-03-15 18:07:03.272</td>\n",
       "      <td>湖北省</td>\n",
       "      <td>Hubei</td>\n",
       "      <td>420000</td>\n",
       "      <td>武汉</td>\n",
       "      <td>Wuhan</td>\n",
       "      <td>420100.0</td>\n",
       "      <td>67794</td>\n",
       "      <td>0</td>\n",
       "      <td>54288</td>\n",
       "      <td>3085</td>\n",
       "      <td>49999</td>\n",
       "      <td>0</td>\n",
       "      <td>37642</td>\n",
       "      <td>2456</td>\n",
       "    </tr>\n",
       "  </tbody>\n",
       "</table>\n",
       "<p>366 rows × 14 columns</p>\n",
       "</div>"
      ],
      "text/plain": [
       "                        provinceName provinceEnglishName  province_zipCode  \\\n",
       "updateTime                                                                   \n",
       "2020-01-24 09:47:38.698          湖北省               Hubei            420000   \n",
       "2020-01-24 09:48:39.253          湖北省               Hubei            420000   \n",
       "2020-01-24 09:49:39.772          湖北省               Hubei            420000   \n",
       "2020-01-24 09:50:40.357          湖北省               Hubei            420000   \n",
       "2020-01-24 11:49:48.584          湖北省               Hubei            420000   \n",
       "...                              ...                 ...               ...   \n",
       "2020-03-14 16:54:11.267          湖北省               Hubei            420000   \n",
       "2020-03-14 17:49:06.329          湖北省               Hubei            420000   \n",
       "2020-03-14 17:58:00.660          湖北省               Hubei            420000   \n",
       "2020-03-15 08:49:13.790          湖北省               Hubei            420000   \n",
       "2020-03-15 18:07:03.272          湖北省               Hubei            420000   \n",
       "\n",
       "                        cityName cityEnglishName  city_zipCode  \\\n",
       "updateTime                                                       \n",
       "2020-01-24 09:47:38.698       武汉           Wuhan      420100.0   \n",
       "2020-01-24 09:48:39.253       武汉           Wuhan      420100.0   \n",
       "2020-01-24 09:49:39.772       武汉           Wuhan      420100.0   \n",
       "2020-01-24 09:50:40.357       武汉           Wuhan      420100.0   \n",
       "2020-01-24 11:49:48.584       武汉           Wuhan      420100.0   \n",
       "...                          ...             ...           ...   \n",
       "2020-03-14 16:54:11.267       武汉           Wuhan      420100.0   \n",
       "2020-03-14 17:49:06.329       武汉           Wuhan      420100.0   \n",
       "2020-03-14 17:58:00.660       武汉           Wuhan      420100.0   \n",
       "2020-03-15 08:49:13.790       武汉           Wuhan      420100.0   \n",
       "2020-03-15 18:07:03.272       武汉           Wuhan      420100.0   \n",
       "\n",
       "                         province_confirmedCount  province_suspectedCount  \\\n",
       "updateTime                                                                  \n",
       "2020-01-24 09:47:38.698                      549                        0   \n",
       "2020-01-24 09:48:39.253                      549                        0   \n",
       "2020-01-24 09:49:39.772                      549                        0   \n",
       "2020-01-24 09:50:40.357                      549                        0   \n",
       "2020-01-24 11:49:48.584                      549                        0   \n",
       "...                                          ...                      ...   \n",
       "2020-03-14 16:54:11.267                    67790                        0   \n",
       "2020-03-14 17:49:06.329                    67790                        0   \n",
       "2020-03-14 17:58:00.660                    67790                        0   \n",
       "2020-03-15 08:49:13.790                    67794                        0   \n",
       "2020-03-15 18:07:03.272                    67794                        0   \n",
       "\n",
       "                         province_curedCount  province_deadCount  \\\n",
       "updateTime                                                         \n",
       "2020-01-24 09:47:38.698                    0                   0   \n",
       "2020-01-24 09:48:39.253                    0                   0   \n",
       "2020-01-24 09:49:39.772                    0                   0   \n",
       "2020-01-24 09:50:40.357                    0                   0   \n",
       "2020-01-24 11:49:48.584                    0                   0   \n",
       "...                                      ...                 ...   \n",
       "2020-03-14 16:54:11.267                52959                3075   \n",
       "2020-03-14 17:49:06.329                52962                3075   \n",
       "2020-03-14 17:58:00.660                52960                3075   \n",
       "2020-03-15 08:49:13.790                54278                3085   \n",
       "2020-03-15 18:07:03.272                54288                3085   \n",
       "\n",
       "                         city_confirmedCount  city_suspectedCount  \\\n",
       "updateTime                                                          \n",
       "2020-01-24 09:47:38.698                  495                    0   \n",
       "2020-01-24 09:48:39.253                  495                    0   \n",
       "2020-01-24 09:49:39.772                  495                    0   \n",
       "2020-01-24 09:50:40.357                  495                    0   \n",
       "2020-01-24 11:49:48.584                  495                    0   \n",
       "...                                      ...                  ...   \n",
       "2020-03-14 16:54:11.267                49995                    0   \n",
       "2020-03-14 17:49:06.329                49995                    0   \n",
       "2020-03-14 17:58:00.660                49995                    0   \n",
       "2020-03-15 08:49:13.790                49995                    0   \n",
       "2020-03-15 18:07:03.272                49999                    0   \n",
       "\n",
       "                         city_curedCount  city_deadCount  \n",
       "updateTime                                                \n",
       "2020-01-24 09:47:38.698                0               0  \n",
       "2020-01-24 09:48:39.253                0               0  \n",
       "2020-01-24 09:49:39.772                0               0  \n",
       "2020-01-24 09:50:40.357                0               0  \n",
       "2020-01-24 11:49:48.584                0               0  \n",
       "...                                  ...             ...  \n",
       "2020-03-14 16:54:11.267            36467            2446  \n",
       "2020-03-14 17:49:06.329            36467            2446  \n",
       "2020-03-14 17:58:00.660            36465            2446  \n",
       "2020-03-15 08:49:13.790            36465            2446  \n",
       "2020-03-15 18:07:03.272            37642            2456  \n",
       "\n",
       "[366 rows x 14 columns]"
      ]
     },
     "execution_count": 13,
     "metadata": {},
     "output_type": "execute_result"
    }
   ],
   "source": [
    "wuhanData = wuhanData.set_index('updateTime')\n",
    "wuhanData"
   ]
  },
  {
   "cell_type": "markdown",
   "metadata": {},
   "source": [
    "Plot 'confirmedCount', 'curedCount', and 'deadCount' for the city of Wuhan."
   ]
  },
  {
   "cell_type": "code",
   "execution_count": 14,
   "metadata": {},
   "outputs": [
    {
     "data": {
      "image/png": "[encoded data removed]",
      "text/plain": [
       "<Figure size 432x288 with 1 Axes>"
      ]
     },
     "metadata": {
      "needs_background": "light"
     },
     "output_type": "display_data"
    }
   ],
   "source": [
    "plt.plot(wuhanData.city_confirmedCount, color='green', label='confirmedCount')\n",
    "plt.plot(wuhanData.city_curedCount, color='red', label='curedCount')\n",
    "plt.plot(wuhanData.city_deadCount,  color='skyblue', label='deadCount')\n",
    "plt.legend() \n",
    "plt.show()"
   ]
  },
  {
   "cell_type": "markdown",
   "metadata": {},
   "source": [
    "Do the same for the province of Hubei (including resetting the index)."
   ]
  },
  {
   "cell_type": "code",
   "execution_count": 15,
   "metadata": {
    "scrolled": true
   },
   "outputs": [
    {
     "data": {
      "text/plain": [
       "5998"
      ]
     },
     "execution_count": 15,
     "metadata": {},
     "output_type": "execute_result"
    }
   ],
   "source": [
    "HubeiData = covid19_china[covid19_china.provinceEnglishName.str.contains('Hubei')]\n",
    "HubeiData = HubeiData.sort_values(by=['updateTime'])\n",
    "HubeiData = HubeiData.set_index('updateTime')\n",
    "len(HubeiData)"
   ]
  },
  {
   "cell_type": "markdown",
   "metadata": {},
   "source": [
    "Plot the same plot for the province of Hubei."
   ]
  },
  {
   "cell_type": "code",
   "execution_count": 16,
   "metadata": {},
   "outputs": [
    {
     "data": {
      "image/png": "[encoded data removed]",
      "text/plain": [
       "<Figure size 432x288 with 1 Axes>"
      ]
     },
     "metadata": {
      "needs_background": "light"
     },
     "output_type": "display_data"
    }
   ],
   "source": [
    "plt.plot(HubeiData.province_confirmedCount, color='green', label='confirmedCount')\n",
    "plt.plot(HubeiData.province_curedCount, color='red', label='curedCount')\n",
    "plt.plot(HubeiData.province_deadCount,  color='skyblue', label='deadCount')\n",
    "plt.legend() \n",
    "plt.show()"
   ]
  },
  {
   "cell_type": "markdown",
   "metadata": {},
   "source": [
    "And now for Shanghai."
   ]
  },
  {
   "cell_type": "code",
   "execution_count": 17,
   "metadata": {},
   "outputs": [
    {
     "data": {
      "image/png": "[encoded data removed]",
      "text/plain": [
       "<Figure size 432x288 with 1 Axes>"
      ]
     },
     "metadata": {
      "needs_background": "light"
     },
     "output_type": "display_data"
    }
   ],
   "source": [
    "ShanghaiData = covid19_china[covid19_china.provinceEnglishName.str.contains('Shanghai')]\n",
    "ShanghaiData = ShanghaiData.sort_values(by=['updateTime'])\n",
    "ShanghaiData = ShanghaiData.set_index('updateTime')\n",
    "plt.plot(ShanghaiData.province_confirmedCount, color='green', label='confirmedCount')\n",
    "plt.plot(ShanghaiData.province_curedCount, color='red', label='curedCount')\n",
    "plt.plot(ShanghaiData.province_deadCount,  color='skyblue', label='deadCount')\n",
    "plt.legend() \n",
    "plt.show()"
   ]
  },
  {
   "cell_type": "markdown",
   "metadata": {},
   "source": [
    "And now for Beijing."
   ]
  },
  {
   "cell_type": "code",
   "execution_count": 18,
   "metadata": {},
   "outputs": [
    {
     "data": {
      "image/png": "[encoded data removed]",
      "text/plain": [
       "<Figure size 432x288 with 1 Axes>"
      ]
     },
     "metadata": {
      "needs_background": "light"
     },
     "output_type": "display_data"
    }
   ],
   "source": [
    "BeijingData = covid19_china[covid19_china.provinceEnglishName.str.contains('Beijing')]\n",
    "BeijingData = BeijingData.sort_values(by=['updateTime'])\n",
    "BeijingData = BeijingData.set_index('updateTime')\n",
    "plt.plot(BeijingData.province_confirmedCount, color='green', label='confirmedCount')\n",
    "plt.plot(BeijingData.province_curedCount, color='red', label='curedCount')\n",
    "plt.plot(BeijingData.province_deadCount,  color='skyblue', label='deadCount')\n",
    "plt.legend() \n",
    "plt.show()"
   ]
  },
  {
   "cell_type": "markdown",
   "metadata": {},
   "source": [
    "Let's come up with a possible infection model.."
   ]
  },
  {
   "cell_type": "markdown",
   "metadata": {},
   "source": [
    "# A possible model of infection\n",
    "\n",
    "This requires version 3.8 of `PyMC3'!"
   ]
  },
  {
   "cell_type": "code",
   "execution_count": 19,
   "metadata": {},
   "outputs": [
    {
     "name": "stderr",
     "output_type": "stream",
     "text": [
      "WARNING (theano.configdefaults): install mkl with `conda install mkl-service`: No module named 'mkl'\n"
     ]
    },
    {
     "data": {
      "text/plain": [
       "'3.8'"
      ]
     },
     "execution_count": 19,
     "metadata": {},
     "output_type": "execute_result"
    }
   ],
   "source": [
    "import pymc3 as pm\n",
    "pm.__version__"
   ]
  },
  {
   "cell_type": "code",
   "execution_count": 20,
   "metadata": {},
   "outputs": [],
   "source": [
    "%matplotlib inline\n",
    "import numpy as np\n",
    "import matplotlib.pyplot as plt\n",
    "\n",
    "plt.style.use('seaborn-darkgrid')"
   ]
  },
  {
   "cell_type": "markdown",
   "metadata": {},
   "source": [
    "## Acquired immunity controls the infection\n",
    "\n",
    "The Susceptible-Infected-Recovered model of infection describes time dynamics of an \n",
    "[infectious disease](https://en.wikipedia.org/wiki/Compartmental_models_in_epidemiology) spreading through a homogenous closed population (no births or deaths). The population is divided into three categories: **Susceptible** `S`, **Infective** `I`, or **Recovered/Dead** `R`. We can further refine our model by having a different category `D` for dead, but let's keep it simple for now and include dead people as recovered. When people die, if properly buried, they cannot infect anymore and so they are equivalent to people that have recovered and are immune to the infection.\n",
    "\n",
    "Susceptible individuals are those that have not acquired immunity yet and are susceptible to becoming infected.\n",
    "\n",
    "Infected individuals have been infected with the disease.\n",
    "\n",
    "Recovered individuals are cured and not susceptible anymore to the disease.\n",
    "\n",
    ">**NOTE**: In China, some people have been described as cured and released from hospitals and yet they test positive again for Covid19 later on. This is actually impossible because if you recover, you *have to be immune* to the disease, and is most likley assocaited with false positives and false negatives (patients where either impoperly labeled as cured, or improperly tested as infected). It is also possible that we are dealing with multiple Covid19 strains, in which case it is possible to become infected with another strain after being cured from one. It may also be possible that the virus mutates so fast that it essentially becomes a different strain in a few days and can reinfect an immune individual. God help us all if that is the case.\n",
    "\n",
    "[Differential equations](https://en.wikipedia.org/wiki/Ordinary_differential_equation) are a mathematical framework for modelling temporal dynamics of a system. The [differential equations for the SIR model of infection](https://www.maa.org/press/periodicals/loci/joma/the-sir-model-for-spread-of-disease-the-differential-equation-model) are:\n",
    "\n",
    "$$\\dfrac{dS}{dt} = - \\beta SI \\quad S(0) = S_0$$\n",
    "\n",
    "$$\\dfrac{dI}{dt} = \\beta SI - \\gamma I \\quad I(0) = I_0$$\n",
    "\n",
    "$$\\dfrac{dR}{dt} = \\gamma I \\quad R(0) = R_0$$\n",
    "\n",
    "With the constraint that: \n",
    "\n",
    "$$S(t) + I(t) + R(t) = 1 \\;\\;, \\forall t$$\n",
    "\n",
    "Other models are available for modeling infectious diseases, such as the [IBM](https://arxiv.org/ftp/arxiv/papers/1902/1902.02784.pdf) model.\n",
    "\n",
    "If we know R(t) and I(t) then we can determine S(t): $S(t) = 1 - I(t) - R(t)$, so we can work only with the two unknowns: R(t) and I(t). We prefer to work with these because that is what the China Covid19 dataset gives us!\n",
    "\n",
    "So we write:\n",
    "\n",
    "$$\\dfrac{dI}{dt} = \\beta (1 - I - R) I - \\gamma I \\quad I(0) = I_0$$\n",
    "\n",
    "$$\\dfrac{dR}{dt} = \\gamma I \\quad R(0) = R_0$$\n",
    "\n",
    "Simplifying:\n",
    "\n",
    "$$\\dfrac{dI}{dt} = \\beta (1 - I - R -\\gamma/\\beta) I  \\quad I(0) = I_0$$\n",
    "\n",
    "$$\\dfrac{dR}{dt} = \\gamma I \\quad R(0) = R_0$$\n",
    "\n",
    "We have two equations in two unknowns, so we're good mathematicaly speaking. What are the parameters?\n",
    "\n",
    "$β$ is the rate of infection per susceptible and per infective individual: $\\beta$ is an average infected to non-infected individual contact (e.g. 4 individuals) and hinges on the underlying society. Arguably, it is higher in China where the population is denser. But it also high in very social Mediterranean countries like Italy and Spain. $\\gamma$ is the rate of recovery: It can be interpreted as an average period of infectiousness (e.g. 3 to 5 days for the common flu). For Covid19, experts are astonished by how long an individual can infect others and say that it can be up to 30 days! \n",
    "\n",
    ">For an example, in the Hong Kong flu in New York City in the late 1960's, hardly anyone was immune at the beginning of the epidemic, so almost everyone was susceptible. [This](https://www.maa.org/press/periodicals/loci/joma/the-sir-model-for-spread-of-disease-the-differential-equation-model) paper gives an estimate for the parameters. Assuming a trace level of infection in the population, say, 10 people, population variables are S(0) = 7,900,000, I(0) = 10, R(0) = 0. In terms of scaled variables, these initial conditions are s(0) = 1, i(0) = 1.27 x 10-6, r(0) = 0. We don't know values for the parameters $\\beta$ and $\\gamma$ yet, but they can be estimated and then adjusted as necessary to fit the excess death data. The average period of infectiousness is estimated at three days, so that would suggest  $\\gamma = 1/3$.  *Guessing* that each infected individual would make a possibly infecting contact with another individual every two days, then $\\beta$ would be $1/2$. So $\\beta/\\gamma = 3/2 > 1$.\n",
    "\n",
    "The quantity $β/γ$ is called [R-Nought](https://www.ncbi.nlm.nih.gov/pmc/articles/PMC1181873/) ($R_0$). Its interpretation is that if we were to drop a *single* infected person into a population of suceptible individuals, we would expect $R_0$ new infections. If $R_0>1$, then an epidemic will take place. If $R_0≤1$ then there will be no epidemic.\n",
    "\n",
    ">When $R_0<1$, each person who contracts the disease will infect fewer than one person before dying or recovering, so the outbreak will fizzle ($dI/dt<0$). When $R_0>1$, each person who gets the disease will infect more than one person, so the epidemic will spread ($dI/dt>0$). $R_0$ is the most important quantity in epidemiology.\n",
    "\n",
    "Let's model our SIR equations using a python function. `y` is our unknown, it's 2D: $y[0] = I$ and $y[1] = R$. . The parameters `p` are 2D: $p[0] = \\beta$ and $p[1] = \\gamma$. "
   ]
  },
  {
   "cell_type": "code",
   "execution_count": 21,
   "metadata": {},
   "outputs": [],
   "source": [
    "def SIR(y, t, p):\n",
    "    di = p[0] * (1. - y[0] - y[1] - p[1]/p[0]) * y[0]\n",
    "    dr = p[1] * y[0]\n",
    "    return [di, dr]"
   ]
  },
  {
   "cell_type": "markdown",
   "metadata": {},
   "source": [
    "Write down the python function that will yield the suceptible population, given the infected and recovered population:"
   ]
  },
  {
   "cell_type": "code",
   "execution_count": 22,
   "metadata": {},
   "outputs": [],
   "source": [
    "def susceptible(i, r):\n",
    "    s = 1 - i - r\n",
    "    return s"
   ]
  },
  {
   "cell_type": "markdown",
   "metadata": {},
   "source": [
    "This is our time discretization (about 3 months of data by day data):"
   ]
  },
  {
   "cell_type": "code",
   "execution_count": 23,
   "metadata": {},
   "outputs": [],
   "source": [
    "times = np.arange(0, 5, 0.25)"
   ]
  },
  {
   "cell_type": "markdown",
   "metadata": {},
   "source": [
    "Let's compute *exact* values for `y` (y\\[0\\] = I and y\\[1\\] = R). Let's assume that I(0) = 0.01 and R(0) = 0. In other words, we start with 1% infected individuals in the population, 0 recovered, and so 1 - 0.01 - 0 = 99% susceptible individuals.\n",
    "\n",
    "Let's pick some values for $\\beta$ and $\\gamma$ to begin with (we will model them based on China's data leter on), which guarantee an epidemic ($\\beta > \\gamma$):"
   ]
  },
  {
   "cell_type": "code",
   "execution_count": 24,
   "metadata": {},
   "outputs": [],
   "source": [
    "beta, gamma = 4.0, 1.0"
   ]
  },
  {
   "cell_type": "markdown",
   "metadata": {},
   "source": [
    "Realistically, an individual may be in infectious contact with more than 4 other individuals per day, and Covid19's infectivity is much bigger than 1 day!\n",
    "\n",
    "We use the library `odeint` from the package `scipy.integrate` to solve the ordinary differential equations for SIR:"
   ]
  },
  {
   "cell_type": "code",
   "execution_count": 25,
   "metadata": {},
   "outputs": [
    {
     "data": {
      "text/plain": [
       "array([[0.01      , 0.        ],\n",
       "       [0.0208257 , 0.00369366],\n",
       "       [0.04246544, 0.01130492],\n",
       "       [0.083082  , 0.02650486],\n",
       "       [0.15079362, 0.05513194],\n",
       "       [0.24292884, 0.10400761],\n",
       "       [0.3349354 , 0.17661942],\n",
       "       [0.3933139 , 0.26860411],\n",
       "       [0.40470816, 0.36928649],\n",
       "       [0.37975604, 0.46791413],\n",
       "       [0.3359828 , 0.55761153],\n",
       "       [0.28660856, 0.63545595],\n",
       "       [0.23898306, 0.70107272],\n",
       "       [0.19638616, 0.75537256],\n",
       "       [0.15983607, 0.79977261],\n",
       "       [0.12923981, 0.83578799],\n",
       "       [0.10402352, 0.86484124],\n",
       "       [0.08345368, 0.88818694],\n",
       "       [0.06679166, 0.90689355],\n",
       "       [0.05336167, 0.92185186]])"
      ]
     },
     "execution_count": 25,
     "metadata": {},
     "output_type": "execute_result"
    }
   ],
   "source": [
    "from scipy.integrate import odeint\n",
    "\n",
    "# Compute true curves\n",
    "y = odeint(SIR, t=times, y0=[0.01, 0.0], args=((beta, gamma),), rtol=1e-8)\n",
    "y"
   ]
  },
  {
   "cell_type": "markdown",
   "metadata": {},
   "source": [
    "The data has uncertainty (or ***noise***) because of our measurement tools ([aleatoric uncertainty](https://en.wikipedia.org/wiki/Uncertainty_quantification)), but also because the modeling equations are ot perfect ([epistemic uncertainity](https://en.wikipedia.org/wiki/Uncertainty_quantification)).\n",
    "\n",
    "We pick a [log-normal distribution](https://en.wikipedia.org/wiki/Log-normal_distribution), a continuous probability distribution whose logarithm is *normally distributed* (thus, if the random variable X is log-normally distributed, then Y = ln(X) has a normal distribution) as our observations pdf, with a mean equal to the log of `y`. \n",
    "\n",
    ">**NOTE**: Recall that taking the logarithm of a histogram of a dataset makes the histogram look much prettier (可爱极了), i.e. closer to a normal distribution, so that we can indeed model it as a normal distribution. So this is a very common operation amongst data scientists.\n",
    "\n",
    "So, these are our observations: Data from the true curves for I and R with errors 10% and 10% respectively"
   ]
  },
  {
   "cell_type": "code",
   "execution_count": 26,
   "metadata": {},
   "outputs": [],
   "source": [
    "yobs = np.random.lognormal(mean=np.log(y[1::]), sigma=[0.1, 0.1])"
   ]
  },
  {
   "cell_type": "code",
   "execution_count": 27,
   "metadata": {
    "scrolled": true
   },
   "outputs": [
    {
     "data": {
      "text/plain": [
       "array([[0.01952084, 0.00362415],\n",
       "       [0.04115276, 0.01138124],\n",
       "       [0.07849226, 0.03089111],\n",
       "       [0.15399007, 0.05586049],\n",
       "       [0.25466354, 0.11059657],\n",
       "       [0.34624689, 0.17721712],\n",
       "       [0.38685067, 0.26401951],\n",
       "       [0.45157131, 0.39810661],\n",
       "       [0.31893978, 0.53606776],\n",
       "       [0.33912123, 0.49158982],\n",
       "       [0.34589206, 0.72910046],\n",
       "       [0.26904925, 0.78115388],\n",
       "       [0.1888035 , 0.85132142],\n",
       "       [0.15638618, 0.7483129 ],\n",
       "       [0.12480083, 0.86323443],\n",
       "       [0.08840657, 0.83846654],\n",
       "       [0.07771318, 0.82812273],\n",
       "       [0.07370325, 0.76002162],\n",
       "       [0.05505281, 0.98058128]])"
      ]
     },
     "execution_count": 27,
     "metadata": {},
     "output_type": "execute_result"
    }
   ],
   "source": [
    "yobs"
   ]
  },
  {
   "cell_type": "code",
   "execution_count": 28,
   "metadata": {},
   "outputs": [
    {
     "data": {
      "text/plain": [
       "array([0.01952084, 0.04115276, 0.07849226, 0.15399007, 0.25466354,\n",
       "       0.34624689, 0.38685067, 0.45157131, 0.31893978, 0.33912123,\n",
       "       0.34589206, 0.26904925, 0.1888035 , 0.15638618, 0.12480083,\n",
       "       0.08840657, 0.07771318, 0.07370325, 0.05505281])"
      ]
     },
     "execution_count": 28,
     "metadata": {},
     "output_type": "execute_result"
    }
   ],
   "source": [
    "yobs[:,0]"
   ]
  },
  {
   "cell_type": "markdown",
   "metadata": {},
   "source": [
    "Now plot our observations as datapoints on top of the exact values for S and I. R is not observed but estimated from the exact curves for S and I. Plot that, too."
   ]
  },
  {
   "cell_type": "code",
   "execution_count": 29,
   "metadata": {},
   "outputs": [
    {
     "data": {
      "text/plain": [
       "<matplotlib.legend.Legend at 0x131c0fad0>"
      ]
     },
     "execution_count": 29,
     "metadata": {},
     "output_type": "execute_result"
    },
    {
     "data": {
      "image/png": "[encoded data removed]",
      "text/plain": [
       "<Figure size 432x288 with 1 Axes>"
      ]
     },
     "metadata": {},
     "output_type": "display_data"
    }
   ],
   "source": [
    "plt.plot(susceptible(yobs[:,0], yobs[:, 1]), label='Susceptible')\n",
    "plt.plot(yobs[:,0],label='Infective')\n",
    "plt.plot(yobs[:,1],label='Recovered')\n",
    "plt.legend() "
   ]
  },
  {
   "cell_type": "markdown",
   "metadata": {},
   "source": [
    "This data looks very close to our China data: Driven by rising infections, susceptible population diminishes due to acquired immunity, which controls the infection and brings it down to zero after it reaches a peak of 40% of the population, for the values of the parameters $\\beta$ and $\\gamma$ that we picked. Very sobering.\n",
    "\n",
    "Our China data though is only up to timepoint 2. We have *yet* to observe the infection to come down. All we observe in China is that *the number of new infections is coming down to almost zero*, which means we are approaching the peak of the Infected curve $I(t)$."
   ]
  },
  {
   "cell_type": "markdown",
   "metadata": {},
   "source": [
    "# Modeling with China's data\n",
    "\n",
    "Let's model China's infection data with Bayesian estimation in order to figure out the critical Chinese $\\beta$ and $\\gamma$ parameters. Based on social comparisons, we can estimate our own $\\beta$ parameter, so that will give us a disease $R_0$, which will tell us how *dangerous* Covid19 really is.\n",
    "\n",
    ">Flyers about how the flu kills more people than Covid19 abounded around campus, and are probably partly responsible for the complacent response to the epidemic in Western societies. Let's see how much *more dangerous* than the flu it really is.\n",
    "\n",
    "Let's plot Wuhan's infected and cured populations once again:"
   ]
  },
  {
   "cell_type": "code",
   "execution_count": 30,
   "metadata": {},
   "outputs": [
    {
     "data": {
      "image/png": "[encoded data removed]",
      "text/plain": [
       "<Figure size 432x288 with 1 Axes>"
      ]
     },
     "metadata": {},
     "output_type": "display_data"
    }
   ],
   "source": [
    "plt.plot(wuhanData.city_confirmedCount, color='green', label='confirmedCount')\n",
    "plt.plot(wuhanData.city_curedCount, color='red', label='curedCount')\n",
    "plt.plot(wuhanData.city_deadCount,  color='skyblue', label='deadCount')\n",
    "plt.legend() \n",
    "plt.show()"
   ]
  },
  {
   "cell_type": "markdown",
   "metadata": {},
   "source": [
    "### Extrapolating Chinese data to the fizzling out of the pandemic\n",
    "\n",
    "We have to complete the Chinese data since it only goes up to the peak. We will assume that what we hear from China is correct: The epidemic has peaked and is petering out, thanks to the draconian quarantine measures undertaken. So let's just mirror out the infected data so that it decreases at the same rate, and let's just continue the progression of the cured curve.\n",
    "\n",
    "In other words, you are going to extend `DXYArea.csv` so that it looks like the modelled profiles above. You are going to assume that the epidemic is being contained and that the number of infected people will go down to zero like the model above. So you are going to have to essentially *mirror* the **infected** population profile, and *extrapolate* the **recovered** population profile.\n",
    "\n",
    "You will add dead people to the **recovered** people curve, so that our empirical data will match our model data.\n",
    "\n",
    "Wuhan was the hardest hit city, so you will do this just for Wuhan data.\n",
    "\n",
    "Probably the hardest part will be extending the index, so that you go an extra couple of months from the last data in the empirical data, that is where the number of infected people goes down to zero, and the number of recovered people keeps increasing (just do a simple linear interpolation for the recovered people).\n",
    "\n",
    "Your dataframe should look something like this:"
   ]
  },
  {
   "cell_type": "code",
   "execution_count": 31,
   "metadata": {
    "scrolled": true
   },
   "outputs": [
    {
     "data": {
      "image/png": "[encoded data removed]",
      "text/plain": [
       "<Figure size 432x288 with 1 Axes>"
      ]
     },
     "metadata": {},
     "output_type": "display_data"
    }
   ],
   "source": [
    "import datetime\n",
    "##plt.plot(wuhanData.city_confirmedCount)\n",
    "dateIndex = wuhanData.city_confirmedCount.index\n",
    "type(dateIndex)\n",
    "dayOne = datetime.datetime.strptime(dateIndex[0], '%Y-%m-%d %H:%M:%S.%f')\n",
    "lastDay = datetime.datetime.strptime(dateIndex[-1], '%Y-%m-%d %H:%M:%S.%f')\n",
    "timeDifference = lastDay - dayOne\n",
    "newDateIndex = []\n",
    "for x in dateIndex:\n",
    "    day = datetime.datetime.strptime(x, '%Y-%m-%d %H:%M:%S.%f')\n",
    "    newday = day + datetime.timedelta(days=timeDifference.days + 1)\n",
    "    newDateIndex.append(newday.strftime('%Y-%m-%d %H:%M:%S.%f'))\n",
    "newIndex  = list(dateIndex) + newDateIndex\n",
    "reversedSeries = wuhanData.city_confirmedCount[::-1]\n",
    "reversedSeries = pd.Series(list(reversedSeries))\n",
    "reversedSeries.index = newDateIndex\n",
    "city_confirmedCount = pd.concat([wuhanData.city_confirmedCount, reversedSeries])\n",
    "plt.plot(city_confirmedCount)\n",
    "plt.title('Covid19 in Wuhan, city_confirmedCount extrapolated')\n",
    "plt.ylabel('confirmedCount')\n",
    "plt.xlabel('Date')\n",
    "plt.grid(True)"
   ]
  },
  {
   "cell_type": "markdown",
   "metadata": {},
   "source": [
    "Let's add a column that is the sum of curedCount through deadCount:"
   ]
  },
  {
   "cell_type": "code",
   "execution_count": 32,
   "metadata": {},
   "outputs": [],
   "source": [
    "wuhanData['recoveredCount'] = wuhanData.iloc[:, 12:14].sum(axis=1)"
   ]
  },
  {
   "cell_type": "raw",
   "metadata": {
    "scrolled": false
   },
   "source": [
    "wuhanData['recoveredCount'] = wuhanData.iloc[:, 12:14].sum(axis=1)\n",
    "newRecoveredCount = wuhanData.recoveredCount + 40098\n",
    "newRecoveredCount = pd.Series(list(newRecoveredCount))\n",
    "newRecoveredCount.index = newDateIndex\n",
    "city_recoveredCount = pd.concat([wuhanData.recoveredCount, newRecoveredCount])\n",
    "plt.plot(city_recoveredCount)\n",
    "plt.title('Covid19 in Wuhan, city_recoveredCount extrapolated')\n",
    "plt.ylabel('recoveredCount')\n",
    "plt.xlabel('Date')\n",
    "plt.grid(True)"
   ]
  },
  {
   "cell_type": "code",
   "execution_count": 33,
   "metadata": {
    "scrolled": true
   },
   "outputs": [
    {
     "data": {
      "image/png": "[encoded data removed]",
      "text/plain": [
       "<Figure size 432x288 with 1 Axes>"
      ]
     },
     "metadata": {},
     "output_type": "display_data"
    }
   ],
   "source": [
    "wuhanData['recoveredCount'] = wuhanData.iloc[:, 12:14].sum(axis=1)\n",
    "finalRecoveredCount = wuhanData.recoveredCount.iloc[-1]*2\n",
    "lastRecoveredCount = pd.Series([finalRecoveredCount], index=[len(newIndex)]) \n",
    "newrecoverIndex = range(1, len(wuhanData.recoveredCount.keys())+1)   \n",
    "recoveredCount = list(wuhanData.recoveredCount)\n",
    "newData = []\n",
    "for count, x in enumerate(recoveredCount):\n",
    "    index = len(recoveredCount)- 1 - count\n",
    "    singleNewData = recoveredCount[-1]*2 - recoveredCount[index]\n",
    "    newData.append(singleNewData)\n",
    "city_recoveredCount = pd.Series(list(wuhanData.recoveredCount) + newData)\n",
    "city_recoveredCount.index = newIndex\n",
    "plt.plot(city_recoveredCount)\n",
    "plt.title('Covid19 in Wuhan, city_confirmedCount extrapolated')\n",
    "plt.ylabel('recoveredCount')\n",
    "plt.xlabel('Date')\n",
    "plt.grid(True)"
   ]
  },
  {
   "cell_type": "code",
   "execution_count": 34,
   "metadata": {},
   "outputs": [
    {
     "data": {
      "text/html": [
       "<div>\n",
       "<style scoped>\n",
       "    .dataframe tbody tr th:only-of-type {\n",
       "        vertical-align: middle;\n",
       "    }\n",
       "\n",
       "    .dataframe tbody tr th {\n",
       "        vertical-align: top;\n",
       "    }\n",
       "\n",
       "    .dataframe thead th {\n",
       "        text-align: right;\n",
       "    }\n",
       "</style>\n",
       "<table border=\"1\" class=\"dataframe\">\n",
       "  <thead>\n",
       "    <tr style=\"text-align: right;\">\n",
       "      <th></th>\n",
       "      <th>city_confirmedCount</th>\n",
       "      <th>city_recoveredCount</th>\n",
       "    </tr>\n",
       "  </thead>\n",
       "  <tbody>\n",
       "    <tr>\n",
       "      <td>2020-01-24 09:47:38.698</td>\n",
       "      <td>495</td>\n",
       "      <td>0</td>\n",
       "    </tr>\n",
       "    <tr>\n",
       "      <td>2020-01-24 09:48:39.253</td>\n",
       "      <td>495</td>\n",
       "      <td>0</td>\n",
       "    </tr>\n",
       "    <tr>\n",
       "      <td>2020-01-24 09:49:39.772</td>\n",
       "      <td>495</td>\n",
       "      <td>0</td>\n",
       "    </tr>\n",
       "    <tr>\n",
       "      <td>2020-01-24 09:50:40.357</td>\n",
       "      <td>495</td>\n",
       "      <td>0</td>\n",
       "    </tr>\n",
       "    <tr>\n",
       "      <td>2020-01-24 11:49:48.584</td>\n",
       "      <td>495</td>\n",
       "      <td>0</td>\n",
       "    </tr>\n",
       "    <tr>\n",
       "      <td>...</td>\n",
       "      <td>...</td>\n",
       "      <td>...</td>\n",
       "    </tr>\n",
       "    <tr>\n",
       "      <td>2020-05-05 16:54:11.267000</td>\n",
       "      <td>495</td>\n",
       "      <td>80196</td>\n",
       "    </tr>\n",
       "    <tr>\n",
       "      <td>2020-05-05 17:49:06.329000</td>\n",
       "      <td>495</td>\n",
       "      <td>80196</td>\n",
       "    </tr>\n",
       "    <tr>\n",
       "      <td>2020-05-05 17:58:00.660000</td>\n",
       "      <td>495</td>\n",
       "      <td>80196</td>\n",
       "    </tr>\n",
       "    <tr>\n",
       "      <td>2020-05-06 08:49:13.790000</td>\n",
       "      <td>495</td>\n",
       "      <td>80196</td>\n",
       "    </tr>\n",
       "    <tr>\n",
       "      <td>2020-05-06 18:07:03.272000</td>\n",
       "      <td>495</td>\n",
       "      <td>80196</td>\n",
       "    </tr>\n",
       "  </tbody>\n",
       "</table>\n",
       "<p>732 rows × 2 columns</p>\n",
       "</div>"
      ],
      "text/plain": [
       "                            city_confirmedCount  city_recoveredCount\n",
       "2020-01-24 09:47:38.698                     495                    0\n",
       "2020-01-24 09:48:39.253                     495                    0\n",
       "2020-01-24 09:49:39.772                     495                    0\n",
       "2020-01-24 09:50:40.357                     495                    0\n",
       "2020-01-24 11:49:48.584                     495                    0\n",
       "...                                         ...                  ...\n",
       "2020-05-05 16:54:11.267000                  495                80196\n",
       "2020-05-05 17:49:06.329000                  495                80196\n",
       "2020-05-05 17:58:00.660000                  495                80196\n",
       "2020-05-06 08:49:13.790000                  495                80196\n",
       "2020-05-06 18:07:03.272000                  495                80196\n",
       "\n",
       "[732 rows x 2 columns]"
      ]
     },
     "execution_count": 34,
     "metadata": {},
     "output_type": "execute_result"
    }
   ],
   "source": [
    "covid19_wuhan_extension = pd.concat([city_confirmedCount, city_recoveredCount], axis=1)\n",
    "covid19_wuhan_extension.columns = [\"city_confirmedCount\", \"city_recoveredCount\"]\n",
    "covid19_wuhan_extension"
   ]
  },
  {
   "cell_type": "markdown",
   "metadata": {},
   "source": [
    "And the plot something like this:"
   ]
  },
  {
   "cell_type": "code",
   "execution_count": 35,
   "metadata": {
    "scrolled": true
   },
   "outputs": [
    {
     "data": {
      "image/png": "[encoded data removed]",
      "text/plain": [
       "<Figure size 432x288 with 1 Axes>"
      ]
     },
     "metadata": {},
     "output_type": "display_data"
    }
   ],
   "source": [
    "plt.plot(covid19_wuhan_extension.city_confirmedCount)### blue one\n",
    "plt.plot(covid19_wuhan_extension.city_recoveredCount)### orange one\n",
    "\n",
    "plt.title('Covid19 in Wuhan, diagnosed/recovered extrapolated')\n",
    "plt.ylabel('diagnosed/recovered')\n",
    "plt.xlabel('Date')\n",
    "plt.grid(True)"
   ]
  },
  {
   "cell_type": "markdown",
   "metadata": {},
   "source": [
    "You can then reduce the size of our data by an order of magnitude:"
   ]
  },
  {
   "cell_type": "code",
   "execution_count": 36,
   "metadata": {},
   "outputs": [],
   "source": [
    "covid19_wuhan_extension3 = covid19_wuhan_extension[::30]  # Selects every 30th raw starting from 0"
   ]
  },
  {
   "cell_type": "code",
   "execution_count": 37,
   "metadata": {},
   "outputs": [
    {
     "data": {
      "image/png": "[encoded data removed]",
      "text/plain": [
       "<Figure size 432x288 with 1 Axes>"
      ]
     },
     "metadata": {},
     "output_type": "display_data"
    }
   ],
   "source": [
    "plt.plot(covid19_wuhan_extension3.city_confirmedCount)\n",
    "plt.plot(covid19_wuhan_extension3.city_recoveredCount)\n",
    "\n",
    "plt.title('Covid19 in Wuhan, diagnosed/recovered extrapolated, thinned out')\n",
    "plt.ylabel('diagnosed/recovered')\n",
    "plt.xlabel('Date')\n",
    "plt.grid(True)"
   ]
  },
  {
   "cell_type": "markdown",
   "metadata": {},
   "source": [
    "and renormalize so that all values are less than 1, with the number of recovered people slowly reaching 100%."
   ]
  },
  {
   "cell_type": "code",
   "execution_count": 38,
   "metadata": {
    "scrolled": true
   },
   "outputs": [
    {
     "data": {
      "text/plain": [
       "2020-01-24 09:47:38.698           0\n",
       "2020-01-24 09:48:39.253           0\n",
       "2020-01-24 09:49:39.772           0\n",
       "2020-01-24 09:50:40.357           0\n",
       "2020-01-24 11:49:48.584           0\n",
       "                              ...  \n",
       "2020-05-05 16:54:11.267000    80196\n",
       "2020-05-05 17:49:06.329000    80196\n",
       "2020-05-05 17:58:00.660000    80196\n",
       "2020-05-06 08:49:13.790000    80196\n",
       "2020-05-06 18:07:03.272000    80196\n",
       "Name: city_recoveredCount, Length: 732, dtype: int64"
      ]
     },
     "execution_count": 38,
     "metadata": {},
     "output_type": "execute_result"
    }
   ],
   "source": [
    "covid19_wuhan_extension.city_recoveredCount"
   ]
  },
  {
   "cell_type": "code",
   "execution_count": 39,
   "metadata": {},
   "outputs": [
    {
     "data": {
      "text/html": [
       "<div>\n",
       "<style scoped>\n",
       "    .dataframe tbody tr th:only-of-type {\n",
       "        vertical-align: middle;\n",
       "    }\n",
       "\n",
       "    .dataframe tbody tr th {\n",
       "        vertical-align: top;\n",
       "    }\n",
       "\n",
       "    .dataframe thead th {\n",
       "        text-align: right;\n",
       "    }\n",
       "</style>\n",
       "<table border=\"1\" class=\"dataframe\">\n",
       "  <thead>\n",
       "    <tr style=\"text-align: right;\">\n",
       "      <th></th>\n",
       "      <th>city_confirmedCount</th>\n",
       "      <th>city_recoveredCount</th>\n",
       "    </tr>\n",
       "  </thead>\n",
       "  <tbody>\n",
       "    <tr>\n",
       "      <td>2020-01-24 09:47:38.698</td>\n",
       "      <td>495</td>\n",
       "      <td>0</td>\n",
       "    </tr>\n",
       "    <tr>\n",
       "      <td>2020-01-24 09:48:39.253</td>\n",
       "      <td>495</td>\n",
       "      <td>0</td>\n",
       "    </tr>\n",
       "    <tr>\n",
       "      <td>2020-01-24 09:49:39.772</td>\n",
       "      <td>495</td>\n",
       "      <td>0</td>\n",
       "    </tr>\n",
       "    <tr>\n",
       "      <td>2020-01-24 09:50:40.357</td>\n",
       "      <td>495</td>\n",
       "      <td>0</td>\n",
       "    </tr>\n",
       "    <tr>\n",
       "      <td>2020-01-24 11:49:48.584</td>\n",
       "      <td>495</td>\n",
       "      <td>0</td>\n",
       "    </tr>\n",
       "    <tr>\n",
       "      <td>...</td>\n",
       "      <td>...</td>\n",
       "      <td>...</td>\n",
       "    </tr>\n",
       "    <tr>\n",
       "      <td>2020-05-05 16:54:11.267000</td>\n",
       "      <td>495</td>\n",
       "      <td>80196</td>\n",
       "    </tr>\n",
       "    <tr>\n",
       "      <td>2020-05-05 17:49:06.329000</td>\n",
       "      <td>495</td>\n",
       "      <td>80196</td>\n",
       "    </tr>\n",
       "    <tr>\n",
       "      <td>2020-05-05 17:58:00.660000</td>\n",
       "      <td>495</td>\n",
       "      <td>80196</td>\n",
       "    </tr>\n",
       "    <tr>\n",
       "      <td>2020-05-06 08:49:13.790000</td>\n",
       "      <td>495</td>\n",
       "      <td>80196</td>\n",
       "    </tr>\n",
       "    <tr>\n",
       "      <td>2020-05-06 18:07:03.272000</td>\n",
       "      <td>495</td>\n",
       "      <td>80196</td>\n",
       "    </tr>\n",
       "  </tbody>\n",
       "</table>\n",
       "<p>732 rows × 2 columns</p>\n",
       "</div>"
      ],
      "text/plain": [
       "                            city_confirmedCount  city_recoveredCount\n",
       "2020-01-24 09:47:38.698                     495                    0\n",
       "2020-01-24 09:48:39.253                     495                    0\n",
       "2020-01-24 09:49:39.772                     495                    0\n",
       "2020-01-24 09:50:40.357                     495                    0\n",
       "2020-01-24 11:49:48.584                     495                    0\n",
       "...                                         ...                  ...\n",
       "2020-05-05 16:54:11.267000                  495                80196\n",
       "2020-05-05 17:49:06.329000                  495                80196\n",
       "2020-05-05 17:58:00.660000                  495                80196\n",
       "2020-05-06 08:49:13.790000                  495                80196\n",
       "2020-05-06 18:07:03.272000                  495                80196\n",
       "\n",
       "[732 rows x 2 columns]"
      ]
     },
     "execution_count": 39,
     "metadata": {},
     "output_type": "execute_result"
    }
   ],
   "source": [
    "covid19_wuhan_extension"
   ]
  },
  {
   "cell_type": "code",
   "execution_count": 40,
   "metadata": {},
   "outputs": [
    {
     "name": "stdout",
     "output_type": "stream",
     "text": [
      "80196\n"
     ]
    },
    {
     "data": {
      "text/html": [
       "<div>\n",
       "<style scoped>\n",
       "    .dataframe tbody tr th:only-of-type {\n",
       "        vertical-align: middle;\n",
       "    }\n",
       "\n",
       "    .dataframe tbody tr th {\n",
       "        vertical-align: top;\n",
       "    }\n",
       "\n",
       "    .dataframe thead th {\n",
       "        text-align: right;\n",
       "    }\n",
       "</style>\n",
       "<table border=\"1\" class=\"dataframe\">\n",
       "  <thead>\n",
       "    <tr style=\"text-align: right;\">\n",
       "      <th></th>\n",
       "      <th>city_confirmedCount</th>\n",
       "      <th>city_recoveredCount</th>\n",
       "    </tr>\n",
       "  </thead>\n",
       "  <tbody>\n",
       "    <tr>\n",
       "      <td>2020-01-24 09:47:38.698</td>\n",
       "      <td>0.006172</td>\n",
       "      <td>0.0</td>\n",
       "    </tr>\n",
       "    <tr>\n",
       "      <td>2020-01-24 09:48:39.253</td>\n",
       "      <td>0.006172</td>\n",
       "      <td>0.0</td>\n",
       "    </tr>\n",
       "    <tr>\n",
       "      <td>2020-01-24 09:49:39.772</td>\n",
       "      <td>0.006172</td>\n",
       "      <td>0.0</td>\n",
       "    </tr>\n",
       "    <tr>\n",
       "      <td>2020-01-24 09:50:40.357</td>\n",
       "      <td>0.006172</td>\n",
       "      <td>0.0</td>\n",
       "    </tr>\n",
       "    <tr>\n",
       "      <td>2020-01-24 11:49:48.584</td>\n",
       "      <td>0.006172</td>\n",
       "      <td>0.0</td>\n",
       "    </tr>\n",
       "    <tr>\n",
       "      <td>...</td>\n",
       "      <td>...</td>\n",
       "      <td>...</td>\n",
       "    </tr>\n",
       "    <tr>\n",
       "      <td>2020-05-05 16:54:11.267000</td>\n",
       "      <td>0.006172</td>\n",
       "      <td>1.0</td>\n",
       "    </tr>\n",
       "    <tr>\n",
       "      <td>2020-05-05 17:49:06.329000</td>\n",
       "      <td>0.006172</td>\n",
       "      <td>1.0</td>\n",
       "    </tr>\n",
       "    <tr>\n",
       "      <td>2020-05-05 17:58:00.660000</td>\n",
       "      <td>0.006172</td>\n",
       "      <td>1.0</td>\n",
       "    </tr>\n",
       "    <tr>\n",
       "      <td>2020-05-06 08:49:13.790000</td>\n",
       "      <td>0.006172</td>\n",
       "      <td>1.0</td>\n",
       "    </tr>\n",
       "    <tr>\n",
       "      <td>2020-05-06 18:07:03.272000</td>\n",
       "      <td>0.006172</td>\n",
       "      <td>1.0</td>\n",
       "    </tr>\n",
       "  </tbody>\n",
       "</table>\n",
       "<p>732 rows × 2 columns</p>\n",
       "</div>"
      ],
      "text/plain": [
       "                            city_confirmedCount  city_recoveredCount\n",
       "2020-01-24 09:47:38.698                0.006172                  0.0\n",
       "2020-01-24 09:48:39.253                0.006172                  0.0\n",
       "2020-01-24 09:49:39.772                0.006172                  0.0\n",
       "2020-01-24 09:50:40.357                0.006172                  0.0\n",
       "2020-01-24 11:49:48.584                0.006172                  0.0\n",
       "...                                         ...                  ...\n",
       "2020-05-05 16:54:11.267000             0.006172                  1.0\n",
       "2020-05-05 17:49:06.329000             0.006172                  1.0\n",
       "2020-05-05 17:58:00.660000             0.006172                  1.0\n",
       "2020-05-06 08:49:13.790000             0.006172                  1.0\n",
       "2020-05-06 18:07:03.272000             0.006172                  1.0\n",
       "\n",
       "[732 rows x 2 columns]"
      ]
     },
     "execution_count": 40,
     "metadata": {},
     "output_type": "execute_result"
    }
   ],
   "source": [
    "maxrecoveredCount = covid19_wuhan_extension.city_recoveredCount.iloc[-1]\n",
    "print(maxrecoveredCount)\n",
    "covid19_wuhan_extension4 = covid19_wuhan_extension.div(int(maxrecoveredCount))\n",
    "covid19_wuhan_extension4"
   ]
  },
  {
   "cell_type": "code",
   "execution_count": 41,
   "metadata": {},
   "outputs": [
    {
     "data": {
      "image/png": "[encoded data removed]",
      "text/plain": [
       "<Figure size 432x288 with 1 Axes>"
      ]
     },
     "metadata": {},
     "output_type": "display_data"
    }
   ],
   "source": [
    "plt.plot(covid19_wuhan_extension4.city_confirmedCount)\n",
    "plt.plot(covid19_wuhan_extension4.city_recoveredCount)\n",
    "\n",
    "plt.title('Covid19 in Wuhan, diagnosed/recovered extrapolated, thinned out, renormalized')\n",
    "plt.ylabel('diagnosed/recovered')\n",
    "plt.xlabel('Date')\n",
    "plt.grid(True)"
   ]
  },
  {
   "cell_type": "markdown",
   "metadata": {},
   "source": [
    "Now we have our data, we are ready for our Bayesian modeling!"
   ]
  },
  {
   "cell_type": "markdown",
   "metadata": {},
   "source": [
    "### Bayesian modeling Chinese stats"
   ]
  },
  {
   "cell_type": "markdown",
   "metadata": {},
   "source": [
    "We import `DifferentialEquation` from `PyMC3`:"
   ]
  },
  {
   "cell_type": "code",
   "execution_count": 50,
   "metadata": {},
   "outputs": [],
   "source": [
    "import numpy as np\n",
    "import pymc3 as pm\n",
    "from pymc3.ode import DifferentialEquation\n",
    "import theano"
   ]
  },
  {
   "cell_type": "markdown",
   "metadata": {},
   "source": [
    "Matching shapes for X and Y:"
   ]
  },
  {
   "cell_type": "code",
   "execution_count": 51,
   "metadata": {},
   "outputs": [
    {
     "data": {
      "text/plain": [
       "(718,)"
      ]
     },
     "execution_count": 51,
     "metadata": {},
     "output_type": "execute_result"
    }
   ],
   "source": [
    "np.arange(0.25, 5, 0.00662).shape"
   ]
  },
  {
   "cell_type": "markdown",
   "metadata": {},
   "source": [
    "Our epidemic model dynamics are captured thusly:"
   ]
  },
  {
   "cell_type": "code",
   "execution_count": 52,
   "metadata": {},
   "outputs": [],
   "source": [
    "sir_model = DifferentialEquation(\n",
    "    func = SIR,\n",
    "    times = np.arange(0.25, 5, 0.2),\n",
    "    n_states = 2,\n",
    "    n_theta = 2,\n",
    "    t0 = 0,\n",
    ")"
   ]
  },
  {
   "cell_type": "markdown",
   "metadata": {},
   "source": [
    "We will model observations with a [log-normal distribution](https://en.wikipedia.org/wiki/Log-normal_distribution), a continuous probability density function (pdf) whose logarithm is normally distributed. Thus, if the random variable X is log-normally distributed, then Y = ln(X) has a normal distribution. \n",
    "\n",
    "Taking the logarithm of a dataset is a big-time prettyfier of data and is often a first target model. So we will assume that our Chinese I (infected) and R (recovered) data are log-normally distributed. We will add dead people to the recovered population since that is how we built our infectious model above.\n",
    "\n",
    "We will assume that there is noise/error in the Chinese data, so we will tack on a standard deviation. Since that quantity is never negative, it is often modelled as a Half [Cauchy](https://en.wikipedia.org/wiki/Cauchy_distribution) distribution. It has an interesting history.\n",
    "\n",
    ">**NOTE**: The half-Cauchy is heavy tailed and is regarded as fairly weakly informative. Gelman advocates for half-t priors (including the half-Cauchy) because they have better behavior for small parameter values but only regards it as weakly informative when a large scale parameter is used. See [A. Gelman (2006),\n",
    "\"Prior distributions for variance parameters in hierarchical models\"\n",
    "Bayesian Analysis, Vol. 1, N. 3, pp. 515–533](http://www.stat.columbia.edu/~gelman/research/published/taumain.pdf). \n",
    "\n",
    "\n",
    "To model the parameters themselves, we will assume a very uninformative $R_0$ that is just $> 1$ so that we have an epidemic, a $\\gamma$ that also follows a log-normal distribution (so we only use one pdf type for our model, but hey, *you're free to try another one*!), and a $\\beta$ that is deterministically given by $\\gamma * R_0$.\n",
    "\n",
    "The data whose likelihood we're trying to model is given by the `sir_model` above: our function `SIR` given even further above, a time discretization from 0.25 to 5, starting from time 0, with 2D data (I, R) for Wuhan, Hubei, and 2D parameters (`R0` and `gama`). We pick Wuhan because it gives us the worst possible case since it's the epicenter of the disease.\n",
    "\n",
    "So, sigma (`sig`) is a half-Cuachy:\n",
    "```(python)\n",
    "sig = pm.HalfCauchy('sig', 1, shape=2)\n",
    "```\n",
    "\n",
    "$R_0$ is another model parameter, which we bound below by 1 (>1) because an epidemic has occured!\n",
    "```(python)\n",
    "R0 = pm.Bound(pm.Normal, lower=1)('R0', 2, 3)\n",
    "```\n",
    "\n",
    "We model $\\gamma$ with the same pdf as the data likelihood:\n",
    "```(python)\n",
    "gama = pm.Lognormal('gama', pm.math.log(2), 2)\n",
    "```\n",
    "\n",
    "And so 4\\beta$ is given deterministically by:\n",
    "```(python)\n",
    "beta = pm.Deterministic('beta', gama*R0)\n",
    "```\n",
    "\n",
    "Then we model the data likelihood thusly:\n",
    "```(python)\n",
    "sir_curves = sir_model(y0=[0.01, 0.0], theta=[beta, gama])\n",
    "Y = pm.Lognormal('Y', mu=pm.math.log(sir_curves), sd=sig, observed=y_wuhan4)\n",
    "```\n",
    "\n",
    "Try setting the prior to this:\n",
    "```(python)\n",
    "prior = pm.sample_prior_predictive()\n",
    "```\n",
    "\n",
    "And finally run your NUTS sim (you may want to start with a Metropolis sim):\n",
    "```(python)\n",
    "trace = pm.sample(2000, tune=1000, target_accept=0.9, cores=1)\n",
    "```"
   ]
  },
  {
   "cell_type": "markdown",
   "metadata": {},
   "source": [
    "So, sigma (`sig`) is a half-Cuachy:"
   ]
  },
  {
   "cell_type": "code",
   "execution_count": null,
   "metadata": {},
   "outputs": [],
   "source": [
    "sig = pm.HalfCauchy('sig', 1, shape=2)"
   ]
  },
  {
   "cell_type": "markdown",
   "metadata": {},
   "source": [
    "$R_0$ is another model parameter, which we bound below by 1 (>1) because an epidemic has occured!"
   ]
  },
  {
   "cell_type": "code",
   "execution_count": null,
   "metadata": {},
   "outputs": [],
   "source": [
    "R0 = pm.Bound(pm.Normal, lower=1)('R0', 2, 3)"
   ]
  },
  {
   "cell_type": "markdown",
   "metadata": {},
   "source": [
    "We model $\\gamma$ with the same pdf as the data likelihood:"
   ]
  },
  {
   "cell_type": "code",
   "execution_count": null,
   "metadata": {},
   "outputs": [],
   "source": [
    "gama = pm.Lognormal('gama', pm.math.log(2), 2)"
   ]
  },
  {
   "cell_type": "markdown",
   "metadata": {},
   "source": [
    "And so 4\\beta$ is given deterministically by:"
   ]
  },
  {
   "cell_type": "code",
   "execution_count": null,
   "metadata": {},
   "outputs": [],
   "source": [
    "beta = pm.Deterministic('beta', gama*R0)"
   ]
  },
  {
   "cell_type": "markdown",
   "metadata": {},
   "source": [
    "Then we model the data likelihood thusly:"
   ]
  },
  {
   "cell_type": "code",
   "execution_count": null,
   "metadata": {},
   "outputs": [],
   "source": [
    "sir_curves = sir_model(y0=[0.01, 0.0], theta=[beta, gama])\n",
    "Y = pm.Lognormal('Y', mu=pm.math.log(sir_curves), sd=sig, observed=y_wuhan4)"
   ]
  },
  {
   "cell_type": "markdown",
   "metadata": {},
   "source": [
    "Try setting the prior to this:"
   ]
  },
  {
   "cell_type": "code",
   "execution_count": null,
   "metadata": {},
   "outputs": [],
   "source": [
    "prior = pm.sample_prior_predictive()"
   ]
  },
  {
   "cell_type": "markdown",
   "metadata": {},
   "source": [
    "And finally run your NUTS sim (you may want to start with a Metropolis sim):"
   ]
  },
  {
   "cell_type": "code",
   "execution_count": null,
   "metadata": {},
   "outputs": [],
   "source": [
    "trace = pm.sample(2000, tune=1000, target_accept=0.9, cores=1)"
   ]
  },
  {
   "cell_type": "markdown",
   "metadata": {},
   "source": [
    "# Conclusion\n",
    "\n",
    "Estimate the value of $R_0$ for the Coronavirus.\n",
    "\n",
    "This is some real data science, not just an easy midterm. So try to do as much of the pandas preprocessing in class, and maybe try to finish the Bayesian modeling at home. Do as much as you can!\n",
    "\n",
    "Good luck, data scientist! You may save the world one day, with yor modeling and predictions. God knows how dearly we need modeling these days, with global warming and all kinds of possible disasters. \n",
    "\n",
    "Science would not be possible without brave souls, like Li Wenliang, for whom saving his patients was more important than political propaganda. May he be a model for all of us."
   ]
  }
 ],
 "metadata": {
  "kernelspec": {
   "display_name": "Python 3",
   "language": "python",
   "name": "python3"
  },
  "language_info": {
   "codemirror_mode": {
    "name": "ipython",
    "version": 3
   },
   "file_extension": ".py",
   "mimetype": "text/x-python",
   "name": "python",
   "nbconvert_exporter": "python",
   "pygments_lexer": "ipython3",
   "version": "3.7.6"
  }
 },
 "nbformat": 4,
 "nbformat_minor": 2
}
