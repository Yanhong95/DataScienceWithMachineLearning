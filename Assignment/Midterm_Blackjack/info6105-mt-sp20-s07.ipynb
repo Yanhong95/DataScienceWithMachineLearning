{
 "cells": [
  {
   "cell_type": "markdown",
   "metadata": {},
   "source": [
    "<div style=\"text-align: right\">INFO 6105 Data Science Eng Methods and Tools, Spring 20 midterm, Section 7</div>\n",
    "<div style=\"text-align: right\">Dino Konstantopoulos, 26 February 2020</div>\n",
    "<div style=\"text-align: right\">100 points total</div>\n",
    "\n",
    "# INFO 6105 Spring 20 Midterm\n",
    "\n",
    "You have up to an hour. There is a *lot* of coding in this midterm. It is meant to simulate a real interview so you are *pressed for time*. Be mindful what you spend your time working on. Good luck!\n",
    "\n",
    ">**NO CHEATING**: If you cheat by emailing or messaging during the midterm (and we can see you from behind), we will close your laptop and ask you to leave in front of everyone, you *will* get an F for the midterm, and have a nice little chat with director Kal. You are only allowed to browse, not to communicate in any shape or form, via email, messaging, or posting. Also, you are not allowed to post or share this midterm with anyone, not now, nor in the future. The other section is taking the midterm *after* spring break."
   ]
  },
  {
   "cell_type": "markdown",
   "metadata": {},
   "source": [
    "<div style=\"text-align: right\">50 points</div>\n",
    "\n",
    "# 1. Blackjack\n",
    "\n",
    "[Blackjack](https://en.wikipedia.org/wiki/Blackjack) is the American version of a popular global banking game known as **Twenty-One**, whose relatives include *Pontoon* and *Vingt-et-Un*. It is a comparing card game between one or more players and a dealer, where each player in turn competes against the dealer. Players do not compete against each other, they compete against the dealer. It is played with one or more decks of 52 cards, and is the *most widely played casino banking game in the world*.\n",
    "\n",
    "<br />\n",
    "<center>\n",
    "<img src = images/bj.jpg width = 500 />\n",
    "</center>\n",
    "\n",
    "Players are each dealt two cards, face up or down depending on the casino and the table. In the U.S., the dealer is also dealt two cards, normally one up (exposed) and one down (hidden). In most other countries, the dealer only receives one card face up. The value of cards two through ten is their pip value (2 through 10). Face cards (Jack, Queen, and King) are all worth ten. Aces can be worth one *or* eleven. A hand's value is the sum of the card values. Players are allowed to draw additional cards to improve their hands. A hand with an ace valued as 11 is called \"*soft*\", meaning that the hand will not bust by taking an additional card. The value of the ace will become one to prevent the hand from exceeding 21.\n",
    "\n",
    "<br />\n",
    "<center>\n",
    "<img src = images/bj.webp width = 300 />\n",
    "</center>\n",
    "\n",
    "Once all the players have completed their hands, it is the dealer's turn. The dealer hand will not be completed if all players have either busted or received *blackjacks* (=21). The dealer then reveals the hidden card and must hit (draw another card) until the cards total up to 17 points. At 17 points or higher the dealer *must* stay (at most tables the dealer also hits on a \"*soft*\" 17, i.e. a hand containing an ace and one or more other cards totaling six). You are betting that you have a better hand than the dealer. The better hand is the hand where the sum of the card values is closer to 21 without exceeding 21. The detailed outcome of the hand follows:\n",
    "\n",
    "- If the player is dealt an Ace and a ten-value card (called a \"*blackjack*\" or \"*natural*\"), and the dealer does not, the player wins and usually receives a bonus.\n",
    "- If the player exceeds a sum of 21 (\"*busts*\"); the player loses, even if the dealer also exceeds 21.\n",
    "- If the dealer exceeds 21 (\"*busts*\") and the player does not; the player wins.\n",
    "- If the player attains a final sum higher than the dealer and does not bust; the player wins.\n",
    "- If both dealer and player receive a blackjack or any other hands with the same sum, called a \"*push*\", *no one* wins.\n",
    "\n",
    "Here's a game of blackjack in code:"
   ]
  },
  {
   "cell_type": "code",
   "execution_count": 54,
   "metadata": {},
   "outputs": [],
   "source": [
    "from random import random\n",
    "from random import choice\n",
    "\n",
    "# available card colours\n",
    "card_colours = [\"diamonds\", \"heart\", \"spades\", \"clubs\"]\n",
    "# 方块（Diamond）红、红桃（Heart）、黑桃（Spade）、梅花（Club）\n",
    "\n",
    "# match the number or name of the card with its value inside the game\n",
    "card_value = {\n",
    "    'A': 11,\n",
    "    '2': 2,\n",
    "    '3': 3,\n",
    "    '4': 4,\n",
    "    '5': 5,\n",
    "    '6': 6,\n",
    "    '7': 7,\n",
    "    '8': 8,\n",
    "    '9': 9,\n",
    "    '10': 10,\n",
    "    'J': 10,\n",
    "    'Q': 10,\n",
    "    'K': 10\n",
    "}\n",
    "\n",
    "\n",
    "def calculate_score(card_list):\n",
    "    \"\"\"Calculate the score based on a list of cards\n",
    "    Args:\n",
    "        card_list: list of cards\n",
    "    Returns:\n",
    "        total score of the list of cards\n",
    "    \"\"\"\n",
    "    total = 0\n",
    "    for card in card_list:\n",
    "        # Normally 'A' card is 11 points, but user can decide in case the sum of the score is above 21, to count\n",
    "        # 'A' as 1 instead of 11, so if we find an ace and we are at 11 or more score, it will count as 1 point.\n",
    "        if total >= 11 and card == 'A':\n",
    "            total += 1\n",
    "        else:\n",
    "            total += card_value[card]\n",
    "    return total\n",
    "\n",
    "\n",
    "def play_turn(deck, ownedCards):\n",
    "    \"\"\"Run a turn of Blackjack for a player\n",
    "    Args:\n",
    "        deck: list of cards available\n",
    "    Returns:\n",
    "        total score of the turn\n",
    "    \"\"\"\n",
    "    # We will store all the cards that come out in the following list\n",
    "    table_cards = ownedCards\n",
    "    blackjack = False\n",
    "    user_input = 'y'\n",
    "    \n",
    "    if 'A' in table_cards and ('10' in table_cards or 'J' in table_cards or 'Q' in table_cards or 'K' in table_cards):\n",
    "        blackjack = True;\n",
    "        user_input = 'n'\n",
    "        \n",
    "    # While user says 'y' and the player hasn't lost, cards will come out\n",
    "    while user_input == 'y':\n",
    "        \n",
    "        # Calculate random card position\n",
    "        position = int(random() * len(deck))\n",
    "        \n",
    "        # Give card\n",
    "        print ( deck[position])\n",
    "        table_cards.append(deck[position][0])\n",
    "        del deck[position]\n",
    "\n",
    "        # gain blackjack\n",
    "        if 'A' in table_cards and ('10' in table_cards or 'J' in table_cards or 'Q' in table_cards or 'K' in table_cards):\n",
    "            blackjack = True;\n",
    "            break\n",
    "            \n",
    "        # Check if you lost, if you did the cycle will break\n",
    "        if calculate_score(table_cards) >= 21:\n",
    "            break\n",
    "            \n",
    "        # We ask the user through raw_input function if he wants another card\n",
    "        # user_input = raw_input('Do you want another card? (Y)')\n",
    "        # Here we randomly pick 'y' or 'n':\n",
    "        user_input = choice(['y', 'n'])\n",
    "    if  blackjack == True:\n",
    "        print (\"Congratulations! Your hit the Blackjack !\")\n",
    "        return 0\n",
    "    else: \n",
    "        print (\"Your score is: %d\" % calculate_score(table_cards))\n",
    "        # Return the round total score\n",
    "        return calculate_score(table_cards)\n",
    "\n",
    "\n",
    "def game():\n",
    "    # Define an empty deck\n",
    "    deck = []\n",
    "    \n",
    "    # Populate the deck with all the 52 cards\n",
    "    # For each colour...\n",
    "    for colour in card_colours:\n",
    "        # And for each card\n",
    "        for card in card_value:\n",
    "            # Append a card-colour couple in form of a tuple, the deck will look like this:\n",
    "            # [('A', 'diamonds'), ('2', 'diamonds'), ('3', 'diamonds')...]\n",
    "            deck.append((card, colour))\n",
    "\n",
    "    # Create a list of players, in this case 2 players will play\n",
    "    players = ['player 1', 'player 2']\n",
    "\n",
    "    max_score = -1\n",
    "    winner = None\n",
    "    blackjacklist = []\n",
    "    \n",
    "    player1OwnedCards = []\n",
    "    player2OwnedCards = []\n",
    "    position = int(random() * len(deck))\n",
    "    print ('player1_show:', deck[position])\n",
    "    player1OwnedCards.append(deck[position][0])\n",
    "    del deck[position]\n",
    "    position = int(random() * len(deck))\n",
    "    print ('player1_hidden:', deck[position])\n",
    "    player1OwnedCards.append(deck[position][0])\n",
    "    del deck[position]\n",
    "    \n",
    "    position = int(random() * len(deck))\n",
    "    print ('player2_show:', deck[position])\n",
    "    player2OwnedCards.append(deck[position][0])\n",
    "    del deck[position]\n",
    "    position = int(random() * len(deck))\n",
    "    print ('player2_hidden:', deck[position])\n",
    "    player2OwnedCards.append(deck[position][0])\n",
    "    del deck[position]\n",
    "    \n",
    "    # run the game one time per player\n",
    "    for count, player in enumerate(players):\n",
    "        print (\"\\n%s, your turn starts now!\" % player)\n",
    "        ownedCards = []\n",
    "        if player == 'player 1':\n",
    "            ownedCards = player1OwnedCards\n",
    "        else:\n",
    "            ownedCards = player2OwnedCards\n",
    "        score = play_turn(deck, ownedCards)\n",
    "        # We add lucky dog to the blackjacklist\n",
    "        if score == 0 :\n",
    "            blackjacklist.append(player);\n",
    "            winner = player\n",
    "            continue\n",
    "        # If the player exceeds a sum of 21 (\"busts\"); the player loses, even if the dealer also exceeds 21.\n",
    "        elif score > 21 and count == 0:\n",
    "            winner = 'player 2'\n",
    "            break\n",
    "        # We check who is winning the match, if the current player score is above previous highest,\n",
    "        # he is the new winner\n",
    "        elif 21 >= score > max_score:\n",
    "            max_score = score\n",
    "            winner = player\n",
    "        elif score == max_score:\n",
    "            Winner = 'None'\n",
    "\n",
    "    if not blackjacklist:\n",
    "        print (\"Winner is %s\" % winner)\n",
    "    elif len(blackjacklist) == 2 or winner == 'None':\n",
    "        print ('Push, no winner.')\n",
    "    else:\n",
    "        print (\"Winner is %s\" % blackjacklist[0])\n",
    "    "
   ]
  },
  {
   "cell_type": "markdown",
   "metadata": {},
   "source": [
    "Go ahead, play a game of blackjack:"
   ]
  },
  {
   "cell_type": "code",
   "execution_count": 79,
   "metadata": {},
   "outputs": [
    {
     "name": "stdout",
     "output_type": "stream",
     "text": [
      "player1_show: ('10', 'heart')\n",
      "player1_hidden: ('4', 'heart')\n",
      "player2_show: ('9', 'spades')\n",
      "player2_hidden: ('5', 'diamonds')\n",
      "\n",
      "player 1, your turn starts now!\n",
      "('8', 'heart')\n",
      "Your score is: 22\n",
      "Winner is player 2\n"
     ]
    }
   ],
   "source": [
    "game()"
   ]
  },
  {
   "cell_type": "markdown",
   "metadata": {},
   "source": [
    "### Question 1\n",
    "Now, *modify* the code above to follow the *american* rules of blackjack described above, so that player 1 is **you** and player 2 is the **dealer**. You have to modify the code *above*, not any other package.\n"
   ]
  },
  {
   "cell_type": "markdown",
   "metadata": {},
   "source": [
    "### See the answer given above"
   ]
  },
  {
   "cell_type": "markdown",
   "metadata": {},
   "source": [
    "### Question 2\n",
    "*Then*, adopt this simple strategy:\n",
    "- If your hand ≥ 18, 'stick' with a probability of 80%, else 'hit' with a probability of 80%. \n",
    "\n",
    "This isn’t an amazing policy but it is simple and you will still be able to win some games. Now, do a Monte Carlo simulation of this strategy and figure out its winning **Expectation** (by playing through thousands of games)."
   ]
  },
  {
   "cell_type": "code",
   "execution_count": 115,
   "metadata": {},
   "outputs": [],
   "source": [
    "import random\n",
    "\n",
    "# available card colours\n",
    "card_colours = [\"diamonds\", \"heart\", \"spades\", \"clubs\"]\n",
    "# 方块（Diamond）红、红桃（Heart）、黑桃（Spade）、梅花（Club）\n",
    "\n",
    "# match the number or name of the card with its value inside the game\n",
    "card_value = {\n",
    "    'A': 11,\n",
    "    '2': 2,\n",
    "    '3': 3,\n",
    "    '4': 4,\n",
    "    '5': 5,\n",
    "    '6': 6,\n",
    "    '7': 7,\n",
    "    '8': 8,\n",
    "    '9': 9,\n",
    "    '10': 10,\n",
    "    'J': 10,\n",
    "    'Q': 10,\n",
    "    'K': 10\n",
    "}\n",
    "\n",
    "\n",
    "def calculate_score(card_list):\n",
    "    \"\"\"Calculate the score based on a list of cards\n",
    "    Args:\n",
    "        card_list: list of cards\n",
    "    Returns:\n",
    "        total score of the list of cards\n",
    "    \"\"\"\n",
    "    total = 0\n",
    "    for card in card_list:\n",
    "        # Normally 'A' card is 11 points, but user can decide in case the sum of the score is above 21, to count\n",
    "        # 'A' as 1 instead of 11, so if we find an ace and we are at 11 or more score, it will count as 1 point.\n",
    "        if total >= 11 and card == 'A':\n",
    "            total += 1\n",
    "        else:\n",
    "            total += card_value[card]\n",
    "    return total\n",
    "\n",
    "# the strategy---------------------------------------------------------------------\n",
    "def strategy(situation):\n",
    "    choiceList = ['y', 'n']\n",
    "    if situation == 'less':\n",
    "        probabilities = [0.8, 0.2]\n",
    "    else:\n",
    "        probabilities = [0.2, 0.8]\n",
    "    x = random.uniform(0,1)\n",
    "    cumulative_probability=0.0\n",
    "    for item,item_probability in zip(choiceList, probabilities):\n",
    "        cumulative_probability += item_probability\n",
    "        if x < cumulative_probability:\n",
    "            break\n",
    "    return item\n",
    "# the strategy---------------------------------------------------------------------\n",
    "\n",
    "\n",
    "def play_turn(deck, ownedCards):\n",
    "    \"\"\"Run a turn of Blackjack for a player\n",
    "    Args:\n",
    "        deck: list of cards available\n",
    "    Returns:\n",
    "        total score of the turn\n",
    "    \"\"\"\n",
    "    # We will store all the cards that come out in the following list\n",
    "    table_cards = ownedCards\n",
    "    blackjack = False\n",
    "    user_input = 'y'\n",
    "    \n",
    "    if 'A' in table_cards and ('10' in table_cards or 'J' in table_cards or 'Q' in table_cards or 'K' in table_cards):\n",
    "        blackjack = True;\n",
    "        user_input = 'n'\n",
    "    \n",
    "    if calculate_score(table_cards) < 18:\n",
    "        user_input = strategy('less')\n",
    "        # print('input1', user_input)\n",
    "    else:\n",
    "        user_input = strategy('greater')\n",
    "        # print('input2', user_input)\n",
    "    \n",
    "    # While user says 'y' and the player hasn't lost, cards will come out\n",
    "    while user_input == 'y':\n",
    "        \n",
    "        # Calculate random card position\n",
    "        position = int(random.random() * len(deck))\n",
    "        \n",
    "        # Give card\n",
    "        # print (deck[position])\n",
    "        table_cards.append(deck[position][0])\n",
    "        del deck[position]\n",
    "\n",
    "        # print(table_cards)\n",
    "        # gain blackjack\n",
    "        if 'A' in table_cards and ('10' in table_cards or 'J' in table_cards or 'Q' in table_cards or 'K' in table_cards):\n",
    "            blackjack = True;\n",
    "            break\n",
    "            \n",
    "        # Check if you lost, if you did the cycle will break\n",
    "        if calculate_score(table_cards) >= 21:\n",
    "            break\n",
    "            \n",
    "        # We ask the user through raw_input function if he wants another card\n",
    "        # user_input = raw_input('Do you want another card? (Y)')\n",
    "        # Here we pick 'y' or 'n' using strategy:--------------------------------\n",
    "        if calculate_score(table_cards) < 18:\n",
    "            user_input = strategy('less')\n",
    "        else:\n",
    "            user_input = strategy('greater')\n",
    "        # Here we pick 'y' or 'n' using strategy:--------------------------------\n",
    "    \n",
    "    if  blackjack == True:\n",
    "        # print (\"Congratulations! Your hit the Blackjack !\")\n",
    "        return 0\n",
    "    else: \n",
    "        totalScore = calculate_score(table_cards)\n",
    "        # print (\"Your score is: %d\" % totalScore)\n",
    "        # Return the round total score\n",
    "        return totalScore\n",
    "\n",
    "\n",
    "def game():\n",
    "    # Define an empty deck\n",
    "    deck = []\n",
    "    \n",
    "    # Populate the deck with all the 52 cards\n",
    "    # For each colour...\n",
    "    for colour in card_colours:\n",
    "        # And for each card\n",
    "        for card in card_value:\n",
    "            # Append a card-colour couple in form of a tuple, the deck will look like this:\n",
    "            # [('A', 'diamonds'), ('2', 'diamonds'), ('3', 'diamonds')...]\n",
    "            deck.append((card, colour))\n",
    "\n",
    "    # Create a list of players, in this case 2 players will play\n",
    "    players = ['player 1', 'player 2']\n",
    "\n",
    "    max_score = -1\n",
    "    winner = None\n",
    "    blackjacklist = []\n",
    "    \n",
    "    \n",
    "    player1OwnedCards = []\n",
    "    player2OwnedCards = []\n",
    "    position = int(random.random() * len(deck))\n",
    "    # print ('player1_show:', deck[position])\n",
    "    player1OwnedCards.append(deck[position][0])\n",
    "    del deck[position]\n",
    "    position = int(random.random() * len(deck))\n",
    "    # print ('player1_hidden:', deck[position])\n",
    "    player1OwnedCards.append(deck[position][0])\n",
    "    del deck[position]\n",
    "    \n",
    "    position = int(random.random() * len(deck))\n",
    "    # print ('player2_show:', deck[position])\n",
    "    player2OwnedCards.append(deck[position][0])\n",
    "    del deck[position]\n",
    "    position = int(random.random() * len(deck))\n",
    "    # print ('player2_hidden:', deck[position])\n",
    "    player2OwnedCards.append(deck[position][0])\n",
    "    del deck[position]\n",
    "    \n",
    "    \n",
    "    # run the game one time per player\n",
    "    for count, player in enumerate(players):\n",
    "        # print (\"\\n%s, your turn starts now!\" % player)\n",
    "        ownedCards = []\n",
    "        if player == 'player 1':\n",
    "            ownedCards = player1OwnedCards\n",
    "        else:\n",
    "            ownedCards = player2OwnedCards\n",
    "        score = play_turn(deck, ownedCards)\n",
    "        # We add lucky dog to the blackjacklist\n",
    "        if score == 0 :\n",
    "            blackjacklist.append(player);\n",
    "            winner = player\n",
    "            continue\n",
    "        # If the player exceeds a sum of 21 (\"busts\"); the player loses, even if the dealer also exceeds 21.\n",
    "        elif score > 21 and count == 0:\n",
    "            winner = 'player 2'\n",
    "            break\n",
    "        # We check who is winning the match, if the current player score is above previous highest,\n",
    "        # he is the new winner\n",
    "        elif 21 >= score > max_score:\n",
    "            max_score = score\n",
    "            winner = player\n",
    "        elif score == max_score:\n",
    "            winner = 'Push'\n",
    "\n",
    "    if not blackjacklist:\n",
    "        return winner\n",
    "        #print (\"Winner is %s\" % winner)\n",
    "    elif len(blackjacklist) == 2 or winner == 'Push':\n",
    "        return 'Push'\n",
    "        #print ('Push, no winner.')\n",
    "    else:\n",
    "        return blackjacklist[0]\n",
    "        #print (\"Winner is %s\" % blackjacklist[0])\n",
    "    "
   ]
  },
  {
   "cell_type": "code",
   "execution_count": 116,
   "metadata": {
    "scrolled": true
   },
   "outputs": [
    {
     "data": {
      "text/plain": [
       "'player 2'"
      ]
     },
     "execution_count": 116,
     "metadata": {},
     "output_type": "execute_result"
    }
   ],
   "source": [
    "game()"
   ]
  },
  {
   "cell_type": "code",
   "execution_count": 121,
   "metadata": {},
   "outputs": [],
   "source": [
    "def MonteCarloSimulation():\n",
    "    j = 0\n",
    "    for i in range(0,10000):\n",
    "        if(game() == 'player 1'):\n",
    "            j += 1\n",
    "    return (j/10000)"
   ]
  },
  {
   "cell_type": "code",
   "execution_count": 122,
   "metadata": {},
   "outputs": [
    {
     "name": "stdout",
     "output_type": "stream",
     "text": [
      "Winning Expectation based on this strategy is 0.426\n"
     ]
    }
   ],
   "source": [
    "winningExpectation = MonteCarloSimulation()\n",
    "print (\"Winning Expectation based on this strategy is %s\" % winningExpectation)"
   ]
  },
  {
   "cell_type": "markdown",
   "metadata": {},
   "source": [
    "### Winning Expectation based on this strategy is 42.6%"
   ]
  },
  {
   "cell_type": "markdown",
   "metadata": {},
   "source": [
    "### Question 3\n",
    "Now let's say that you want to know the value of holding a hand of 15 while the dealer is showing, let's say, a 10. This is an example of a **prediction** problem. Each time the agent carries out action A in state S for the first time in that game, it will calculate the reward of the game from that point onwards. By doing this, you can determine how valuable it is to be in that current state.\n",
    "\n",
    "Suppose you run this Monte Carlo simulation many times and you come up with the followind strategy table:\n",
    "\n",
    "<br />\n",
    "<center>\n",
    "<img src = images/strategy.png width = 500 />\n",
    "</center>\n",
    "\n",
    "Now *implement* this strategy in code, run a Monte Carlo simulation, and compare the winning percentage with the previous strategy. `S` is **stick** (*no more cards, please*), `H` is **hit** (*please give me another card Mr. Dealer*), and assume `D` is **hit** as well. Which is a better strategy and by how much?"
   ]
  },
  {
   "cell_type": "code",
   "execution_count": 171,
   "metadata": {},
   "outputs": [],
   "source": [
    "import random\n",
    "\n",
    "# available card colours\n",
    "card_colours = [\"diamonds\", \"heart\", \"spades\", \"clubs\"]\n",
    "# 方块（Diamond）红、红桃（Heart）、黑桃（Spade）、梅花（Club）\n",
    "\n",
    "# match the number or name of the card with its value inside the game\n",
    "card_value = {\n",
    "    'A': 11,\n",
    "    '2': 2,\n",
    "    '3': 3,\n",
    "    '4': 4,\n",
    "    '5': 5,\n",
    "    '6': 6,\n",
    "    '7': 7,\n",
    "    '8': 8,\n",
    "    '9': 9,\n",
    "    '10': 10,\n",
    "    'J': 10,\n",
    "    'Q': 10,\n",
    "    'K': 10\n",
    "}\n",
    "\n",
    "\n",
    "def calculate_score(card_list):\n",
    "    \"\"\"Calculate the score based on a list of cards\n",
    "    Args:\n",
    "        card_list: list of cards\n",
    "    Returns:\n",
    "        total score of the list of cards\n",
    "    \"\"\"\n",
    "    total = 0\n",
    "    for card in card_list:\n",
    "        # Normally 'A' card is 11 points, but user can decide in case the sum of the score is above 21, to count\n",
    "        # 'A' as 1 instead of 11, so if we find an ace and we are at 11 or more score, it will count as 1 point.\n",
    "        if total >= 11 and card == 'A':\n",
    "            total += 1\n",
    "        else:\n",
    "            total += card_value[card]\n",
    "    return total\n",
    "\n",
    "# the strategyForDealer---------------------------------------------------------------------\n",
    "def strategyForDealer(situation):\n",
    "    choiceList = ['y', 'n']\n",
    "    if situation == 'less':\n",
    "        probabilities = [0.8, 0.2]\n",
    "    else:\n",
    "        probabilities = [0.2, 0.8]\n",
    "    x = random.uniform(0,1)\n",
    "    cumulative_probability=0.0\n",
    "    for item,item_probability in zip(choiceList, probabilities):\n",
    "        cumulative_probability += item_probability\n",
    "        if x < cumulative_probability:\n",
    "            break\n",
    "    return item\n",
    "# the strategyForDealer---------------------------------------------------------------------\n",
    "\n",
    "# the strategyForUser---------------------------------------------------------------------\n",
    "def strategyForUser(currentScore, dealerShowingCard):\n",
    "    # print('here1', currentScore)\n",
    "    # print('here2', dealerShowingCard)\n",
    "    trueValue = card_value[dealerShowingCard]\n",
    "    action = ''\n",
    "    if currentScore > 12 :\n",
    "        if trueValue < 7:\n",
    "            action = 'n'\n",
    "        elif trueValue > 6:\n",
    "            action = 'y'\n",
    "    elif currentScore == 12 :\n",
    "        if 3 < trueValue < 7:\n",
    "            action = 'n'\n",
    "        else:\n",
    "            action = 'y'\n",
    "    return action\n",
    "# the strategyForUser---------------------------------------------------------------------\n",
    "\n",
    "def play_turn(deck, ownedCards, dealerShowingCard, player):\n",
    "    # print('***', ownedCards,'***', dealerShowingCard,'***', player)\n",
    "    \"\"\"Run a turn of Blackjack for a player\n",
    "    Args:\n",
    "        deck: list of cards available\n",
    "    Returns:\n",
    "        total score of the turn\n",
    "    \"\"\"\n",
    "    # We will store all the cards that come out in the following list\n",
    "    table_cards = ownedCards\n",
    "    blackjack = False\n",
    "    user_input = 'y'\n",
    "    \n",
    "    if 'A' in table_cards and ('10' in table_cards or 'J' in table_cards or 'Q' in table_cards or 'K' in table_cards):\n",
    "        blackjack = True;\n",
    "        user_input = 'n'\n",
    "        \n",
    "    # Here we pick 'y' or 'n' using strategy:--------------------------------\n",
    "    if player == 0:\n",
    "        if calculate_score(table_cards) < 12:\n",
    "            user_input = 'y'\n",
    "        elif 11 < calculate_score(table_cards) < 17:\n",
    "            currentScore = calculate_score(table_cards)\n",
    "            user_input = strategyForUser(currentScore, dealerShowingCard)\n",
    "        else:\n",
    "            user_input = 'n'\n",
    "    elif player == 1:\n",
    "        if calculate_score(table_cards) < 18:\n",
    "            user_input = strategyForDealer('less')\n",
    "        # print('input1', user_input)\n",
    "        else:\n",
    "            user_input = strategyForDealer('greater')\n",
    "        # print('input2', user_input)\n",
    "    # Here we pick 'y' or 'n' using strategy:--------------------------------\n",
    "    \n",
    "    # While user says 'y' and the player hasn't lost, cards will come out\n",
    "    while user_input == 'y':\n",
    "        \n",
    "        # Calculate random card position\n",
    "        position = int(random.random() * len(deck))\n",
    "        \n",
    "        # Give card\n",
    "        # print (deck[position])\n",
    "        table_cards.append(deck[position][0])\n",
    "        del deck[position]\n",
    "\n",
    "        # print(table_cards)\n",
    "        # gain blackjack\n",
    "        if 'A' in table_cards and ('10' in table_cards or 'J' in table_cards or 'Q' in table_cards or 'K' in table_cards):\n",
    "            blackjack = True;\n",
    "            break\n",
    "            \n",
    "        # Check if you lost, if you did the cycle will break\n",
    "        if calculate_score(table_cards) >= 21:\n",
    "            break\n",
    "            \n",
    "        # We ask the user through raw_input function if he wants another card\n",
    "        # user_input = raw_input('Do you want another card? (Y)')\n",
    "        \n",
    "        # Here we pick 'y' or 'n' using strategy:--------------------------------\n",
    "        if player == 0:\n",
    "            if calculate_score(table_cards) < 9:\n",
    "                user_input = 'y'\n",
    "            elif 8 < calculate_score(table_cards) < 17:\n",
    "                currentScore = calculate_score(table_cards)\n",
    "                user_input = strategyForUser(currentScore, dealerShowingCard)\n",
    "            else:\n",
    "                user_input = 'n'\n",
    "        elif player == 1:\n",
    "            if calculate_score(table_cards) < 18:\n",
    "                user_input = strategyForDealer('less')\n",
    "            # print('input1', user_input)\n",
    "            else:\n",
    "                user_input = strategyForDealer('greater')\n",
    "            # print('input2', user_input)\n",
    "        # Here we pick 'y' or 'n' using strategy:--------------------------------\n",
    "    \n",
    "    if  blackjack == True:\n",
    "        # print (\"Congratulations! Your hit the Blackjack !\")\n",
    "        return 0\n",
    "    else: \n",
    "        totalScore = calculate_score(table_cards)\n",
    "        # print (\"Your score is: %d\" % totalScore)\n",
    "        # Return the round total score\n",
    "        return totalScore\n",
    "\n",
    "\n",
    "def game():\n",
    "    # Define an empty deck\n",
    "    deck = []\n",
    "    \n",
    "    # Populate the deck with all the 52 cards\n",
    "    # For each colour...\n",
    "    for colour in card_colours:\n",
    "        # And for each card\n",
    "        for card in card_value:\n",
    "            # Append a card-colour couple in form of a tuple, the deck will look like this:\n",
    "            # [('A', 'diamonds'), ('2', 'diamonds'), ('3', 'diamonds')...]\n",
    "            deck.append((card, colour))\n",
    "\n",
    "    # Create a list of players, in this case 2 players will play\n",
    "    players = ['player 1', 'player 2']\n",
    "\n",
    "    max_score = -1\n",
    "    winner = None\n",
    "    blackjacklist = []\n",
    "    \n",
    "    \n",
    "    player1OwnedCards = []\n",
    "    player2OwnedCards = []\n",
    "    position = int(random.random() * len(deck))\n",
    "    # print ('player1_show:', deck[position])\n",
    "    player1OwnedCards.append(deck[position][0])\n",
    "    del deck[position]\n",
    "    position = int(random.random() * len(deck))\n",
    "    # print ('player1_hidden:', deck[position])\n",
    "    player1OwnedCards.append(deck[position][0])\n",
    "    del deck[position]\n",
    "    \n",
    "    position = int(random.random() * len(deck))\n",
    "    # print ('player2_show:', deck[position])\n",
    "    player2OwnedCards.append(deck[position][0])\n",
    "    del deck[position]\n",
    "    position = int(random.random() * len(deck))\n",
    "    # print ('player2_hidden:', deck[position])\n",
    "    player2OwnedCards.append(deck[position][0])\n",
    "    del deck[position]\n",
    "    \n",
    "    \n",
    "    # run the game one time per player\n",
    "    for count, player in enumerate(players):\n",
    "        # print (\"\\n%s, your turn starts now!\" % player)\n",
    "        ownedCards = []\n",
    "        dealerShowingCard = player2OwnedCards[0]\n",
    "        if player == 'player 1':\n",
    "            ownedCards = player1OwnedCards\n",
    "        else:\n",
    "            ownedCards = player2OwnedCards\n",
    "        score = play_turn(deck, ownedCards, dealerShowingCard, count)\n",
    "        # We add lucky dog to the blackjacklist\n",
    "        if score == 0 :\n",
    "            blackjacklist.append(player);\n",
    "            winner = player\n",
    "            continue\n",
    "        # If the player exceeds a sum of 21 (\"busts\"); the player loses, even if the dealer also exceeds 21.\n",
    "        elif score > 21 and count == 0:\n",
    "            winner = 'player 2'\n",
    "            break\n",
    "        # We check who is winning the match, if the current player score is above previous highest,\n",
    "        # he is the new winner\n",
    "        elif 21 >= score > max_score:\n",
    "            max_score = score\n",
    "            winner = player\n",
    "        elif score == max_score:\n",
    "            winner = 'Push'\n",
    "\n",
    "    if not blackjacklist:\n",
    "        return winner\n",
    "        #print (\"Winner is %s\" % winner)\n",
    "    elif len(blackjacklist) == 2 or winner == 'Push':\n",
    "        return 'Push'\n",
    "        #print ('Push, no winner.')\n",
    "    else:\n",
    "        return blackjacklist[0]\n",
    "        #print (\"Winner is %s\" % blackjacklist[0])"
   ]
  },
  {
   "cell_type": "code",
   "execution_count": 172,
   "metadata": {
    "scrolled": true
   },
   "outputs": [
    {
     "data": {
      "text/plain": [
       "'player 1'"
      ]
     },
     "execution_count": 172,
     "metadata": {},
     "output_type": "execute_result"
    }
   ],
   "source": [
    "game()"
   ]
  },
  {
   "cell_type": "code",
   "execution_count": 173,
   "metadata": {},
   "outputs": [],
   "source": [
    "def MonteCarloSimulation():\n",
    "    j = 0\n",
    "    for i in range(0,10000):\n",
    "        if(game() == 'player 1'):\n",
    "            j += 1\n",
    "    return (j/10000)"
   ]
  },
  {
   "cell_type": "code",
   "execution_count": 174,
   "metadata": {},
   "outputs": [
    {
     "name": "stdout",
     "output_type": "stream",
     "text": [
      "Winning Expectation based on this strategy is 0.5065\n"
     ]
    }
   ],
   "source": [
    "winningExpectation = MonteCarloSimulation()\n",
    "print (\"Winning Expectation based on this strategy is %s\" % winningExpectation)"
   ]
  },
  {
   "cell_type": "markdown",
   "metadata": {},
   "source": [
    "## With the new strategy , the winning expectation become 50.06% , we improve it by 8%! that's a huge improvemnt!"
   ]
  },
  {
   "cell_type": "markdown",
   "metadata": {},
   "source": [
    "<div style=\"text-align: right\">50 points</div>\n",
    "\n",
    "# 2. Fair or Crooked?\n",
    "\n",
    "We have a coin and we don't know if it's fair or not. Let's see if it's **fair**, with a little bit of help from Data Science! We will compute a **p-value**, but using **Bayesian estimation** instead of a t-test! This is a ***real*** test statistic, where we visit parallel universes, but we use real Bayesian simulations instead of assuming that the data is *pretty* or that we have a Student-T distribution.\n",
    "\n",
    "<br />\n",
    "<center>\n",
    "<img src = images/coin-toss.jpg width = 300 />\n",
    "</center>\n",
    "\n",
    "So we toss the coin a thousand times and record the following tosses: "
   ]
  },
  {
   "cell_type": "code",
   "execution_count": 2,
   "metadata": {},
   "outputs": [],
   "source": [
    "alltosses = '''TTTTHTHHTHHTTHHHHTTHHHTHHTHTTHHHHHTHTTTTHHTTHHTHHTTTHTHHHTHTHHTTTHHHHTHHTTHTHTHHTHHTTHHTHTHTHHHHHHHTT\n",
    "HTHHTTTTTHHTHTTTTTHHTHHHTTHTHHTHHTTHHTHTHTHTHHHTTTTHTTHTTHTTHHHTHHTHTHTTHHHHHTTHHHHHTHHTHHTTHHTTTTTHTTHHHHHTTTTTTHHH\n",
    "THTHHTTTTHTHTHHTTHTHHHHHHHTTHTTHTTTHHTTTHHTTHHHHHHTTTHTHHHHTHTHHTTTHHTHHTHTHTHHTHHTTHHHHHTTTTHTTHHTHTHHTHTHTHHHHHHTT\n",
    "TTTHTTHTTHHHTTHHTHTTHHTHHHTTTTTHHHTHTHTTTHHHHTTTTHTTTHTTTHHTHHHHTHTHHHTHHTHTTHTTTHTHHTTTHHHHHTTHHHTTHHTTTHHTTTTHHHHT\n",
    "HTTTHHHTTTHTHHTHHTHTHHHTHTHTTTHTHTHTTHTTTHHHTTHTTHHTTHHHTHHHHHTTTTHTTHTHHHHTTHHHTTTHHHHTTHHTTTTTHHTTTHHHTTTTTTHTHHTH\n",
    "HHHTHHHTHTHTTTTTTTHTTHHTHHHTHHTTTTTTHHTHTHHTTTTHTHTTTTHTHHHTTHHTTTHTHTTTHHTHHHTTTTHHHHHTTTHHHTTTHTHHTTTTHTHHHHHHTHHH\n",
    "TTHTHHHHHTHTHTTHHTHHTTHTHTHTHHTTHTTHHTHHTTHTTHHHHHHTTTHTTHHHHHTTTHHTHHHTTHTHHTTHHTTTTHTTHTTTHHHTHHTTHTTHHTTTTHHTTTHH\n",
    "HHHTTTTHHHTHTHHHTTTTTHTHTHTHHTHTTHHHHTTHTTTHTTHHHTHTHTTHHHHTHHTHTHTHHTTTHHHTHTTHHTTHTTHTTTTHHHHHTHHHHTTTHHHHTTHHHHHT\n",
    "HHTHTTHTTHHHTTHTHTTTTTHTTTTTHHHTTTHTTHTHTHHHTHHTHTTHHHTHTHTTTTTTHTTHHHHTHHHHHHHTHHTTTHH'''"
   ]
  },
  {
   "cell_type": "markdown",
   "metadata": {},
   "source": [
    "Use this cell to remove carriage returns:"
   ]
  },
  {
   "cell_type": "code",
   "execution_count": 3,
   "metadata": {},
   "outputs": [
    {
     "data": {
      "text/plain": [
       "'TTTTHTHHTHHTTHHHHTTHHHTHHTHTTHHHHHTHTTTTHHTTHHTHHTTTHTHHHTHTHHTTTHHHHTHHTTHTHTHHTHHTTHHTHTHTHHHHHHHTTHTHHTTTTTHHTHTTTTTHHTHHHTTHTHHTHHTTHHTHTHTHTHHHTTTTHTTHTTHTTHHHTHHTHTHTTHHHHHTTHHHHHTHHTHHTTHHTTTTTHTTHHHHHTTTTTTHHHTHTHHTTTTHTHTHHTTHTHHHHHHHTTHTTHTTTHHTTTHHTTHHHHHHTTTHTHHHHTHTHHTTTHHTHHTHTHTHHTHHTTHHHHHTTTTHTTHHTHTHHTHTHTHHHHHHTTTTTHTTHTTHHHTTHHTHTTHHTHHHTTTTTHHHTHTHTTTHHHHTTTTHTTTHTTTHHTHHHHTHTHHHTHHTHTTHTTTHTHHTTTHHHHHTTHHHTTHHTTTHHTTTTHHHHTHTTTHHHTTTHTHHTHHTHTHHHTHTHTTTHTHTHTTHTTTHHHTTHTTHHTTHHHTHHHHHTTTTHTTHTHHHHTTHHHTTTHHHHTTHHTTTTTHHTTTHHHTTTTTTHTHHTHHHHTHHHTHTHTTTTTTTHTTHHTHHHTHHTTTTTTHHTHTHHTTTTHTHTTTTHTHHHTTHHTTTHTHTTTHHTHHHTTTTHHHHHTTTHHHTTTHTHHTTTTHTHHHHHHTHHHTTHTHHHHHTHTHTTHHTHHTTHTHTHTHHTTHTTHHTHHTTHTTHHHHHHTTTHTTHHHHHTTTHHTHHHTTHTHHTTHHTTTTHTTHTTTHHHTHHTTHTTHHTTTTHHTTTHHHHHTTTTHHHTHTHHHTTTTTHTHTHTHHTHTTHHHHTTHTTTHTTHHHTHTHTTHHHHTHHTHTHTHHTTTHHHTHTTHHTTHTTHTTTTHHHHHTHHHHTTTHHHHTTHHHHHTHHTHTTHTTHHHTTHTHTTTTTHTTTTTHHHTTTHTTHTHTHHHTHHTHTTHHHTHTHTTTTTTHTTHHHHTHHHHHHHTHHTTTHH'"
      ]
     },
     "execution_count": 3,
     "metadata": {},
     "output_type": "execute_result"
    }
   ],
   "source": [
    "alltosses = alltosses.replace('\\n', '')\n",
    "alltosses "
   ]
  },
  {
   "cell_type": "markdown",
   "metadata": {},
   "source": [
    "For the remainder of the problem, let's assume that `T` is modelled as a `0`, and `H` as a `1`."
   ]
  },
  {
   "cell_type": "markdown",
   "metadata": {},
   "source": [
    "### Question 1\n",
    "\n",
    "Based on the `alltosses` roll above, what is the frequency for each side of the coin? Write this down in the cell below in the form of a `pandas` Series, then a `pandas` dataframe. \n",
    "\n",
    "Call `sides` your pandas series, and `toss_df` your pandas dataframe.\n",
    "\n",
    ">**HINT**: Use a python `Counter` to get `T` and `H` frequencies.\n",
    "```(python)\n",
    "import pandas as pd\n",
    "from collections import Counter\n",
    "sides = pd.Series(...\n",
    "```"
   ]
  },
  {
   "cell_type": "code",
   "execution_count": 6,
   "metadata": {},
   "outputs": [
    {
     "data": {
      "text/plain": [
       "Counter({'T': 484, 'H': 516})"
      ]
     },
     "execution_count": 6,
     "metadata": {},
     "output_type": "execute_result"
    }
   ],
   "source": [
    "import pandas as pd\n",
    "from collections import Counter\n",
    "sides = pd.Series(list(alltosses))\n",
    "frequenciesOfTH = Counter(sides)\n",
    "frequenciesOfTH"
   ]
  },
  {
   "cell_type": "code",
   "execution_count": 7,
   "metadata": {},
   "outputs": [
    {
     "data": {
      "text/plain": [
       "T    484\n",
       "H    516\n",
       "dtype: int64"
      ]
     },
     "execution_count": 7,
     "metadata": {},
     "output_type": "execute_result"
    }
   ],
   "source": [
    "import pandas as pd\n",
    "from collections import Counter\n",
    "frequenciesOfTH = pd.Series(Counter(list(alltosses)))\n",
    "frequenciesOfTH"
   ]
  },
  {
   "cell_type": "markdown",
   "metadata": {},
   "source": [
    "Now plot the histogram."
   ]
  },
  {
   "cell_type": "code",
   "execution_count": 8,
   "metadata": {},
   "outputs": [
    {
     "ename": "NameError",
     "evalue": "name 'plt' is not defined",
     "output_type": "error",
     "traceback": [
      "\u001b[0;31m---------------------------------------------------------------------------\u001b[0m",
      "\u001b[0;31mNameError\u001b[0m                                 Traceback (most recent call last)",
      "\u001b[0;32m<ipython-input-8-dd5a667df1bf>\u001b[0m in \u001b[0;36m<module>\u001b[0;34m\u001b[0m\n\u001b[0;32m----> 1\u001b[0;31m \u001b[0mplt\u001b[0m\u001b[0;34m.\u001b[0m\u001b[0mhist\u001b[0m\u001b[0;34m(\u001b[0m\u001b[0msides\u001b[0m\u001b[0;34m)\u001b[0m\u001b[0;34m\u001b[0m\u001b[0;34m\u001b[0m\u001b[0m\n\u001b[0m",
      "\u001b[0;31mNameError\u001b[0m: name 'plt' is not defined"
     ]
    }
   ],
   "source": [
    "plt.hist(sides)"
   ]
  },
  {
   "cell_type": "code",
   "execution_count": 9,
   "metadata": {},
   "outputs": [
    {
     "name": "stdout",
     "output_type": "stream",
     "text": [
      "{'T': 0.484, 'H': 0.516}\n"
     ]
    },
    {
     "data": {
      "text/plain": [
       "<BarContainer object of 2 artists>"
      ]
     },
     "execution_count": 9,
     "metadata": {},
     "output_type": "execute_result"
    },
    {
     "data": {
      "image/png": "[encoded data removed]",
      "text/plain": [
       "<Figure size 432x288 with 1 Axes>"
      ]
     },
     "metadata": {
      "needs_background": "light"
     },
     "output_type": "display_data"
    }
   ],
   "source": [
    "import matplotlib.pyplot as plt\n",
    "import numpy as np\n",
    "class ProbDist(dict):\n",
    "    \"\"\"A Probability Distribution; an {outcome: probability} mapping.\"\"\"\n",
    "    def __init__(self, mapping=(), **kwargs):\n",
    "        self.update(mapping, **kwargs) ## 转换成dictionary\n",
    "        ## print ('ProbDist', self);\n",
    "        # Make probabilities sum to 1.0; assert no negative probabilities\n",
    "        total = sum(self.values())\n",
    "        for outcome in self:\n",
    "            if self[outcome] == 0:\n",
    "                self[outcome] = 0\n",
    "            else:\n",
    "                self[outcome] = self[outcome] / total\n",
    "                assert self[outcome] >= 0\n",
    "\n",
    "sides_probability = ProbDist(dict(frequenciesOfTH))\n",
    "print (sides_probability)\n",
    "plt.bar(sides_probability.keys(), sides_probability.values(), color='b')"
   ]
  },
  {
   "cell_type": "code",
   "execution_count": 11,
   "metadata": {},
   "outputs": [
    {
     "data": {
      "text/html": [
       "<div>\n",
       "<style scoped>\n",
       "    .dataframe tbody tr th:only-of-type {\n",
       "        vertical-align: middle;\n",
       "    }\n",
       "\n",
       "    .dataframe tbody tr th {\n",
       "        vertical-align: top;\n",
       "    }\n",
       "\n",
       "    .dataframe thead th {\n",
       "        text-align: right;\n",
       "    }\n",
       "</style>\n",
       "<table border=\"1\" class=\"dataframe\">\n",
       "  <thead>\n",
       "    <tr style=\"text-align: right;\">\n",
       "      <th></th>\n",
       "      <th>0</th>\n",
       "    </tr>\n",
       "  </thead>\n",
       "  <tbody>\n",
       "    <tr>\n",
       "      <td>T</td>\n",
       "      <td>484</td>\n",
       "    </tr>\n",
       "    <tr>\n",
       "      <td>H</td>\n",
       "      <td>516</td>\n",
       "    </tr>\n",
       "  </tbody>\n",
       "</table>\n",
       "</div>"
      ],
      "text/plain": [
       "     0\n",
       "T  484\n",
       "H  516"
      ]
     },
     "execution_count": 11,
     "metadata": {},
     "output_type": "execute_result"
    }
   ],
   "source": [
    "frequenciesOfTH_df = pd.DataFrame.from_dict(frequenciesOfTH)\n",
    "frequenciesOfTH_df"
   ]
  },
  {
   "cell_type": "markdown",
   "metadata": {},
   "source": [
    "What statistical probability density profile might you match this distribution with?\n",
    "\n",
    "Answer: Bernoulli distribution"
   ]
  },
  {
   "cell_type": "markdown",
   "metadata": {},
   "source": [
    "Now we ask ourselves: What is the probability of seeing results like this by ***chance***?\n",
    "\n",
    "### Question 2: Hypothesis testing: Is the apparent effect real, or is it due to chance?  \n",
    "\n",
    "To answer that question, we formulate two hypotheses: the **null hypothesis H0** is a model of the tosses if the histogram above is due to ***chance***. The **alternate hypothesis HA** is a model of a **crooked** (unfair) coin.\n",
    "\n",
    "Ideally we should compute the probability of seeing a this empirical histogram effect $E$ under ***both*** hypotheses; that is $P(E \\;|\\; H0)$ and $P(E \\;|\\; \\text{HA})$.  But formulating $HA$ is not always easy, so in conventional hypothesis testing, we just compute $P(E \\;|\\; H0)$, which is the **p-value**.  \n",
    "\n",
    "If the p-value is ***small***, we conclude that our somewhat skewed histogram is unlikely to have occurred by chance, which suggests that the coin is **crooked**.\n",
    "\n",
    "#### Step 1: Build the null hypothesis\n",
    "The first step is to get data from our observations and compute a test statistic. The result is some measure of the size of the effect, or **delta**. For example, if we were comparing the mean of two groups, delta is the **difference in the means**. Since we are comparing actual values with expected values, delta is a **chi-squared** statistic: a measure of the distance between the observed and expected values.\n",
    "\n",
    "#### Step 2: Build a model\n",
    "The next step is to build a model from our empirical observations and generate simulated data. Then we'll apply the test statistic to the simulated data.\n",
    "\n",
    "#### Step 3: How many times does the test statistic for the simulated data *exceed the delta*?\n",
    "The last step is the easiest: Count how many times the test statistic for the simulated data exceeds the delta from the null hypothesis simulation. That's the **p-value**!"
   ]
  },
  {
   "cell_type": "markdown",
   "metadata": {},
   "source": [
    "To compute a p-value, we have to choose a test statistic that measures how *unexpected* the histogram above is.  The **chi-squared** statistic is a reasonable choice: for each coinc toss we compare the expected frequency and the observed frequency and compute the sum of the squared relative differences.\n",
    "\n",
    "We have 2 sides to the coin, thus we expect the following frequency for each toss:"
   ]
  },
  {
   "cell_type": "code",
   "execution_count": 25,
   "metadata": {},
   "outputs": [
    {
     "data": {
      "text/plain": [
       "500.0"
      ]
     },
     "execution_count": 25,
     "metadata": {},
     "output_type": "execute_result"
    }
   ],
   "source": [
    "len(alltosses)/2"
   ]
  },
  {
   "cell_type": "code",
   "execution_count": 26,
   "metadata": {},
   "outputs": [
    {
     "data": {
      "text/plain": [
       "['T', 'T', 'T', 'T', 'H', 'T', 'H', 'H', 'T', 'H']"
      ]
     },
     "execution_count": 26,
     "metadata": {},
     "output_type": "execute_result"
    }
   ],
   "source": [
    "observed_tosses = [x for x in alltosses]\n",
    "observed_tosses[:10]"
   ]
  },
  {
   "cell_type": "markdown",
   "metadata": {},
   "source": [
    "Use a **list comprehension** to get a list of numbers, either 0 or 1, representing our observations. use 0 for `T` and ` for `H`:"
   ]
  },
  {
   "cell_type": "code",
   "execution_count": 27,
   "metadata": {},
   "outputs": [
    {
     "data": {
      "text/plain": [
       "[0, 0, 0, 0, 1, 0, 1, 1, 0, 1]"
      ]
     },
     "execution_count": 27,
     "metadata": {},
     "output_type": "execute_result"
    }
   ],
   "source": [
    "def convert(pattern):\n",
    "    if pattern == 'T':\n",
    "        return 0\n",
    "    else:\n",
    "        return 1\n",
    "observed_tosses_bin = [convert(x) for x in alltosses]\n",
    "observed_tosses_bin[:10]"
   ]
  },
  {
   "cell_type": "markdown",
   "metadata": {},
   "source": [
    "Now we define a **Chi squared** statistic to measure the difference between an expected distribution and an observed one:"
   ]
  },
  {
   "cell_type": "code",
   "execution_count": 28,
   "metadata": {},
   "outputs": [
    {
     "data": {
      "text/plain": [
       "16.0"
      ]
     },
     "execution_count": 28,
     "metadata": {},
     "output_type": "execute_result"
    }
   ],
   "source": [
    "def ChiSquared(observed, expected):\n",
    "    total = 0\n",
    "    for obs in observed:\n",
    "        total += obs\n",
    "    return np.abs(total - expected)\n",
    "\n",
    "ChiSquared(observed_tosses_bin, len(alltosses)/2)"
   ]
  },
  {
   "cell_type": "markdown",
   "metadata": {},
   "source": [
    "For the observed frequencies, the chi-squared statistic is 16.  By itself, this number doesn't mean anything.  We have to ***compare it*** to results from the **null hypothesis**.\n",
    "\n",
    "We may also need a chi statistic to compare draws from the null hypothesis with draws from the alternate hypothesis. Here it is:"
   ]
  },
  {
   "cell_type": "code",
   "execution_count": 29,
   "metadata": {},
   "outputs": [],
   "source": [
    "def ChiSquared2(observed, expected):\n",
    "    total = 0\n",
    "    both = zip(observed, expected)\n",
    "    for obs, exp in zip(observed, expected):\n",
    "        total += np.abs(obs - exp)\n",
    "    return total"
   ]
  },
  {
   "cell_type": "markdown",
   "metadata": {},
   "source": [
    "Now we need code that generates *simulated* data. Let's do Bayesian estimation to simulate data with the same statistics as our empirical observations, and then also write a null hypothesis (fair data) simulator."
   ]
  },
  {
   "cell_type": "markdown",
   "metadata": {},
   "source": [
    "In the pymc3 simulation below, you will pick your data likelihood function from a list of statistical functions (pdfs). Make sure you pick the right one. My symbol for this function is `???`. Pick the right one and import it from `pymc3`.\n",
    "\n",
    "In Bayesian estimation, we *also* assign pdfs to the parameter(s). Use the [logistic]() function to assign a pdf to the first parameter of your ??? distribution, and a Normal distribution to the parameter itself. That is a very common practice for any binary variable in ML. We will use a large standard deviation (10) because we have no idea what the parametes should be. "
   ]
  },
  {
   "cell_type": "code",
   "execution_count": 30,
   "metadata": {},
   "outputs": [
    {
     "name": "stderr",
     "output_type": "stream",
     "text": [
      "WARNING (theano.configdefaults): install mkl with `conda install mkl-service`: No module named 'mkl'\n"
     ]
    }
   ],
   "source": [
    "from pymc3 import Model, Normal, Binomial\n",
    "import theano.tensor as T\n",
    "\n",
    "def logistic(l):\n",
    "    return 1 / (1 + T.exp(-l))\n",
    "\n",
    "with Model() as toss_model:\n",
    "    mu = Normal('mu', mu=0, sd=10)\n",
    "    \n",
    "with toss_model:\n",
    "    toss_like = Binomial('toss_like', p=logistic(mu), n=1000, observed=observed_tosses_bin)"
   ]
  },
  {
   "cell_type": "markdown",
   "metadata": {},
   "source": [
    "And now we find a solution for `mu` using pymc3. We run for 1,000 timesteps and we hope we converge!"
   ]
  },
  {
   "cell_type": "code",
   "execution_count": 31,
   "metadata": {},
   "outputs": [],
   "source": [
    "RANDOM_SEED = 42"
   ]
  },
  {
   "cell_type": "code",
   "execution_count": 32,
   "metadata": {},
   "outputs": [
    {
     "name": "stderr",
     "output_type": "stream",
     "text": [
      "Average Loss = 57,544: 100%|██████████| 10000/10000 [00:03<00:00, 3235.76it/s]   \n",
      "Finished [100%]: Average Loss = 57,420\n"
     ]
    }
   ],
   "source": [
    "from pymc3 import fit\n",
    "\n",
    "with toss_model: \n",
    "    toss_trace = fit(random_seed=RANDOM_SEED).sample(1000)"
   ]
  },
  {
   "cell_type": "markdown",
   "metadata": {},
   "source": [
    "We now plot the posterior distribution for `mu` in order to find its most likely value (the mean of the posterior):"
   ]
  },
  {
   "cell_type": "code",
   "execution_count": 33,
   "metadata": {},
   "outputs": [
    {
     "name": "stderr",
     "output_type": "stream",
     "text": [
      "/Users/CYH/opt/anaconda3/envs/theano/lib/python3.7/site-packages/pymc3/plots/__init__.py:21: UserWarning: Keyword argument `varnames` renamed to `var_names`, and will be removed in pymc3 3.8\n",
      "  warnings.warn('Keyword argument `{old}` renamed to `{new}`, and will be removed in pymc3 3.8'.format(old=old, new=new))\n"
     ]
    },
    {
     "data": {
      "image/png": "[encoded data removed]",
      "text/plain": [
       "<Figure size 432x288 with 1 Axes>"
      ]
     },
     "metadata": {
      "needs_background": "light"
     },
     "output_type": "display_data"
    }
   ],
   "source": [
    "from pymc3 import plot_posterior\n",
    "\n",
    "plot_posterior(toss_trace[100:], \n",
    "                varnames=['mu'],\n",
    "                color='#87ceeb');"
   ]
  },
  {
   "cell_type": "code",
   "execution_count": 34,
   "metadata": {},
   "outputs": [
    {
     "data": {
      "text/plain": [
       "0.48100914005407436"
      ]
     },
     "execution_count": 34,
     "metadata": {},
     "output_type": "execute_result"
    }
   ],
   "source": [
    "1 / (1 + np.exp(0.076))"
   ]
  },
  {
   "cell_type": "markdown",
   "metadata": {},
   "source": [
    "Now plot the *simulated* (fake) distribution of coin tosses, based on the statistics of the observed coin tosses. Make sure to import the *same* likelihood pdf you used from pymc3, but this time import it from `scipy.stats.distributions` (note: the captialization of the distribution in scipy may be different):"
   ]
  },
  {
   "cell_type": "code",
   "execution_count": 35,
   "metadata": {},
   "outputs": [
    {
     "name": "stderr",
     "output_type": "stream",
     "text": [
      "/Users/CYH/opt/anaconda3/envs/theano/lib/python3.7/site-packages/pandas/plotting/_matplotlib/hist.py:412: MatplotlibDeprecationWarning: \n",
      "The 'normed' kwarg was deprecated in Matplotlib 2.1 and will be removed in 3.1. Use 'density' instead.\n",
      "  ax.hist(data[col].dropna().values, bins=bins, **kwds)\n"
     ]
    },
    {
     "data": {
      "text/plain": [
       "[<matplotlib.lines.Line2D at 0x127113d90>]"
      ]
     },
     "execution_count": 35,
     "metadata": {},
     "output_type": "execute_result"
    },
    {
     "data": {
      "image/png": "[encoded data removed]",
      "text/plain": [
       "<Figure size 432x288 with 1 Axes>"
      ]
     },
     "metadata": {
      "needs_background": "light"
     },
     "output_type": "display_data"
    }
   ],
   "source": [
    "from scipy.stats.distributions import bernoulli\n",
    "import numpy as np\n",
    "\n",
    "mu_posterior_mean = 1 / (1 + np.exp(0.076))\n",
    "\n",
    "pd.DataFrame(observed_tosses_bin).hist(normed=True)\n",
    "plt.plot(np.linspace(0, 1), bernoulli.pmf(np.linspace(0, 1), mu_posterior_mean))"
   ]
  },
  {
   "cell_type": "markdown",
   "metadata": {},
   "source": [
    "Does it match the observed distribution?\n",
    "\n",
    "If it does, we are now ready to simulate, i.e. generate fake coin tosses. This is called **generating posterior predictive checks**:\n",
    "\n",
    "Posterior predictive checks (PPCs) *validate* your model: You generate data from the model using parameters from draws from the posterior. The `samples` parameter is how many of these simulations you want to run.\n",
    "\n",
    "Here is one way of doing it (deprecated):"
   ]
  },
  {
   "cell_type": "code",
   "execution_count": 36,
   "metadata": {},
   "outputs": [
    {
     "name": "stderr",
     "output_type": "stream",
     "text": [
      "/Users/CYH/opt/anaconda3/envs/theano/lib/python3.7/site-packages/ipykernel_launcher.py:4: DeprecationWarning: sample_ppc() is deprecated.  Please use sample_posterior_predictive()\n",
      "  after removing the cwd from sys.path.\n",
      "/Users/CYH/opt/anaconda3/envs/theano/lib/python3.7/site-packages/pymc3/sampling.py:1247: UserWarning: samples parameter is smaller than nchains times ndraws, some draws and/or chains may not be represented in the returned posterior predictive sample\n",
      "  \"samples parameter is smaller than nchains times ndraws, some draws \"\n",
      "100%|██████████| 1/1 [00:00<00:00, 33.09it/s]\n"
     ]
    }
   ],
   "source": [
    "from pymc3 import sample_ppc\n",
    "\n",
    "with toss_model:\n",
    "    toss_ppc = sample_ppc(toss_trace, samples=1)"
   ]
  },
  {
   "cell_type": "markdown",
   "metadata": {},
   "source": [
    "Here is another way (the preferred one):"
   ]
  },
  {
   "cell_type": "code",
   "execution_count": 37,
   "metadata": {},
   "outputs": [
    {
     "name": "stderr",
     "output_type": "stream",
     "text": [
      "/Users/CYH/opt/anaconda3/envs/theano/lib/python3.7/site-packages/pymc3/sampling.py:1247: UserWarning: samples parameter is smaller than nchains times ndraws, some draws and/or chains may not be represented in the returned posterior predictive sample\n",
      "  \"samples parameter is smaller than nchains times ndraws, some draws \"\n",
      "100%|██████████| 1/1 [00:00<00:00, 440.16it/s]\n"
     ]
    }
   ],
   "source": [
    "from pymc3 import sample_posterior_predictive\n",
    "ppc = sample_posterior_predictive(toss_trace, samples=1, model=toss_model)"
   ]
  },
  {
   "cell_type": "code",
   "execution_count": 152,
   "metadata": {},
   "outputs": [
    {
     "data": {
      "text/plain": [
       "(1, 1000)"
      ]
     },
     "execution_count": 152,
     "metadata": {},
     "output_type": "execute_result"
    }
   ],
   "source": [
    "toss_ppc['toss_like'].shape"
   ]
  },
  {
   "cell_type": "code",
   "execution_count": 38,
   "metadata": {},
   "outputs": [
    {
     "data": {
      "text/plain": [
       "array([63, 83, 59, 70, 57, 87, 65, 75, 73, 64, 75, 72, 68, 73, 78, 60, 72,\n",
       "       81, 62, 67])"
      ]
     },
     "execution_count": 38,
     "metadata": {},
     "output_type": "execute_result"
    }
   ],
   "source": [
    "simulated_tosses = toss_ppc['toss_like'][0]\n",
    "simulated_tosses[:20]"
   ]
  },
  {
   "cell_type": "code",
   "execution_count": 39,
   "metadata": {},
   "outputs": [
    {
     "data": {
      "text/plain": [
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
      ]
     },
     "execution_count": 39,
     "metadata": {},
     "output_type": "execute_result"
    }
   ],
   "source": [
    "faketosses = ''.join([str(int(x)) for x in simulated_tosses])\n",
    "faketosses"
   ]
  },
  {
   "cell_type": "code",
   "execution_count": 40,
   "metadata": {},
   "outputs": [
    {
     "data": {
      "text/plain": [
       "2001"
      ]
     },
     "execution_count": 40,
     "metadata": {},
     "output_type": "execute_result"
    }
   ],
   "source": [
    "len(faketosses)"
   ]
  },
  {
   "cell_type": "markdown",
   "metadata": {},
   "source": [
    "Now we can simulate our coin (i,e. simulate similar statistics to our heart's content):"
   ]
  },
  {
   "cell_type": "code",
   "execution_count": 41,
   "metadata": {},
   "outputs": [],
   "source": [
    "def SimulateAlternateHypothesisCoin():\n",
    "    with toss_model:\n",
    "        toss_ppc = sample_ppc(toss_trace, samples=1)\n",
    "    simulated_tosses = toss_ppc['toss_like'][0]\n",
    "    return ''.join([str(int(x)) for x in simulated_tosses])"
   ]
  },
  {
   "cell_type": "markdown",
   "metadata": {},
   "source": [
    "And... find a way to simulate a **fair** coin so you get results in the same shape here below:"
   ]
  },
  {
   "cell_type": "code",
   "execution_count": 42,
   "metadata": {},
   "outputs": [],
   "source": [
    "from random import randrange\n",
    "\n",
    "def SimulateNullHypothesisCoin(length):\n",
    "    tosses = ''\n",
    "    for i in range(length):\n",
    "        x = np.random.binomial(n=1,p=0.5)\n",
    "        if x == 0:\n",
    "            tosses += '0'\n",
    "        else:\n",
    "            tosses += '1'\n",
    "    return tosses"
   ]
  },
  {
   "cell_type": "code",
   "execution_count": 43,
   "metadata": {
    "scrolled": true
   },
   "outputs": [
    {
     "data": {
      "text/plain": [
       "'1001011111000100111010100111110001110100100001111111011011000111101011101011100100100001010110111101010000101011010001101000000011110010100011000001010010001100110011100000101010101001010110010111001001100000110100110101111010011100001101101000010101001011110100000010100001111111111110100101001001101000110111100110000100010010110110101000101010100111001000101001101011111100100011010100101010001110101000111001000110000110101110011000100000011001100100010000000101100011010010010011001000111010010100011000101001101011111111111100001110111111000110100110001101111001000110011000101101001110100111110110010101011001110100010110101010110110001010101011010001000100111100111000101011111001011011011100100101001101110111110001111001011111100111011101000111000001110110011101100100101111110001101100111001001110010000100111111111011010010000110110000010001100001001000100001001101100111011101001100011001101111101111010110111100110001101101100101010100101110111110011101111110100010001011010101101001111'"
      ]
     },
     "execution_count": 43,
     "metadata": {},
     "output_type": "execute_result"
    }
   ],
   "source": [
    "SimulateNullHypothesisCoin(1000)"
   ]
  },
  {
   "cell_type": "code",
   "execution_count": 44,
   "metadata": {},
   "outputs": [
    {
     "data": {
      "text/plain": [
       "Counter({'1': 512, '0': 488})"
      ]
     },
     "execution_count": 44,
     "metadata": {},
     "output_type": "execute_result"
    }
   ],
   "source": [
    "Counter(SimulateNullHypothesisCoin(1000))"
   ]
  },
  {
   "cell_type": "markdown",
   "metadata": {},
   "source": [
    "How many `H`s do we get from the alternate hypothesis simulation, and from the null hypothesis simulation?"
   ]
  },
  {
   "cell_type": "code",
   "execution_count": 45,
   "metadata": {},
   "outputs": [
    {
     "name": "stderr",
     "output_type": "stream",
     "text": [
      "/Users/CYH/opt/anaconda3/envs/theano/lib/python3.7/site-packages/ipykernel_launcher.py:3: DeprecationWarning: sample_ppc() is deprecated.  Please use sample_posterior_predictive()\n",
      "  This is separate from the ipykernel package so we can avoid doing imports until\n",
      "100%|██████████| 1/1 [00:00<00:00, 552.54it/s]\n"
     ]
    },
    {
     "data": {
      "text/plain": [
       "94"
      ]
     },
     "execution_count": 45,
     "metadata": {},
     "output_type": "execute_result"
    }
   ],
   "source": [
    "Counter(SimulateAlternateHypothesisCoin())['1']"
   ]
  },
  {
   "cell_type": "code",
   "execution_count": 46,
   "metadata": {},
   "outputs": [
    {
     "data": {
      "text/plain": [
       "496"
      ]
     },
     "execution_count": 46,
     "metadata": {},
     "output_type": "execute_result"
    }
   ],
   "source": [
    "Counter(SimulateNullHypothesisCoin(1000))['1']"
   ]
  },
  {
   "cell_type": "markdown",
   "metadata": {},
   "source": [
    "Now, we know that the expected frequency for each toss for a fair coin is 1000/2 = 500. This is how we can compare observation to null hypothesis. Although we may want to conclude that the p-value is low with the test below, ***there is still a possibility we got this result by chance***:"
   ]
  },
  {
   "cell_type": "code",
   "execution_count": 47,
   "metadata": {},
   "outputs": [
    {
     "data": {
      "text/plain": [
       "16.0"
      ]
     },
     "execution_count": 47,
     "metadata": {},
     "output_type": "execute_result"
    }
   ],
   "source": [
    "expected = 1000/2\n",
    "threshold = ChiSquared(observed_tosses_bin, expected)\n",
    "threshold"
   ]
  },
  {
   "cell_type": "markdown",
   "metadata": {},
   "source": [
    "This is for a null hypothesis simulation:"
   ]
  },
  {
   "cell_type": "code",
   "execution_count": 199,
   "metadata": {},
   "outputs": [
    {
     "data": {
      "text/plain": [
       "4.0"
      ]
     },
     "execution_count": 199,
     "metadata": {},
     "output_type": "execute_result"
    }
   ],
   "source": [
    "expected = 1000/2\n",
    "null_hypothesis_sim = SimulateNullHypothesisCoin(1000)\n",
    "null_hypothesis_sim_bin = [int(x) for x in null_hypothesis_sim]\n",
    "chi2 = ChiSquared(null_hypothesis_sim_bin, expected)\n",
    "chi2"
   ]
  },
  {
   "cell_type": "markdown",
   "metadata": {},
   "source": [
    "Let's get a p-value where we compare null hypothesis simulations to our empirical data:"
   ]
  },
  {
   "cell_type": "code",
   "execution_count": 200,
   "metadata": {},
   "outputs": [
    {
     "name": "stdout",
     "output_type": "stream",
     "text": [
      "16.0\n",
      "p-value 0.351\n"
     ]
    }
   ],
   "source": [
    "count = 0.\n",
    "roll_size = 1000\n",
    "num_trials = 1000\n",
    "expected = 1000/2.\n",
    "\n",
    "# observed statistic:\n",
    "threshold = ChiSquared(observed_tosses_bin, expected)\n",
    "print(threshold)\n",
    "\n",
    "for _ in range(num_trials):\n",
    "    null_hypothesis_sim = SimulateNullHypothesisCoin(roll_size)\n",
    "    null_hypothesis_sim_bin = [int(x) for x in null_hypothesis_sim]\n",
    "    chi2 = ChiSquared(null_hypothesis_sim_bin, expected)\n",
    "    if chi2 >= threshold:\n",
    "        count += 1\n",
    "\n",
    "pvalue = count / num_trials\n",
    "print ('p-value', pvalue)"
   ]
  },
  {
   "cell_type": "markdown",
   "metadata": {},
   "source": [
    "If the the p-value is high, higher than the usual 95% Confidence interval, you cannot reject the null hypothesis!\n",
    "\n",
    "But our empirical experiment (real observations) threshold could very well have been generated ***by chance***!\n",
    "\n",
    "Here is a much more powerful and conclusive estimation of our **p-value**: We run a lot of null experiments ***and*** a lot of alternative hypothesis experiments, using our Bayesian model (instead of a single observation as above)! And we can ***count*** all times that our null experiment deviates from the expected threshold (*that is the null chi statistic*), and the times that our alternate hypothesis experiment deviates from the expected threshold (*that is the alternate hypothesis chi statistic*), and we can compare the two chi statistics! \n",
    "\n",
    "That tells us in how many universes we observe distributions *different* from the null hypothesis, and allows us to generate a *real* probability that our alternate hypothesis simulations (matching our empirical data) **statistically differ** from null hypothesis simulations!"
   ]
  },
  {
   "cell_type": "markdown",
   "metadata": {},
   "source": [
    "If the p-value is ***small***, you may conclude that the effect is ***unlikely to have occurred by chance***, which suggests that it is ***real***: The coin is crooked. If the p-value is ***high***, you cannot dismiss the null hypothesis and you need to conclude that the coin is fair and any skew in the statistics is due to *chance*."
   ]
  },
  {
   "cell_type": "code",
   "execution_count": 201,
   "metadata": {},
   "outputs": [
    {
     "name": "stderr",
     "output_type": "stream",
     "text": [
      "/Users/CYH/opt/anaconda3/lib/python3.7/site-packages/ipykernel_launcher.py:3: DeprecationWarning: sample_ppc() is deprecated.  Please use sample_posterior_predictive()\n",
      "  This is separate from the ipykernel package so we can avoid doing imports until\n",
      "100%|██████████| 1/1 [00:00<00:00, 622.95it/s]\n",
      "100%|██████████| 1/1 [00:00<00:00, 689.97it/s]\n",
      "100%|██████████| 1/1 [00:00<00:00, 802.58it/s]\n",
      "100%|██████████| 1/1 [00:00<00:00, 693.50it/s]\n",
      "100%|██████████| 1/1 [00:00<00:00, 445.68it/s]\n",
      "100%|██████████| 1/1 [00:00<00:00, 677.05it/s]\n",
      "100%|██████████| 1/1 [00:00<00:00, 705.28it/s]\n",
      "100%|██████████| 1/1 [00:00<00:00, 816.97it/s]\n",
      "100%|██████████| 1/1 [00:00<00:00, 460.61it/s]\n",
      "100%|██████████| 1/1 [00:00<00:00, 559.32it/s]\n",
      "100%|██████████| 1/1 [00:00<00:00, 631.77it/s]\n",
      "100%|██████████| 1/1 [00:00<00:00, 617.26it/s]\n",
      "100%|██████████| 1/1 [00:00<00:00, 653.11it/s]\n",
      "100%|██████████| 1/1 [00:00<00:00, 682.22it/s]\n",
      "100%|██████████| 1/1 [00:00<00:00, 536.42it/s]\n",
      "100%|██████████| 1/1 [00:00<00:00, 646.37it/s]\n",
      "100%|██████████| 1/1 [00:00<00:00, 542.60it/s]\n",
      "100%|██████████| 1/1 [00:00<00:00, 459.35it/s]\n",
      "100%|██████████| 1/1 [00:00<00:00, 638.60it/s]\n",
      "100%|██████████| 1/1 [00:00<00:00, 741.31it/s]\n",
      "100%|██████████| 1/1 [00:00<00:00, 589.67it/s]\n",
      "100%|██████████| 1/1 [00:00<00:00, 656.18it/s]\n",
      "100%|██████████| 1/1 [00:00<00:00, 701.39it/s]\n",
      "100%|██████████| 1/1 [00:00<00:00, 661.35it/s]\n",
      "100%|██████████| 1/1 [00:00<00:00, 601.94it/s]\n",
      "100%|██████████| 1/1 [00:00<00:00, 655.77it/s]\n",
      "100%|██████████| 1/1 [00:00<00:00, 710.30it/s]\n",
      "100%|██████████| 1/1 [00:00<00:00, 514.64it/s]\n",
      "100%|██████████| 1/1 [00:00<00:00, 599.44it/s]\n",
      "100%|██████████| 1/1 [00:00<00:00, 713.32it/s]\n",
      "100%|██████████| 1/1 [00:00<00:00, 660.52it/s]\n",
      "100%|██████████| 1/1 [00:00<00:00, 484.05it/s]\n",
      "100%|██████████| 1/1 [00:00<00:00, 712.23it/s]\n",
      "100%|██████████| 1/1 [00:00<00:00, 632.53it/s]\n",
      "100%|██████████| 1/1 [00:00<00:00, 447.44it/s]\n",
      "100%|██████████| 1/1 [00:00<00:00, 624.34it/s]\n",
      "100%|██████████| 1/1 [00:00<00:00, 646.37it/s]\n",
      "100%|██████████| 1/1 [00:00<00:00, 621.19it/s]\n",
      "100%|██████████| 1/1 [00:00<00:00, 699.75it/s]\n",
      "100%|██████████| 1/1 [00:00<00:00, 528.85it/s]\n",
      "100%|██████████| 1/1 [00:00<00:00, 651.39it/s]\n",
      "100%|██████████| 1/1 [00:00<00:00, 798.00it/s]\n",
      "100%|██████████| 1/1 [00:00<00:00, 766.78it/s]\n",
      "100%|██████████| 1/1 [00:00<00:00, 702.68it/s]\n",
      "100%|██████████| 1/1 [00:00<00:00, 622.39it/s]\n",
      "100%|██████████| 1/1 [00:00<00:00, 626.95it/s]\n",
      "100%|██████████| 1/1 [00:00<00:00, 728.81it/s]\n",
      "100%|██████████| 1/1 [00:00<00:00, 721.41it/s]\n",
      "100%|██████████| 1/1 [00:00<00:00, 575.75it/s]\n",
      "100%|██████████| 1/1 [00:00<00:00, 667.99it/s]\n",
      "100%|██████████| 1/1 [00:00<00:00, 714.41it/s]\n",
      "100%|██████████| 1/1 [00:00<00:00, 546.70it/s]\n",
      "100%|██████████| 1/1 [00:00<00:00, 694.42it/s]\n",
      "100%|██████████| 1/1 [00:00<00:00, 628.17it/s]\n",
      "100%|██████████| 1/1 [00:00<00:00, 767.48it/s]\n",
      "100%|██████████| 1/1 [00:00<00:00, 641.04it/s]\n",
      "100%|██████████| 1/1 [00:00<00:00, 774.57it/s]\n",
      "100%|██████████| 1/1 [00:00<00:00, 382.55it/s]\n",
      "100%|██████████| 1/1 [00:00<00:00, 499.02it/s]\n",
      "100%|██████████| 1/1 [00:00<00:00, 657.11it/s]\n",
      "100%|██████████| 1/1 [00:00<00:00, 789.29it/s]\n",
      "100%|██████████| 1/1 [00:00<00:00, 829.24it/s]\n",
      "100%|██████████| 1/1 [00:00<00:00, 607.17it/s]\n",
      "100%|██████████| 1/1 [00:00<00:00, 607.87it/s]\n",
      "100%|██████████| 1/1 [00:00<00:00, 725.78it/s]\n",
      "100%|██████████| 1/1 [00:00<00:00, 648.97it/s]\n",
      "100%|██████████| 1/1 [00:00<00:00, 668.41it/s]\n",
      "100%|██████████| 1/1 [00:00<00:00, 745.79it/s]\n",
      "100%|██████████| 1/1 [00:00<00:00, 815.54it/s]\n",
      "100%|██████████| 1/1 [00:00<00:00, 670.66it/s]\n",
      "100%|██████████| 1/1 [00:00<00:00, 510.94it/s]\n",
      "100%|██████████| 1/1 [00:00<00:00, 551.30it/s]\n",
      "100%|██████████| 1/1 [00:00<00:00, 489.76it/s]\n",
      "100%|██████████| 1/1 [00:00<00:00, 586.53it/s]\n",
      "100%|██████████| 1/1 [00:00<00:00, 531.33it/s]\n",
      "100%|██████████| 1/1 [00:00<00:00, 839.53it/s]\n",
      "100%|██████████| 1/1 [00:00<00:00, 668.95it/s]\n",
      "100%|██████████| 1/1 [00:00<00:00, 532.47it/s]\n",
      "100%|██████████| 1/1 [00:00<00:00, 594.60it/s]\n",
      "100%|██████████| 1/1 [00:00<00:00, 512.88it/s]\n",
      "100%|██████████| 1/1 [00:00<00:00, 603.15it/s]\n",
      "100%|██████████| 1/1 [00:00<00:00, 703.62it/s]\n",
      "100%|██████████| 1/1 [00:00<00:00, 664.92it/s]\n",
      "100%|██████████| 1/1 [00:00<00:00, 530.52it/s]\n",
      "100%|██████████| 1/1 [00:00<00:00, 750.19it/s]\n",
      "100%|██████████| 1/1 [00:00<00:00, 492.87it/s]\n",
      "100%|██████████| 1/1 [00:00<00:00, 324.66it/s]\n",
      "100%|██████████| 1/1 [00:00<00:00, 360.61it/s]\n",
      "100%|██████████| 1/1 [00:00<00:00, 545.57it/s]\n",
      "100%|██████████| 1/1 [00:00<00:00, 513.88it/s]\n",
      "100%|██████████| 1/1 [00:00<00:00, 765.66it/s]\n",
      "100%|██████████| 1/1 [00:00<00:00,  4.09it/s]\n",
      "100%|██████████| 1/1 [00:00<00:00, 740.26it/s]\n",
      "100%|██████████| 1/1 [00:00<00:00, 700.22it/s]\n",
      "100%|██████████| 1/1 [00:00<00:00, 703.74it/s]\n",
      "100%|██████████| 1/1 [00:00<00:00, 789.74it/s]\n",
      "100%|██████████| 1/1 [00:00<00:00, 676.61it/s]\n",
      "100%|██████████| 1/1 [00:00<00:00, 834.02it/s]\n",
      "100%|██████████| 1/1 [00:00<00:00, 758.74it/s]\n",
      "100%|██████████| 1/1 [00:00<00:00, 712.71it/s]\n",
      "100%|██████████| 1/1 [00:00<00:00, 708.14it/s]\n",
      "100%|██████████| 1/1 [00:00<00:00, 560.51it/s]\n",
      "100%|██████████| 1/1 [00:00<00:00, 675.30it/s]\n",
      "100%|██████████| 1/1 [00:00<00:00, 510.19it/s]\n",
      "100%|██████████| 1/1 [00:00<00:00, 627.42it/s]\n",
      "100%|██████████| 1/1 [00:00<00:00, 625.83it/s]\n",
      "100%|██████████| 1/1 [00:00<00:00, 448.30it/s]\n",
      "100%|██████████| 1/1 [00:00<00:00, 813.64it/s]\n",
      "100%|██████████| 1/1 [00:00<00:00, 600.90it/s]\n",
      "100%|██████████| 1/1 [00:00<00:00, 640.65it/s]\n",
      "100%|██████████| 1/1 [00:00<00:00, 641.82it/s]\n",
      "100%|██████████| 1/1 [00:00<00:00, 561.19it/s]\n",
      "100%|██████████| 1/1 [00:00<00:00, 811.75it/s]\n",
      "100%|██████████| 1/1 [00:00<00:00, 705.28it/s]\n",
      "100%|██████████| 1/1 [00:00<00:00, 629.68it/s]\n",
      "100%|██████████| 1/1 [00:00<00:00, 580.04it/s]\n",
      "100%|██████████| 1/1 [00:00<00:00, 582.46it/s]\n",
      "100%|██████████| 1/1 [00:00<00:00, 615.09it/s]\n",
      "100%|██████████| 1/1 [00:00<00:00, 745.12it/s]\n",
      "100%|██████████| 1/1 [00:00<00:00, 614.64it/s]\n",
      "100%|██████████| 1/1 [00:00<00:00, 545.57it/s]\n",
      "100%|██████████| 1/1 [00:00<00:00, 689.63it/s]\n",
      "100%|██████████| 1/1 [00:00<00:00, 505.34it/s]\n",
      "100%|██████████| 1/1 [00:00<00:00, 619.54it/s]\n",
      "100%|██████████| 1/1 [00:00<00:00, 804.43it/s]\n",
      "100%|██████████| 1/1 [00:00<00:00, 801.82it/s]\n",
      "100%|██████████| 1/1 [00:00<00:00, 532.27it/s]\n",
      "100%|██████████| 1/1 [00:00<00:00, 746.85it/s]\n",
      "100%|██████████| 1/1 [00:00<00:00, 487.31it/s]\n",
      "100%|██████████| 1/1 [00:00<00:00, 514.20it/s]\n",
      "100%|██████████| 1/1 [00:00<00:00, 592.42it/s]\n",
      "100%|██████████| 1/1 [00:00<00:00, 604.19it/s]\n",
      "100%|██████████| 1/1 [00:00<00:00, 478.20it/s]\n",
      "100%|██████████| 1/1 [00:00<00:00, 727.80it/s]\n",
      "100%|██████████| 1/1 [00:00<00:00, 657.52it/s]\n",
      "100%|██████████| 1/1 [00:00<00:00, 463.61it/s]\n",
      "100%|██████████| 1/1 [00:00<00:00, 548.28it/s]\n",
      "100%|██████████| 1/1 [00:00<00:00, 805.98it/s]\n",
      "100%|██████████| 1/1 [00:00<00:00, 607.17it/s]\n",
      "100%|██████████| 1/1 [00:00<00:00, 613.11it/s]\n",
      "100%|██████████| 1/1 [00:00<00:00, 796.79it/s]\n",
      "100%|██████████| 1/1 [00:00<00:00, 814.90it/s]\n",
      "100%|██████████| 1/1 [00:00<00:00, 492.12it/s]\n",
      "100%|██████████| 1/1 [00:00<00:00, 805.20it/s]\n",
      "100%|██████████| 1/1 [00:00<00:00, 769.31it/s]\n",
      "100%|██████████| 1/1 [00:00<00:00, 700.33it/s]\n",
      "100%|██████████| 1/1 [00:00<00:00, 788.55it/s]\n",
      "100%|██████████| 1/1 [00:00<00:00, 604.63it/s]\n",
      "100%|██████████| 1/1 [00:00<00:00, 858.43it/s]\n",
      "100%|██████████| 1/1 [00:00<00:00, 786.19it/s]\n",
      "100%|██████████| 1/1 [00:00<00:00, 823.06it/s]\n",
      "100%|██████████| 1/1 [00:00<00:00, 442.48it/s]\n",
      "100%|██████████| 1/1 [00:00<00:00, 628.17it/s]\n",
      "100%|██████████| 1/1 [00:00<00:00, 729.95it/s]\n",
      "100%|██████████| 1/1 [00:00<00:00, 562.69it/s]\n",
      "100%|██████████| 1/1 [00:00<00:00, 726.79it/s]\n",
      "100%|██████████| 1/1 [00:00<00:00, 679.35it/s]\n",
      "100%|██████████| 1/1 [00:00<00:00, 651.49it/s]\n",
      "100%|██████████| 1/1 [00:00<00:00, 585.47it/s]\n",
      "100%|██████████| 1/1 [00:00<00:00, 566.26it/s]\n",
      "100%|██████████| 1/1 [00:00<00:00, 759.84it/s]\n",
      "100%|██████████| 1/1 [00:00<00:00, 691.90it/s]\n",
      "100%|██████████| 1/1 [00:00<00:00, 530.79it/s]\n",
      "100%|██████████| 1/1 [00:00<00:00, 713.32it/s]\n",
      "100%|██████████| 1/1 [00:00<00:00, 748.72it/s]\n",
      "100%|██████████| 1/1 [00:00<00:00, 662.61it/s]\n",
      "100%|██████████| 1/1 [00:00<00:00, 556.79it/s]\n",
      "100%|██████████| 1/1 [00:00<00:00, 777.01it/s]\n",
      "100%|██████████| 1/1 [00:00<00:00, 481.44it/s]\n",
      "100%|██████████| 1/1 [00:00<00:00, 590.33it/s]\n",
      "100%|██████████| 1/1 [00:00<00:00, 659.59it/s]\n",
      "100%|██████████| 1/1 [00:00<00:00, 653.62it/s]\n",
      "100%|██████████| 1/1 [00:00<00:00, 649.88it/s]\n",
      "100%|██████████| 1/1 [00:00<00:00, 461.01it/s]\n",
      "100%|██████████| 1/1 [00:00<00:00, 749.12it/s]\n",
      "100%|██████████| 1/1 [00:00<00:00, 699.40it/s]\n",
      "100%|██████████| 1/1 [00:00<00:00, 737.40it/s]\n",
      "100%|██████████| 1/1 [00:00<00:00, 443.61it/s]\n",
      "100%|██████████| 1/1 [00:00<00:00, 676.17it/s]\n",
      "100%|██████████| 1/1 [00:00<00:00, 752.88it/s]\n",
      "100%|██████████| 1/1 [00:00<00:00, 599.96it/s]\n",
      "100%|██████████| 1/1 [00:00<00:00, 699.87it/s]\n",
      "100%|██████████| 1/1 [00:00<00:00, 690.53it/s]\n",
      "100%|██████████| 1/1 [00:00<00:00, 649.47it/s]\n",
      "100%|██████████| 1/1 [00:00<00:00, 649.78it/s]\n",
      "100%|██████████| 1/1 [00:00<00:00, 743.54it/s]\n",
      "100%|██████████| 1/1 [00:00<00:00, 751.94it/s]\n",
      "100%|██████████| 1/1 [00:00<00:00, 726.79it/s]\n",
      "100%|██████████| 1/1 [00:00<00:00, 727.67it/s]\n",
      "100%|██████████| 1/1 [00:00<00:00, 705.16it/s]\n",
      "100%|██████████| 1/1 [00:00<00:00, 654.95it/s]\n",
      "100%|██████████| 1/1 [00:00<00:00, 599.53it/s]\n",
      "100%|██████████| 1/1 [00:00<00:00, 625.36it/s]\n",
      "100%|██████████| 1/1 [00:00<00:00, 648.47it/s]\n",
      "100%|██████████| 1/1 [00:00<00:00, 396.70it/s]\n",
      "100%|██████████| 1/1 [00:00<00:00, 515.46it/s]\n",
      "100%|██████████| 1/1 [00:00<00:00, 682.00it/s]\n",
      "100%|██████████| 1/1 [00:00<00:00, 503.34it/s]\n",
      "100%|██████████| 1/1 [00:00<00:00, 718.45it/s]\n",
      "100%|██████████| 1/1 [00:00<00:00, 816.33it/s]\n",
      "100%|██████████| 1/1 [00:00<00:00, 664.92it/s]\n",
      "100%|██████████| 1/1 [00:00<00:00, 689.74it/s]\n",
      "100%|██████████| 1/1 [00:00<00:00, 672.49it/s]\n",
      "100%|██████████| 1/1 [00:00<00:00, 731.10it/s]\n",
      "100%|██████████| 1/1 [00:00<00:00, 566.64it/s]\n",
      "100%|██████████| 1/1 [00:00<00:00, 803.20it/s]\n",
      "100%|██████████| 1/1 [00:00<00:00, 698.93it/s]\n",
      "100%|██████████| 1/1 [00:00<00:00, 816.17it/s]\n",
      "100%|██████████| 1/1 [00:00<00:00, 813.16it/s]\n",
      "100%|██████████| 1/1 [00:00<00:00, 558.35it/s]\n",
      "100%|██████████| 1/1 [00:00<00:00, 573.70it/s]\n",
      "100%|██████████| 1/1 [00:00<00:00, 687.70it/s]\n",
      "100%|██████████| 1/1 [00:00<00:00, 732.12it/s]\n",
      "100%|██████████| 1/1 [00:00<00:00, 793.02it/s]\n",
      "100%|██████████| 1/1 [00:00<00:00, 649.27it/s]\n",
      "100%|██████████| 1/1 [00:00<00:00, 673.03it/s]\n",
      "100%|██████████| 1/1 [00:00<00:00, 674.76it/s]\n",
      "100%|██████████| 1/1 [00:00<00:00, 560.21it/s]\n",
      "100%|██████████| 1/1 [00:00<00:00, 734.81it/s]\n",
      "100%|██████████| 1/1 [00:00<00:00, 18.95it/s]\n",
      "100%|██████████| 1/1 [00:00<00:00, 547.99it/s]\n",
      "100%|██████████| 1/1 [00:00<00:00, 720.55it/s]\n",
      "100%|██████████| 1/1 [00:00<00:00, 530.79it/s]\n",
      "100%|██████████| 1/1 [00:00<00:00, 736.23it/s]\n",
      "100%|██████████| 1/1 [00:00<00:00, 730.97it/s]\n",
      "100%|██████████| 1/1 [00:00<00:00, 571.43it/s]\n",
      "100%|██████████| 1/1 [00:00<00:00, 710.66it/s]\n",
      "100%|██████████| 1/1 [00:00<00:00, 706.23it/s]\n",
      "100%|██████████| 1/1 [00:00<00:00, 552.17it/s]\n",
      "100%|██████████| 1/1 [00:00<00:00, 698.82it/s]\n",
      "100%|██████████| 1/1 [00:00<00:00, 789.29it/s]\n",
      "100%|██████████| 1/1 [00:00<00:00, 585.14it/s]\n",
      "100%|██████████| 1/1 [00:00<00:00, 735.20it/s]\n",
      "100%|██████████| 1/1 [00:00<00:00, 722.16it/s]\n",
      "100%|██████████| 1/1 [00:00<00:00, 617.63it/s]\n",
      "100%|██████████| 1/1 [00:00<00:00, 690.19it/s]\n",
      "100%|██████████| 1/1 [00:00<00:00, 679.35it/s]\n",
      "100%|██████████| 1/1 [00:00<00:00, 677.05it/s]\n",
      "100%|██████████| 1/1 [00:00<00:00, 700.69it/s]\n",
      "100%|██████████| 1/1 [00:00<00:00, 740.78it/s]\n",
      "100%|██████████| 1/1 [00:00<00:00, 635.79it/s]\n",
      "100%|██████████| 1/1 [00:00<00:00, 633.77it/s]\n",
      "100%|██████████| 1/1 [00:00<00:00, 674.76it/s]\n",
      "100%|██████████| 1/1 [00:00<00:00, 595.61it/s]\n",
      "100%|██████████| 1/1 [00:00<00:00, 713.32it/s]\n",
      "100%|██████████| 1/1 [00:00<00:00, 821.61it/s]\n",
      "100%|██████████| 1/1 [00:00<00:00, 733.65it/s]\n",
      "100%|██████████| 1/1 [00:00<00:00, 688.72it/s]\n",
      "100%|██████████| 1/1 [00:00<00:00, 668.41it/s]\n",
      "100%|██████████| 1/1 [00:00<00:00, 814.27it/s]\n",
      "100%|██████████| 1/1 [00:00<00:00, 681.23it/s]\n",
      "100%|██████████| 1/1 [00:00<00:00, 733.14it/s]\n",
      "100%|██████████| 1/1 [00:00<00:00, 591.33it/s]\n",
      "100%|██████████| 1/1 [00:00<00:00, 672.92it/s]\n",
      "100%|██████████| 1/1 [00:00<00:00, 682.67it/s]\n",
      "100%|██████████| 1/1 [00:00<00:00, 789.29it/s]\n",
      "100%|██████████| 1/1 [00:00<00:00, 707.30it/s]\n",
      "100%|██████████| 1/1 [00:00<00:00, 703.86it/s]\n",
      "100%|██████████| 1/1 [00:00<00:00, 757.50it/s]\n",
      "100%|██████████| 1/1 [00:00<00:00, 495.31it/s]\n",
      "100%|██████████| 1/1 [00:00<00:00, 433.83it/s]\n",
      "100%|██████████| 1/1 [00:00<00:00, 533.36it/s]\n",
      "100%|██████████| 1/1 [00:00<00:00, 605.68it/s]\n",
      "100%|██████████| 1/1 [00:00<00:00, 476.68it/s]\n",
      "100%|██████████| 1/1 [00:00<00:00, 640.65it/s]\n",
      "100%|██████████| 1/1 [00:00<00:00, 603.50it/s]\n",
      "100%|██████████| 1/1 [00:00<00:00, 774.00it/s]\n",
      "100%|██████████| 1/1 [00:00<00:00, 599.53it/s]\n",
      "100%|██████████| 1/1 [00:00<00:00, 762.18it/s]\n",
      "100%|██████████| 1/1 [00:00<00:00, 799.22it/s]\n",
      "100%|██████████| 1/1 [00:00<00:00, 544.36it/s]\n",
      "100%|██████████| 1/1 [00:00<00:00, 629.30it/s]\n",
      "100%|██████████| 1/1 [00:00<00:00, 715.39it/s]\n",
      "100%|██████████| 1/1 [00:00<00:00, 569.18it/s]\n",
      "100%|██████████| 1/1 [00:00<00:00, 651.90it/s]\n",
      "100%|██████████| 1/1 [00:00<00:00, 716.85it/s]\n",
      "100%|██████████| 1/1 [00:00<00:00, 545.57it/s]\n",
      "100%|██████████| 1/1 [00:00<00:00, 784.42it/s]\n",
      "100%|██████████| 1/1 [00:00<00:00, 703.74it/s]\n",
      "100%|██████████| 1/1 [00:00<00:00, 660.52it/s]\n",
      "100%|██████████| 1/1 [00:00<00:00, 699.87it/s]\n",
      "100%|██████████| 1/1 [00:00<00:00, 704.81it/s]\n",
      "100%|██████████| 1/1 [00:00<00:00, 577.09it/s]\n",
      "100%|██████████| 1/1 [00:00<00:00, 597.31it/s]\n",
      "100%|██████████| 1/1 [00:00<00:00, 772.15it/s]\n",
      "100%|██████████| 1/1 [00:00<00:00, 591.75it/s]\n",
      "100%|██████████| 1/1 [00:00<00:00, 818.56it/s]\n",
      "100%|██████████| 1/1 [00:00<00:00, 702.33it/s]\n",
      "100%|██████████| 1/1 [00:00<00:00, 413.19it/s]\n",
      "100%|██████████| 1/1 [00:00<00:00, 541.97it/s]\n",
      "100%|██████████| 1/1 [00:00<00:00, 500.04it/s]\n",
      "100%|██████████| 1/1 [00:00<00:00, 414.42it/s]\n",
      "100%|██████████| 1/1 [00:00<00:00, 478.97it/s]\n",
      "100%|██████████| 1/1 [00:00<00:00, 733.14it/s]\n",
      "100%|██████████| 1/1 [00:00<00:00, 557.09it/s]\n",
      "100%|██████████| 1/1 [00:00<00:00, 811.12it/s]\n",
      "100%|██████████| 1/1 [00:00<00:00, 711.26it/s]\n",
      "100%|██████████| 1/1 [00:00<00:00, 697.77it/s]\n",
      "100%|██████████| 1/1 [00:00<00:00, 854.76it/s]\n",
      "100%|██████████| 1/1 [00:00<00:00, 450.85it/s]\n",
      "100%|██████████| 1/1 [00:00<00:00, 769.17it/s]\n",
      "100%|██████████| 1/1 [00:00<00:00, 690.65it/s]\n",
      "100%|██████████| 1/1 [00:00<00:00, 728.94it/s]\n",
      "100%|██████████| 1/1 [00:00<00:00, 610.44it/s]\n",
      "100%|██████████| 1/1 [00:00<00:00, 725.16it/s]\n",
      "100%|██████████| 1/1 [00:00<00:00, 851.12it/s]\n",
      "100%|██████████| 1/1 [00:00<00:00, 553.05it/s]\n",
      "100%|██████████| 1/1 [00:00<00:00, 634.92it/s]\n",
      "100%|██████████| 1/1 [00:00<00:00, 614.73it/s]\n",
      "100%|██████████| 1/1 [00:00<00:00, 706.71it/s]\n",
      "100%|██████████| 1/1 [00:00<00:00, 623.04it/s]\n",
      "100%|██████████| 1/1 [00:00<00:00, 480.56it/s]\n",
      "100%|██████████| 1/1 [00:00<00:00, 735.33it/s]\n",
      "100%|██████████| 1/1 [00:00<00:00, 565.35it/s]\n",
      "100%|██████████| 1/1 [00:00<00:00, 575.03it/s]\n",
      "100%|██████████| 1/1 [00:00<00:00, 648.57it/s]\n",
      "100%|██████████| 1/1 [00:00<00:00, 600.99it/s]\n",
      "100%|██████████| 1/1 [00:00<00:00, 521.94it/s]\n",
      "100%|██████████| 1/1 [00:00<00:00, 750.86it/s]\n",
      "100%|██████████| 1/1 [00:00<00:00, 724.53it/s]\n",
      "100%|██████████| 1/1 [00:00<00:00, 785.45it/s]\n",
      "100%|██████████| 1/1 [00:00<00:00, 540.78it/s]\n",
      "100%|██████████| 1/1 [00:00<00:00, 837.35it/s]\n",
      "100%|██████████| 1/1 [00:00<00:00, 555.91it/s]\n",
      "100%|██████████| 1/1 [00:00<00:00, 701.86it/s]\n",
      "100%|██████████| 1/1 [00:00<00:00, 537.94it/s]\n",
      "100%|██████████| 1/1 [00:00<00:00, 770.87it/s]\n",
      "100%|██████████| 1/1 [00:00<00:00, 534.71it/s]\n",
      "100%|██████████| 1/1 [00:00<00:00, 533.63it/s]\n",
      "100%|██████████| 1/1 [00:00<00:00, 506.07it/s]\n",
      "100%|██████████| 1/1 [00:00<00:00, 768.61it/s]\n",
      "100%|██████████| 1/1 [00:00<00:00, 533.08it/s]\n",
      "100%|██████████| 1/1 [00:00<00:00, 581.17it/s]\n",
      "100%|██████████| 1/1 [00:00<00:00, 734.17it/s]\n",
      "100%|██████████| 1/1 [00:00<00:00, 689.17it/s]\n",
      "100%|██████████| 1/1 [00:00<00:00, 540.64it/s]\n",
      "100%|██████████| 1/1 [00:00<00:00, 580.04it/s]\n",
      "100%|██████████| 1/1 [00:00<00:00, 705.76it/s]\n",
      "100%|██████████| 1/1 [00:00<00:00, 699.28it/s]\n",
      "100%|██████████| 1/1 [00:00<00:00, 511.56it/s]\n",
      "100%|██████████| 1/1 [00:00<00:00, 343.09it/s]\n",
      "100%|██████████| 1/1 [00:00<00:00, 807.22it/s]\n",
      "100%|██████████| 1/1 [00:00<00:00, 775.14it/s]\n"
     ]
    },
    {
     "name": "stderr",
     "output_type": "stream",
     "text": [
      "100%|██████████| 1/1 [00:00<00:00, 443.61it/s]\n",
      "100%|██████████| 1/1 [00:00<00:00, 538.49it/s]\n",
      "100%|██████████| 1/1 [00:00<00:00, 664.92it/s]\n",
      "100%|██████████| 1/1 [00:00<00:00, 592.16it/s]\n",
      "100%|██████████| 1/1 [00:00<00:00, 646.87it/s]\n",
      "100%|██████████| 1/1 [00:00<00:00, 636.46it/s]\n",
      "100%|██████████| 1/1 [00:00<00:00, 595.61it/s]\n",
      "100%|██████████| 1/1 [00:00<00:00, 765.24it/s]\n",
      "100%|██████████| 1/1 [00:00<00:00, 556.50it/s]\n",
      "100%|██████████| 1/1 [00:00<00:00, 593.17it/s]\n",
      "100%|██████████| 1/1 [00:00<00:00, 760.53it/s]\n",
      "100%|██████████| 1/1 [00:00<00:00, 604.63it/s]\n",
      "100%|██████████| 1/1 [00:00<00:00, 570.19it/s]\n",
      "100%|██████████| 1/1 [00:00<00:00, 589.25it/s]\n",
      "100%|██████████| 1/1 [00:00<00:00, 744.07it/s]\n",
      "100%|██████████| 1/1 [00:00<00:00, 723.65it/s]\n",
      "100%|██████████| 1/1 [00:00<00:00, 677.48it/s]\n",
      "100%|██████████| 1/1 [00:00<00:00, 445.26it/s]\n",
      "100%|██████████| 1/1 [00:00<00:00, 836.19it/s]\n",
      "100%|██████████| 1/1 [00:00<00:00, 598.76it/s]\n",
      "100%|██████████| 1/1 [00:00<00:00, 623.50it/s]\n",
      "100%|██████████| 1/1 [00:00<00:00, 735.46it/s]\n",
      "100%|██████████| 1/1 [00:00<00:00, 578.76it/s]\n",
      "100%|██████████| 1/1 [00:00<00:00, 723.16it/s]\n",
      "100%|██████████| 1/1 [00:00<00:00, 766.78it/s]\n",
      "100%|██████████| 1/1 [00:00<00:00, 600.90it/s]\n",
      "100%|██████████| 1/1 [00:00<00:00, 593.51it/s]\n",
      "100%|██████████| 1/1 [00:00<00:00, 774.57it/s]\n",
      "100%|██████████| 1/1 [00:00<00:00, 597.73it/s]\n",
      "100%|██████████| 1/1 [00:00<00:00, 688.72it/s]\n",
      "100%|██████████| 1/1 [00:00<00:00, 710.30it/s]\n",
      "100%|██████████| 1/1 [00:00<00:00, 599.96it/s]\n",
      "100%|██████████| 1/1 [00:00<00:00, 615.00it/s]\n",
      "100%|██████████| 1/1 [00:00<00:00, 795.58it/s]\n",
      "100%|██████████| 1/1 [00:00<00:00, 621.93it/s]\n",
      "100%|██████████| 1/1 [00:00<00:00, 640.74it/s]\n",
      "100%|██████████| 1/1 [00:00<00:00, 799.22it/s]\n",
      "100%|██████████| 1/1 [00:00<00:00, 657.41it/s]\n",
      "100%|██████████| 1/1 [00:00<00:00, 717.47it/s]\n",
      "100%|██████████| 1/1 [00:00<00:00, 731.48it/s]\n",
      "100%|██████████| 1/1 [00:00<00:00, 635.79it/s]\n",
      "100%|██████████| 1/1 [00:00<00:00, 711.14it/s]\n",
      "100%|██████████| 1/1 [00:00<00:00, 739.61it/s]\n",
      "100%|██████████| 1/1 [00:00<00:00, 655.26it/s]\n",
      "100%|██████████| 1/1 [00:00<00:00, 709.70it/s]\n",
      "100%|██████████| 1/1 [00:00<00:00, 673.03it/s]\n",
      "100%|██████████| 1/1 [00:00<00:00, 658.65it/s]\n",
      "100%|██████████| 1/1 [00:00<00:00, 543.51it/s]\n",
      "100%|██████████| 1/1 [00:00<00:00, 693.85it/s]\n",
      "100%|██████████| 1/1 [00:00<00:00, 701.27it/s]\n",
      "100%|██████████| 1/1 [00:00<00:00, 616.54it/s]\n",
      "100%|██████████| 1/1 [00:00<00:00, 679.79it/s]\n",
      "100%|██████████| 1/1 [00:00<00:00, 675.74it/s]\n",
      "100%|██████████| 1/1 [00:00<00:00, 558.64it/s]\n",
      "100%|██████████| 1/1 [00:00<00:00, 645.58it/s]\n",
      "100%|██████████| 1/1 [00:00<00:00, 648.07it/s]\n",
      "100%|██████████| 1/1 [00:00<00:00, 846.82it/s]\n",
      "100%|██████████| 1/1 [00:00<00:00, 667.25it/s]\n",
      "100%|██████████| 1/1 [00:00<00:00, 675.74it/s]\n",
      "100%|██████████| 1/1 [00:00<00:00, 628.55it/s]\n",
      "100%|██████████| 1/1 [00:00<00:00, 504.55it/s]\n",
      "100%|██████████| 1/1 [00:00<00:00, 766.92it/s]\n",
      "100%|██████████| 1/1 [00:00<00:00, 536.22it/s]\n",
      "100%|██████████| 1/1 [00:00<00:00, 614.28it/s]\n",
      "100%|██████████| 1/1 [00:00<00:00, 713.20it/s]\n",
      "100%|██████████| 1/1 [00:00<00:00, 650.99it/s]\n",
      "100%|██████████| 1/1 [00:00<00:00, 497.96it/s]\n",
      "100%|██████████| 1/1 [00:00<00:00, 652.71it/s]\n",
      "100%|██████████| 1/1 [00:00<00:00, 465.05it/s]\n",
      "100%|██████████| 1/1 [00:00<00:00, 520.26it/s]\n",
      "100%|██████████| 1/1 [00:00<00:00, 603.50it/s]\n",
      "100%|██████████| 1/1 [00:00<00:00, 556.20it/s]\n",
      "100%|██████████| 1/1 [00:00<00:00, 564.97it/s]\n",
      "100%|██████████| 1/1 [00:00<00:00, 620.83it/s]\n",
      "100%|██████████| 1/1 [00:00<00:00, 406.31it/s]\n",
      "100%|██████████| 1/1 [00:00<00:00, 544.08it/s]\n",
      "100%|██████████| 1/1 [00:00<00:00, 491.65it/s]\n",
      "100%|██████████| 1/1 [00:00<00:00, 897.56it/s]\n",
      "100%|██████████| 1/1 [00:00<00:00, 619.54it/s]\n",
      "100%|██████████| 1/1 [00:00<00:00, 495.37it/s]\n",
      "100%|██████████| 1/1 [00:00<00:00, 611.24it/s]\n",
      "100%|██████████| 1/1 [00:00<00:00, 461.27it/s]\n",
      "100%|██████████| 1/1 [00:00<00:00, 566.49it/s]\n",
      "100%|██████████| 1/1 [00:00<00:00, 425.52it/s]\n",
      "100%|██████████| 1/1 [00:00<00:00, 492.81it/s]\n",
      "100%|██████████| 1/1 [00:00<00:00, 421.07it/s]\n",
      "100%|██████████| 1/1 [00:00<00:00, 411.53it/s]\n",
      "100%|██████████| 1/1 [00:00<00:00, 450.90it/s]\n",
      "100%|██████████| 1/1 [00:00<00:00, 246.30it/s]\n",
      "100%|██████████| 1/1 [00:00<00:00, 315.65it/s]\n",
      "100%|██████████| 1/1 [00:00<00:00, 250.75it/s]\n",
      "100%|██████████| 1/1 [00:00<00:00, 373.03it/s]\n",
      "100%|██████████| 1/1 [00:00<00:00, 222.07it/s]\n",
      "100%|██████████| 1/1 [00:00<00:00, 382.10it/s]\n",
      "100%|██████████| 1/1 [00:00<00:00, 266.36it/s]\n",
      "100%|██████████| 1/1 [00:00<00:00, 356.90it/s]\n",
      "100%|██████████| 1/1 [00:00<00:00, 402.22it/s]\n",
      "100%|██████████| 1/1 [00:00<00:00, 565.96it/s]\n",
      "100%|██████████| 1/1 [00:00<00:00, 327.88it/s]\n",
      "100%|██████████| 1/1 [00:00<00:00, 239.40it/s]\n",
      "100%|██████████| 1/1 [00:00<00:00, 381.09it/s]\n",
      "100%|██████████| 1/1 [00:00<00:00, 221.24it/s]\n",
      "100%|██████████| 1/1 [00:00<00:00, 332.43it/s]\n",
      "100%|██████████| 1/1 [00:00<00:00, 225.17it/s]\n",
      "100%|██████████| 1/1 [00:00<00:00, 278.80it/s]\n",
      "100%|██████████| 1/1 [00:00<00:00, 219.92it/s]\n",
      "100%|██████████| 1/1 [00:00<00:00, 289.28it/s]\n",
      "100%|██████████| 1/1 [00:00<00:00, 249.25it/s]\n",
      "100%|██████████| 1/1 [00:00<00:00, 305.73it/s]\n",
      "100%|██████████| 1/1 [00:00<00:00, 189.33it/s]\n",
      "100%|██████████| 1/1 [00:00<00:00, 192.68it/s]\n",
      "100%|██████████| 1/1 [00:00<00:00, 237.88it/s]\n",
      "100%|██████████| 1/1 [00:00<00:00, 328.42it/s]\n",
      "100%|██████████| 1/1 [00:00<00:00, 910.02it/s]\n",
      "100%|██████████| 1/1 [00:00<00:00, 716.24it/s]\n",
      "100%|██████████| 1/1 [00:00<00:00, 496.48it/s]\n",
      "100%|██████████| 1/1 [00:00<00:00, 774.00it/s]\n",
      "100%|██████████| 1/1 [00:00<00:00, 654.44it/s]\n",
      "100%|██████████| 1/1 [00:00<00:00, 662.19it/s]\n",
      "100%|██████████| 1/1 [00:00<00:00, 866.41it/s]\n",
      "100%|██████████| 1/1 [00:00<00:00, 637.34it/s]\n",
      "100%|██████████| 1/1 [00:00<00:00, 654.85it/s]\n",
      "100%|██████████| 1/1 [00:00<00:00, 735.97it/s]\n",
      "100%|██████████| 1/1 [00:00<00:00, 654.44it/s]\n",
      "100%|██████████| 1/1 [00:00<00:00, 715.87it/s]\n",
      "100%|██████████| 1/1 [00:00<00:00, 648.17it/s]\n",
      "100%|██████████| 1/1 [00:00<00:00, 738.56it/s]\n",
      "100%|██████████| 1/1 [00:00<00:00, 577.41it/s]\n",
      "100%|██████████| 1/1 [00:00<00:00, 765.66it/s]\n",
      "100%|██████████| 1/1 [00:00<00:00, 657.52it/s]\n",
      "100%|██████████| 1/1 [00:00<00:00, 806.44it/s]\n",
      "100%|██████████| 1/1 [00:00<00:00, 571.43it/s]\n",
      "100%|██████████| 1/1 [00:00<00:00, 625.83it/s]\n",
      "100%|██████████| 1/1 [00:00<00:00, 558.05it/s]\n",
      "100%|██████████| 1/1 [00:00<00:00, 815.70it/s]\n",
      "100%|██████████| 1/1 [00:00<00:00, 721.54it/s]\n",
      "100%|██████████| 1/1 [00:00<00:00, 664.81it/s]\n",
      "100%|██████████| 1/1 [00:00<00:00, 702.80it/s]\n",
      "100%|██████████| 1/1 [00:00<00:00, 774.00it/s]\n",
      "100%|██████████| 1/1 [00:00<00:00, 682.56it/s]\n",
      "100%|██████████| 1/1 [00:00<00:00, 728.18it/s]\n",
      "100%|██████████| 1/1 [00:00<00:00, 672.38it/s]\n",
      "100%|██████████| 1/1 [00:00<00:00, 632.91it/s]\n",
      "100%|██████████| 1/1 [00:00<00:00, 668.41it/s]\n",
      "100%|██████████| 1/1 [00:00<00:00, 796.64it/s]\n",
      "100%|██████████| 1/1 [00:00<00:00, 648.57it/s]\n",
      "100%|██████████| 1/1 [00:00<00:00, 616.54it/s]\n",
      "100%|██████████| 1/1 [00:00<00:00, 685.46it/s]\n",
      "100%|██████████| 1/1 [00:00<00:00, 667.56it/s]\n",
      "100%|██████████| 1/1 [00:00<00:00, 667.56it/s]\n",
      "100%|██████████| 1/1 [00:00<00:00, 740.13it/s]\n",
      "100%|██████████| 1/1 [00:00<00:00, 596.97it/s]\n",
      "100%|██████████| 1/1 [00:00<00:00, 744.60it/s]\n",
      "100%|██████████| 1/1 [00:00<00:00, 685.90it/s]\n",
      "100%|██████████| 1/1 [00:00<00:00, 708.62it/s]\n",
      "100%|██████████| 1/1 [00:00<00:00, 758.74it/s]\n",
      "100%|██████████| 1/1 [00:00<00:00, 805.67it/s]\n",
      "100%|██████████| 1/1 [00:00<00:00, 621.10it/s]\n",
      "100%|██████████| 1/1 [00:00<00:00, 751.94it/s]\n",
      "100%|██████████| 1/1 [00:00<00:00, 740.00it/s]\n",
      "100%|██████████| 1/1 [00:00<00:00, 675.19it/s]\n",
      "100%|██████████| 1/1 [00:00<00:00, 782.52it/s]\n",
      "100%|██████████| 1/1 [00:00<00:00, 708.62it/s]\n",
      "100%|██████████| 1/1 [00:00<00:00, 693.16it/s]\n",
      "100%|██████████| 1/1 [00:00<00:00, 727.93it/s]\n",
      "100%|██████████| 1/1 [00:00<00:00, 679.35it/s]\n",
      "100%|██████████| 1/1 [00:00<00:00, 843.92it/s]\n",
      "100%|██████████| 1/1 [00:00<00:00, 758.19it/s]\n",
      "100%|██████████| 1/1 [00:00<00:00, 717.47it/s]\n",
      "100%|██████████| 1/1 [00:00<00:00, 766.78it/s]\n",
      "100%|██████████| 1/1 [00:00<00:00, 604.98it/s]\n",
      "100%|██████████| 1/1 [00:00<00:00, 605.76it/s]\n",
      "100%|██████████| 1/1 [00:00<00:00, 566.87it/s]\n",
      "100%|██████████| 1/1 [00:00<00:00, 615.36it/s]\n",
      "100%|██████████| 1/1 [00:00<00:00, 651.09it/s]\n",
      "100%|██████████| 1/1 [00:00<00:00, 660.94it/s]\n",
      "100%|██████████| 1/1 [00:00<00:00, 615.09it/s]\n",
      "100%|██████████| 1/1 [00:00<00:00, 569.49it/s]\n",
      "100%|██████████| 1/1 [00:00<00:00, 684.45it/s]\n",
      "100%|██████████| 1/1 [00:00<00:00, 710.78it/s]\n",
      "100%|██████████| 1/1 [00:00<00:00, 408.96it/s]\n",
      "100%|██████████| 1/1 [00:00<00:00, 674.00it/s]\n",
      "100%|██████████| 1/1 [00:00<00:00, 768.05it/s]\n",
      "100%|██████████| 1/1 [00:00<00:00, 659.38it/s]\n",
      "100%|██████████| 1/1 [00:00<00:00, 599.87it/s]\n",
      "100%|██████████| 1/1 [00:00<00:00, 607.96it/s]\n",
      "100%|██████████| 1/1 [00:00<00:00, 622.67it/s]\n",
      "100%|██████████| 1/1 [00:00<00:00, 686.92it/s]\n",
      "100%|██████████| 1/1 [00:00<00:00, 694.88it/s]\n",
      "100%|██████████| 1/1 [00:00<00:00, 660.10it/s]\n",
      "100%|██████████| 1/1 [00:00<00:00, 792.87it/s]\n",
      "100%|██████████| 1/1 [00:00<00:00, 625.64it/s]\n",
      "100%|██████████| 1/1 [00:00<00:00, 726.79it/s]\n",
      "100%|██████████| 1/1 [00:00<00:00, 709.22it/s]\n",
      "100%|██████████| 1/1 [00:00<00:00, 524.62it/s]\n",
      "100%|██████████| 1/1 [00:00<00:00, 667.56it/s]\n",
      "100%|██████████| 1/1 [00:00<00:00, 595.53it/s]\n",
      "100%|██████████| 1/1 [00:00<00:00, 662.82it/s]\n",
      "100%|██████████| 1/1 [00:00<00:00, 578.37it/s]\n",
      "100%|██████████| 1/1 [00:00<00:00, 670.23it/s]\n",
      "100%|██████████| 1/1 [00:00<00:00, 680.78it/s]\n",
      "100%|██████████| 1/1 [00:00<00:00, 683.11it/s]\n",
      "100%|██████████| 1/1 [00:00<00:00, 745.79it/s]\n",
      "100%|██████████| 1/1 [00:00<00:00, 580.77it/s]\n",
      "100%|██████████| 1/1 [00:00<00:00, 677.59it/s]\n",
      "100%|██████████| 1/1 [00:00<00:00, 660.21it/s]\n",
      "100%|██████████| 1/1 [00:00<00:00, 735.71it/s]\n",
      "100%|██████████| 1/1 [00:00<00:00, 606.81it/s]\n",
      "100%|██████████| 1/1 [00:00<00:00, 561.19it/s]\n",
      "100%|██████████| 1/1 [00:00<00:00, 559.24it/s]\n",
      "100%|██████████| 1/1 [00:00<00:00, 566.26it/s]\n",
      "100%|██████████| 1/1 [00:00<00:00, 556.42it/s]\n",
      "100%|██████████| 1/1 [00:00<00:00, 666.29it/s]\n",
      "100%|██████████| 1/1 [00:00<00:00, 719.93it/s]\n",
      "100%|██████████| 1/1 [00:00<00:00, 633.68it/s]\n",
      "100%|██████████| 1/1 [00:00<00:00, 632.05it/s]\n",
      "100%|██████████| 1/1 [00:00<00:00, 709.70it/s]\n",
      "100%|██████████| 1/1 [00:00<00:00, 553.63it/s]\n",
      "100%|██████████| 1/1 [00:00<00:00, 645.97it/s]\n",
      "100%|██████████| 1/1 [00:00<00:00, 709.70it/s]\n",
      "100%|██████████| 1/1 [00:00<00:00, 768.05it/s]\n",
      "100%|██████████| 1/1 [00:00<00:00, 672.92it/s]\n",
      "100%|██████████| 1/1 [00:00<00:00, 603.84it/s]\n",
      "100%|██████████| 1/1 [00:00<00:00, 637.34it/s]\n",
      "100%|██████████| 1/1 [00:00<00:00, 698.82it/s]\n",
      "100%|██████████| 1/1 [00:00<00:00, 755.87it/s]\n",
      "100%|██████████| 1/1 [00:00<00:00, 626.95it/s]\n",
      "100%|██████████| 1/1 [00:00<00:00, 513.57it/s]\n",
      "100%|██████████| 1/1 [00:00<00:00, 778.31it/s]\n",
      "100%|██████████| 1/1 [00:00<00:00, 684.90it/s]\n",
      "100%|██████████| 1/1 [00:00<00:00, 709.70it/s]\n",
      "100%|██████████| 1/1 [00:00<00:00, 554.66it/s]\n",
      "100%|██████████| 1/1 [00:00<00:00, 598.84it/s]\n",
      "100%|██████████| 1/1 [00:00<00:00, 657.41it/s]\n",
      "100%|██████████| 1/1 [00:00<00:00, 580.69it/s]\n",
      "100%|██████████| 1/1 [00:00<00:00, 672.38it/s]\n",
      "100%|██████████| 1/1 [00:00<00:00, 598.84it/s]\n",
      "100%|██████████| 1/1 [00:00<00:00, 543.73it/s]\n",
      "100%|██████████| 1/1 [00:00<00:00, 686.92it/s]\n",
      "100%|██████████| 1/1 [00:00<00:00, 663.13it/s]\n",
      "100%|██████████| 1/1 [00:00<00:00, 727.29it/s]\n",
      "100%|██████████| 1/1 [00:00<00:00, 682.56it/s]\n",
      "100%|██████████| 1/1 [00:00<00:00, 440.53it/s]\n",
      "100%|██████████| 1/1 [00:00<00:00, 615.09it/s]\n",
      "100%|██████████| 1/1 [00:00<00:00, 686.69it/s]\n",
      "100%|██████████| 1/1 [00:00<00:00, 676.50it/s]\n",
      "100%|██████████| 1/1 [00:00<00:00, 636.46it/s]\n",
      "100%|██████████| 1/1 [00:00<00:00, 615.36it/s]\n",
      "100%|██████████| 1/1 [00:00<00:00, 565.57it/s]\n",
      "100%|██████████| 1/1 [00:00<00:00, 733.65it/s]\n",
      "100%|██████████| 1/1 [00:00<00:00, 693.16it/s]\n",
      "100%|██████████| 1/1 [00:00<00:00, 879.49it/s]\n",
      "100%|██████████| 1/1 [00:00<00:00, 728.81it/s]\n",
      "100%|██████████| 1/1 [00:00<00:00, 550.65it/s]\n",
      "100%|██████████| 1/1 [00:00<00:00, 694.42it/s]\n",
      "100%|██████████| 1/1 [00:00<00:00, 737.01it/s]\n",
      "100%|██████████| 1/1 [00:00<00:00, 408.52it/s]\n",
      "100%|██████████| 1/1 [00:00<00:00, 730.97it/s]\n",
      "100%|██████████| 1/1 [00:00<00:00, 717.22it/s]\n",
      "100%|██████████| 1/1 [00:00<00:00, 634.06it/s]\n",
      "100%|██████████| 1/1 [00:00<00:00, 348.54it/s]\n",
      "100%|██████████| 1/1 [00:00<00:00, 304.51it/s]\n",
      "100%|██████████| 1/1 [00:00<00:00, 577.33it/s]\n",
      "100%|██████████| 1/1 [00:00<00:00, 574.01it/s]\n",
      "100%|██████████| 1/1 [00:00<00:00, 502.43it/s]\n",
      "100%|██████████| 1/1 [00:00<00:00, 403.41it/s]\n",
      "100%|██████████| 1/1 [00:00<00:00, 470.37it/s]\n",
      "100%|██████████| 1/1 [00:00<00:00, 470.79it/s]\n",
      "100%|██████████| 1/1 [00:00<00:00, 761.49it/s]\n",
      "100%|██████████| 1/1 [00:00<00:00, 515.97it/s]\n",
      "100%|██████████| 1/1 [00:00<00:00, 415.77it/s]\n",
      "100%|██████████| 1/1 [00:00<00:00, 500.75it/s]\n",
      "100%|██████████| 1/1 [00:00<00:00, 727.93it/s]\n",
      "100%|██████████| 1/1 [00:00<00:00, 451.73it/s]\n",
      "100%|██████████| 1/1 [00:00<00:00, 534.17it/s]\n",
      "100%|██████████| 1/1 [00:00<00:00, 465.98it/s]\n",
      "100%|██████████| 1/1 [00:00<00:00, 660.52it/s]\n",
      "100%|██████████| 1/1 [00:00<00:00, 635.79it/s]\n",
      "100%|██████████| 1/1 [00:00<00:00, 503.82it/s]\n",
      "100%|██████████| 1/1 [00:00<00:00, 487.31it/s]\n",
      "100%|██████████| 1/1 [00:00<00:00, 506.86it/s]\n",
      "100%|██████████| 1/1 [00:00<00:00, 455.75it/s]\n",
      "100%|██████████| 1/1 [00:00<00:00, 722.04it/s]\n",
      "100%|██████████| 1/1 [00:00<00:00, 783.69it/s]\n",
      "100%|██████████| 1/1 [00:00<00:00, 350.02it/s]\n",
      "100%|██████████| 1/1 [00:00<00:00, 508.89it/s]\n",
      "100%|██████████| 1/1 [00:00<00:00, 429.92it/s]\n",
      "100%|██████████| 1/1 [00:00<00:00, 307.70it/s]\n",
      "100%|██████████| 1/1 [00:00<00:00, 379.64it/s]\n",
      "100%|██████████| 1/1 [00:00<00:00, 443.51it/s]\n",
      "100%|██████████| 1/1 [00:00<00:00, 520.51it/s]\n",
      "100%|██████████| 1/1 [00:00<00:00, 385.51it/s]\n",
      "100%|██████████| 1/1 [00:00<00:00, 373.82it/s]\n",
      "100%|██████████| 1/1 [00:00<00:00, 424.40it/s]\n",
      "100%|██████████| 1/1 [00:00<00:00, 385.83it/s]\n",
      "100%|██████████| 1/1 [00:00<00:00, 469.90it/s]\n",
      "100%|██████████| 1/1 [00:00<00:00, 356.39it/s]\n",
      "100%|██████████| 1/1 [00:00<00:00, 411.17it/s]\n",
      "100%|██████████| 1/1 [00:00<00:00, 536.42it/s]\n",
      "100%|██████████| 1/1 [00:00<00:00, 316.17it/s]\n",
      "100%|██████████| 1/1 [00:00<00:00, 347.84it/s]\n",
      "100%|██████████| 1/1 [00:00<00:00, 472.12it/s]\n",
      "100%|██████████| 1/1 [00:00<00:00, 336.38it/s]\n",
      "100%|██████████| 1/1 [00:00<00:00, 541.69it/s]\n",
      "100%|██████████| 1/1 [00:00<00:00, 463.36it/s]\n",
      "100%|██████████| 1/1 [00:00<00:00, 443.84it/s]\n",
      "100%|██████████| 1/1 [00:00<00:00, 415.48it/s]\n",
      "100%|██████████| 1/1 [00:00<00:00, 315.60it/s]\n",
      "100%|██████████| 1/1 [00:00<00:00, 436.50it/s]\n",
      "100%|██████████| 1/1 [00:00<00:00, 277.07it/s]\n",
      "100%|██████████| 1/1 [00:00<00:00, 316.26it/s]\n",
      "100%|██████████| 1/1 [00:00<00:00, 290.85it/s]\n",
      "100%|██████████| 1/1 [00:00<00:00, 374.39it/s]\n",
      "100%|██████████| 1/1 [00:00<00:00, 270.93it/s]\n",
      "100%|██████████| 1/1 [00:00<00:00, 314.06it/s]\n",
      "100%|██████████| 1/1 [00:00<00:00, 192.90it/s]\n",
      "100%|██████████| 1/1 [00:00<00:00, 320.00it/s]\n",
      "100%|██████████| 1/1 [00:00<00:00, 283.76it/s]\n",
      "100%|██████████| 1/1 [00:00<00:00, 250.30it/s]\n",
      "100%|██████████| 1/1 [00:00<00:00, 337.98it/s]\n",
      "100%|██████████| 1/1 [00:00<00:00, 260.63it/s]\n",
      "100%|██████████| 1/1 [00:00<00:00, 210.89it/s]\n",
      "100%|██████████| 1/1 [00:00<00:00, 161.75it/s]\n",
      "100%|██████████| 1/1 [00:00<00:00, 202.88it/s]\n",
      "100%|██████████| 1/1 [00:00<00:00, 220.22it/s]\n",
      "100%|██████████| 1/1 [00:00<00:00, 431.02it/s]\n",
      "100%|██████████| 1/1 [00:00<00:00, 614.19it/s]\n",
      "100%|██████████| 1/1 [00:00<00:00, 612.40it/s]\n",
      "100%|██████████| 1/1 [00:00<00:00, 643.50it/s]\n",
      "100%|██████████| 1/1 [00:00<00:00, 806.29it/s]\n",
      "100%|██████████| 1/1 [00:00<00:00, 600.56it/s]\n",
      "100%|██████████| 1/1 [00:00<00:00, 694.42it/s]\n",
      "100%|██████████| 1/1 [00:00<00:00, 661.77it/s]\n",
      "100%|██████████| 1/1 [00:00<00:00, 536.15it/s]\n",
      "100%|██████████| 1/1 [00:00<00:00, 654.03it/s]\n",
      "100%|██████████| 1/1 [00:00<00:00, 748.45it/s]\n",
      "100%|██████████| 1/1 [00:00<00:00, 524.62it/s]\n",
      "100%|██████████| 1/1 [00:00<00:00, 632.53it/s]\n",
      "100%|██████████| 1/1 [00:00<00:00, 853.89it/s]\n",
      "100%|██████████| 1/1 [00:00<00:00, 565.27it/s]\n",
      "100%|██████████| 1/1 [00:00<00:00, 712.83it/s]\n",
      "100%|██████████| 1/1 [00:00<00:00, 840.37it/s]\n",
      "100%|██████████| 1/1 [00:00<00:00, 518.65it/s]\n",
      "100%|██████████| 1/1 [00:00<00:00, 729.32it/s]\n",
      "100%|██████████| 1/1 [00:00<00:00, 798.15it/s]\n",
      "100%|██████████| 1/1 [00:00<00:00, 547.99it/s]\n",
      "100%|██████████| 1/1 [00:00<00:00, 657.11it/s]\n",
      "100%|██████████| 1/1 [00:00<00:00, 810.96it/s]\n"
     ]
    },
    {
     "name": "stderr",
     "output_type": "stream",
     "text": [
      "100%|██████████| 1/1 [00:00<00:00, 634.92it/s]\n",
      "100%|██████████| 1/1 [00:00<00:00, 817.76it/s]\n",
      "100%|██████████| 1/1 [00:00<00:00, 640.16it/s]\n",
      "100%|██████████| 1/1 [00:00<00:00, 513.06it/s]\n",
      "100%|██████████| 1/1 [00:00<00:00, 674.33it/s]\n",
      "100%|██████████| 1/1 [00:00<00:00, 751.80it/s]\n",
      "100%|██████████| 1/1 [00:00<00:00, 647.27it/s]\n",
      "100%|██████████| 1/1 [00:00<00:00, 701.74it/s]\n",
      "100%|██████████| 1/1 [00:00<00:00, 746.32it/s]\n",
      "100%|██████████| 1/1 [00:00<00:00, 523.24it/s]\n",
      "100%|██████████| 1/1 [00:00<00:00, 680.23it/s]\n",
      "100%|██████████| 1/1 [00:00<00:00, 620.73it/s]\n",
      "100%|██████████| 1/1 [00:00<00:00, 519.42it/s]\n",
      "100%|██████████| 1/1 [00:00<00:00, 613.83it/s]\n",
      "100%|██████████| 1/1 [00:00<00:00, 599.53it/s]\n",
      "100%|██████████| 1/1 [00:00<00:00, 723.65it/s]\n",
      "100%|██████████| 1/1 [00:00<00:00, 793.62it/s]\n",
      "100%|██████████| 1/1 [00:00<00:00, 710.78it/s]\n",
      "100%|██████████| 1/1 [00:00<00:00, 677.48it/s]\n",
      "100%|██████████| 1/1 [00:00<00:00, 692.47it/s]\n",
      "100%|██████████| 1/1 [00:00<00:00, 641.33it/s]\n",
      "100%|██████████| 1/1 [00:00<00:00, 418.76it/s]\n",
      "100%|██████████| 1/1 [00:00<00:00, 696.38it/s]\n",
      "100%|██████████| 1/1 [00:00<00:00, 842.57it/s]\n",
      "100%|██████████| 1/1 [00:00<00:00, 597.31it/s]\n",
      "100%|██████████| 1/1 [00:00<00:00, 450.85it/s]\n",
      "100%|██████████| 1/1 [00:00<00:00, 595.27it/s]\n",
      "100%|██████████| 1/1 [00:00<00:00, 671.63it/s]\n",
      "100%|██████████| 1/1 [00:00<00:00, 569.11it/s]\n",
      "100%|██████████| 1/1 [00:00<00:00, 634.16it/s]\n",
      "100%|██████████| 1/1 [00:00<00:00, 643.10it/s]\n",
      "100%|██████████| 1/1 [00:00<00:00, 657.52it/s]\n",
      "100%|██████████| 1/1 [00:00<00:00, 689.17it/s]\n",
      "100%|██████████| 1/1 [00:00<00:00, 835.35it/s]\n",
      "100%|██████████| 1/1 [00:00<00:00, 653.62it/s]\n",
      "100%|██████████| 1/1 [00:00<00:00, 682.56it/s]\n",
      "100%|██████████| 1/1 [00:00<00:00, 746.32it/s]\n",
      "100%|██████████| 1/1 [00:00<00:00, 611.95it/s]\n",
      "100%|██████████| 1/1 [00:00<00:00, 411.89it/s]\n",
      "100%|██████████| 1/1 [00:00<00:00, 587.60it/s]\n",
      "100%|██████████| 1/1 [00:00<00:00, 645.48it/s]\n",
      "100%|██████████| 1/1 [00:00<00:00, 723.16it/s]\n",
      "100%|██████████| 1/1 [00:00<00:00, 649.37it/s]\n",
      "100%|██████████| 1/1 [00:00<00:00, 689.17it/s]\n",
      "100%|██████████| 1/1 [00:00<00:00, 829.08it/s]\n",
      "100%|██████████| 1/1 [00:00<00:00, 590.00it/s]\n",
      "100%|██████████| 1/1 [00:00<00:00, 756.41it/s]\n",
      "100%|██████████| 1/1 [00:00<00:00, 671.20it/s]\n",
      "100%|██████████| 1/1 [00:00<00:00, 616.90it/s]\n",
      "100%|██████████| 1/1 [00:00<00:00, 586.21it/s]\n",
      "100%|██████████| 1/1 [00:00<00:00, 559.24it/s]\n",
      "100%|██████████| 1/1 [00:00<00:00, 728.43it/s]\n",
      "100%|██████████| 1/1 [00:00<00:00, 706.83it/s]\n",
      "100%|██████████| 1/1 [00:00<00:00, 483.77it/s]\n",
      "100%|██████████| 1/1 [00:00<00:00, 711.26it/s]\n",
      "100%|██████████| 1/1 [00:00<00:00, 692.02it/s]\n",
      "100%|██████████| 1/1 [00:00<00:00, 667.03it/s]\n",
      "100%|██████████| 1/1 [00:00<00:00, 772.29it/s]\n",
      "100%|██████████| 1/1 [00:00<00:00, 485.23it/s]\n",
      "100%|██████████| 1/1 [00:00<00:00, 601.33it/s]\n",
      "100%|██████████| 1/1 [00:00<00:00, 697.31it/s]\n",
      "100%|██████████| 1/1 [00:00<00:00, 726.66it/s]\n",
      "100%|██████████| 1/1 [00:00<00:00, 724.66it/s]\n",
      "100%|██████████| 1/1 [00:00<00:00, 592.00it/s]\n",
      "100%|██████████| 1/1 [00:00<00:00, 519.80it/s]\n",
      "100%|██████████| 1/1 [00:00<00:00, 686.24it/s]\n",
      "100%|██████████| 1/1 [00:00<00:00, 683.89it/s]\n",
      "100%|██████████| 1/1 [00:00<00:00, 487.82it/s]\n",
      "100%|██████████| 1/1 [00:00<00:00, 873.27it/s]\n",
      "100%|██████████| 1/1 [00:00<00:00, 725.66it/s]\n",
      "100%|██████████| 1/1 [00:00<00:00, 515.71it/s]\n",
      "100%|██████████| 1/1 [00:00<00:00, 713.20it/s]\n",
      "100%|██████████| 1/1 [00:00<00:00, 712.83it/s]\n",
      "100%|██████████| 1/1 [00:00<00:00, 659.59it/s]\n",
      "100%|██████████| 1/1 [00:00<00:00, 692.93it/s]\n",
      "100%|██████████| 1/1 [00:00<00:00, 652.71it/s]\n",
      "100%|██████████| 1/1 [00:00<00:00, 703.27it/s]\n",
      "100%|██████████| 1/1 [00:00<00:00, 570.81it/s]\n",
      "100%|██████████| 1/1 [00:00<00:00, 578.05it/s]\n",
      "100%|██████████| 1/1 [00:00<00:00, 576.30it/s]\n",
      "100%|██████████| 1/1 [00:00<00:00, 616.08it/s]\n",
      "100%|██████████| 1/1 [00:00<00:00, 647.67it/s]\n",
      "100%|██████████| 1/1 [00:00<00:00, 582.06it/s]\n",
      "100%|██████████| 1/1 [00:00<00:00, 687.25it/s]\n",
      "100%|██████████| 1/1 [00:00<00:00, 613.11it/s]\n",
      "100%|██████████| 1/1 [00:00<00:00, 728.81it/s]\n",
      "100%|██████████| 1/1 [00:00<00:00, 838.86it/s]\n",
      "100%|██████████| 1/1 [00:00<00:00, 766.78it/s]\n",
      "100%|██████████| 1/1 [00:00<00:00, 478.91it/s]\n",
      "100%|██████████| 1/1 [00:00<00:00, 714.78it/s]\n",
      "100%|██████████| 1/1 [00:00<00:00, 779.90it/s]\n",
      "100%|██████████| 1/1 [00:00<00:00, 664.50it/s]\n",
      "100%|██████████| 1/1 [00:00<00:00, 693.50it/s]\n",
      "100%|██████████| 1/1 [00:00<00:00, 667.03it/s]\n",
      "100%|██████████| 1/1 [00:00<00:00, 593.51it/s]\n",
      "100%|██████████| 1/1 [00:00<00:00, 733.65it/s]\n",
      "100%|██████████| 1/1 [00:00<00:00, 653.22it/s]\n",
      "100%|██████████| 1/1 [00:00<00:00, 564.36it/s]\n",
      "100%|██████████| 1/1 [00:00<00:00, 855.46it/s]\n",
      "100%|██████████| 1/1 [00:00<00:00, 505.58it/s]\n",
      "100%|██████████| 1/1 [00:00<00:00, 780.05it/s]\n",
      "100%|██████████| 1/1 [00:00<00:00, 356.99it/s]\n",
      "100%|██████████| 1/1 [00:00<00:00, 508.40it/s]\n",
      "100%|██████████| 1/1 [00:00<00:00, 739.74it/s]\n",
      "100%|██████████| 1/1 [00:00<00:00, 744.07it/s]\n",
      "100%|██████████| 1/1 [00:00<00:00, 585.47it/s]\n",
      "100%|██████████| 1/1 [00:00<00:00, 664.50it/s]\n",
      "100%|██████████| 1/1 [00:00<00:00, 594.52it/s]\n",
      "100%|██████████| 1/1 [00:00<00:00, 741.44it/s]\n",
      "100%|██████████| 1/1 [00:00<00:00, 812.22it/s]\n",
      "100%|██████████| 1/1 [00:00<00:00, 602.46it/s]\n",
      "100%|██████████| 1/1 [00:00<00:00, 667.03it/s]\n",
      "100%|██████████| 1/1 [00:00<00:00, 879.49it/s]\n",
      "100%|██████████| 1/1 [00:00<00:00, 629.02it/s]\n",
      "100%|██████████| 1/1 [00:00<00:00, 652.30it/s]\n",
      "100%|██████████| 1/1 [00:00<00:00, 744.99it/s]\n",
      "100%|██████████| 1/1 [00:00<00:00, 563.98it/s]\n",
      "100%|██████████| 1/1 [00:00<00:00, 740.13it/s]\n",
      "100%|██████████| 1/1 [00:00<00:00, 721.54it/s]\n",
      "100%|██████████| 1/1 [00:00<00:00, 589.25it/s]\n",
      "100%|██████████| 1/1 [00:00<00:00, 670.55it/s]\n",
      "100%|██████████| 1/1 [00:00<00:00, 552.46it/s]\n",
      "100%|██████████| 1/1 [00:00<00:00, 555.54it/s]\n",
      "100%|██████████| 1/1 [00:00<00:00, 600.90it/s]\n",
      "100%|██████████| 1/1 [00:00<00:00, 484.72it/s]\n",
      "100%|██████████| 1/1 [00:00<00:00, 714.17it/s]\n",
      "100%|██████████| 1/1 [00:00<00:00, 691.44it/s]\n",
      "100%|██████████| 1/1 [00:00<00:00, 577.33it/s]\n",
      "100%|██████████| 1/1 [00:00<00:00, 724.66it/s]\n",
      "100%|██████████| 1/1 [00:00<00:00, 721.04it/s]\n",
      "100%|██████████| 1/1 [00:00<00:00, 491.89it/s]\n",
      "100%|██████████| 1/1 [00:00<00:00, 696.03it/s]\n",
      "100%|██████████| 1/1 [00:00<00:00, 510.75it/s]\n",
      "100%|██████████| 1/1 [00:00<00:00, 600.90it/s]\n",
      "100%|██████████| 1/1 [00:00<00:00, 687.25it/s]\n",
      "100%|██████████| 1/1 [00:00<00:00, 498.02it/s]\n",
      "100%|██████████| 1/1 [00:00<00:00, 565.35it/s]\n",
      "100%|██████████| 1/1 [00:00<00:00, 597.73it/s]\n",
      "100%|██████████| 1/1 [00:00<00:00, 480.78it/s]\n",
      "100%|██████████| 1/1 [00:00<00:00, 566.87it/s]\n",
      "100%|██████████| 1/1 [00:00<00:00, 515.71it/s]\n",
      "100%|██████████| 1/1 [00:00<00:00, 607.87it/s]\n",
      "100%|██████████| 1/1 [00:00<00:00, 475.98it/s]\n",
      "100%|██████████| 1/1 [00:00<00:00, 608.31it/s]\n",
      "100%|██████████| 1/1 [00:00<00:00, 578.37it/s]\n",
      "100%|██████████| 1/1 [00:00<00:00, 489.93it/s]\n",
      "100%|██████████| 1/1 [00:00<00:00, 633.77it/s]\n",
      "100%|██████████| 1/1 [00:00<00:00, 781.94it/s]\n",
      "100%|██████████| 1/1 [00:00<00:00, 586.78it/s]\n",
      "100%|██████████| 1/1 [00:00<00:00, 541.20it/s]\n",
      "100%|██████████| 1/1 [00:00<00:00, 471.96it/s]\n",
      "100%|██████████| 1/1 [00:00<00:00, 526.33it/s]\n",
      "100%|██████████| 1/1 [00:00<00:00, 632.05it/s]\n",
      "100%|██████████| 1/1 [00:00<00:00, 602.11it/s]\n",
      "100%|██████████| 1/1 [00:00<00:00, 884.13it/s]\n",
      "100%|██████████| 1/1 [00:00<00:00, 467.75it/s]\n",
      "100%|██████████| 1/1 [00:00<00:00, 562.39it/s]\n",
      "100%|██████████| 1/1 [00:00<00:00, 727.80it/s]\n",
      "100%|██████████| 1/1 [00:00<00:00, 641.43it/s]\n",
      "100%|██████████| 1/1 [00:00<00:00, 706.23it/s]\n",
      "100%|██████████| 1/1 [00:00<00:00, 775.14it/s]\n",
      "100%|██████████| 1/1 [00:00<00:00, 631.77it/s]\n",
      "100%|██████████| 1/1 [00:00<00:00, 675.63it/s]\n",
      "100%|██████████| 1/1 [00:00<00:00, 674.22it/s]\n",
      "100%|██████████| 1/1 [00:00<00:00, 644.39it/s]\n",
      "100%|██████████| 1/1 [00:00<00:00, 632.53it/s]\n",
      "100%|██████████| 1/1 [00:00<00:00, 638.50it/s]\n",
      "100%|██████████| 1/1 [00:00<00:00, 532.75it/s]\n",
      "100%|██████████| 1/1 [00:00<00:00, 694.42it/s]\n",
      "100%|██████████| 1/1 [00:00<00:00, 617.26it/s]\n",
      "100%|██████████| 1/1 [00:00<00:00, 514.70it/s]\n",
      "100%|██████████| 1/1 [00:00<00:00, 713.20it/s]\n",
      "100%|██████████| 1/1 [00:00<00:00, 816.33it/s]\n",
      "100%|██████████| 1/1 [00:00<00:00, 586.86it/s]\n",
      "100%|██████████| 1/1 [00:00<00:00, 825.00it/s]\n",
      "100%|██████████| 1/1 [00:00<00:00, 454.32it/s]\n",
      "100%|██████████| 1/1 [00:00<00:00, 610.61it/s]\n",
      "100%|██████████| 1/1 [00:00<00:00, 771.15it/s]\n",
      "100%|██████████| 1/1 [00:00<00:00, 657.41it/s]\n",
      "100%|██████████| 1/1 [00:00<00:00, 645.58it/s]\n",
      "100%|██████████| 1/1 [00:00<00:00, 606.46it/s]\n",
      "100%|██████████| 1/1 [00:00<00:00, 594.18it/s]\n",
      "100%|██████████| 1/1 [00:00<00:00, 591.66it/s]\n",
      "100%|██████████| 1/1 [00:00<00:00, 725.16it/s]\n",
      "100%|██████████| 1/1 [00:00<00:00, 518.14it/s]\n",
      "100%|██████████| 1/1 [00:00<00:00, 555.24it/s]\n",
      "100%|██████████| 1/1 [00:00<00:00, 521.10it/s]\n",
      "100%|██████████| 1/1 [00:00<00:00, 539.67it/s]\n",
      "100%|██████████| 1/1 [00:00<00:00, 655.36it/s]\n",
      "100%|██████████| 1/1 [00:00<00:00, 659.17it/s]\n",
      "100%|██████████| 1/1 [00:00<00:00, 548.28it/s]\n",
      "100%|██████████| 1/1 [00:00<00:00, 601.68it/s]\n",
      "100%|██████████| 1/1 [00:00<00:00, 694.42it/s]\n",
      "100%|██████████| 1/1 [00:00<00:00, 692.59it/s]\n",
      "100%|██████████| 1/1 [00:00<00:00, 748.45it/s]\n",
      "100%|██████████| 1/1 [00:00<00:00, 670.34it/s]\n",
      "100%|██████████| 1/1 [00:00<00:00, 690.53it/s]\n",
      "100%|██████████| 1/1 [00:00<00:00, 584.16it/s]\n",
      "100%|██████████| 1/1 [00:00<00:00, 587.93it/s]\n",
      "100%|██████████| 1/1 [00:00<00:00, 565.96it/s]\n",
      "100%|██████████| 1/1 [00:00<00:00, 573.07it/s]\n",
      "100%|██████████| 1/1 [00:00<00:00, 752.88it/s]\n",
      "100%|██████████| 1/1 [00:00<00:00, 697.31it/s]\n",
      "100%|██████████| 1/1 [00:00<00:00, 451.00it/s]\n",
      "100%|██████████| 1/1 [00:00<00:00, 401.64it/s]\n",
      "100%|██████████| 1/1 [00:00<00:00, 579.40it/s]\n",
      "100%|██████████| 1/1 [00:00<00:00, 343.15it/s]\n",
      "100%|██████████| 1/1 [00:00<00:00, 387.32it/s]\n",
      "100%|██████████| 1/1 [00:00<00:00, 500.51it/s]\n",
      "100%|██████████| 1/1 [00:00<00:00, 512.00it/s]\n",
      "100%|██████████| 1/1 [00:00<00:00, 497.07it/s]\n",
      "100%|██████████| 1/1 [00:00<00:00, 446.82it/s]\n",
      "100%|██████████| 1/1 [00:00<00:00, 453.54it/s]\n",
      "100%|██████████| 1/1 [00:00<00:00, 487.82it/s]\n",
      "100%|██████████| 1/1 [00:00<00:00, 535.60it/s]\n",
      "100%|██████████| 1/1 [00:00<00:00, 464.90it/s]\n",
      "100%|██████████| 1/1 [00:00<00:00, 408.13it/s]\n",
      "100%|██████████| 1/1 [00:00<00:00, 515.21it/s]\n",
      "100%|██████████| 1/1 [00:00<00:00, 537.39it/s]\n",
      "100%|██████████| 1/1 [00:00<00:00, 405.68it/s]\n",
      "100%|██████████| 1/1 [00:00<00:00, 569.41it/s]\n",
      "100%|██████████| 1/1 [00:00<00:00, 422.30it/s]\n",
      "100%|██████████| 1/1 [00:00<00:00, 650.68it/s]\n",
      "100%|██████████| 1/1 [00:00<00:00, 429.04it/s]\n",
      "100%|██████████| 1/1 [00:00<00:00, 459.75it/s]\n",
      "100%|██████████| 1/1 [00:00<00:00, 489.47it/s]\n",
      "100%|██████████| 1/1 [00:00<00:00, 358.18it/s]\n",
      "100%|██████████| 1/1 [00:00<00:00, 356.51it/s]\n",
      "100%|██████████| 1/1 [00:00<00:00, 358.70it/s]\n",
      "100%|██████████| 1/1 [00:00<00:00, 516.03it/s]\n",
      "100%|██████████| 1/1 [00:00<00:00, 444.64it/s]\n",
      "100%|██████████| 1/1 [00:00<00:00, 443.28it/s]\n",
      "100%|██████████| 1/1 [00:00<00:00, 381.99it/s]\n",
      "100%|██████████| 1/1 [00:00<00:00, 329.69it/s]\n",
      "100%|██████████| 1/1 [00:00<00:00, 328.60it/s]\n",
      "100%|██████████| 1/1 [00:00<00:00, 305.17it/s]\n",
      "100%|██████████| 1/1 [00:00<00:00, 375.09it/s]\n",
      "100%|██████████| 1/1 [00:00<00:00, 234.96it/s]\n",
      "100%|██████████| 1/1 [00:00<00:00, 340.58it/s]\n",
      "100%|██████████| 1/1 [00:00<00:00, 289.26it/s]\n",
      "100%|██████████| 1/1 [00:00<00:00, 435.91it/s]\n",
      "100%|██████████| 1/1 [00:00<00:00, 422.64it/s]\n",
      "100%|██████████| 1/1 [00:00<00:00, 462.95it/s]\n",
      "100%|██████████| 1/1 [00:00<00:00, 250.32it/s]\n",
      "100%|██████████| 1/1 [00:00<00:00, 412.87it/s]\n",
      "100%|██████████| 1/1 [00:00<00:00, 250.50it/s]\n",
      "100%|██████████| 1/1 [00:00<00:00, 221.78it/s]\n",
      "100%|██████████| 1/1 [00:00<00:00, 169.46it/s]\n",
      "100%|██████████| 1/1 [00:00<00:00, 157.80it/s]\n",
      "100%|██████████| 1/1 [00:00<00:00, 228.62it/s]\n",
      "100%|██████████| 1/1 [00:00<00:00, 297.81it/s]\n",
      "100%|██████████| 1/1 [00:00<00:00, 710.18it/s]\n",
      "100%|██████████| 1/1 [00:00<00:00, 619.09it/s]\n",
      "100%|██████████| 1/1 [00:00<00:00, 633.29it/s]\n",
      "100%|██████████| 1/1 [00:00<00:00, 889.57it/s]\n",
      "100%|██████████| 1/1 [00:00<00:00, 725.03it/s]\n",
      "100%|██████████| 1/1 [00:00<00:00, 592.00it/s]\n",
      "100%|██████████| 1/1 [00:00<00:00, 717.22it/s]\n",
      "100%|██████████| 1/1 [00:00<00:00, 651.90it/s]\n",
      "100%|██████████| 1/1 [00:00<00:00, 554.36it/s]\n",
      "100%|██████████| 1/1 [00:00<00:00, 781.79it/s]\n",
      "100%|██████████| 1/1 [00:00<00:00, 541.06it/s]\n",
      "100%|██████████| 1/1 [00:00<00:00, 653.11it/s]\n",
      "100%|██████████| 1/1 [00:00<00:00, 731.10it/s]\n",
      "100%|██████████| 1/1 [00:00<00:00, 585.55it/s]\n",
      "100%|██████████| 1/1 [00:00<00:00, 619.91it/s]\n",
      "100%|██████████| 1/1 [00:00<00:00, 695.23it/s]\n",
      "100%|██████████| 1/1 [00:00<00:00, 574.40it/s]\n",
      "100%|██████████| 1/1 [00:00<00:00, 718.45it/s]\n",
      "100%|██████████| 1/1 [00:00<00:00, 700.22it/s]\n",
      "100%|██████████| 1/1 [00:00<00:00, 619.63it/s]\n",
      "100%|██████████| 1/1 [00:00<00:00, 814.43it/s]\n",
      "100%|██████████| 1/1 [00:00<00:00, 675.74it/s]\n",
      "100%|██████████| 1/1 [00:00<00:00, 514.64it/s]\n",
      "100%|██████████| 1/1 [00:00<00:00, 705.28it/s]\n",
      "100%|██████████| 1/1 [00:00<00:00, 557.46it/s]\n",
      "100%|██████████| 1/1 [00:00<00:00, 398.58it/s]\n",
      "100%|██████████| 1/1 [00:00<00:00, 667.56it/s]\n",
      "100%|██████████| 1/1 [00:00<00:00, 580.77it/s]\n",
      "100%|██████████| 1/1 [00:00<00:00, 587.52it/s]\n",
      "100%|██████████| 1/1 [00:00<00:00, 799.83it/s]\n",
      "100%|██████████| 1/1 [00:00<00:00, 483.83it/s]\n",
      "100%|██████████| 1/1 [00:00<00:00, 701.62it/s]\n",
      "100%|██████████| 1/1 [00:00<00:00, 738.56it/s]\n",
      "100%|██████████| 1/1 [00:00<00:00, 572.13it/s]\n",
      "100%|██████████| 1/1 [00:00<00:00, 720.55it/s]\n",
      "100%|██████████| 1/1 [00:00<00:00, 650.18it/s]\n",
      "100%|██████████| 1/1 [00:00<00:00, 655.46it/s]\n",
      "100%|██████████| 1/1 [00:00<00:00, 762.88it/s]\n",
      "100%|██████████| 1/1 [00:00<00:00, 555.61it/s]\n",
      "100%|██████████| 1/1 [00:00<00:00, 558.05it/s]\n",
      "100%|██████████| 1/1 [00:00<00:00, 666.71it/s]\n",
      "100%|██████████| 1/1 [00:00<00:00, 723.16it/s]\n",
      "100%|██████████| 1/1 [00:00<00:00, 568.18it/s]\n",
      "100%|██████████| 1/1 [00:00<00:00, 692.47it/s]\n",
      "100%|██████████| 1/1 [00:00<00:00, 675.74it/s]\n",
      "100%|██████████| 1/1 [00:00<00:00, 531.26it/s]\n",
      "100%|██████████| 1/1 [00:00<00:00, 619.63it/s]\n",
      "100%|██████████| 1/1 [00:00<00:00, 236.13it/s]\n",
      "100%|██████████| 1/1 [00:00<00:00, 352.49it/s]\n",
      "100%|██████████| 1/1 [00:00<00:00, 349.15it/s]\n",
      "100%|██████████| 1/1 [00:00<00:00, 513.06it/s]\n",
      "100%|██████████| 1/1 [00:00<00:00, 706.83it/s]\n",
      "100%|██████████| 1/1 [00:00<00:00, 479.35it/s]\n",
      "100%|██████████| 1/1 [00:00<00:00, 587.27it/s]\n",
      "100%|██████████| 1/1 [00:00<00:00, 682.00it/s]\n",
      "100%|██████████| 1/1 [00:00<00:00, 609.02it/s]\n",
      "100%|██████████| 1/1 [00:00<00:00, 705.16it/s]\n",
      "100%|██████████| 1/1 [00:00<00:00, 722.53it/s]\n"
     ]
    },
    {
     "name": "stdout",
     "output_type": "stream",
     "text": [
      "p-value 0.0\n"
     ]
    }
   ],
   "source": [
    "count = 0.\n",
    "roll_size = 1000\n",
    "num_trials = 1000\n",
    "expected = 1000 / 2.\n",
    "\n",
    "for _ in range(num_trials):\n",
    "    null_hypothesis_sim = SimulateNullHypothesisCoin(roll_size)\n",
    "    null_hypothesis_sim_bin = [int(x) for x in null_hypothesis_sim]\n",
    "    chi_null = ChiSquared(null_hypothesis_sim_bin, expected)\n",
    "    \n",
    "    alternate_hypothesis_sim = SimulateAlternateHypothesisCoin()\n",
    "    alternate_hypothesis_sim_bin = [int(x) for x in alternate_hypothesis_sim]\n",
    "    chi_alternate = ChiSquared(alternate_hypothesis_sim_bin, expected)\n",
    "\n",
    "    if chi_null >= chi_alternate:\n",
    "        count += 1\n",
    "\n",
    "pvalue = count / num_trials\n",
    "print ('p-value', pvalue)"
   ]
  },
  {
   "cell_type": "markdown",
   "metadata": {},
   "source": [
    "If your p-value is low, there is a *very small* possibility these skewed results are due to chance, so our coin is ***crooked***. If it's high, you cannot conclude and need to accept the null hypothesis.\n",
    "\n",
    "So, which is it?\n",
    "\n",
    "That's **hypothesis testing** in a nutshell. All of the classical frequentist tests you learn in classical (non-pythonized and MCMC-ized) statistics class are just ways to compute p-values *efficiently* when computation was expensive. Now that computation is fast and clever algorithms like Metropolis and NUTS are available, Bayesian estimation is the *preferred* way to do statistics, even to compute something like a p-value!"
   ]
  }
 ],
 "metadata": {
  "kernelspec": {
   "display_name": "Python 3",
   "language": "python",
   "name": "python3"
  },
  "language_info": {
   "codemirror_mode": {
    "name": "ipython",
    "version": 3
   },
   "file_extension": ".py",
   "mimetype": "text/x-python",
   "name": "python",
   "nbconvert_exporter": "python",
   "pygments_lexer": "ipython3",
   "version": "3.7.6"
  }
 },
 "nbformat": 4,
 "nbformat_minor": 2
}
